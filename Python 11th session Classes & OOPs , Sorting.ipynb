{
 "cells": [
  {
   "cell_type": "code",
   "execution_count": 1,
   "metadata": {
    "ExecuteTime": {
     "end_time": "2021-09-28T17:56:12.301868Z",
     "start_time": "2021-09-28T17:56:12.287945Z"
    }
   },
   "outputs": [],
   "source": [
    "## Class is combination of variables and functions, access via objects\n",
    "## template - used for creating objects\n",
    "## Real world entity - objective manner - virtual\n",
    "## Parent class & Child class\n",
    "## Group of process\n",
    "## Blueprint of program is class\n",
    "## Objects is a collection of data\n",
    "## Instance of class is Object\n",
    "## Object is identity, clas -> desc of identity -> Multiple\n",
    "## anything which we can define\n",
    "## Refuse, ease in maintanence, code break down, related things together\n",
    "## Mobile Phones, Moduls, vehicles"
   ]
  },
  {
   "cell_type": "code",
   "execution_count": 2,
   "metadata": {
    "ExecuteTime": {
     "end_time": "2021-09-28T17:57:03.599216Z",
     "start_time": "2021-09-28T17:57:03.596227Z"
    }
   },
   "outputs": [],
   "source": [
    "## Module -> Class\n",
    "## Idol -> Object(Instance)\n",
    "## Class A => Obj1, Obj2"
   ]
  },
  {
   "cell_type": "markdown",
   "metadata": {},
   "source": [
    "# Object Oriented Programming - OOPS\n",
    "* Class\n",
    "* Object(Instance)\n",
    "* Class is like Template/Blueprint/Mould/Defination\n",
    "* Object is instance of class\n",
    "* Class- behavior, blue print, template, user defined data structure\n",
    "* Encapsulation, inheritance, poly, abstraction\n",
    "* State and Behavior\n",
    "* Bundling"
   ]
  },
  {
   "cell_type": "code",
   "execution_count": null,
   "metadata": {},
   "outputs": [],
   "source": [
    "for item in range(1,5):\n",
    "    pass\n",
    "# Pass -> Does Nothing, Syntax Filter"
   ]
  },
  {
   "cell_type": "code",
   "execution_count": null,
   "metadata": {},
   "outputs": [],
   "source": [
    "def simpleFunction():\n",
    "    pass"
   ]
  },
  {
   "cell_type": "code",
   "execution_count": 3,
   "metadata": {
    "ExecuteTime": {
     "end_time": "2021-09-28T18:05:39.121883Z",
     "start_time": "2021-09-28T18:05:39.106920Z"
    }
   },
   "outputs": [],
   "source": [
    "# Mould\n",
    "## First we create emply class\n",
    "class Employee:\n",
    "    pass\n",
    "## so from the above class we create multiple objects or instances of this class\n",
    "## below is the code for that"
   ]
  },
  {
   "cell_type": "code",
   "execution_count": 5,
   "metadata": {
    "ExecuteTime": {
     "end_time": "2021-09-28T18:05:56.800681Z",
     "start_time": "2021-09-28T18:05:56.787760Z"
    }
   },
   "outputs": [],
   "source": [
    "# Create idols(Objects / Instances)\n",
    "e1 = Employee()\n",
    "e2 = Employee()"
   ]
  },
  {
   "cell_type": "code",
   "execution_count": 7,
   "metadata": {
    "ExecuteTime": {
     "end_time": "2021-09-28T18:07:11.079735Z",
     "start_time": "2021-09-28T18:07:11.071759Z"
    }
   },
   "outputs": [
    {
     "name": "stdout",
     "output_type": "stream",
     "text": [
      "type of e1:  <class '__main__.Employee'>\n",
      "Type of e2:  <class '__main__.Employee'>\n"
     ]
    }
   ],
   "source": [
    "## Printing the type of e1 and e2\n",
    "print('type of e1: ', type(e1))\n",
    "print('Type of e2: ', type(e2))"
   ]
  },
  {
   "cell_type": "code",
   "execution_count": 8,
   "metadata": {
    "ExecuteTime": {
     "end_time": "2021-09-28T18:09:17.900499Z",
     "start_time": "2021-09-28T18:09:17.884540Z"
    }
   },
   "outputs": [
    {
     "name": "stdout",
     "output_type": "stream",
     "text": [
      "<class 'int'>\n"
     ]
    }
   ],
   "source": [
    "i = 10\n",
    "print(type(i))"
   ]
  },
  {
   "cell_type": "code",
   "execution_count": 9,
   "metadata": {
    "ExecuteTime": {
     "end_time": "2021-09-28T18:11:27.871425Z",
     "start_time": "2021-09-28T18:11:27.865399Z"
    }
   },
   "outputs": [
    {
     "name": "stdout",
     "output_type": "stream",
     "text": [
      "<class 'str'>\n"
     ]
    }
   ],
   "source": [
    "i ='Hello'\n",
    "print(type(i))"
   ]
  },
  {
   "cell_type": "code",
   "execution_count": 10,
   "metadata": {
    "ExecuteTime": {
     "end_time": "2021-09-28T18:12:20.174057Z",
     "start_time": "2021-09-28T18:12:20.156105Z"
    }
   },
   "outputs": [
    {
     "name": "stdout",
     "output_type": "stream",
     "text": [
      "ID of e1:  2285192460080\n",
      "ID of e2:  2285192459984\n"
     ]
    }
   ],
   "source": [
    "print('ID of e1: ', id(e1))\n",
    "print('ID of e2: ', id(e2))"
   ]
  },
  {
   "cell_type": "code",
   "execution_count": 11,
   "metadata": {
    "ExecuteTime": {
     "end_time": "2021-09-28T18:12:55.305056Z",
     "start_time": "2021-09-28T18:12:55.296084Z"
    }
   },
   "outputs": [],
   "source": [
    "## How to documentation of Class"
   ]
  },
  {
   "cell_type": "code",
   "execution_count": 12,
   "metadata": {
    "ExecuteTime": {
     "end_time": "2021-09-28T18:16:22.126717Z",
     "start_time": "2021-09-28T18:16:22.122725Z"
    }
   },
   "outputs": [],
   "source": [
    "class Employee:\n",
    "    '''\n",
    "    Help: An Employee class documentation\n",
    "    The instance of class can be used to create and manage Employee data\n",
    "    It stores info like, name, address, education details etc\n",
    "    '''\n",
    "    pass\n",
    "\n",
    "## The aboc=ve string is known as docstring(s)"
   ]
  },
  {
   "cell_type": "code",
   "execution_count": 13,
   "metadata": {
    "ExecuteTime": {
     "end_time": "2021-09-28T18:16:30.235639Z",
     "start_time": "2021-09-28T18:16:30.068087Z"
    }
   },
   "outputs": [
    {
     "name": "stdout",
     "output_type": "stream",
     "text": [
      "Help on class list in module builtins:\n",
      "\n",
      "class list(object)\n",
      " |  list(iterable=(), /)\n",
      " |  \n",
      " |  Built-in mutable sequence.\n",
      " |  \n",
      " |  If no argument is given, the constructor creates a new empty list.\n",
      " |  The argument must be an iterable if specified.\n",
      " |  \n",
      " |  Methods defined here:\n",
      " |  \n",
      " |  __add__(self, value, /)\n",
      " |      Return self+value.\n",
      " |  \n",
      " |  __contains__(self, key, /)\n",
      " |      Return key in self.\n",
      " |  \n",
      " |  __delitem__(self, key, /)\n",
      " |      Delete self[key].\n",
      " |  \n",
      " |  __eq__(self, value, /)\n",
      " |      Return self==value.\n",
      " |  \n",
      " |  __ge__(self, value, /)\n",
      " |      Return self>=value.\n",
      " |  \n",
      " |  __getattribute__(self, name, /)\n",
      " |      Return getattr(self, name).\n",
      " |  \n",
      " |  __getitem__(...)\n",
      " |      x.__getitem__(y) <==> x[y]\n",
      " |  \n",
      " |  __gt__(self, value, /)\n",
      " |      Return self>value.\n",
      " |  \n",
      " |  __iadd__(self, value, /)\n",
      " |      Implement self+=value.\n",
      " |  \n",
      " |  __imul__(self, value, /)\n",
      " |      Implement self*=value.\n",
      " |  \n",
      " |  __init__(self, /, *args, **kwargs)\n",
      " |      Initialize self.  See help(type(self)) for accurate signature.\n",
      " |  \n",
      " |  __iter__(self, /)\n",
      " |      Implement iter(self).\n",
      " |  \n",
      " |  __le__(self, value, /)\n",
      " |      Return self<=value.\n",
      " |  \n",
      " |  __len__(self, /)\n",
      " |      Return len(self).\n",
      " |  \n",
      " |  __lt__(self, value, /)\n",
      " |      Return self<value.\n",
      " |  \n",
      " |  __mul__(self, value, /)\n",
      " |      Return self*value.\n",
      " |  \n",
      " |  __ne__(self, value, /)\n",
      " |      Return self!=value.\n",
      " |  \n",
      " |  __repr__(self, /)\n",
      " |      Return repr(self).\n",
      " |  \n",
      " |  __reversed__(self, /)\n",
      " |      Return a reverse iterator over the list.\n",
      " |  \n",
      " |  __rmul__(self, value, /)\n",
      " |      Return value*self.\n",
      " |  \n",
      " |  __setitem__(self, key, value, /)\n",
      " |      Set self[key] to value.\n",
      " |  \n",
      " |  __sizeof__(self, /)\n",
      " |      Return the size of the list in memory, in bytes.\n",
      " |  \n",
      " |  append(self, object, /)\n",
      " |      Append object to the end of the list.\n",
      " |  \n",
      " |  clear(self, /)\n",
      " |      Remove all items from list.\n",
      " |  \n",
      " |  copy(self, /)\n",
      " |      Return a shallow copy of the list.\n",
      " |  \n",
      " |  count(self, value, /)\n",
      " |      Return number of occurrences of value.\n",
      " |  \n",
      " |  extend(self, iterable, /)\n",
      " |      Extend list by appending elements from the iterable.\n",
      " |  \n",
      " |  index(self, value, start=0, stop=9223372036854775807, /)\n",
      " |      Return first index of value.\n",
      " |      \n",
      " |      Raises ValueError if the value is not present.\n",
      " |  \n",
      " |  insert(self, index, object, /)\n",
      " |      Insert object before index.\n",
      " |  \n",
      " |  pop(self, index=-1, /)\n",
      " |      Remove and return item at index (default last).\n",
      " |      \n",
      " |      Raises IndexError if list is empty or index is out of range.\n",
      " |  \n",
      " |  remove(self, value, /)\n",
      " |      Remove first occurrence of value.\n",
      " |      \n",
      " |      Raises ValueError if the value is not present.\n",
      " |  \n",
      " |  reverse(self, /)\n",
      " |      Reverse *IN PLACE*.\n",
      " |  \n",
      " |  sort(self, /, *, key=None, reverse=False)\n",
      " |      Sort the list in ascending order and return None.\n",
      " |      \n",
      " |      The sort is in-place (i.e. the list itself is modified) and stable (i.e. the\n",
      " |      order of two equal elements is maintained).\n",
      " |      \n",
      " |      If a key function is given, apply it once to each list item and sort them,\n",
      " |      ascending or descending, according to their function values.\n",
      " |      \n",
      " |      The reverse flag can be set to sort in descending order.\n",
      " |  \n",
      " |  ----------------------------------------------------------------------\n",
      " |  Static methods defined here:\n",
      " |  \n",
      " |  __new__(*args, **kwargs) from builtins.type\n",
      " |      Create and return a new object.  See help(type) for accurate signature.\n",
      " |  \n",
      " |  ----------------------------------------------------------------------\n",
      " |  Data and other attributes defined here:\n",
      " |  \n",
      " |  __hash__ = None\n",
      "\n"
     ]
    }
   ],
   "source": [
    "help(list)"
   ]
  },
  {
   "cell_type": "code",
   "execution_count": 14,
   "metadata": {
    "ExecuteTime": {
     "end_time": "2021-09-28T18:19:14.215982Z",
     "start_time": "2021-09-28T18:19:14.199067Z"
    }
   },
   "outputs": [],
   "source": [
    "e1 = Employee()"
   ]
  },
  {
   "cell_type": "code",
   "execution_count": 15,
   "metadata": {
    "ExecuteTime": {
     "end_time": "2021-09-28T18:19:35.314403Z",
     "start_time": "2021-09-28T18:19:35.295416Z"
    }
   },
   "outputs": [
    {
     "name": "stdout",
     "output_type": "stream",
     "text": [
      "Employee e1:  <__main__.Employee object at 0x000002141015B970>\n"
     ]
    }
   ],
   "source": [
    "print('Employee e1: ', e1)"
   ]
  },
  {
   "cell_type": "code",
   "execution_count": 19,
   "metadata": {
    "ExecuteTime": {
     "end_time": "2021-09-28T18:25:06.245970Z",
     "start_time": "2021-09-28T18:25:06.229059Z"
    }
   },
   "outputs": [
    {
     "name": "stdout",
     "output_type": "stream",
     "text": [
      "Employee dict:  {'__module__': '__main__', '__doc__': '\\n    Help: An Employee class documentation\\n    The instance of class can be used to create and manage Employee data\\n    It stores info like, name, address, education details etc\\n    ', '__dict__': <attribute '__dict__' of 'Employee' objects>, '__weakref__': <attribute '__weakref__' of 'Employee' objects>}\n"
     ]
    }
   ],
   "source": [
    "print('Employee dict: ', Employee.__dict__)\n",
    "## Each of the class and object, they used a dictonary to stor the information and here that is Employee.__dict__\n",
    "## whatever the information is availlable at the class the object can access it\n",
    "## This dict is at class level"
   ]
  },
  {
   "cell_type": "code",
   "execution_count": 23,
   "metadata": {
    "ExecuteTime": {
     "end_time": "2021-09-28T18:27:07.892485Z",
     "start_time": "2021-09-28T18:27:07.888541Z"
    }
   },
   "outputs": [
    {
     "name": "stdout",
     "output_type": "stream",
     "text": [
      "e1 dict:  {}\n"
     ]
    }
   ],
   "source": [
    "print('e1 dict: ', e1.__dict__)\n",
    "## This dict is at object level and this is empty right now and will see how this filled\n"
   ]
  },
  {
   "cell_type": "code",
   "execution_count": 24,
   "metadata": {
    "ExecuteTime": {
     "end_time": "2021-09-28T18:29:36.638503Z",
     "start_time": "2021-09-28T18:29:36.604555Z"
    }
   },
   "outputs": [],
   "source": [
    "class Employee:\n",
    "    def __init__(self, firstname, lastname):\n",
    "        self.fn = firstname\n",
    "        self.ln = lastname"
   ]
  },
  {
   "cell_type": "code",
   "execution_count": 30,
   "metadata": {
    "ExecuteTime": {
     "end_time": "2021-09-28T18:48:10.335836Z",
     "start_time": "2021-09-28T18:48:10.318892Z"
    }
   },
   "outputs": [],
   "source": [
    "## Whenever you see a double undersocre __ => Double Underscore => dounder. These  __ are actually reffering to internal function \n",
    "## __init__ => similar to constructors in other languages\n",
    "## self refres to which object we are creating to"
   ]
  },
  {
   "cell_type": "code",
   "execution_count": 31,
   "metadata": {
    "ExecuteTime": {
     "end_time": "2021-09-28T18:48:16.060943Z",
     "start_time": "2021-09-28T18:48:16.041958Z"
    }
   },
   "outputs": [],
   "source": [
    "## wshenever you create class init should called first in a function\n",
    "## As apart of initallization the class should know on which object I am doing the initalization\n",
    "## For each of the object creats 2 attributs that is fn and ln with their values and internally each object is stored in the form of dictonary\n",
    "## So from a class when it create a multiple objects and each object will have its own dictionary inside a dict you will have 2 keys fn and ln. "
   ]
  },
  {
   "cell_type": "code",
   "execution_count": 32,
   "metadata": {
    "ExecuteTime": {
     "end_time": "2021-09-28T18:48:46.648867Z",
     "start_time": "2021-09-28T18:48:46.621910Z"
    }
   },
   "outputs": [
    {
     "ename": "TypeError",
     "evalue": "__init__() missing 2 required positional arguments: 'firstname' and 'lastname'",
     "output_type": "error",
     "traceback": [
      "\u001b[1;31m---------------------------------------------------------------------------\u001b[0m",
      "\u001b[1;31mTypeError\u001b[0m                                 Traceback (most recent call last)",
      "\u001b[1;32m<ipython-input-32-557bce9db9de>\u001b[0m in \u001b[0;36m<module>\u001b[1;34m\u001b[0m\n\u001b[1;32m----> 1\u001b[1;33m \u001b[0me1\u001b[0m \u001b[1;33m=\u001b[0m \u001b[0mEmployee\u001b[0m\u001b[1;33m(\u001b[0m\u001b[1;33m)\u001b[0m\u001b[1;33m\u001b[0m\u001b[1;33m\u001b[0m\u001b[0m\n\u001b[0m\u001b[0;32m      2\u001b[0m \u001b[1;31m## here we will get error as we and defined the firstname and last name in e1\u001b[0m\u001b[1;33m\u001b[0m\u001b[1;33m\u001b[0m\u001b[1;33m\u001b[0m\u001b[0m\n",
      "\u001b[1;31mTypeError\u001b[0m: __init__() missing 2 required positional arguments: 'firstname' and 'lastname'"
     ]
    }
   ],
   "source": [
    "e1 = Employee()\n",
    "## here we will get error as we and defined the firstname and last name in e1"
   ]
  },
  {
   "cell_type": "code",
   "execution_count": 33,
   "metadata": {
    "ExecuteTime": {
     "end_time": "2021-09-28T18:48:51.142581Z",
     "start_time": "2021-09-28T18:48:51.122638Z"
    }
   },
   "outputs": [],
   "source": [
    "e1 = Employee('Virat', \"Kohli\")"
   ]
  },
  {
   "cell_type": "code",
   "execution_count": 34,
   "metadata": {
    "ExecuteTime": {
     "end_time": "2021-09-28T18:48:52.082622Z",
     "start_time": "2021-09-28T18:48:51.811178Z"
    }
   },
   "outputs": [
    {
     "name": "stdout",
     "output_type": "stream",
     "text": [
      "e1 dict:  {'fn': 'Virat', 'ln': 'Kohli'}\n"
     ]
    }
   ],
   "source": [
    "print('e1 dict: ', e1.__dict__)"
   ]
  },
  {
   "cell_type": "code",
   "execution_count": 35,
   "metadata": {
    "ExecuteTime": {
     "end_time": "2021-09-28T18:48:52.776985Z",
     "start_time": "2021-09-28T18:48:52.393702Z"
    }
   },
   "outputs": [],
   "source": [
    "e2 = Employee('MS', \"Dhoni\")"
   ]
  },
  {
   "cell_type": "code",
   "execution_count": 36,
   "metadata": {
    "ExecuteTime": {
     "end_time": "2021-09-28T18:48:53.186127Z",
     "start_time": "2021-09-28T18:48:52.939594Z"
    }
   },
   "outputs": [
    {
     "name": "stdout",
     "output_type": "stream",
     "text": [
      "e2 dict:  {'fn': 'MS', 'ln': 'Dhoni'}\n"
     ]
    }
   ],
   "source": [
    "print('e2 dict: ', e2.__dict__)"
   ]
  },
  {
   "cell_type": "code",
   "execution_count": null,
   "metadata": {},
   "outputs": [],
   "source": []
  },
  {
   "cell_type": "code",
   "execution_count": 146,
   "metadata": {
    "ExecuteTime": {
     "end_time": "2021-09-28T19:25:28.975567Z",
     "start_time": "2021-09-28T19:25:28.962604Z"
    }
   },
   "outputs": [],
   "source": [
    "class Student:\n",
    "    def __init__(self, name):\n",
    "        self.name = name\n",
    "        self.grades = []\n",
    "        \n",
    "    def addGrade(self, marks):\n",
    "        '''\n",
    "        Call this function to add any grade for the student\n",
    "        '''\n",
    "        self.grades.append(marks)\n",
    "        \n",
    "    def getAverage(self):\n",
    "        return sum(self.grades) / len(self.grades)"
   ]
  },
  {
   "cell_type": "code",
   "execution_count": 147,
   "metadata": {
    "ExecuteTime": {
     "end_time": "2021-09-28T19:25:29.503910Z",
     "start_time": "2021-09-28T19:25:29.490977Z"
    }
   },
   "outputs": [],
   "source": [
    "s1 = Student('Rahane')"
   ]
  },
  {
   "cell_type": "code",
   "execution_count": 148,
   "metadata": {
    "ExecuteTime": {
     "end_time": "2021-09-28T19:25:29.921302Z",
     "start_time": "2021-09-28T19:25:29.910331Z"
    }
   },
   "outputs": [
    {
     "name": "stdout",
     "output_type": "stream",
     "text": [
      "s1 dict:  {'name': 'Rahane', 'grades': []}\n"
     ]
    }
   ],
   "source": [
    "print('s1 dict: ', s1.__dict__)"
   ]
  },
  {
   "cell_type": "code",
   "execution_count": 149,
   "metadata": {
    "ExecuteTime": {
     "end_time": "2021-09-28T19:25:30.295698Z",
     "start_time": "2021-09-28T19:25:30.282715Z"
    }
   },
   "outputs": [
    {
     "name": "stdout",
     "output_type": "stream",
     "text": [
      "s1 details: <__main__.Student object at 0x0000021410F3BCD0>\n"
     ]
    }
   ],
   "source": [
    "print('s1 details:', s1)"
   ]
  },
  {
   "cell_type": "code",
   "execution_count": 150,
   "metadata": {
    "ExecuteTime": {
     "end_time": "2021-09-28T19:25:30.672955Z",
     "start_time": "2021-09-28T19:25:30.660025Z"
    }
   },
   "outputs": [],
   "source": [
    "s1.addGrade(10)"
   ]
  },
  {
   "cell_type": "code",
   "execution_count": 151,
   "metadata": {
    "ExecuteTime": {
     "end_time": "2021-09-28T19:25:31.129454Z",
     "start_time": "2021-09-28T19:25:31.098539Z"
    }
   },
   "outputs": [
    {
     "name": "stdout",
     "output_type": "stream",
     "text": [
      "s1 dict:  {'name': 'Rahane', 'grades': [10]}\n"
     ]
    }
   ],
   "source": [
    "print('s1 dict: ', s1.__dict__)"
   ]
  },
  {
   "cell_type": "code",
   "execution_count": 152,
   "metadata": {
    "ExecuteTime": {
     "end_time": "2021-09-28T19:25:31.551681Z",
     "start_time": "2021-09-28T19:25:31.544668Z"
    }
   },
   "outputs": [],
   "source": [
    "s2 = Student('Ashwin')"
   ]
  },
  {
   "cell_type": "code",
   "execution_count": 153,
   "metadata": {
    "ExecuteTime": {
     "end_time": "2021-09-28T19:25:32.295112Z",
     "start_time": "2021-09-28T19:25:32.285140Z"
    }
   },
   "outputs": [],
   "source": [
    "s2.addGrade(20)"
   ]
  },
  {
   "cell_type": "code",
   "execution_count": 154,
   "metadata": {
    "ExecuteTime": {
     "end_time": "2021-09-28T19:25:32.903949Z",
     "start_time": "2021-09-28T19:25:32.887993Z"
    }
   },
   "outputs": [
    {
     "name": "stdout",
     "output_type": "stream",
     "text": [
      "s2 dict:  {'name': 'Ashwin', 'grades': [20]}\n"
     ]
    }
   ],
   "source": [
    "print('s2 dict: ', s2.__dict__)"
   ]
  },
  {
   "cell_type": "code",
   "execution_count": null,
   "metadata": {},
   "outputs": [],
   "source": []
  },
  {
   "cell_type": "code",
   "execution_count": 155,
   "metadata": {
    "ExecuteTime": {
     "end_time": "2021-09-28T19:25:35.862480Z",
     "start_time": "2021-09-28T19:25:35.857532Z"
    }
   },
   "outputs": [],
   "source": [
    "s1.addGrade(30)\n",
    "s1.addGrade(40)\n",
    "s1.addGrade(50)"
   ]
  },
  {
   "cell_type": "code",
   "execution_count": 156,
   "metadata": {
    "ExecuteTime": {
     "end_time": "2021-09-28T19:25:36.333903Z",
     "start_time": "2021-09-28T19:25:36.319939Z"
    }
   },
   "outputs": [
    {
     "name": "stdout",
     "output_type": "stream",
     "text": [
      "s1 dict:  {'name': 'Rahane', 'grades': [10, 30, 40, 50]}\n"
     ]
    }
   ],
   "source": [
    "print('s1 dict: ', s1.__dict__)"
   ]
  },
  {
   "cell_type": "code",
   "execution_count": 157,
   "metadata": {
    "ExecuteTime": {
     "end_time": "2021-09-28T19:25:36.861887Z",
     "start_time": "2021-09-28T19:25:36.854892Z"
    }
   },
   "outputs": [
    {
     "data": {
      "text/plain": [
       "32.5"
      ]
     },
     "execution_count": 157,
     "metadata": {},
     "output_type": "execute_result"
    }
   ],
   "source": [
    "s1.getAverage()"
   ]
  },
  {
   "cell_type": "code",
   "execution_count": 158,
   "metadata": {
    "ExecuteTime": {
     "end_time": "2021-09-28T19:25:37.909294Z",
     "start_time": "2021-09-28T19:25:37.905308Z"
    }
   },
   "outputs": [
    {
     "data": {
      "text/plain": [
       "20.0"
      ]
     },
     "execution_count": 158,
     "metadata": {},
     "output_type": "execute_result"
    }
   ],
   "source": [
    "s2.getAverage()"
   ]
  },
  {
   "cell_type": "code",
   "execution_count": 53,
   "metadata": {
    "ExecuteTime": {
     "end_time": "2021-09-28T19:07:38.710754Z",
     "start_time": "2021-09-28T19:07:38.691804Z"
    }
   },
   "outputs": [],
   "source": [
    "## Exercise create a function to print maximum and minimum marks "
   ]
  },
  {
   "cell_type": "code",
   "execution_count": 159,
   "metadata": {
    "ExecuteTime": {
     "end_time": "2021-09-28T19:25:53.382148Z",
     "start_time": "2021-09-28T19:25:53.366191Z"
    }
   },
   "outputs": [],
   "source": [
    "class Student:\n",
    "    def __init__(self, name):\n",
    "        self.name = name\n",
    "        self.grades = []\n",
    "        \n",
    "    def addGrade(self, marks):\n",
    "        '''\n",
    "        Call this function to add any grade for the student\n",
    "        '''\n",
    "        self.grades.append(marks)\n",
    "        \n",
    "    def getAverage(self):\n",
    "        return sum(self.grades) / len(self.grades)\n",
    "        \n",
    "    def getMaxMarks(self):\n",
    "        return max(self.grades)\n",
    "    \n",
    "    def getMinMarks(self):\n",
    "        return min(self.grades)"
   ]
  },
  {
   "cell_type": "code",
   "execution_count": 160,
   "metadata": {
    "ExecuteTime": {
     "end_time": "2021-09-28T19:25:53.890580Z",
     "start_time": "2021-09-28T19:25:53.874915Z"
    }
   },
   "outputs": [],
   "source": [
    "s1 = Student('Rahane')"
   ]
  },
  {
   "cell_type": "code",
   "execution_count": 161,
   "metadata": {
    "ExecuteTime": {
     "end_time": "2021-09-28T19:25:54.845460Z",
     "start_time": "2021-09-28T19:25:54.834491Z"
    }
   },
   "outputs": [
    {
     "name": "stdout",
     "output_type": "stream",
     "text": [
      "s1 dict:  {'name': 'Rahane', 'grades': []}\n"
     ]
    }
   ],
   "source": [
    "print('s1 dict: ', s1.__dict__)"
   ]
  },
  {
   "cell_type": "code",
   "execution_count": 162,
   "metadata": {
    "ExecuteTime": {
     "end_time": "2021-09-28T19:25:55.668935Z",
     "start_time": "2021-09-28T19:25:55.663963Z"
    }
   },
   "outputs": [
    {
     "name": "stdout",
     "output_type": "stream",
     "text": [
      "s1 details: <__main__.Student object at 0x000002141044CBB0>\n"
     ]
    }
   ],
   "source": [
    "print('s1 details:', s1)"
   ]
  },
  {
   "cell_type": "code",
   "execution_count": 163,
   "metadata": {
    "ExecuteTime": {
     "end_time": "2021-09-28T19:25:56.205069Z",
     "start_time": "2021-09-28T19:25:56.200080Z"
    }
   },
   "outputs": [],
   "source": [
    "s1.addGrade(10)"
   ]
  },
  {
   "cell_type": "code",
   "execution_count": 164,
   "metadata": {
    "ExecuteTime": {
     "end_time": "2021-09-28T19:25:57.140572Z",
     "start_time": "2021-09-28T19:25:57.126271Z"
    }
   },
   "outputs": [
    {
     "name": "stdout",
     "output_type": "stream",
     "text": [
      "s1 dict:  {'name': 'Rahane', 'grades': [10]}\n"
     ]
    }
   ],
   "source": [
    "print('s1 dict: ', s1.__dict__)"
   ]
  },
  {
   "cell_type": "code",
   "execution_count": 165,
   "metadata": {
    "ExecuteTime": {
     "end_time": "2021-09-28T19:25:57.937065Z",
     "start_time": "2021-09-28T19:25:57.928131Z"
    }
   },
   "outputs": [],
   "source": [
    "s2 = Student('Ashwin')"
   ]
  },
  {
   "cell_type": "code",
   "execution_count": 166,
   "metadata": {
    "ExecuteTime": {
     "end_time": "2021-09-28T19:26:26.159575Z",
     "start_time": "2021-09-28T19:26:26.145614Z"
    }
   },
   "outputs": [],
   "source": [
    "s2.addGrade(20)"
   ]
  },
  {
   "cell_type": "code",
   "execution_count": 167,
   "metadata": {
    "ExecuteTime": {
     "end_time": "2021-09-28T19:26:26.812214Z",
     "start_time": "2021-09-28T19:26:26.800247Z"
    }
   },
   "outputs": [
    {
     "name": "stdout",
     "output_type": "stream",
     "text": [
      "s2 dict:  {'name': 'Ashwin', 'grades': [20]}\n"
     ]
    }
   ],
   "source": [
    "print('s2 dict: ', s2.__dict__)"
   ]
  },
  {
   "cell_type": "code",
   "execution_count": 168,
   "metadata": {
    "ExecuteTime": {
     "end_time": "2021-09-28T19:26:27.399513Z",
     "start_time": "2021-09-28T19:26:27.390537Z"
    }
   },
   "outputs": [],
   "source": [
    "s1.addGrade(30)\n",
    "s1.addGrade(40)\n",
    "s1.addGrade(50)"
   ]
  },
  {
   "cell_type": "code",
   "execution_count": 169,
   "metadata": {
    "ExecuteTime": {
     "end_time": "2021-09-28T19:26:27.917573Z",
     "start_time": "2021-09-28T19:26:27.898625Z"
    }
   },
   "outputs": [
    {
     "name": "stdout",
     "output_type": "stream",
     "text": [
      "s1 dict:  {'name': 'Rahane', 'grades': [10, 30, 40, 50]}\n"
     ]
    }
   ],
   "source": [
    "print('s1 dict: ', s1.__dict__)"
   ]
  },
  {
   "cell_type": "code",
   "execution_count": 170,
   "metadata": {
    "ExecuteTime": {
     "end_time": "2021-09-28T19:26:28.441660Z",
     "start_time": "2021-09-28T19:26:28.428708Z"
    }
   },
   "outputs": [
    {
     "data": {
      "text/plain": [
       "32.5"
      ]
     },
     "execution_count": 170,
     "metadata": {},
     "output_type": "execute_result"
    }
   ],
   "source": [
    "s1.getAverage()"
   ]
  },
  {
   "cell_type": "code",
   "execution_count": 171,
   "metadata": {
    "ExecuteTime": {
     "end_time": "2021-09-28T19:26:29.126369Z",
     "start_time": "2021-09-28T19:26:29.117388Z"
    }
   },
   "outputs": [
    {
     "data": {
      "text/plain": [
       "20.0"
      ]
     },
     "execution_count": 171,
     "metadata": {},
     "output_type": "execute_result"
    }
   ],
   "source": [
    "s2.getAverage()"
   ]
  },
  {
   "cell_type": "code",
   "execution_count": 172,
   "metadata": {
    "ExecuteTime": {
     "end_time": "2021-09-28T19:26:30.573275Z",
     "start_time": "2021-09-28T19:26:30.567291Z"
    }
   },
   "outputs": [
    {
     "data": {
      "text/plain": [
       "50"
      ]
     },
     "execution_count": 172,
     "metadata": {},
     "output_type": "execute_result"
    }
   ],
   "source": [
    "s1.getMaxMarks()"
   ]
  },
  {
   "cell_type": "code",
   "execution_count": 173,
   "metadata": {
    "ExecuteTime": {
     "end_time": "2021-09-28T19:26:31.102950Z",
     "start_time": "2021-09-28T19:26:30.988266Z"
    }
   },
   "outputs": [
    {
     "data": {
      "text/plain": [
       "10"
      ]
     },
     "execution_count": 173,
     "metadata": {},
     "output_type": "execute_result"
    }
   ],
   "source": [
    "s1.getMinMarks()"
   ]
  },
  {
   "cell_type": "code",
   "execution_count": 174,
   "metadata": {
    "ExecuteTime": {
     "end_time": "2021-09-28T19:26:31.416459Z",
     "start_time": "2021-09-28T19:26:31.403494Z"
    }
   },
   "outputs": [
    {
     "name": "stdout",
     "output_type": "stream",
     "text": [
      "Help on class Student in module __main__:\n",
      "\n",
      "class Student(builtins.object)\n",
      " |  Student(name)\n",
      " |  \n",
      " |  Methods defined here:\n",
      " |  \n",
      " |  __init__(self, name)\n",
      " |      Initialize self.  See help(type(self)) for accurate signature.\n",
      " |  \n",
      " |  addGrade(self, marks)\n",
      " |      Call this function to add any grade for the student\n",
      " |  \n",
      " |  getAverage(self)\n",
      " |  \n",
      " |  getMaxMarks(self)\n",
      " |  \n",
      " |  getMinMarks(self)\n",
      " |  \n",
      " |  ----------------------------------------------------------------------\n",
      " |  Data descriptors defined here:\n",
      " |  \n",
      " |  __dict__\n",
      " |      dictionary for instance variables (if defined)\n",
      " |  \n",
      " |  __weakref__\n",
      " |      list of weak references to the object (if defined)\n",
      "\n"
     ]
    }
   ],
   "source": [
    "help(Student)"
   ]
  },
  {
   "cell_type": "code",
   "execution_count": null,
   "metadata": {},
   "outputs": [],
   "source": []
  },
  {
   "cell_type": "code",
   "execution_count": 188,
   "metadata": {
    "ExecuteTime": {
     "end_time": "2021-09-28T19:36:29.772839Z",
     "start_time": "2021-09-28T19:36:29.754803Z"
    }
   },
   "outputs": [],
   "source": [
    "class Employee:\n",
    "    def __init__(self, firstname, lastname, age,salary):\n",
    "        self.fn = firstname\n",
    "        self.ln = lastname\n",
    "        self.age = age\n",
    "        self.salary = salary\n",
    "        self.email = '{}.{}@gmail.com'.format(self.fn, self.ln)\n",
    "        \n",
    "    def printDetails(self):\n",
    "        print('Employee Details: Name: {}, last name: {}, Age: {}, Salary:{}, email: '.format(self.fn, self.ln, self.age, self.salary, self.email))"
   ]
  },
  {
   "cell_type": "code",
   "execution_count": 189,
   "metadata": {
    "ExecuteTime": {
     "end_time": "2021-09-28T19:36:30.524401Z",
     "start_time": "2021-09-28T19:36:30.512434Z"
    }
   },
   "outputs": [],
   "source": [
    "e1 = Employee('MS', 'Dhoni', 39,1000)"
   ]
  },
  {
   "cell_type": "code",
   "execution_count": 190,
   "metadata": {
    "ExecuteTime": {
     "end_time": "2021-09-28T19:36:30.869288Z",
     "start_time": "2021-09-28T19:36:30.851296Z"
    }
   },
   "outputs": [
    {
     "name": "stdout",
     "output_type": "stream",
     "text": [
      "Employee Details: Name: MS, last name: Dhoni, Age: 39, Salary:1000, email: \n"
     ]
    }
   ],
   "source": [
    "e1.printDetails()"
   ]
  },
  {
   "cell_type": "code",
   "execution_count": 206,
   "metadata": {
    "ExecuteTime": {
     "end_time": "2021-09-29T08:12:49.167241Z",
     "start_time": "2021-09-29T08:12:49.160265Z"
    }
   },
   "outputs": [],
   "source": [
    "## So if want check from the above class that how many objects got created out of this\n",
    "## Than we have to modified the abpve class by providing employee_count = 0 at outside of the class\n",
    "## And we will provide Employee.employee_count += as increment whivh means that whenever __init__ is called we increment the Employee.employee_count +=\n",
    "## employe_count = 0 this information is stored at class level rather than object level. This employee_count would be there in the class dict but not in the object dict. This is called as class variable and self.fn is known as instance because tghis information is stored at the object level\n",
    "## So whenever object get created or __init__ is called we will increment Employee.employee_count += 1"
   ]
  },
  {
   "cell_type": "code",
   "execution_count": 194,
   "metadata": {
    "ExecuteTime": {
     "end_time": "2021-09-28T19:43:20.323348Z",
     "start_time": "2021-09-28T19:43:20.308626Z"
    }
   },
   "outputs": [],
   "source": [
    "class Employee:\n",
    "    employee_count = 0 ## class Variable\n",
    "    def __init__(self, firstname, lastname, age,salary):\n",
    "        self.fn = firstname  ## instance\n",
    "        self.ln = lastname\n",
    "        self.age = age\n",
    "        self.salary = salary\n",
    "        self.email = '{}.{}@gmail.com'.format(self.fn, self.ln)\n",
    "        self.eid = Employee.employee_count\n",
    "        Employee.employee_count += 1   ## Employee.employee_count = Employee.employee_count + 1\n",
    "        \n",
    "    def printDetails(self):\n",
    "        print('Employee Details: Name: {}, last name: {}, Age: {}, Salary:{}, email: '.format(self.fn, self.ln, self.age, self.salary, self.email))"
   ]
  },
  {
   "cell_type": "code",
   "execution_count": 195,
   "metadata": {
    "ExecuteTime": {
     "end_time": "2021-09-28T19:43:20.719412Z",
     "start_time": "2021-09-28T19:43:20.700654Z"
    }
   },
   "outputs": [],
   "source": [
    "e1 = Employee('S', 'Dhawan', 32,100)"
   ]
  },
  {
   "cell_type": "code",
   "execution_count": 196,
   "metadata": {
    "ExecuteTime": {
     "end_time": "2021-09-28T19:43:21.206122Z",
     "start_time": "2021-09-28T19:43:21.185166Z"
    }
   },
   "outputs": [
    {
     "name": "stdout",
     "output_type": "stream",
     "text": [
      "1\n"
     ]
    }
   ],
   "source": [
    "print(e1.employee_count)"
   ]
  },
  {
   "cell_type": "code",
   "execution_count": 197,
   "metadata": {
    "ExecuteTime": {
     "end_time": "2021-09-28T19:43:49.867568Z",
     "start_time": "2021-09-28T19:43:49.836195Z"
    }
   },
   "outputs": [],
   "source": [
    "e2 = Employee('P', 'Shaw', 27,50)"
   ]
  },
  {
   "cell_type": "code",
   "execution_count": 198,
   "metadata": {
    "ExecuteTime": {
     "end_time": "2021-09-28T19:43:59.213562Z",
     "start_time": "2021-09-28T19:43:59.204865Z"
    }
   },
   "outputs": [
    {
     "name": "stdout",
     "output_type": "stream",
     "text": [
      "2\n"
     ]
    }
   ],
   "source": [
    "print(e2.employee_count)"
   ]
  },
  {
   "cell_type": "code",
   "execution_count": 199,
   "metadata": {
    "ExecuteTime": {
     "end_time": "2021-09-28T19:44:33.114977Z",
     "start_time": "2021-09-28T19:44:33.100438Z"
    }
   },
   "outputs": [
    {
     "name": "stdout",
     "output_type": "stream",
     "text": [
      "Employee dict:  {'__module__': '__main__', 'employee_count': 2, '__init__': <function Employee.__init__ at 0x00000214103B0CA0>, 'printDetails': <function Employee.printDetails at 0x0000021410430CA0>, '__dict__': <attribute '__dict__' of 'Employee' objects>, '__weakref__': <attribute '__weakref__' of 'Employee' objects>, '__doc__': None}\n"
     ]
    }
   ],
   "source": [
    "print('Employee dict: ', Employee.__dict__)"
   ]
  },
  {
   "cell_type": "code",
   "execution_count": 200,
   "metadata": {
    "ExecuteTime": {
     "end_time": "2021-09-28T19:44:57.219392Z",
     "start_time": "2021-09-28T19:44:57.212087Z"
    }
   },
   "outputs": [
    {
     "name": "stdout",
     "output_type": "stream",
     "text": [
      "e1 dict:  {'fn': 'S', 'ln': 'Dhawan', 'age': 32, 'salary': 100, 'email': 'S.Dhawan@gmail.com', 'eid': 0}\n"
     ]
    }
   ],
   "source": [
    "print('e1 dict: ', e1.__dict__)"
   ]
  },
  {
   "cell_type": "code",
   "execution_count": 201,
   "metadata": {
    "ExecuteTime": {
     "end_time": "2021-09-28T19:45:00.661403Z",
     "start_time": "2021-09-28T19:45:00.655318Z"
    }
   },
   "outputs": [
    {
     "name": "stdout",
     "output_type": "stream",
     "text": [
      "e1 dict:  {'fn': 'S', 'ln': 'Dhawan', 'age': 32, 'salary': 100, 'email': 'S.Dhawan@gmail.com', 'eid': 0}\n"
     ]
    }
   ],
   "source": [
    "print('e1 dict: ', e1.__dict__)"
   ]
  },
  {
   "cell_type": "code",
   "execution_count": 202,
   "metadata": {
    "ExecuteTime": {
     "end_time": "2021-09-28T19:45:33.852608Z",
     "start_time": "2021-09-28T19:45:33.840594Z"
    }
   },
   "outputs": [
    {
     "data": {
      "text/plain": [
       "'Dhawan'"
      ]
     },
     "execution_count": 202,
     "metadata": {},
     "output_type": "execute_result"
    }
   ],
   "source": [
    "e1.ln"
   ]
  },
  {
   "cell_type": "code",
   "execution_count": 203,
   "metadata": {
    "ExecuteTime": {
     "end_time": "2021-09-28T19:45:50.582788Z",
     "start_time": "2021-09-28T19:45:50.558667Z"
    }
   },
   "outputs": [
    {
     "name": "stdout",
     "output_type": "stream",
     "text": [
      "2\n"
     ]
    }
   ],
   "source": [
    "print(Employee.employee_count)"
   ]
  },
  {
   "cell_type": "code",
   "execution_count": 204,
   "metadata": {
    "ExecuteTime": {
     "end_time": "2021-09-28T19:46:07.191075Z",
     "start_time": "2021-09-28T19:46:07.180925Z"
    }
   },
   "outputs": [
    {
     "name": "stdout",
     "output_type": "stream",
     "text": [
      "2\n"
     ]
    }
   ],
   "source": [
    "print(e2.employee_count)"
   ]
  },
  {
   "cell_type": "code",
   "execution_count": 207,
   "metadata": {
    "ExecuteTime": {
     "end_time": "2021-09-29T08:21:37.224019Z",
     "start_time": "2021-09-29T08:21:37.216044Z"
    }
   },
   "outputs": [],
   "source": [
    "## Encapsulation\n",
    "## Abstraction\n",
    "## Polymorphism\n",
    "## Inheritance"
   ]
  },
  {
   "cell_type": "code",
   "execution_count": 222,
   "metadata": {
    "ExecuteTime": {
     "end_time": "2021-09-29T08:35:38.598182Z",
     "start_time": "2021-09-29T08:35:38.561279Z"
    }
   },
   "outputs": [],
   "source": [
    "class Employee:\n",
    "    employee_count = 0 ## class Variable\n",
    "    def __init__(self, firstname, lastname, age,salary):\n",
    "        self.fn = firstname  ## instance\n",
    "        self.ln = lastname\n",
    "        self.age = age\n",
    "        self.salary = salary\n",
    "        self.email = '{}.{}@gmail.com'.format(self.fn, self.ln)\n",
    "        self.eid = Employee.employee_count\n",
    "        Employee.employee_count += 1   ## Employee.employee_count = Employee.employee_count + 1\n",
    "        \n",
    "    def printDetails(self):\n",
    "        print('Employee Details: Name: {}, last name: {}, Age: {}, Salary:{}, Email: {}, Eid: {} '.format(\n",
    "            self.fn, self.ln, self.age, self.salary, self.email, self.eid))\n",
    "\n",
    "    def getEmployeeCount(self):\n",
    "        return Employee.employee_count"
   ]
  },
  {
   "cell_type": "code",
   "execution_count": 216,
   "metadata": {
    "ExecuteTime": {
     "end_time": "2021-09-29T08:26:51.475391Z",
     "start_time": "2021-09-29T08:26:51.409600Z"
    }
   },
   "outputs": [],
   "source": [
    "e1 = Employee('S', 'Dhawan', 32,100)"
   ]
  },
  {
   "cell_type": "code",
   "execution_count": 217,
   "metadata": {
    "ExecuteTime": {
     "end_time": "2021-09-29T08:27:05.116408Z",
     "start_time": "2021-09-29T08:27:04.931233Z"
    }
   },
   "outputs": [
    {
     "name": "stdout",
     "output_type": "stream",
     "text": [
      "<bound method Employee.getEmployeeCount of <__main__.Employee object at 0x0000021410E16280>>\n"
     ]
    }
   ],
   "source": [
    "print(e1.getEmployeeCount)"
   ]
  },
  {
   "cell_type": "code",
   "execution_count": 219,
   "metadata": {
    "ExecuteTime": {
     "end_time": "2021-09-29T08:27:34.898312Z",
     "start_time": "2021-09-29T08:27:34.884302Z"
    }
   },
   "outputs": [
    {
     "name": "stdout",
     "output_type": "stream",
     "text": [
      "1\n"
     ]
    }
   ],
   "source": [
    "print(e1.employee_count)"
   ]
  },
  {
   "cell_type": "code",
   "execution_count": 221,
   "metadata": {
    "ExecuteTime": {
     "end_time": "2021-09-29T08:30:57.086591Z",
     "start_time": "2021-09-29T08:30:57.070974Z"
    }
   },
   "outputs": [
    {
     "ename": "TypeError",
     "evalue": "getEmployeeCount() missing 1 required positional argument: 'self'",
     "output_type": "error",
     "traceback": [
      "\u001b[1;31m---------------------------------------------------------------------------\u001b[0m",
      "\u001b[1;31mTypeError\u001b[0m                                 Traceback (most recent call last)",
      "\u001b[1;32m<ipython-input-221-533f76bd7df9>\u001b[0m in \u001b[0;36m<module>\u001b[1;34m\u001b[0m\n\u001b[1;32m----> 1\u001b[1;33m \u001b[0mprint\u001b[0m\u001b[1;33m(\u001b[0m\u001b[0mEmployee\u001b[0m\u001b[1;33m.\u001b[0m\u001b[0mgetEmployeeCount\u001b[0m\u001b[1;33m(\u001b[0m\u001b[1;33m)\u001b[0m\u001b[1;33m)\u001b[0m\u001b[1;33m\u001b[0m\u001b[1;33m\u001b[0m\u001b[0m\n\u001b[0m\u001b[0;32m      2\u001b[0m \u001b[1;31m## We will get an error of self here as Employee is class not a object which will be called with self object. So Class cannot be called with self\u001b[0m\u001b[1;33m\u001b[0m\u001b[1;33m\u001b[0m\u001b[1;33m\u001b[0m\u001b[0m\n",
      "\u001b[1;31mTypeError\u001b[0m: getEmployeeCount() missing 1 required positional argument: 'self'"
     ]
    }
   ],
   "source": [
    "print(Employee.getEmployeeCount())\n",
    "## We will get an error of self here as Employee is class not a object which will be called with self object. So Class cannot be called with self"
   ]
  },
  {
   "cell_type": "code",
   "execution_count": null,
   "metadata": {},
   "outputs": [],
   "source": []
  },
  {
   "cell_type": "code",
   "execution_count": 231,
   "metadata": {
    "ExecuteTime": {
     "end_time": "2021-09-29T08:39:21.762807Z",
     "start_time": "2021-09-29T08:39:21.750795Z"
    }
   },
   "outputs": [],
   "source": [
    "class Employee:\n",
    "    __employee_count = 0 ## class Variable, __ -> the moment you provide __it will act as Private-> this means __enmployee_count cannot we acces directly\n",
    "    def __init__(self, firstname, lastname, age,salary):\n",
    "        self.fn = firstname  ## instance\n",
    "        self.ln = lastname\n",
    "        self.age = age\n",
    "        self.salary = salary\n",
    "        self.email = '{}.{}@gmail.com'.format(self.fn, self.ln)\n",
    "        ##self.eid = Employee.employee_count## We don't need this\n",
    "        Employee.__employee_count += 1   ## Employee.employee_count = Employee.employee_count + 1\n",
    "        \n",
    "    def printDetails(self):\n",
    "        print('Employee Details: Name: {}, last name: {}, Age: {}, Salary:{}, email: '.format(\n",
    "            self.fn, self.ln, self.age, self.salary, self.email))\n",
    "        \n",
    "    def getEmployeeCount(self):\n",
    "        return Employee.__employee_count"
   ]
  },
  {
   "cell_type": "code",
   "execution_count": 232,
   "metadata": {
    "ExecuteTime": {
     "end_time": "2021-09-29T08:39:22.197651Z",
     "start_time": "2021-09-29T08:39:22.188642Z"
    }
   },
   "outputs": [],
   "source": [
    "e1 = Employee('S', 'Dhawan', 32,100)"
   ]
  },
  {
   "cell_type": "code",
   "execution_count": 233,
   "metadata": {
    "ExecuteTime": {
     "end_time": "2021-09-29T08:39:41.763947Z",
     "start_time": "2021-09-29T08:39:41.752937Z"
    }
   },
   "outputs": [
    {
     "name": "stdout",
     "output_type": "stream",
     "text": [
      "<bound method Employee.getEmployeeCount of <__main__.Employee object at 0x0000021410B6F430>>\n"
     ]
    }
   ],
   "source": [
    "print(e1.getEmployeeCount)"
   ]
  },
  {
   "cell_type": "code",
   "execution_count": 234,
   "metadata": {
    "ExecuteTime": {
     "end_time": "2021-09-29T08:39:50.612059Z",
     "start_time": "2021-09-29T08:39:50.599095Z"
    }
   },
   "outputs": [
    {
     "ename": "AttributeError",
     "evalue": "'Employee' object has no attribute 'employee_count'",
     "output_type": "error",
     "traceback": [
      "\u001b[1;31m---------------------------------------------------------------------------\u001b[0m",
      "\u001b[1;31mAttributeError\u001b[0m                            Traceback (most recent call last)",
      "\u001b[1;32m<ipython-input-234-726238f260e3>\u001b[0m in \u001b[0;36m<module>\u001b[1;34m\u001b[0m\n\u001b[1;32m----> 1\u001b[1;33m \u001b[0mprint\u001b[0m\u001b[1;33m(\u001b[0m\u001b[0me1\u001b[0m\u001b[1;33m.\u001b[0m\u001b[0memployee_count\u001b[0m\u001b[1;33m)\u001b[0m\u001b[1;33m\u001b[0m\u001b[1;33m\u001b[0m\u001b[0m\n\u001b[0m",
      "\u001b[1;31mAttributeError\u001b[0m: 'Employee' object has no attribute 'employee_count'"
     ]
    }
   ],
   "source": [
    "print(e1.employee_count)\n",
    "## Error will come because we had provide __ and the moment you provide __it will act as Private-> this means __enmployee_count cannot we acces directly"
   ]
  },
  {
   "cell_type": "code",
   "execution_count": 235,
   "metadata": {
    "ExecuteTime": {
     "end_time": "2021-09-29T08:40:20.600955Z",
     "start_time": "2021-09-29T08:40:20.578057Z"
    }
   },
   "outputs": [
    {
     "ename": "AttributeError",
     "evalue": "'Employee' object has no attribute '__employee_count'",
     "output_type": "error",
     "traceback": [
      "\u001b[1;31m---------------------------------------------------------------------------\u001b[0m",
      "\u001b[1;31mAttributeError\u001b[0m                            Traceback (most recent call last)",
      "\u001b[1;32m<ipython-input-235-8a39b885502b>\u001b[0m in \u001b[0;36m<module>\u001b[1;34m\u001b[0m\n\u001b[1;32m----> 1\u001b[1;33m \u001b[0mprint\u001b[0m\u001b[1;33m(\u001b[0m\u001b[0me1\u001b[0m\u001b[1;33m.\u001b[0m\u001b[0m__employee_count\u001b[0m\u001b[1;33m)\u001b[0m\u001b[1;33m\u001b[0m\u001b[1;33m\u001b[0m\u001b[0m\n\u001b[0m",
      "\u001b[1;31mAttributeError\u001b[0m: 'Employee' object has no attribute '__employee_count'"
     ]
    }
   ],
   "source": [
    "print(e1.__employee_count)"
   ]
  },
  {
   "cell_type": "code",
   "execution_count": 236,
   "metadata": {
    "ExecuteTime": {
     "end_time": "2021-09-29T08:43:03.833749Z",
     "start_time": "2021-09-29T08:43:03.821747Z"
    }
   },
   "outputs": [
    {
     "ename": "TypeError",
     "evalue": "getEmployeeCount() missing 1 required positional argument: 'self'",
     "output_type": "error",
     "traceback": [
      "\u001b[1;31m---------------------------------------------------------------------------\u001b[0m",
      "\u001b[1;31mTypeError\u001b[0m                                 Traceback (most recent call last)",
      "\u001b[1;32m<ipython-input-236-d4a267dec987>\u001b[0m in \u001b[0;36m<module>\u001b[1;34m\u001b[0m\n\u001b[1;32m----> 1\u001b[1;33m \u001b[0mprint\u001b[0m\u001b[1;33m(\u001b[0m\u001b[0mEmployee\u001b[0m\u001b[1;33m.\u001b[0m\u001b[0mgetEmployeeCount\u001b[0m\u001b[1;33m(\u001b[0m\u001b[1;33m)\u001b[0m\u001b[1;33m)\u001b[0m\u001b[1;33m\u001b[0m\u001b[1;33m\u001b[0m\u001b[0m\n\u001b[0m",
      "\u001b[1;31mTypeError\u001b[0m: getEmployeeCount() missing 1 required positional argument: 'self'"
     ]
    }
   ],
   "source": [
    "print(Employee.getEmployeeCount())"
   ]
  },
  {
   "cell_type": "code",
   "execution_count": null,
   "metadata": {},
   "outputs": [],
   "source": []
  },
  {
   "cell_type": "code",
   "execution_count": 255,
   "metadata": {
    "ExecuteTime": {
     "end_time": "2021-09-29T08:51:15.481362Z",
     "start_time": "2021-09-29T08:51:15.340307Z"
    }
   },
   "outputs": [],
   "source": [
    "class Employee:\n",
    "    __employee_count = 0 ## class Variable\n",
    "    def __init__(self, firstname, lastname, age,salary):\n",
    "        self.fn = firstname  ## instance\n",
    "        self.ln = lastname\n",
    "        self.age = age\n",
    "        self.salary = salary\n",
    "        self.email = '{}.{}@gmail.com'.format(self.fn, self.ln)\n",
    "        ##self.eid = Employee.employee_count## We don't need this\n",
    "        Employee.__employee_count += 1   ## Employee.employee_count = Employee.employee_count + 1\n",
    "        \n",
    "    def printDetails(self):\n",
    "        print('Employee Details: Name: {}, last name: {}, Age: {}, Salary:{}, email: '.format(\n",
    "            self.fn, self.ln, self.age, self.salary, self.email))\n",
    "    \n",
    "    @classmethod # decorator -> so the function of decorator is whenever this getEmployeeCount is called one more function does some logic and than it will gets the __employee_count\n",
    "    def getEmployeeCount(cls):\n",
    "        return Employee.__employee_count ## we can also write this line code as return cls.__employee_count"
   ]
  },
  {
   "cell_type": "code",
   "execution_count": 256,
   "metadata": {
    "ExecuteTime": {
     "end_time": "2021-09-29T08:51:15.597206Z",
     "start_time": "2021-09-29T08:51:15.576710Z"
    }
   },
   "outputs": [],
   "source": [
    "e1 = Employee('S', 'Dhawan', 32,100)"
   ]
  },
  {
   "cell_type": "code",
   "execution_count": 257,
   "metadata": {
    "ExecuteTime": {
     "end_time": "2021-09-29T08:51:15.863353Z",
     "start_time": "2021-09-29T08:51:15.843274Z"
    }
   },
   "outputs": [
    {
     "name": "stdout",
     "output_type": "stream",
     "text": [
      "<bound method Employee.getEmployeeCount of <class '__main__.Employee'>>\n"
     ]
    }
   ],
   "source": [
    "print(e1.getEmployeeCount)"
   ]
  },
  {
   "cell_type": "code",
   "execution_count": 258,
   "metadata": {
    "ExecuteTime": {
     "end_time": "2021-09-29T08:51:16.080899Z",
     "start_time": "2021-09-29T08:51:16.066945Z"
    }
   },
   "outputs": [
    {
     "ename": "AttributeError",
     "evalue": "'Employee' object has no attribute 'employee_count'",
     "output_type": "error",
     "traceback": [
      "\u001b[1;31m---------------------------------------------------------------------------\u001b[0m",
      "\u001b[1;31mAttributeError\u001b[0m                            Traceback (most recent call last)",
      "\u001b[1;32m<ipython-input-258-726238f260e3>\u001b[0m in \u001b[0;36m<module>\u001b[1;34m\u001b[0m\n\u001b[1;32m----> 1\u001b[1;33m \u001b[0mprint\u001b[0m\u001b[1;33m(\u001b[0m\u001b[0me1\u001b[0m\u001b[1;33m.\u001b[0m\u001b[0memployee_count\u001b[0m\u001b[1;33m)\u001b[0m\u001b[1;33m\u001b[0m\u001b[1;33m\u001b[0m\u001b[0m\n\u001b[0m",
      "\u001b[1;31mAttributeError\u001b[0m: 'Employee' object has no attribute 'employee_count'"
     ]
    }
   ],
   "source": [
    "print(e1.employee_count)"
   ]
  },
  {
   "cell_type": "code",
   "execution_count": 259,
   "metadata": {
    "ExecuteTime": {
     "end_time": "2021-09-29T08:51:16.317022Z",
     "start_time": "2021-09-29T08:51:16.302049Z"
    }
   },
   "outputs": [
    {
     "ename": "AttributeError",
     "evalue": "'Employee' object has no attribute '__employee_count'",
     "output_type": "error",
     "traceback": [
      "\u001b[1;31m---------------------------------------------------------------------------\u001b[0m",
      "\u001b[1;31mAttributeError\u001b[0m                            Traceback (most recent call last)",
      "\u001b[1;32m<ipython-input-259-8a39b885502b>\u001b[0m in \u001b[0;36m<module>\u001b[1;34m\u001b[0m\n\u001b[1;32m----> 1\u001b[1;33m \u001b[0mprint\u001b[0m\u001b[1;33m(\u001b[0m\u001b[0me1\u001b[0m\u001b[1;33m.\u001b[0m\u001b[0m__employee_count\u001b[0m\u001b[1;33m)\u001b[0m\u001b[1;33m\u001b[0m\u001b[1;33m\u001b[0m\u001b[0m\n\u001b[0m",
      "\u001b[1;31mAttributeError\u001b[0m: 'Employee' object has no attribute '__employee_count'"
     ]
    }
   ],
   "source": [
    "print(e1.__employee_count)"
   ]
  },
  {
   "cell_type": "code",
   "execution_count": 254,
   "metadata": {
    "ExecuteTime": {
     "end_time": "2021-09-29T08:51:08.336771Z",
     "start_time": "2021-09-29T08:51:08.315828Z"
    }
   },
   "outputs": [
    {
     "name": "stdout",
     "output_type": "stream",
     "text": [
      "1\n"
     ]
    }
   ],
   "source": [
    "print(Employee.getEmployeeCount())"
   ]
  },
  {
   "cell_type": "code",
   "execution_count": null,
   "metadata": {},
   "outputs": [],
   "source": []
  },
  {
   "cell_type": "code",
   "execution_count": null,
   "metadata": {},
   "outputs": [],
   "source": [
    "## Encapsulation -> means Single Class \n",
    "## Abstraction -> means Across Multiple Classes\n",
    "## Polymorphism\n",
    "## Inheritance"
   ]
  },
  {
   "cell_type": "markdown",
   "metadata": {},
   "source": [
    "# Sorting"
   ]
  },
  {
   "cell_type": "code",
   "execution_count": 260,
   "metadata": {
    "ExecuteTime": {
     "end_time": "2021-09-29T09:08:03.424249Z",
     "start_time": "2021-09-29T09:08:03.391347Z"
    }
   },
   "outputs": [],
   "source": [
    " li = [9,1,8,2,7,3,6,4,5]"
   ]
  },
  {
   "cell_type": "code",
   "execution_count": 261,
   "metadata": {
    "ExecuteTime": {
     "end_time": "2021-09-29T09:08:09.198518Z",
     "start_time": "2021-09-29T09:08:09.194531Z"
    }
   },
   "outputs": [],
   "source": [
    "s_li = sorted(li)  ## NON-INPLACE SORTING - it will not modify the original list"
   ]
  },
  {
   "cell_type": "code",
   "execution_count": 262,
   "metadata": {
    "ExecuteTime": {
     "end_time": "2021-09-29T09:08:18.307614Z",
     "start_time": "2021-09-29T09:08:18.276660Z"
    }
   },
   "outputs": [
    {
     "name": "stdout",
     "output_type": "stream",
     "text": [
      "Original List   : [9, 1, 8, 2, 7, 3, 6, 4, 5]\n",
      "Sorted List   : [1, 2, 3, 4, 5, 6, 7, 8, 9]\n",
      "Original List   : [9, 1, 8, 2, 7, 3, 6, 4, 5]\n"
     ]
    }
   ],
   "source": [
    "print('Original List   :' , li)\n",
    "print('Sorted List   :' , s_li)\n",
    "print('Original List   :' , li)"
   ]
  },
  {
   "cell_type": "code",
   "execution_count": 263,
   "metadata": {
    "ExecuteTime": {
     "end_time": "2021-09-29T09:09:07.115077Z",
     "start_time": "2021-09-29T09:09:07.104149Z"
    }
   },
   "outputs": [
    {
     "name": "stdout",
     "output_type": "stream",
     "text": [
      "Sorting using list.sort method --- INPLACE SORTING\n",
      "Origibal List    : [1, 2, 3, 4, 5, 6, 7, 8, 9]\n"
     ]
    }
   ],
   "source": [
    "print('Sorting using list.sort method --- INPLACE SORTING')\n",
    "li.sort() ## IN_PLACE SORTING -- used to modify the original list \n",
    "print('Origibal List    :', li)"
   ]
  },
  {
   "cell_type": "markdown",
   "metadata": {},
   "source": [
    "## Reverse Sorting"
   ]
  },
  {
   "cell_type": "code",
   "execution_count": 267,
   "metadata": {
    "ExecuteTime": {
     "end_time": "2021-09-29T09:13:26.845317Z",
     "start_time": "2021-09-29T09:13:26.800408Z"
    }
   },
   "outputs": [
    {
     "name": "stdout",
     "output_type": "stream",
     "text": [
      "Original List   : [9, 1, 8, 2, 7, 3, 6, 4, 5]\n",
      "Sorted List   : [9, 8, 7, 6, 5, 4, 3, 2, 1]\n",
      "Original List   : [9, 1, 8, 2, 7, 3, 6, 4, 5]\n",
      "Sorting using list.sort method --- INPLACE SORTING\n",
      "Origibal List    : [9, 8, 7, 6, 5, 4, 3, 2, 1]\n"
     ]
    }
   ],
   "source": [
    "li = [9,1,8,2,7,3,6,4,5]\n",
    "\n",
    "s_li = sorted(li, reverse = True) ## NON-INPLACE SORTING, kwargs, named parameters\n",
    "# here reverse = true means we are soting it in dcending order\n",
    "\n",
    "print('Original List   :' , li)\n",
    "print('Sorted List   :' , s_li)\n",
    "print('Original List   :' , li)\n",
    "\n",
    "print('Sorting using list.sort method --- INPLACE SORTING')\n",
    "li.sort(reverse = True) ## IN_PLACE SORTING\n",
    "print('Origibal List    :', li)"
   ]
  },
  {
   "cell_type": "markdown",
   "metadata": {},
   "source": [
    "## Sorting - Tuple"
   ]
  },
  {
   "cell_type": "code",
   "execution_count": 270,
   "metadata": {
    "ExecuteTime": {
     "end_time": "2021-09-29T09:16:09.748588Z",
     "start_time": "2021-09-29T09:16:09.726644Z"
    }
   },
   "outputs": [
    {
     "name": "stdout",
     "output_type": "stream",
     "text": [
      "Original List   : (9, 1, 8, 2, 7, 3, 6, 4, 5)\n",
      "Sorted List     : [9, 8, 7, 6, 5, 4, 3, 2, 1]\n",
      "Original List   : (9, 1, 8, 2, 7, 3, 6, 4, 5)\n",
      "Sorted Tuple    : (9, 8, 7, 6, 5, 4, 3, 2, 1)\n"
     ]
    }
   ],
   "source": [
    "t= (9,1,8,2,7,3,6,4,5)\n",
    "\n",
    "s_li = sorted(li, reverse = True) ## NON-INPLACE SORTING\n",
    "\n",
    "print('Original List   :' , t)\n",
    "print('Sorted List     :' , s_li)\n",
    "print('Original List   :' , t)\n",
    "print('Sorted Tuple    :', tuple(s_li))\n",
    "\n",
    "# There is no In-Place Sorting for Tuple(IMMUTABLE)"
   ]
  },
  {
   "cell_type": "markdown",
   "metadata": {},
   "source": [
    "## Sorting- Dict"
   ]
  },
  {
   "cell_type": "code",
   "execution_count": 271,
   "metadata": {
    "ExecuteTime": {
     "end_time": "2021-09-29T09:20:25.169670Z",
     "start_time": "2021-09-29T09:20:25.062667Z"
    }
   },
   "outputs": [
    {
     "name": "stdout",
     "output_type": "stream",
     "text": [
      "Original Dict         : {'A': 1, 'D': 4, 'B': 2, 'C': 3}\n",
      "Sorted Dict(keys)     : ['A', 'B', 'C', 'D']\n",
      "Sorted dict(values)   : [1, 2, 3, 4]\n"
     ]
    }
   ],
   "source": [
    "## sorting on dictionaries\n",
    "d = {'A': 1, 'D': 4, 'B': 2, 'C': 3}\n",
    "\n",
    "s_d = sorted(d)\n",
    "s_d_values = sorted(d.values())\n",
    "\n",
    "print('Original Dict         :' , d)\n",
    "print('Sorted Dict(keys)     :' , s_d)\n",
    "print('Sorted dict(values)   :' , s_d_values)"
   ]
  },
  {
   "cell_type": "markdown",
   "metadata": {},
   "source": [
    "## Sorting- keys"
   ]
  },
  {
   "cell_type": "code",
   "execution_count": 273,
   "metadata": {
    "ExecuteTime": {
     "end_time": "2021-09-29T09:25:32.200018Z",
     "start_time": "2021-09-29T09:25:32.189046Z"
    }
   },
   "outputs": [
    {
     "name": "stdout",
     "output_type": "stream",
     "text": [
      "Original List         : [-9, 1, 8, 2, -7, 3, 6, -4, 5]\n",
      "Sorted list(abs)      : [1, 2, 3, -4, 5, 6, -7, 8, -9]\n",
      "Original List          [1, 2, 3, -4, 5, 6, -7, 8, -9]\n"
     ]
    }
   ],
   "source": [
    "# Sorting based on keys\n",
    "\n",
    "li = [-9,1,8,2,-7,3,6,-4,5]\n",
    "s_li = sorted(li, key = abs)\n",
    "#s_li = sorted(li)\n",
    "\n",
    "print('Original List         :', li)\n",
    "print('Sorted list(abs)      :', s_li)\n",
    "\n",
    "li.sort(key=abs)\n",
    "print('Original List         ', li)"
   ]
  },
  {
   "cell_type": "code",
   "execution_count": null,
   "metadata": {},
   "outputs": [],
   "source": []
  },
  {
   "cell_type": "code",
   "execution_count": null,
   "metadata": {},
   "outputs": [],
   "source": []
  },
  {
   "cell_type": "code",
   "execution_count": null,
   "metadata": {},
   "outputs": [],
   "source": []
  },
  {
   "cell_type": "code",
   "execution_count": null,
   "metadata": {},
   "outputs": [],
   "source": []
  }
 ],
 "metadata": {
  "kernelspec": {
   "display_name": "Python 3",
   "language": "python",
   "name": "python3"
  },
  "language_info": {
   "codemirror_mode": {
    "name": "ipython",
    "version": 3
   },
   "file_extension": ".py",
   "mimetype": "text/x-python",
   "name": "python",
   "nbconvert_exporter": "python",
   "pygments_lexer": "ipython3",
   "version": "3.8.5"
  },
  "toc": {
   "base_numbering": 1,
   "nav_menu": {},
   "number_sections": true,
   "sideBar": true,
   "skip_h1_title": false,
   "title_cell": "Table of Contents",
   "title_sidebar": "Contents",
   "toc_cell": false,
   "toc_position": {},
   "toc_section_display": true,
   "toc_window_display": false
  }
 },
 "nbformat": 4,
 "nbformat_minor": 4
}
