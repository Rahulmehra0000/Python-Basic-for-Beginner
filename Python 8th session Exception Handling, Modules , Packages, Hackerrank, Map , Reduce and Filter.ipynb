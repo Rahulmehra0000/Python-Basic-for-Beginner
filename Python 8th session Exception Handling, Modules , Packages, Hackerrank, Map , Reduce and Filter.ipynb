{
 "cells": [
  {
   "cell_type": "code",
   "execution_count": 1,
   "metadata": {
    "ExecuteTime": {
     "end_time": "2021-09-26T14:44:39.115517Z",
     "start_time": "2021-09-26T14:44:39.111529Z"
    }
   },
   "outputs": [],
   "source": [
    "import math"
   ]
  },
  {
   "cell_type": "code",
   "execution_count": 2,
   "metadata": {
    "ExecuteTime": {
     "end_time": "2021-09-26T14:44:41.498717Z",
     "start_time": "2021-09-26T14:44:41.484711Z"
    }
   },
   "outputs": [
    {
     "name": "stdout",
     "output_type": "stream",
     "text": [
      "120\n"
     ]
    }
   ],
   "source": [
    "print(math.factorial(5))"
   ]
  },
  {
   "cell_type": "code",
   "execution_count": 3,
   "metadata": {
    "ExecuteTime": {
     "end_time": "2021-09-26T14:44:46.280437Z",
     "start_time": "2021-09-26T14:44:46.270466Z"
    }
   },
   "outputs": [
    {
     "name": "stdout",
     "output_type": "stream",
     "text": [
      "5040\n"
     ]
    }
   ],
   "source": [
    "print(math.factorial(7))"
   ]
  },
  {
   "cell_type": "code",
   "execution_count": 4,
   "metadata": {
    "ExecuteTime": {
     "end_time": "2021-09-26T14:44:54.905438Z",
     "start_time": "2021-09-26T14:44:54.888488Z"
    }
   },
   "outputs": [],
   "source": [
    "from math import factorial"
   ]
  },
  {
   "cell_type": "code",
   "execution_count": 5,
   "metadata": {
    "ExecuteTime": {
     "end_time": "2021-09-26T14:45:04.948439Z",
     "start_time": "2021-09-26T14:45:04.936470Z"
    }
   },
   "outputs": [
    {
     "name": "stdout",
     "output_type": "stream",
     "text": [
      "5040\n"
     ]
    }
   ],
   "source": [
    "print(factorial(7))"
   ]
  },
  {
   "cell_type": "code",
   "execution_count": null,
   "metadata": {},
   "outputs": [],
   "source": []
  },
  {
   "cell_type": "code",
   "execution_count": 9,
   "metadata": {
    "ExecuteTime": {
     "end_time": "2021-09-26T14:50:03.781776Z",
     "start_time": "2021-09-26T14:50:03.769614Z"
    }
   },
   "outputs": [],
   "source": [
    "## pyMyMathModule\n",
    "\n",
    "def printRomanValue(number):\n",
    "    if number == 1:\n",
    "        print('I')\n",
    "    elif number == 2:\n",
    "        print('II')\n",
    "    elif number == 3:\n",
    "        print('III')\n",
    "    elif number == 4:\n",
    "        print('IV')\n",
    "    elif number == 5:\n",
    "        print('V')"
   ]
  },
  {
   "cell_type": "code",
   "execution_count": 10,
   "metadata": {
    "ExecuteTime": {
     "end_time": "2021-09-26T14:50:04.257208Z",
     "start_time": "2021-09-26T14:50:04.245244Z"
    }
   },
   "outputs": [
    {
     "name": "stdout",
     "output_type": "stream",
     "text": [
      "III\n"
     ]
    }
   ],
   "source": [
    "printRomanValue(3)"
   ]
  },
  {
   "cell_type": "code",
   "execution_count": 17,
   "metadata": {
    "ExecuteTime": {
     "end_time": "2021-09-26T14:54:51.380191Z",
     "start_time": "2021-09-26T14:54:51.364235Z"
    }
   },
   "outputs": [
    {
     "ename": "ImportError",
     "evalue": "cannot import name 'printRomanValue' from 'math' (unknown location)",
     "output_type": "error",
     "traceback": [
      "\u001b[1;31m---------------------------------------------------------------------------\u001b[0m",
      "\u001b[1;31mImportError\u001b[0m                               Traceback (most recent call last)",
      "\u001b[1;32m<ipython-input-17-5d9bdeea4331>\u001b[0m in \u001b[0;36m<module>\u001b[1;34m\u001b[0m\n\u001b[1;32m----> 1\u001b[1;33m \u001b[1;32mfrom\u001b[0m \u001b[0mmath\u001b[0m \u001b[1;32mimport\u001b[0m \u001b[0mprintRomanValue\u001b[0m\u001b[1;33m\u001b[0m\u001b[1;33m\u001b[0m\u001b[0m\n\u001b[0m\u001b[0;32m      2\u001b[0m \u001b[1;33m\u001b[0m\u001b[0m\n\u001b[0;32m      3\u001b[0m \u001b[0mprintRomanValue\u001b[0m\u001b[1;33m(\u001b[0m\u001b[1;36m3\u001b[0m\u001b[1;33m)\u001b[0m\u001b[1;33m\u001b[0m\u001b[1;33m\u001b[0m\u001b[0m\n",
      "\u001b[1;31mImportError\u001b[0m: cannot import name 'printRomanValue' from 'math' (unknown location)"
     ]
    }
   ],
   "source": [
    "from math import printRomanValue \n",
    "\n",
    "printRomanValue(3)"
   ]
  },
  {
   "cell_type": "code",
   "execution_count": null,
   "metadata": {},
   "outputs": [],
   "source": []
  },
  {
   "cell_type": "code",
   "execution_count": 18,
   "metadata": {
    "ExecuteTime": {
     "end_time": "2021-09-26T15:02:22.751864Z",
     "start_time": "2021-09-26T15:02:22.732921Z"
    }
   },
   "outputs": [],
   "source": [
    "def printVenu():\n",
    "    print('default venu is Mumbai')\n",
    "    \n",
    "def printStadium():\n",
    "    print('default Stadium is Wankede ')"
   ]
  },
  {
   "cell_type": "code",
   "execution_count": null,
   "metadata": {},
   "outputs": [],
   "source": []
  },
  {
   "cell_type": "markdown",
   "metadata": {},
   "source": [
    "# Exception Handling"
   ]
  },
  {
   "cell_type": "code",
   "execution_count": 21,
   "metadata": {
    "ExecuteTime": {
     "end_time": "2021-09-26T15:20:50.551417Z",
     "start_time": "2021-09-26T15:20:48.975718Z"
    }
   },
   "outputs": [
    {
     "name": "stdout",
     "output_type": "stream",
     "text": [
      "Enter any number: 5\n",
      "Result: 20.0\n"
     ]
    }
   ],
   "source": [
    "userinput = input('Enter any number: ')\n",
    "result = 100 / int(userinput)\n",
    "print(\"Result:\", result)"
   ]
  },
  {
   "cell_type": "code",
   "execution_count": 22,
   "metadata": {
    "ExecuteTime": {
     "end_time": "2021-09-26T15:22:22.123321Z",
     "start_time": "2021-09-26T15:22:22.119502Z"
    }
   },
   "outputs": [],
   "source": [
    "## The above will run as we are providing a integer value to by coverting the userinput into integer in 2nd code.\n",
    "## so if we try to run it by giving the alphabet values it will give us a error by saying ValueError.\n",
    "## Lets see the error first"
   ]
  },
  {
   "cell_type": "code",
   "execution_count": 23,
   "metadata": {
    "ExecuteTime": {
     "end_time": "2021-09-26T15:22:33.189941Z",
     "start_time": "2021-09-26T15:22:30.341493Z"
    }
   },
   "outputs": [
    {
     "name": "stdout",
     "output_type": "stream",
     "text": [
      "Enter any number: q\n"
     ]
    },
    {
     "ename": "ValueError",
     "evalue": "invalid literal for int() with base 10: 'q'",
     "output_type": "error",
     "traceback": [
      "\u001b[1;31m---------------------------------------------------------------------------\u001b[0m",
      "\u001b[1;31mValueError\u001b[0m                                Traceback (most recent call last)",
      "\u001b[1;32m<ipython-input-23-478a1423ae84>\u001b[0m in \u001b[0;36m<module>\u001b[1;34m\u001b[0m\n\u001b[0;32m      1\u001b[0m \u001b[0muserinput\u001b[0m \u001b[1;33m=\u001b[0m \u001b[0minput\u001b[0m\u001b[1;33m(\u001b[0m\u001b[1;34m'Enter any number: '\u001b[0m\u001b[1;33m)\u001b[0m\u001b[1;33m\u001b[0m\u001b[1;33m\u001b[0m\u001b[0m\n\u001b[1;32m----> 2\u001b[1;33m \u001b[0mresult\u001b[0m \u001b[1;33m=\u001b[0m \u001b[1;36m100\u001b[0m \u001b[1;33m/\u001b[0m \u001b[0mint\u001b[0m\u001b[1;33m(\u001b[0m\u001b[0muserinput\u001b[0m\u001b[1;33m)\u001b[0m\u001b[1;33m\u001b[0m\u001b[1;33m\u001b[0m\u001b[0m\n\u001b[0m\u001b[0;32m      3\u001b[0m \u001b[0mprint\u001b[0m\u001b[1;33m(\u001b[0m\u001b[1;34m\"Result:\"\u001b[0m\u001b[1;33m,\u001b[0m \u001b[0mresult\u001b[0m\u001b[1;33m)\u001b[0m\u001b[1;33m\u001b[0m\u001b[1;33m\u001b[0m\u001b[0m\n",
      "\u001b[1;31mValueError\u001b[0m: invalid literal for int() with base 10: 'q'"
     ]
    }
   ],
   "source": [
    "userinput = input('Enter any number: ')\n",
    "result = 100 / int(userinput)\n",
    "print(\"Result:\", result)"
   ]
  },
  {
   "cell_type": "code",
   "execution_count": 24,
   "metadata": {
    "ExecuteTime": {
     "end_time": "2021-09-26T15:23:43.084582Z",
     "start_time": "2021-09-26T15:23:43.067075Z"
    }
   },
   "outputs": [],
   "source": [
    "## So above we got the error so to over come this type of error and get the user know they are giving wrong value will use try: function with expect\n",
    "## le's see the function"
   ]
  },
  {
   "cell_type": "code",
   "execution_count": 26,
   "metadata": {
    "ExecuteTime": {
     "end_time": "2021-09-26T15:26:12.868507Z",
     "start_time": "2021-09-26T15:26:09.651388Z"
    }
   },
   "outputs": [
    {
     "name": "stdout",
     "output_type": "stream",
     "text": [
      "Enter any number: q\n",
      "Not a valid number, Please enter only numbers\n"
     ]
    }
   ],
   "source": [
    "try:\n",
    "    userinput = input('Enter any number: ')\n",
    "    result = 100 / int(userinput)\n",
    "    print(\"Result:\", result)\n",
    "except ValueError:\n",
    "    print('Not a valid number, Please enter only numbers')"
   ]
  },
  {
   "cell_type": "code",
   "execution_count": 27,
   "metadata": {
    "ExecuteTime": {
     "end_time": "2021-09-26T15:26:25.586669Z",
     "start_time": "2021-09-26T15:26:22.748961Z"
    }
   },
   "outputs": [
    {
     "name": "stdout",
     "output_type": "stream",
     "text": [
      "Enter any number: 8\n",
      "Result: 12.5\n"
     ]
    }
   ],
   "source": [
    "try:\n",
    "    userinput = input('Enter any number: ')\n",
    "    result = 100 / int(userinput)\n",
    "    print(\"Result:\", result)\n",
    "except ValueError:\n",
    "    print('Not a valid number, Please enter only numbers')"
   ]
  },
  {
   "cell_type": "code",
   "execution_count": 30,
   "metadata": {
    "ExecuteTime": {
     "end_time": "2021-09-26T15:28:55.778013Z",
     "start_time": "2021-09-26T15:28:55.763007Z"
    }
   },
   "outputs": [],
   "source": [
    "## Now if we try to enter 0 number it will also give an error and that error is ZeroDivisionError.\n",
    "## Let's see the error first"
   ]
  },
  {
   "cell_type": "code",
   "execution_count": 29,
   "metadata": {
    "ExecuteTime": {
     "end_time": "2021-09-26T15:28:32.322967Z",
     "start_time": "2021-09-26T15:28:30.721821Z"
    }
   },
   "outputs": [
    {
     "name": "stdout",
     "output_type": "stream",
     "text": [
      "Enter any number: 0\n"
     ]
    },
    {
     "ename": "ZeroDivisionError",
     "evalue": "division by zero",
     "output_type": "error",
     "traceback": [
      "\u001b[1;31m---------------------------------------------------------------------------\u001b[0m",
      "\u001b[1;31mZeroDivisionError\u001b[0m                         Traceback (most recent call last)",
      "\u001b[1;32m<ipython-input-29-7193d89f1638>\u001b[0m in \u001b[0;36m<module>\u001b[1;34m\u001b[0m\n\u001b[0;32m      1\u001b[0m \u001b[1;32mtry\u001b[0m\u001b[1;33m:\u001b[0m\u001b[1;33m\u001b[0m\u001b[1;33m\u001b[0m\u001b[0m\n\u001b[0;32m      2\u001b[0m     \u001b[0muserinput\u001b[0m \u001b[1;33m=\u001b[0m \u001b[0minput\u001b[0m\u001b[1;33m(\u001b[0m\u001b[1;34m'Enter any number: '\u001b[0m\u001b[1;33m)\u001b[0m\u001b[1;33m\u001b[0m\u001b[1;33m\u001b[0m\u001b[0m\n\u001b[1;32m----> 3\u001b[1;33m     \u001b[0mresult\u001b[0m \u001b[1;33m=\u001b[0m \u001b[1;36m100\u001b[0m \u001b[1;33m/\u001b[0m \u001b[0mint\u001b[0m\u001b[1;33m(\u001b[0m\u001b[0muserinput\u001b[0m\u001b[1;33m)\u001b[0m\u001b[1;33m\u001b[0m\u001b[1;33m\u001b[0m\u001b[0m\n\u001b[0m\u001b[0;32m      4\u001b[0m     \u001b[0mprint\u001b[0m\u001b[1;33m(\u001b[0m\u001b[1;34m\"Result:\"\u001b[0m\u001b[1;33m,\u001b[0m \u001b[0mresult\u001b[0m\u001b[1;33m)\u001b[0m\u001b[1;33m\u001b[0m\u001b[1;33m\u001b[0m\u001b[0m\n\u001b[0;32m      5\u001b[0m \u001b[1;32mexcept\u001b[0m \u001b[0mValueError\u001b[0m\u001b[1;33m:\u001b[0m\u001b[1;33m\u001b[0m\u001b[1;33m\u001b[0m\u001b[0m\n",
      "\u001b[1;31mZeroDivisionError\u001b[0m: division by zero"
     ]
    }
   ],
   "source": [
    "try:\n",
    "    userinput = input('Enter any number: ')\n",
    "    result = 100 / int(userinput)\n",
    "    print(\"Result:\", result)\n",
    "except ValueError:\n",
    "    print('Not a valid number, Please enter only numbers')"
   ]
  },
  {
   "cell_type": "code",
   "execution_count": 32,
   "metadata": {
    "ExecuteTime": {
     "end_time": "2021-09-26T15:30:39.039428Z",
     "start_time": "2021-09-26T15:30:36.494730Z"
    }
   },
   "outputs": [
    {
     "name": "stdout",
     "output_type": "stream",
     "text": [
      "Enter any number: 0\n",
      "Not a valid number, Please enter number greater than zero\n"
     ]
    }
   ],
   "source": [
    "## So let's see how to handle the above ZeroDivisionError\n",
    "try:\n",
    "    userinput = input('Enter any number: ')\n",
    "    result = 100 / int(userinput)\n",
    "    print(\"Result:\", result)\n",
    "except ValueError:\n",
    "    print('Not a valid number, Please enter only numbers')\n",
    "except ZeroDivisionError:\n",
    "     print('Not a valid number, Please enter number greater than zero')\n"
   ]
  },
  {
   "cell_type": "code",
   "execution_count": 33,
   "metadata": {
    "ExecuteTime": {
     "end_time": "2021-09-26T15:30:57.677563Z",
     "start_time": "2021-09-26T15:30:55.509580Z"
    }
   },
   "outputs": [
    {
     "name": "stdout",
     "output_type": "stream",
     "text": [
      "Enter any number: 5\n",
      "Result: 20.0\n"
     ]
    }
   ],
   "source": [
    "try:\n",
    "    userinput = input('Enter any number: ')\n",
    "    result = 100 / int(userinput)\n",
    "    print(\"Result:\", result)\n",
    "except ValueError:\n",
    "    print('Not a valid number, Please enter only numbers')\n",
    "except ZeroDivisionError:\n",
    "     print('Not a valid number, Please enter number greater than zero')"
   ]
  },
  {
   "cell_type": "markdown",
   "metadata": {},
   "source": [
    "# Exceptional handling & File Handling"
   ]
  },
  {
   "cell_type": "code",
   "execution_count": 38,
   "metadata": {
    "ExecuteTime": {
     "end_time": "2021-09-26T18:31:00.467463Z",
     "start_time": "2021-09-26T18:30:58.272276Z"
    }
   },
   "outputs": [
    {
     "name": "stdout",
     "output_type": "stream",
     "text": [
      "Enter any number: a\n",
      "Not a valid number, Please enter only numbers\n"
     ]
    }
   ],
   "source": [
    "try:\n",
    "    fh = open('Exceptionalhandling.text','w')\n",
    "    fh.write('Opening the file.\\n')\n",
    "    \n",
    "    userInput = input('Enter any number: ')\n",
    "    fh.write('The userhas entered the number : {}\\n'.format(userInput))\n",
    "    \n",
    "    result =100 / int(userInput)\n",
    "    fh.write('The final result is {}\\n'.format(result))\n",
    "    \n",
    "    print('Result:', result)\n",
    "    \n",
    "    fh.write('Closing the file\\n')\n",
    "    fh.close()\n",
    "except ValueError:\n",
    "    print('Not a valid number, Please enter only numbers')\n",
    "except ZeroDivisionError:\n",
    "     print('Not a valid number, Please enter number greater than zero')\n",
    "    "
   ]
  },
  {
   "cell_type": "code",
   "execution_count": 39,
   "metadata": {
    "ExecuteTime": {
     "end_time": "2021-09-26T18:33:39.002532Z",
     "start_time": "2021-09-26T18:33:35.659280Z"
    }
   },
   "outputs": [
    {
     "name": "stdout",
     "output_type": "stream",
     "text": [
      "Enter any number: 5\n",
      "Result: 20.0\n"
     ]
    }
   ],
   "source": [
    "try:\n",
    "    fh = open('Exceptionalhandling.text','w')\n",
    "    fh.write('Opening the file.\\n')\n",
    "    \n",
    "    userInput = input('Enter any number: ')\n",
    "    fh.write('The userhas entered the number : {}\\n'.format(userInput))\n",
    "    \n",
    "    result =100 / int(userInput)\n",
    "    fh.write('The final result is {}\\n'.format(result))\n",
    "    \n",
    "    print('Result:', result)\n",
    "    \n",
    "    fh.write('Closing the file\\n')\n",
    "    fh.close()\n",
    "except ValueError:\n",
    "    print('Not a valid number, Please enter only numbers')\n",
    "except ZeroDivisionError:\n",
    "     print('Not a valid number, Please enter number greater than zero')"
   ]
  },
  {
   "cell_type": "code",
   "execution_count": 41,
   "metadata": {
    "ExecuteTime": {
     "end_time": "2021-09-26T18:37:04.973923Z",
     "start_time": "2021-09-26T18:37:02.177616Z"
    }
   },
   "outputs": [
    {
     "name": "stdout",
     "output_type": "stream",
     "text": [
      "Enter any number: 0\n",
      "Not a valid number, Please enter number greater than zero\n"
     ]
    }
   ],
   "source": [
    "try:\n",
    "    fh = open('Exceptionalhandling.text','w')\n",
    "    fh.write('Opening the file.\\n')\n",
    "    \n",
    "    userInput = input('Enter any number: ')\n",
    "    fh.write('The userhas entered the number : {}\\n'.format(userInput))\n",
    "    \n",
    "    result =100 / int(userInput)\n",
    "    fh.write('The final result is {}\\n'.format(result))\n",
    "    \n",
    "    print('Result:', result)\n",
    "    \n",
    "    fh.write('Closing the file\\n')\n",
    "    fh.close()\n",
    "except ValueError:\n",
    "    print('Not a valid number, Please enter only numbers')\n",
    "except ZeroDivisionError:\n",
    "     print('Not a valid number, Please enter number greater than zero')"
   ]
  },
  {
   "cell_type": "code",
   "execution_count": null,
   "metadata": {},
   "outputs": [],
   "source": [
    "# in above the file is not getting closed as when we are entering alphatbet or 0 for result as it is not assesing through the code after 5\n",
    "## So to colse the file in long program or to close any resources to clean up any resources we need \n",
    "## finally:\n",
    "   #fh.write('Closing the file\\n')\n",
    "   #fh.close()\n",
    "   "
   ]
  },
  {
   "cell_type": "code",
   "execution_count": 42,
   "metadata": {
    "ExecuteTime": {
     "end_time": "2021-09-26T18:37:36.302653Z",
     "start_time": "2021-09-26T18:37:33.406530Z"
    }
   },
   "outputs": [
    {
     "name": "stdout",
     "output_type": "stream",
     "text": [
      "Enter any number: 4\n",
      "Result: 25.0\n"
     ]
    }
   ],
   "source": [
    "try:\n",
    "    fh = open('Exceptionalhandling.text','w')\n",
    "    fh.write('Opening the file.\\n')\n",
    "    \n",
    "    userInput = input('Enter any number: ')\n",
    "    fh.write('The userhas entered the number : {}\\n'.format(userInput))\n",
    "    \n",
    "    result =100 / int(userInput)\n",
    "    fh.write('The final result is {}\\n'.format(result))\n",
    "    \n",
    "    print('Result:', result)\n",
    "    \n",
    "    #fh.write('Closing the file\\n')\n",
    "    #fh.close()\n",
    "except ValueError:\n",
    "    print('Not a valid number, Please enter only numbers')\n",
    "except ZeroDivisionError:\n",
    "     print('Not a valid number, Please enter number greater than zero')\n",
    "finally:\n",
    "    fh.write('Closing the file\\n')\n",
    "    fh.close()"
   ]
  },
  {
   "cell_type": "code",
   "execution_count": 43,
   "metadata": {
    "ExecuteTime": {
     "end_time": "2021-09-26T18:37:52.616050Z",
     "start_time": "2021-09-26T18:37:49.549529Z"
    }
   },
   "outputs": [
    {
     "name": "stdout",
     "output_type": "stream",
     "text": [
      "Enter any number: a\n",
      "Not a valid number, Please enter only numbers\n"
     ]
    }
   ],
   "source": [
    "try:\n",
    "    fh = open('Exceptionalhandling.text','w')\n",
    "    fh.write('Opening the file.\\n')\n",
    "    \n",
    "    userInput = input('Enter any number: ')\n",
    "    fh.write('The userhas entered the number : {}\\n'.format(userInput))\n",
    "    \n",
    "    result =100 / int(userInput)\n",
    "    fh.write('The final result is {}\\n'.format(result))\n",
    "    \n",
    "    print('Result:', result)\n",
    "    \n",
    "    #fh.write('Closing the file\\n')\n",
    "    #fh.close()\n",
    "except ValueError:\n",
    "    print('Not a valid number, Please enter only numbers')\n",
    "except ZeroDivisionError:\n",
    "     print('Not a valid number, Please enter number greater than zero')\n",
    "finally:\n",
    "    fh.write('Closing the file\\n')\n",
    "    fh.close()"
   ]
  },
  {
   "cell_type": "code",
   "execution_count": 44,
   "metadata": {
    "ExecuteTime": {
     "end_time": "2021-09-26T18:37:59.477782Z",
     "start_time": "2021-09-26T18:37:58.066081Z"
    }
   },
   "outputs": [
    {
     "name": "stdout",
     "output_type": "stream",
     "text": [
      "Enter any number: 0\n",
      "Not a valid number, Please enter number greater than zero\n"
     ]
    }
   ],
   "source": [
    "try:\n",
    "    fh = open('Exceptionalhandling.text','w')\n",
    "    fh.write('Opening the file.\\n')\n",
    "    \n",
    "    userInput = input('Enter any number: ')\n",
    "    fh.write('The userhas entered the number : {}\\n'.format(userInput))\n",
    "    \n",
    "    result =100 / int(userInput)\n",
    "    fh.write('The final result is {}\\n'.format(result))\n",
    "    \n",
    "    print('Result:', result)\n",
    "    \n",
    "    #fh.write('Closing the file\\n')\n",
    "    #fh.close()\n",
    "except ValueError:\n",
    "    print('Not a valid number, Please enter only numbers')\n",
    "except ZeroDivisionError:\n",
    "     print('Not a valid number, Please enter number greater than zero')\n",
    "finally:\n",
    "    fh.write('Closing the file\\n')\n",
    "    fh.close()"
   ]
  },
  {
   "cell_type": "markdown",
   "metadata": {},
   "source": [
    "## Hacker Rank Problems "
   ]
  },
  {
   "cell_type": "code",
   "execution_count": 45,
   "metadata": {
    "ExecuteTime": {
     "end_time": "2021-09-26T18:40:02.147524Z",
     "start_time": "2021-09-26T18:40:02.114613Z"
    }
   },
   "outputs": [
    {
     "name": "stdout",
     "output_type": "stream",
     "text": [
      "Numbers: [1, 2, 3, 4, 5, 6, 7, 8, 9, 10]\n"
     ]
    }
   ],
   "source": [
    "nums = range(1,11)\n",
    "print('Numbers:', list(nums))"
   ]
  },
  {
   "cell_type": "code",
   "execution_count": 47,
   "metadata": {
    "ExecuteTime": {
     "end_time": "2021-09-26T18:42:10.116715Z",
     "start_time": "2021-09-26T18:42:10.105749Z"
    }
   },
   "outputs": [
    {
     "name": "stdout",
     "output_type": "stream",
     "text": [
      "[1, 4, 9, 16, 25, 36, 49, 64, 81, 100]\n"
     ]
    }
   ],
   "source": [
    "## Approach 1 with Traditional Method\n",
    "\n",
    "sq = lambda n: n * n\n",
    "\n",
    "result = []\n",
    "for item in nums:\n",
    "    result.append(sq(item))\n",
    "print(result)"
   ]
  },
  {
   "cell_type": "code",
   "execution_count": 48,
   "metadata": {
    "ExecuteTime": {
     "end_time": "2021-09-26T18:43:19.575718Z",
     "start_time": "2021-09-26T18:43:19.497246Z"
    }
   },
   "outputs": [
    {
     "name": "stdout",
     "output_type": "stream",
     "text": [
      "[1, 4, 9, 16, 25, 36, 49, 64, 81, 100]\n"
     ]
    }
   ],
   "source": [
    "## Approach 2 with LC Method\n",
    "resul = [sq(item) for item in nums]\n",
    "print(result)"
   ]
  },
  {
   "cell_type": "code",
   "execution_count": 50,
   "metadata": {
    "ExecuteTime": {
     "end_time": "2021-09-26T18:45:14.381845Z",
     "start_time": "2021-09-26T18:45:14.373821Z"
    }
   },
   "outputs": [
    {
     "name": "stdout",
     "output_type": "stream",
     "text": [
      "List of square of nums: [1, 4, 9, 16, 25, 36, 49, 64, 81, 100]\n"
     ]
    }
   ],
   "source": [
    "# Approach 2 with Map Method\n",
    "mobject = map(sq, nums)\n",
    "print('List of square of nums:',list(mobject)) ## you can create with tuple also in place of list written"
   ]
  },
  {
   "cell_type": "code",
   "execution_count": 51,
   "metadata": {
    "ExecuteTime": {
     "end_time": "2021-09-26T18:46:27.786887Z",
     "start_time": "2021-09-26T18:46:27.775951Z"
    }
   },
   "outputs": [
    {
     "name": "stdout",
     "output_type": "stream",
     "text": [
      "List of square of nums: [1, 4, 9, 16, 25, 36, 49, 64, 81, 100]\n",
      "Tuple of square of nums: ()\n"
     ]
    }
   ],
   "source": [
    "# Approach 2 with Map Method\n",
    "# Here we are creating with list and tuple \n",
    "mobject = map(sq, nums)\n",
    "print('List of square of nums:',list(mobject))\n",
    "print('Tuple of square of nums:',tuple(mobject))\n",
    "\n",
    "## here the result for the tuple result empty\n",
    "## This is happening only because whenever we convert map to list or tuple it will work only for once\n",
    "## More we can say that it is kind of apply function or generate a kind of function \n",
    "## so given a sequence of number run this function in one itteration and finish it\n",
    "## and if you try it to run again it will be empty\n",
    "## So map function cannot run multiple times"
   ]
  },
  {
   "cell_type": "code",
   "execution_count": 53,
   "metadata": {
    "ExecuteTime": {
     "end_time": "2021-09-26T18:56:26.042950Z",
     "start_time": "2021-09-26T18:56:26.035972Z"
    }
   },
   "outputs": [
    {
     "name": "stdout",
     "output_type": "stream",
     "text": [
      "List of factorial of nums using map : [1, 2, 6, 24, 120, 720, 5040, 40320, 362880, 3628800]\n"
     ]
    }
   ],
   "source": [
    "## Using map with different function like factorial function and creating list\n",
    "from math import factorial\n",
    "print('List of factorial of nums using map :', list(map(factorial,nums)))"
   ]
  },
  {
   "cell_type": "code",
   "execution_count": 3,
   "metadata": {
    "ExecuteTime": {
     "end_time": "2021-09-26T19:37:14.363607Z",
     "start_time": "2021-09-26T19:37:06.646467Z"
    }
   },
   "outputs": [
    {
     "name": "stdout",
     "output_type": "stream",
     "text": [
      "Enter any sequence of numbers: 4,5,3,1,8\n",
      "21\n"
     ]
    }
   ],
   "source": [
    "# take a sequence of inputs (numbers) (which are comma seperated) and\n",
    "# calculate the sum\n",
    "# input : 1,2,3,4,5\n",
    "# output : 15\n",
    "\n",
    "\n",
    "## Approach 1\n",
    "userInput = (input('Enter any sequence of numbers: '))\n",
    "lstnums = userInput.split(',')\n",
    "\n",
    "result = 0\n",
    "for item in lstnums:\n",
    "    result += int(item)\n",
    "\n",
    "print(result)\n"
   ]
  },
  {
   "cell_type": "code",
   "execution_count": 4,
   "metadata": {
    "ExecuteTime": {
     "end_time": "2021-09-26T19:39:39.737017Z",
     "start_time": "2021-09-26T19:39:32.438557Z"
    }
   },
   "outputs": [
    {
     "name": "stdout",
     "output_type": "stream",
     "text": [
      "Enter any sequence of numbers: 4,5,3,1,8\n",
      "21\n"
     ]
    }
   ],
   "source": [
    "## Approach 2\n",
    "userInput = (input('Enter any sequence of numbers: '))\n",
    "\n",
    "lstnums = list(map(int, userInput.split(',')))\n",
    "print(sum(lstnums))"
   ]
  },
  {
   "cell_type": "code",
   "execution_count": null,
   "metadata": {},
   "outputs": [],
   "source": []
  },
  {
   "cell_type": "code",
   "execution_count": null,
   "metadata": {},
   "outputs": [],
   "source": []
  },
  {
   "cell_type": "code",
   "execution_count": null,
   "metadata": {},
   "outputs": [],
   "source": []
  },
  {
   "cell_type": "code",
   "execution_count": null,
   "metadata": {},
   "outputs": [],
   "source": []
  },
  {
   "cell_type": "code",
   "execution_count": null,
   "metadata": {},
   "outputs": [],
   "source": []
  },
  {
   "cell_type": "code",
   "execution_count": null,
   "metadata": {},
   "outputs": [],
   "source": []
  },
  {
   "cell_type": "code",
   "execution_count": null,
   "metadata": {},
   "outputs": [],
   "source": []
  },
  {
   "cell_type": "code",
   "execution_count": null,
   "metadata": {},
   "outputs": [],
   "source": []
  },
  {
   "cell_type": "markdown",
   "metadata": {},
   "source": [
    "# Filters"
   ]
  },
  {
   "cell_type": "code",
   "execution_count": 54,
   "metadata": {
    "ExecuteTime": {
     "end_time": "2021-09-26T19:03:36.902846Z",
     "start_time": "2021-09-26T19:03:36.866942Z"
    }
   },
   "outputs": [
    {
     "name": "stdout",
     "output_type": "stream",
     "text": [
      "False\n"
     ]
    }
   ],
   "source": [
    "nums = range(1,11)\n",
    "even = lambda n: n % 2 == 0\n",
    "print(even(5))\n",
    "## this lambda function will give try to find the no is divisible by 2 and than it will gives true or false \n",
    "## as the value we had provide above is 5 which is not divisible by 2 and will not give any even value and the result false will come as the raminder \n",
    "## so to over came this let's see the next code"
   ]
  },
  {
   "cell_type": "code",
   "execution_count": 58,
   "metadata": {
    "ExecuteTime": {
     "end_time": "2021-09-26T19:17:01.257926Z",
     "start_time": "2021-09-26T19:17:01.245959Z"
    }
   },
   "outputs": [
    {
     "name": "stdout",
     "output_type": "stream",
     "text": [
      "False\n",
      "True\n"
     ]
    }
   ],
   "source": [
    "nums = range(1,11)\n",
    "even = lambda n: n % 2 == 0\n",
    "def isEven(num):\n",
    "    return num % 2 ==0\n",
    "print(even(5))\n",
    "print(even(10))\n",
    "\n",
    "\n",
    "\n"
   ]
  },
  {
   "cell_type": "code",
   "execution_count": 60,
   "metadata": {
    "ExecuteTime": {
     "end_time": "2021-09-26T19:17:51.628470Z",
     "start_time": "2021-09-26T19:17:51.533036Z"
    }
   },
   "outputs": [
    {
     "name": "stdout",
     "output_type": "stream",
     "text": [
      "False\n",
      "True\n",
      "Result using filter - even : [2, 4, 6, 8, 10]\n",
      "Result using filter - even : [False, True, False, True, False, True, False, True, False, True]\n"
     ]
    }
   ],
   "source": [
    "nums = range(1,11)\n",
    "even = lambda n: n % 2 == 0\n",
    "def isEven(num):\n",
    "    return num % 2 ==0\n",
    "print(even(5))\n",
    "print(even(10))\n",
    "\n",
    "filterobj = filter(even,nums)\n",
    "print('Result using filter - even :', list(filterobj))\n",
    "\n",
    "mobj = map(even,nums)\n",
    "print('Result using filter - even :', list(mobj))"
   ]
  },
  {
   "cell_type": "code",
   "execution_count": null,
   "metadata": {},
   "outputs": [],
   "source": []
  },
  {
   "cell_type": "markdown",
   "metadata": {},
   "source": [
    "## Map Reduce Filter"
   ]
  },
  {
   "cell_type": "code",
   "execution_count": 1,
   "metadata": {
    "ExecuteTime": {
     "end_time": "2021-09-27T07:38:56.885743Z",
     "start_time": "2021-09-27T07:38:56.874774Z"
    }
   },
   "outputs": [],
   "source": [
    " from functools import reduce"
   ]
  },
  {
   "cell_type": "code",
   "execution_count": 5,
   "metadata": {
    "ExecuteTime": {
     "end_time": "2021-09-27T07:40:35.564090Z",
     "start_time": "2021-09-27T07:40:35.554075Z"
    }
   },
   "outputs": [
    {
     "name": "stdout",
     "output_type": "stream",
     "text": [
      "56\n"
     ]
    }
   ],
   "source": [
    "nums = range (1,11)\n",
    "myFunc = lambda x,y: x * y\n",
    "print(myFunc(7,8))"
   ]
  },
  {
   "cell_type": "code",
   "execution_count": 8,
   "metadata": {
    "ExecuteTime": {
     "end_time": "2021-09-27T07:49:58.726743Z",
     "start_time": "2021-09-27T07:49:58.702844Z"
    }
   },
   "outputs": [
    {
     "name": "stdout",
     "output_type": "stream",
     "text": [
      "56\n",
      "Nums:  range(1, 11)\n",
      "result: \n"
     ]
    },
    {
     "data": {
      "text/plain": [
       "(None, 3628800)"
      ]
     },
     "execution_count": 8,
     "metadata": {},
     "output_type": "execute_result"
    }
   ],
   "source": [
    "nums = range (1,11)\n",
    "myFunc = lambda x,y: x * y\n",
    "print(myFunc(7,8))\n",
    "\n",
    "print('Nums: ', nums)\n",
    "result = reduce(myFunc, nums)\n",
    "print('result: '),result\n",
    "\n",
    "\n",
    "## reduce functions take two arguments or more for the input\n",
    "## so here the result with reduce function  what will it do it multiplie 1*2 =2 and 2*3 = 6 and than 6*4 = 24 like this up to 10 as we had specified the range (1,11)\n",
    "## so reduce will take multiple inputs and print it as one out put where as we can't provide multiple inputs in map function as it take one function to one function"
   ]
  },
  {
   "cell_type": "code",
   "execution_count": null,
   "metadata": {},
   "outputs": [],
   "source": []
  },
  {
   "cell_type": "code",
   "execution_count": null,
   "metadata": {},
   "outputs": [],
   "source": []
  },
  {
   "cell_type": "code",
   "execution_count": null,
   "metadata": {},
   "outputs": [],
   "source": []
  },
  {
   "cell_type": "code",
   "execution_count": null,
   "metadata": {},
   "outputs": [],
   "source": []
  }
 ],
 "metadata": {
  "kernelspec": {
   "display_name": "Python 3",
   "language": "python",
   "name": "python3"
  },
  "language_info": {
   "codemirror_mode": {
    "name": "ipython",
    "version": 3
   },
   "file_extension": ".py",
   "mimetype": "text/x-python",
   "name": "python",
   "nbconvert_exporter": "python",
   "pygments_lexer": "ipython3",
   "version": "3.8.5"
  },
  "toc": {
   "base_numbering": 1,
   "nav_menu": {},
   "number_sections": true,
   "sideBar": true,
   "skip_h1_title": false,
   "title_cell": "Table of Contents",
   "title_sidebar": "Contents",
   "toc_cell": false,
   "toc_position": {},
   "toc_section_display": true,
   "toc_window_display": true
  }
 },
 "nbformat": 4,
 "nbformat_minor": 4
}
