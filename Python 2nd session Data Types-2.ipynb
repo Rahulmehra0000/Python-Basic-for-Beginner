{
 "cells": [
  {
   "cell_type": "markdown",
   "metadata": {},
   "source": [
    "# List Operations"
   ]
  },
  {
   "cell_type": "markdown",
   "metadata": {},
   "source": [
    "## Append"
   ]
  },
  {
   "cell_type": "code",
   "execution_count": 1,
   "metadata": {
    "ExecuteTime": {
     "end_time": "2021-09-23T14:03:35.541009Z",
     "start_time": "2021-09-23T14:03:35.534025Z"
    }
   },
   "outputs": [],
   "source": [
    "# Always adds an element/object at the end of the list"
   ]
  },
  {
   "cell_type": "code",
   "execution_count": 2,
   "metadata": {
    "ExecuteTime": {
     "end_time": "2021-09-23T14:03:35.555983Z",
     "start_time": "2021-09-23T14:03:35.542004Z"
    }
   },
   "outputs": [],
   "source": [
    "languages = ['Cpp','Java','C#']"
   ]
  },
  {
   "cell_type": "code",
   "execution_count": 3,
   "metadata": {
    "ExecuteTime": {
     "end_time": "2021-09-23T14:03:35.572420Z",
     "start_time": "2021-09-23T14:03:35.558963Z"
    }
   },
   "outputs": [],
   "source": [
    "languages.append('Python')\n",
    "## Append:- The function of append is that it adds the element at the end of the list\n",
    "## Append also modified the original list"
   ]
  },
  {
   "cell_type": "code",
   "execution_count": 4,
   "metadata": {
    "ExecuteTime": {
     "end_time": "2021-09-23T14:03:35.588367Z",
     "start_time": "2021-09-23T14:03:35.573377Z"
    }
   },
   "outputs": [
    {
     "data": {
      "text/plain": [
       "['Cpp', 'Java', 'C#', 'Python']"
      ]
     },
     "execution_count": 4,
     "metadata": {},
     "output_type": "execute_result"
    }
   ],
   "source": [
    "languages"
   ]
  },
  {
   "cell_type": "code",
   "execution_count": 5,
   "metadata": {
    "ExecuteTime": {
     "end_time": "2021-09-23T14:03:37.341490Z",
     "start_time": "2021-09-23T14:03:37.338493Z"
    }
   },
   "outputs": [],
   "source": [
    "## so in above code what append had did it added the element at the end i.e Python \n",
    "## And also modified the list languages"
   ]
  },
  {
   "cell_type": "markdown",
   "metadata": {},
   "source": [
    "## Insert\n",
    "* Inserts an element/object at a specified index"
   ]
  },
  {
   "cell_type": "code",
   "execution_count": 6,
   "metadata": {
    "ExecuteTime": {
     "end_time": "2021-09-23T14:03:39.026592Z",
     "start_time": "2021-09-23T14:03:39.011630Z"
    }
   },
   "outputs": [],
   "source": [
    "# So Append always add the elements at the end of the list \n",
    "# So if you want to add elemnt at some other specified position\n",
    "# So how you will some other position  will be specified by using INDEX"
   ]
  },
  {
   "cell_type": "code",
   "execution_count": 7,
   "metadata": {
    "ExecuteTime": {
     "end_time": "2021-09-23T14:03:40.431280Z",
     "start_time": "2021-09-23T14:03:39.506602Z"
    }
   },
   "outputs": [],
   "source": [
    "languages.insert(1, 'Perl')\n",
    "## So here i want to add element Peral after Cpp so we had used the above code and got the result and it will also modified the list languages"
   ]
  },
  {
   "cell_type": "code",
   "execution_count": 8,
   "metadata": {
    "ExecuteTime": {
     "end_time": "2021-09-23T14:03:40.835839Z",
     "start_time": "2021-09-23T14:03:40.431280Z"
    }
   },
   "outputs": [
    {
     "data": {
      "text/plain": [
       "['Cpp', 'Perl', 'Java', 'C#', 'Python']"
      ]
     },
     "execution_count": 8,
     "metadata": {},
     "output_type": "execute_result"
    }
   ],
   "source": [
    "languages"
   ]
  },
  {
   "cell_type": "code",
   "execution_count": 9,
   "metadata": {
    "ExecuteTime": {
     "end_time": "2021-09-23T14:03:41.389148Z",
     "start_time": "2021-09-23T14:03:40.839779Z"
    }
   },
   "outputs": [],
   "source": [
    "languages.insert(-1,'Ruby')"
   ]
  },
  {
   "cell_type": "code",
   "execution_count": 10,
   "metadata": {
    "ExecuteTime": {
     "end_time": "2021-09-23T14:03:41.907498Z",
     "start_time": "2021-09-23T14:03:41.389148Z"
    }
   },
   "outputs": [
    {
     "data": {
      "text/plain": [
       "['Cpp', 'Perl', 'Java', 'C#', 'Ruby', 'Python']"
      ]
     },
     "execution_count": 10,
     "metadata": {},
     "output_type": "execute_result"
    }
   ],
   "source": [
    "languages"
   ]
  },
  {
   "cell_type": "code",
   "execution_count": 11,
   "metadata": {
    "ExecuteTime": {
     "end_time": "2021-09-23T14:03:42.081032Z",
     "start_time": "2021-09-23T14:03:41.913156Z"
    }
   },
   "outputs": [],
   "source": [
    "# Shift + Tab to see the help"
   ]
  },
  {
   "cell_type": "code",
   "execution_count": 12,
   "metadata": {
    "ExecuteTime": {
     "end_time": "2021-09-23T14:03:42.670291Z",
     "start_time": "2021-09-23T14:03:42.387026Z"
    }
   },
   "outputs": [
    {
     "name": "stdout",
     "output_type": "stream",
     "text": [
      "Help on class list in module builtins:\n",
      "\n",
      "class list(object)\n",
      " |  list(iterable=(), /)\n",
      " |  \n",
      " |  Built-in mutable sequence.\n",
      " |  \n",
      " |  If no argument is given, the constructor creates a new empty list.\n",
      " |  The argument must be an iterable if specified.\n",
      " |  \n",
      " |  Methods defined here:\n",
      " |  \n",
      " |  __add__(self, value, /)\n",
      " |      Return self+value.\n",
      " |  \n",
      " |  __contains__(self, key, /)\n",
      " |      Return key in self.\n",
      " |  \n",
      " |  __delitem__(self, key, /)\n",
      " |      Delete self[key].\n",
      " |  \n",
      " |  __eq__(self, value, /)\n",
      " |      Return self==value.\n",
      " |  \n",
      " |  __ge__(self, value, /)\n",
      " |      Return self>=value.\n",
      " |  \n",
      " |  __getattribute__(self, name, /)\n",
      " |      Return getattr(self, name).\n",
      " |  \n",
      " |  __getitem__(...)\n",
      " |      x.__getitem__(y) <==> x[y]\n",
      " |  \n",
      " |  __gt__(self, value, /)\n",
      " |      Return self>value.\n",
      " |  \n",
      " |  __iadd__(self, value, /)\n",
      " |      Implement self+=value.\n",
      " |  \n",
      " |  __imul__(self, value, /)\n",
      " |      Implement self*=value.\n",
      " |  \n",
      " |  __init__(self, /, *args, **kwargs)\n",
      " |      Initialize self.  See help(type(self)) for accurate signature.\n",
      " |  \n",
      " |  __iter__(self, /)\n",
      " |      Implement iter(self).\n",
      " |  \n",
      " |  __le__(self, value, /)\n",
      " |      Return self<=value.\n",
      " |  \n",
      " |  __len__(self, /)\n",
      " |      Return len(self).\n",
      " |  \n",
      " |  __lt__(self, value, /)\n",
      " |      Return self<value.\n",
      " |  \n",
      " |  __mul__(self, value, /)\n",
      " |      Return self*value.\n",
      " |  \n",
      " |  __ne__(self, value, /)\n",
      " |      Return self!=value.\n",
      " |  \n",
      " |  __repr__(self, /)\n",
      " |      Return repr(self).\n",
      " |  \n",
      " |  __reversed__(self, /)\n",
      " |      Return a reverse iterator over the list.\n",
      " |  \n",
      " |  __rmul__(self, value, /)\n",
      " |      Return value*self.\n",
      " |  \n",
      " |  __setitem__(self, key, value, /)\n",
      " |      Set self[key] to value.\n",
      " |  \n",
      " |  __sizeof__(self, /)\n",
      " |      Return the size of the list in memory, in bytes.\n",
      " |  \n",
      " |  append(self, object, /)\n",
      " |      Append object to the end of the list.\n",
      " |  \n",
      " |  clear(self, /)\n",
      " |      Remove all items from list.\n",
      " |  \n",
      " |  copy(self, /)\n",
      " |      Return a shallow copy of the list.\n",
      " |  \n",
      " |  count(self, value, /)\n",
      " |      Return number of occurrences of value.\n",
      " |  \n",
      " |  extend(self, iterable, /)\n",
      " |      Extend list by appending elements from the iterable.\n",
      " |  \n",
      " |  index(self, value, start=0, stop=9223372036854775807, /)\n",
      " |      Return first index of value.\n",
      " |      \n",
      " |      Raises ValueError if the value is not present.\n",
      " |  \n",
      " |  insert(self, index, object, /)\n",
      " |      Insert object before index.\n",
      " |  \n",
      " |  pop(self, index=-1, /)\n",
      " |      Remove and return item at index (default last).\n",
      " |      \n",
      " |      Raises IndexError if list is empty or index is out of range.\n",
      " |  \n",
      " |  remove(self, value, /)\n",
      " |      Remove first occurrence of value.\n",
      " |      \n",
      " |      Raises ValueError if the value is not present.\n",
      " |  \n",
      " |  reverse(self, /)\n",
      " |      Reverse *IN PLACE*.\n",
      " |  \n",
      " |  sort(self, /, *, key=None, reverse=False)\n",
      " |      Sort the list in ascending order and return None.\n",
      " |      \n",
      " |      The sort is in-place (i.e. the list itself is modified) and stable (i.e. the\n",
      " |      order of two equal elements is maintained).\n",
      " |      \n",
      " |      If a key function is given, apply it once to each list item and sort them,\n",
      " |      ascending or descending, according to their function values.\n",
      " |      \n",
      " |      The reverse flag can be set to sort in descending order.\n",
      " |  \n",
      " |  ----------------------------------------------------------------------\n",
      " |  Static methods defined here:\n",
      " |  \n",
      " |  __new__(*args, **kwargs) from builtins.type\n",
      " |      Create and return a new object.  See help(type) for accurate signature.\n",
      " |  \n",
      " |  ----------------------------------------------------------------------\n",
      " |  Data and other attributes defined here:\n",
      " |  \n",
      " |  __hash__ = None\n",
      "\n"
     ]
    }
   ],
   "source": [
    "help(list)"
   ]
  },
  {
   "cell_type": "code",
   "execution_count": 13,
   "metadata": {
    "ExecuteTime": {
     "end_time": "2021-09-23T14:03:43.243075Z",
     "start_time": "2021-09-23T14:03:42.879793Z"
    }
   },
   "outputs": [
    {
     "name": "stdout",
     "output_type": "stream",
     "text": [
      "Help on method_descriptor:\n",
      "\n",
      "insert(self, index, object, /)\n",
      "    Insert object before index.\n",
      "\n"
     ]
    }
   ],
   "source": [
    "help(list.insert)"
   ]
  },
  {
   "cell_type": "markdown",
   "metadata": {},
   "source": [
    "## Remove \n",
    "* Remove an element/object based on value"
   ]
  },
  {
   "cell_type": "code",
   "execution_count": 14,
   "metadata": {
    "ExecuteTime": {
     "end_time": "2021-09-23T14:03:44.086742Z",
     "start_time": "2021-09-23T14:03:44.077781Z"
    }
   },
   "outputs": [
    {
     "data": {
      "text/plain": [
       "['Cpp', 'Perl', 'Java', 'C#', 'Ruby', 'Python']"
      ]
     },
     "execution_count": 14,
     "metadata": {},
     "output_type": "execute_result"
    }
   ],
   "source": [
    "languages"
   ]
  },
  {
   "cell_type": "code",
   "execution_count": 15,
   "metadata": {
    "ExecuteTime": {
     "end_time": "2021-09-23T14:03:45.326267Z",
     "start_time": "2021-09-23T14:03:44.637444Z"
    }
   },
   "outputs": [
    {
     "name": "stdout",
     "output_type": "stream",
     "text": [
      "Help on method_descriptor:\n",
      "\n",
      "remove(self, value, /)\n",
      "    Remove first occurrence of value.\n",
      "    \n",
      "    Raises ValueError if the value is not present.\n",
      "\n"
     ]
    }
   ],
   "source": [
    "help(list.remove)"
   ]
  },
  {
   "cell_type": "code",
   "execution_count": 16,
   "metadata": {
    "ExecuteTime": {
     "end_time": "2021-09-23T14:03:45.919194Z",
     "start_time": "2021-09-23T14:03:45.326267Z"
    }
   },
   "outputs": [],
   "source": [
    "## So if you want to remove Java from the above list\n",
    "languages.remove('Java')"
   ]
  },
  {
   "cell_type": "code",
   "execution_count": 17,
   "metadata": {
    "ExecuteTime": {
     "end_time": "2021-09-23T14:03:46.150495Z",
     "start_time": "2021-09-23T14:03:45.919194Z"
    }
   },
   "outputs": [
    {
     "data": {
      "text/plain": [
       "['Cpp', 'Perl', 'C#', 'Ruby', 'Python']"
      ]
     },
     "execution_count": 17,
     "metadata": {},
     "output_type": "execute_result"
    }
   ],
   "source": [
    "languages"
   ]
  },
  {
   "cell_type": "code",
   "execution_count": 18,
   "metadata": {
    "ExecuteTime": {
     "end_time": "2021-09-23T14:03:46.797657Z",
     "start_time": "2021-09-23T14:03:46.151490Z"
    }
   },
   "outputs": [
    {
     "ename": "ValueError",
     "evalue": "list.remove(x): x not in list",
     "output_type": "error",
     "traceback": [
      "\u001b[1;31m---------------------------------------------------------------------------\u001b[0m",
      "\u001b[1;31mValueError\u001b[0m                                Traceback (most recent call last)",
      "\u001b[1;32m<ipython-input-18-a0d0b9c6a029>\u001b[0m in \u001b[0;36m<module>\u001b[1;34m\u001b[0m\n\u001b[1;32m----> 1\u001b[1;33m \u001b[0mlanguages\u001b[0m\u001b[1;33m.\u001b[0m\u001b[0mremove\u001b[0m\u001b[1;33m(\u001b[0m\u001b[1;34m'perl'\u001b[0m\u001b[1;33m)\u001b[0m\u001b[1;33m\u001b[0m\u001b[1;33m\u001b[0m\u001b[0m\n\u001b[0m\u001b[0;32m      2\u001b[0m \u001b[1;31m# So this will gives as an error as the p is small in Perl which means that it is case sensitive\u001b[0m\u001b[1;33m\u001b[0m\u001b[1;33m\u001b[0m\u001b[1;33m\u001b[0m\u001b[0m\n\u001b[0;32m      3\u001b[0m \u001b[1;31m# So Whenever you are specifing the element or object to remove make sure the case is proper\u001b[0m\u001b[1;33m\u001b[0m\u001b[1;33m\u001b[0m\u001b[1;33m\u001b[0m\u001b[0m\n",
      "\u001b[1;31mValueError\u001b[0m: list.remove(x): x not in list"
     ]
    }
   ],
   "source": [
    "languages.remove('perl')\n",
    "# So this will gives as an error as the p is small in Perl which means that it is case sensitive\n",
    "# So Whenever you are specifing the element or object to remove make sure the case is proper"
   ]
  },
  {
   "cell_type": "markdown",
   "metadata": {},
   "source": [
    "## Pop\n",
    "* Remove an element/object based on index. by default the index is -1 (i.e last element)"
   ]
  },
  {
   "cell_type": "code",
   "execution_count": 19,
   "metadata": {
    "ExecuteTime": {
     "end_time": "2021-09-23T14:03:47.918687Z",
     "start_time": "2021-09-23T14:03:47.910678Z"
    }
   },
   "outputs": [
    {
     "data": {
      "text/plain": [
       "['Cpp', 'Perl', 'C#', 'Ruby', 'Python']"
      ]
     },
     "execution_count": 19,
     "metadata": {},
     "output_type": "execute_result"
    }
   ],
   "source": [
    "languages"
   ]
  },
  {
   "cell_type": "code",
   "execution_count": 20,
   "metadata": {
    "ExecuteTime": {
     "end_time": "2021-09-23T14:03:48.423541Z",
     "start_time": "2021-09-23T14:03:48.418565Z"
    }
   },
   "outputs": [],
   "source": [
    "## the function of pop is to remove the element from rhe list from -1 if we dont provide the index position.\n",
    "# and if we provide the index position it will remove that element only\n",
    "# also it will show you that element which you had deleted after shift and enter"
   ]
  },
  {
   "cell_type": "code",
   "execution_count": 21,
   "metadata": {
    "ExecuteTime": {
     "end_time": "2021-09-23T14:03:50.254263Z",
     "start_time": "2021-09-23T14:03:49.127211Z"
    }
   },
   "outputs": [
    {
     "data": {
      "text/plain": [
       "'Perl'"
      ]
     },
     "execution_count": 21,
     "metadata": {},
     "output_type": "execute_result"
    }
   ],
   "source": [
    "languages.pop(1)"
   ]
  },
  {
   "cell_type": "code",
   "execution_count": 22,
   "metadata": {
    "ExecuteTime": {
     "end_time": "2021-09-23T14:03:50.427417Z",
     "start_time": "2021-09-23T14:03:50.261643Z"
    }
   },
   "outputs": [
    {
     "data": {
      "text/plain": [
       "['Cpp', 'C#', 'Ruby', 'Python']"
      ]
     },
     "execution_count": 22,
     "metadata": {},
     "output_type": "execute_result"
    }
   ],
   "source": [
    "languages"
   ]
  },
  {
   "cell_type": "code",
   "execution_count": 23,
   "metadata": {
    "ExecuteTime": {
     "end_time": "2021-09-23T14:03:50.788773Z",
     "start_time": "2021-09-23T14:03:50.780797Z"
    }
   },
   "outputs": [
    {
     "data": {
      "text/plain": [
       "'Python'"
      ]
     },
     "execution_count": 23,
     "metadata": {},
     "output_type": "execute_result"
    }
   ],
   "source": [
    "languages.pop()\n",
    "## here python will get removed automatically as it is at the last index and pop always use -1 index "
   ]
  },
  {
   "cell_type": "code",
   "execution_count": 25,
   "metadata": {
    "ExecuteTime": {
     "end_time": "2021-09-23T14:05:08.132799Z",
     "start_time": "2021-09-23T14:05:08.126823Z"
    }
   },
   "outputs": [
    {
     "data": {
      "text/plain": [
       "'Ruby'"
      ]
     },
     "execution_count": 25,
     "metadata": {},
     "output_type": "execute_result"
    }
   ],
   "source": [
    "languages.pop()"
   ]
  },
  {
   "cell_type": "markdown",
   "metadata": {},
   "source": [
    "## Using del keyword"
   ]
  },
  {
   "cell_type": "code",
   "execution_count": 26,
   "metadata": {
    "ExecuteTime": {
     "end_time": "2021-09-23T14:05:41.804807Z",
     "start_time": "2021-09-23T14:05:41.790810Z"
    }
   },
   "outputs": [
    {
     "data": {
      "text/plain": [
       "['Cpp', 'C#']"
      ]
     },
     "execution_count": 26,
     "metadata": {},
     "output_type": "execute_result"
    }
   ],
   "source": [
    "languages"
   ]
  },
  {
   "cell_type": "code",
   "execution_count": 27,
   "metadata": {
    "ExecuteTime": {
     "end_time": "2021-09-23T14:06:03.222245Z",
     "start_time": "2021-09-23T14:06:03.208242Z"
    }
   },
   "outputs": [],
   "source": [
    "languages.append('Rust')"
   ]
  },
  {
   "cell_type": "code",
   "execution_count": 28,
   "metadata": {
    "ExecuteTime": {
     "end_time": "2021-09-23T14:06:20.476877Z",
     "start_time": "2021-09-23T14:06:20.464910Z"
    }
   },
   "outputs": [],
   "source": [
    "languages.append('Scala')"
   ]
  },
  {
   "cell_type": "code",
   "execution_count": 29,
   "metadata": {
    "ExecuteTime": {
     "end_time": "2021-09-23T14:06:38.962043Z",
     "start_time": "2021-09-23T14:06:38.944094Z"
    }
   },
   "outputs": [],
   "source": [
    "languages.append('Javascript')"
   ]
  },
  {
   "cell_type": "code",
   "execution_count": 31,
   "metadata": {
    "ExecuteTime": {
     "end_time": "2021-09-23T14:06:48.701027Z",
     "start_time": "2021-09-23T14:06:48.691052Z"
    }
   },
   "outputs": [
    {
     "data": {
      "text/plain": [
       "['Cpp', 'C#', 'Rust', 'Scala', 'Javascript']"
      ]
     },
     "execution_count": 31,
     "metadata": {},
     "output_type": "execute_result"
    }
   ],
   "source": [
    "languages"
   ]
  },
  {
   "cell_type": "code",
   "execution_count": 32,
   "metadata": {
    "ExecuteTime": {
     "end_time": "2021-09-23T14:07:05.909931Z",
     "start_time": "2021-09-23T14:07:05.892016Z"
    }
   },
   "outputs": [],
   "source": [
    "del languages[2]"
   ]
  },
  {
   "cell_type": "code",
   "execution_count": 33,
   "metadata": {
    "ExecuteTime": {
     "end_time": "2021-09-23T14:07:09.665850Z",
     "start_time": "2021-09-23T14:07:09.646904Z"
    }
   },
   "outputs": [
    {
     "data": {
      "text/plain": [
       "['Cpp', 'C#', 'Scala', 'Javascript']"
      ]
     },
     "execution_count": 33,
     "metadata": {},
     "output_type": "execute_result"
    }
   ],
   "source": [
    "languages"
   ]
  },
  {
   "cell_type": "code",
   "execution_count": 34,
   "metadata": {
    "ExecuteTime": {
     "end_time": "2021-09-23T14:08:05.661823Z",
     "start_time": "2021-09-23T14:08:05.654839Z"
    }
   },
   "outputs": [],
   "source": [
    "del languages[1:3]\n",
    "## So here we are doing multiple index deliting by using silicing"
   ]
  },
  {
   "cell_type": "code",
   "execution_count": 35,
   "metadata": {
    "ExecuteTime": {
     "end_time": "2021-09-23T14:08:08.932610Z",
     "start_time": "2021-09-23T14:08:08.919683Z"
    }
   },
   "outputs": [
    {
     "data": {
      "text/plain": [
       "['Cpp', 'Javascript']"
      ]
     },
     "execution_count": 35,
     "metadata": {},
     "output_type": "execute_result"
    }
   ],
   "source": [
    "languages"
   ]
  },
  {
   "cell_type": "code",
   "execution_count": 36,
   "metadata": {
    "ExecuteTime": {
     "end_time": "2021-09-23T14:09:06.661122Z",
     "start_time": "2021-09-23T14:09:06.646165Z"
    }
   },
   "outputs": [],
   "source": [
    "languages.append('C')"
   ]
  },
  {
   "cell_type": "code",
   "execution_count": 37,
   "metadata": {
    "ExecuteTime": {
     "end_time": "2021-09-23T14:09:19.145225Z",
     "start_time": "2021-09-23T14:09:19.126245Z"
    }
   },
   "outputs": [],
   "source": [
    "languages.append('VB')"
   ]
  },
  {
   "cell_type": "code",
   "execution_count": 38,
   "metadata": {
    "ExecuteTime": {
     "end_time": "2021-09-23T14:10:10.664022Z",
     "start_time": "2021-09-23T14:10:10.649055Z"
    }
   },
   "outputs": [
    {
     "data": {
      "text/plain": [
       "['Cpp', 'Javascript', 'C', 'VB']"
      ]
     },
     "execution_count": 38,
     "metadata": {},
     "output_type": "execute_result"
    }
   ],
   "source": [
    "languages"
   ]
  },
  {
   "cell_type": "code",
   "execution_count": 39,
   "metadata": {
    "ExecuteTime": {
     "end_time": "2021-09-23T14:16:32.718403Z",
     "start_time": "2021-09-23T14:16:32.702489Z"
    }
   },
   "outputs": [],
   "source": [
    "del languages[0:4:3]"
   ]
  },
  {
   "cell_type": "code",
   "execution_count": 40,
   "metadata": {
    "ExecuteTime": {
     "end_time": "2021-09-23T14:16:36.873680Z",
     "start_time": "2021-09-23T14:16:36.855721Z"
    }
   },
   "outputs": [
    {
     "data": {
      "text/plain": [
       "['Javascript', 'C']"
      ]
     },
     "execution_count": 40,
     "metadata": {},
     "output_type": "execute_result"
    }
   ],
   "source": [
    "languages"
   ]
  },
  {
   "cell_type": "code",
   "execution_count": 42,
   "metadata": {
    "ExecuteTime": {
     "end_time": "2021-09-23T14:17:16.434242Z",
     "start_time": "2021-09-23T14:17:16.421242Z"
    }
   },
   "outputs": [],
   "source": [
    "languages.append('Cpp')"
   ]
  },
  {
   "cell_type": "code",
   "execution_count": 43,
   "metadata": {
    "ExecuteTime": {
     "end_time": "2021-09-23T14:17:38.294821Z",
     "start_time": "2021-09-23T14:17:38.287882Z"
    }
   },
   "outputs": [],
   "source": [
    "languages.append('Javascript')"
   ]
  },
  {
   "cell_type": "code",
   "execution_count": 44,
   "metadata": {
    "ExecuteTime": {
     "end_time": "2021-09-23T14:17:51.556974Z",
     "start_time": "2021-09-23T14:17:51.543016Z"
    }
   },
   "outputs": [
    {
     "data": {
      "text/plain": [
       "['Javascript', 'C', 'Cpp', 'Javascript']"
      ]
     },
     "execution_count": 44,
     "metadata": {},
     "output_type": "execute_result"
    }
   ],
   "source": [
    "languages"
   ]
  },
  {
   "cell_type": "code",
   "execution_count": 46,
   "metadata": {
    "ExecuteTime": {
     "end_time": "2021-09-23T14:18:21.259376Z",
     "start_time": "2021-09-23T14:18:21.248412Z"
    }
   },
   "outputs": [
    {
     "data": {
      "text/plain": [
       "'Javascript'"
      ]
     },
     "execution_count": 46,
     "metadata": {},
     "output_type": "execute_result"
    }
   ],
   "source": [
    "languages.pop()"
   ]
  },
  {
   "cell_type": "code",
   "execution_count": 47,
   "metadata": {
    "ExecuteTime": {
     "end_time": "2021-09-23T14:18:28.369616Z",
     "start_time": "2021-09-23T14:18:28.363594Z"
    }
   },
   "outputs": [
    {
     "data": {
      "text/plain": [
       "['Javascript', 'C', 'Cpp']"
      ]
     },
     "execution_count": 47,
     "metadata": {},
     "output_type": "execute_result"
    }
   ],
   "source": [
    "languages"
   ]
  },
  {
   "cell_type": "code",
   "execution_count": 48,
   "metadata": {
    "ExecuteTime": {
     "end_time": "2021-09-23T14:18:44.740962Z",
     "start_time": "2021-09-23T14:18:44.731986Z"
    }
   },
   "outputs": [],
   "source": [
    "languages.append('VC')"
   ]
  },
  {
   "cell_type": "code",
   "execution_count": 49,
   "metadata": {
    "ExecuteTime": {
     "end_time": "2021-09-23T14:18:48.085441Z",
     "start_time": "2021-09-23T14:18:48.080499Z"
    }
   },
   "outputs": [
    {
     "data": {
      "text/plain": [
       "['Javascript', 'C', 'Cpp', 'VC']"
      ]
     },
     "execution_count": 49,
     "metadata": {},
     "output_type": "execute_result"
    }
   ],
   "source": [
    "languages"
   ]
  },
  {
   "cell_type": "code",
   "execution_count": 59,
   "metadata": {
    "ExecuteTime": {
     "end_time": "2021-09-23T14:31:24.382877Z",
     "start_time": "2021-09-23T14:31:24.359483Z"
    }
   },
   "outputs": [
    {
     "data": {
      "text/plain": [
       "'Javascript'"
      ]
     },
     "execution_count": 59,
     "metadata": {},
     "output_type": "execute_result"
    }
   ],
   "source": [
    "languages.pop(0)"
   ]
  },
  {
   "cell_type": "code",
   "execution_count": 61,
   "metadata": {
    "ExecuteTime": {
     "end_time": "2021-09-23T14:34:52.736605Z",
     "start_time": "2021-09-23T14:34:52.725629Z"
    }
   },
   "outputs": [],
   "source": [
    "del languages[1]"
   ]
  },
  {
   "cell_type": "code",
   "execution_count": 62,
   "metadata": {
    "ExecuteTime": {
     "end_time": "2021-09-23T14:35:10.646501Z",
     "start_time": "2021-09-23T14:35:10.628549Z"
    }
   },
   "outputs": [
    {
     "data": {
      "text/plain": [
       "['C', 'VC']"
      ]
     },
     "execution_count": 62,
     "metadata": {},
     "output_type": "execute_result"
    }
   ],
   "source": [
    "languages"
   ]
  },
  {
   "cell_type": "code",
   "execution_count": 63,
   "metadata": {
    "ExecuteTime": {
     "end_time": "2021-09-23T14:35:55.929414Z",
     "start_time": "2021-09-23T14:35:55.924428Z"
    }
   },
   "outputs": [],
   "source": [
    "del languages"
   ]
  },
  {
   "cell_type": "code",
   "execution_count": 64,
   "metadata": {
    "ExecuteTime": {
     "end_time": "2021-09-23T14:36:07.803468Z",
     "start_time": "2021-09-23T14:36:07.791506Z"
    }
   },
   "outputs": [
    {
     "ename": "NameError",
     "evalue": "name 'languages' is not defined",
     "output_type": "error",
     "traceback": [
      "\u001b[1;31m---------------------------------------------------------------------------\u001b[0m",
      "\u001b[1;31mNameError\u001b[0m                                 Traceback (most recent call last)",
      "\u001b[1;32m<ipython-input-64-7e94d94008c9>\u001b[0m in \u001b[0;36m<module>\u001b[1;34m\u001b[0m\n\u001b[1;32m----> 1\u001b[1;33m \u001b[0mlanguages\u001b[0m\u001b[1;33m\u001b[0m\u001b[1;33m\u001b[0m\u001b[0m\n\u001b[0m",
      "\u001b[1;31mNameError\u001b[0m: name 'languages' is not defined"
     ]
    }
   ],
   "source": [
    "languages"
   ]
  },
  {
   "cell_type": "code",
   "execution_count": 66,
   "metadata": {
    "ExecuteTime": {
     "end_time": "2021-09-23T14:37:15.027566Z",
     "start_time": "2021-09-23T14:37:15.009618Z"
    }
   },
   "outputs": [],
   "source": [
    "languages = ['Javascript','C','VB','VC']"
   ]
  },
  {
   "cell_type": "code",
   "execution_count": 67,
   "metadata": {
    "ExecuteTime": {
     "end_time": "2021-09-23T14:37:25.449621Z",
     "start_time": "2021-09-23T14:37:25.434660Z"
    }
   },
   "outputs": [
    {
     "data": {
      "text/plain": [
       "['Javascript', 'C', 'VB', 'VC']"
      ]
     },
     "execution_count": 67,
     "metadata": {},
     "output_type": "execute_result"
    }
   ],
   "source": [
    "languages"
   ]
  },
  {
   "cell_type": "code",
   "execution_count": null,
   "metadata": {},
   "outputs": [],
   "source": []
  },
  {
   "cell_type": "code",
   "execution_count": null,
   "metadata": {},
   "outputs": [],
   "source": []
  },
  {
   "cell_type": "markdown",
   "metadata": {},
   "source": [
    "## Append (Using List)"
   ]
  },
  {
   "cell_type": "code",
   "execution_count": 68,
   "metadata": {
    "ExecuteTime": {
     "end_time": "2021-09-23T14:37:29.622429Z",
     "start_time": "2021-09-23T14:37:29.604441Z"
    }
   },
   "outputs": [
    {
     "data": {
      "text/plain": [
       "['Javascript', 'C', 'VB', 'VC']"
      ]
     },
     "execution_count": 68,
     "metadata": {},
     "output_type": "execute_result"
    }
   ],
   "source": [
    "languages"
   ]
  },
  {
   "cell_type": "code",
   "execution_count": 69,
   "metadata": {
    "ExecuteTime": {
     "end_time": "2021-09-23T14:37:49.930536Z",
     "start_time": "2021-09-23T14:37:49.922560Z"
    }
   },
   "outputs": [],
   "source": [
    "numlist = [100,200,300]"
   ]
  },
  {
   "cell_type": "code",
   "execution_count": 70,
   "metadata": {
    "ExecuteTime": {
     "end_time": "2021-09-23T14:37:56.798895Z",
     "start_time": "2021-09-23T14:37:56.778978Z"
    }
   },
   "outputs": [
    {
     "data": {
      "text/plain": [
       "4"
      ]
     },
     "execution_count": 70,
     "metadata": {},
     "output_type": "execute_result"
    }
   ],
   "source": [
    "len(languages)"
   ]
  },
  {
   "cell_type": "code",
   "execution_count": 71,
   "metadata": {
    "ExecuteTime": {
     "end_time": "2021-09-23T14:38:06.467593Z",
     "start_time": "2021-09-23T14:38:06.454629Z"
    }
   },
   "outputs": [
    {
     "data": {
      "text/plain": [
       "3"
      ]
     },
     "execution_count": 71,
     "metadata": {},
     "output_type": "execute_result"
    }
   ],
   "source": [
    "len(numlist)"
   ]
  },
  {
   "cell_type": "code",
   "execution_count": 72,
   "metadata": {
    "ExecuteTime": {
     "end_time": "2021-09-23T14:38:27.997860Z",
     "start_time": "2021-09-23T14:38:27.982882Z"
    }
   },
   "outputs": [],
   "source": [
    "languages.append(numlist)"
   ]
  },
  {
   "cell_type": "code",
   "execution_count": 75,
   "metadata": {
    "ExecuteTime": {
     "end_time": "2021-09-23T14:40:47.034657Z",
     "start_time": "2021-09-23T14:40:47.024687Z"
    }
   },
   "outputs": [],
   "source": [
    "# so here a new list was inserted in the languages list making all as one element"
   ]
  },
  {
   "cell_type": "code",
   "execution_count": 73,
   "metadata": {
    "ExecuteTime": {
     "end_time": "2021-09-23T14:38:35.929160Z",
     "start_time": "2021-09-23T14:38:35.920190Z"
    }
   },
   "outputs": [
    {
     "data": {
      "text/plain": [
       "['Javascript', 'C', 'VB', 'VC', [100, 200, 300]]"
      ]
     },
     "execution_count": 73,
     "metadata": {},
     "output_type": "execute_result"
    }
   ],
   "source": [
    "languages"
   ]
  },
  {
   "cell_type": "code",
   "execution_count": 74,
   "metadata": {
    "ExecuteTime": {
     "end_time": "2021-09-23T14:39:57.335218Z",
     "start_time": "2021-09-23T14:39:57.321250Z"
    }
   },
   "outputs": [
    {
     "data": {
      "text/plain": [
       "5"
      ]
     },
     "execution_count": 74,
     "metadata": {},
     "output_type": "execute_result"
    }
   ],
   "source": [
    "len(languages)"
   ]
  },
  {
   "cell_type": "code",
   "execution_count": 76,
   "metadata": {
    "ExecuteTime": {
     "end_time": "2021-09-23T14:41:40.537094Z",
     "start_time": "2021-09-23T14:41:40.529118Z"
    }
   },
   "outputs": [],
   "source": [
    "## From the above list extract 200 from the slicing"
   ]
  },
  {
   "cell_type": "code",
   "execution_count": 77,
   "metadata": {
    "ExecuteTime": {
     "end_time": "2021-09-23T14:41:55.799110Z",
     "start_time": "2021-09-23T14:41:55.783474Z"
    }
   },
   "outputs": [
    {
     "data": {
      "text/plain": [
       "['Javascript', 'C', 'VB', 'VC', [100, 200, 300]]"
      ]
     },
     "execution_count": 77,
     "metadata": {},
     "output_type": "execute_result"
    }
   ],
   "source": [
    "languages"
   ]
  },
  {
   "cell_type": "code",
   "execution_count": 78,
   "metadata": {
    "ExecuteTime": {
     "end_time": "2021-09-23T14:42:58.518768Z",
     "start_time": "2021-09-23T14:42:58.504805Z"
    }
   },
   "outputs": [
    {
     "data": {
      "text/plain": [
       "200"
      ]
     },
     "execution_count": 78,
     "metadata": {},
     "output_type": "execute_result"
    }
   ],
   "source": [
    "languages[-1][1]"
   ]
  },
  {
   "cell_type": "code",
   "execution_count": 82,
   "metadata": {
    "ExecuteTime": {
     "end_time": "2021-09-23T14:44:41.560437Z",
     "start_time": "2021-09-23T14:44:41.552428Z"
    }
   },
   "outputs": [
    {
     "data": {
      "text/plain": [
       "200"
      ]
     },
     "execution_count": 82,
     "metadata": {},
     "output_type": "execute_result"
    }
   ],
   "source": [
    "languages[4][-2]"
   ]
  },
  {
   "cell_type": "code",
   "execution_count": 83,
   "metadata": {
    "ExecuteTime": {
     "end_time": "2021-09-23T14:45:52.590015Z",
     "start_time": "2021-09-23T14:45:52.577051Z"
    }
   },
   "outputs": [
    {
     "data": {
      "text/plain": [
       "['Javascript', 'C', 'VB', 'VC', [100, 200, 300]]"
      ]
     },
     "execution_count": 83,
     "metadata": {},
     "output_type": "execute_result"
    }
   ],
   "source": [
    "languages"
   ]
  },
  {
   "cell_type": "code",
   "execution_count": 84,
   "metadata": {
    "ExecuteTime": {
     "end_time": "2021-09-23T14:46:08.798149Z",
     "start_time": "2021-09-23T14:46:08.791133Z"
    }
   },
   "outputs": [],
   "source": [
    "s = 'Welcome'"
   ]
  },
  {
   "cell_type": "code",
   "execution_count": 85,
   "metadata": {
    "ExecuteTime": {
     "end_time": "2021-09-23T14:46:23.319673Z",
     "start_time": "2021-09-23T14:46:23.306716Z"
    }
   },
   "outputs": [],
   "source": [
    "languages.append(s)"
   ]
  },
  {
   "cell_type": "code",
   "execution_count": 86,
   "metadata": {
    "ExecuteTime": {
     "end_time": "2021-09-23T14:46:30.120208Z",
     "start_time": "2021-09-23T14:46:30.097232Z"
    }
   },
   "outputs": [
    {
     "data": {
      "text/plain": [
       "['Javascript', 'C', 'VB', 'VC', [100, 200, 300], 'Welcome']"
      ]
     },
     "execution_count": 86,
     "metadata": {},
     "output_type": "execute_result"
    }
   ],
   "source": [
    "languages"
   ]
  },
  {
   "cell_type": "code",
   "execution_count": 87,
   "metadata": {
    "ExecuteTime": {
     "end_time": "2021-09-23T14:46:39.751233Z",
     "start_time": "2021-09-23T14:46:39.737240Z"
    }
   },
   "outputs": [
    {
     "data": {
      "text/plain": [
       "6"
      ]
     },
     "execution_count": 87,
     "metadata": {},
     "output_type": "execute_result"
    }
   ],
   "source": [
    "len(languages)"
   ]
  },
  {
   "cell_type": "markdown",
   "metadata": {},
   "source": [
    "## Extend \n",
    "* Extends the list with the elements of the container/object passed\n",
    "* Increase the lenght of list by the length of the object/container/element passed"
   ]
  },
  {
   "cell_type": "code",
   "execution_count": 88,
   "metadata": {
    "ExecuteTime": {
     "end_time": "2021-09-23T14:49:29.959890Z",
     "start_time": "2021-09-23T14:49:29.940941Z"
    }
   },
   "outputs": [
    {
     "data": {
      "text/plain": [
       "['Javascript', 'C', 'VB', 'VC', [100, 200, 300], 'Welcome']"
      ]
     },
     "execution_count": 88,
     "metadata": {},
     "output_type": "execute_result"
    }
   ],
   "source": [
    "languages"
   ]
  },
  {
   "cell_type": "code",
   "execution_count": 89,
   "metadata": {
    "ExecuteTime": {
     "end_time": "2021-09-23T14:50:11.303141Z",
     "start_time": "2021-09-23T14:50:11.297159Z"
    }
   },
   "outputs": [],
   "source": [
    "anotherlist =['TCS','IBM','INFY']"
   ]
  },
  {
   "cell_type": "code",
   "execution_count": 90,
   "metadata": {
    "ExecuteTime": {
     "end_time": "2021-09-23T14:50:17.711394Z",
     "start_time": "2021-09-23T14:50:17.696401Z"
    }
   },
   "outputs": [
    {
     "data": {
      "text/plain": [
       "6"
      ]
     },
     "execution_count": 90,
     "metadata": {},
     "output_type": "execute_result"
    }
   ],
   "source": [
    "len(languages)"
   ]
  },
  {
   "cell_type": "code",
   "execution_count": 91,
   "metadata": {
    "ExecuteTime": {
     "end_time": "2021-09-23T14:50:26.604303Z",
     "start_time": "2021-09-23T14:50:26.592296Z"
    }
   },
   "outputs": [
    {
     "data": {
      "text/plain": [
       "3"
      ]
     },
     "execution_count": 91,
     "metadata": {},
     "output_type": "execute_result"
    }
   ],
   "source": [
    "len(anotherlist)"
   ]
  },
  {
   "cell_type": "code",
   "execution_count": 92,
   "metadata": {
    "ExecuteTime": {
     "end_time": "2021-09-23T14:50:42.525701Z",
     "start_time": "2021-09-23T14:50:42.515729Z"
    }
   },
   "outputs": [],
   "source": [
    "languages.extend(anotherlist)"
   ]
  },
  {
   "cell_type": "code",
   "execution_count": 94,
   "metadata": {
    "ExecuteTime": {
     "end_time": "2021-09-23T14:53:47.162388Z",
     "start_time": "2021-09-23T14:53:47.159359Z"
    }
   },
   "outputs": [],
   "source": [
    "## So Extend will convert all the list as a elements in the previous list whome it was assigned where as in append it is adding as a list inside a list but here in case extend is not the case"
   ]
  },
  {
   "cell_type": "code",
   "execution_count": 93,
   "metadata": {
    "ExecuteTime": {
     "end_time": "2021-09-23T14:50:46.592681Z",
     "start_time": "2021-09-23T14:50:46.587726Z"
    }
   },
   "outputs": [
    {
     "data": {
      "text/plain": [
       "['Javascript',\n",
       " 'C',\n",
       " 'VB',\n",
       " 'VC',\n",
       " [100, 200, 300],\n",
       " 'Welcome',\n",
       " 'TCS',\n",
       " 'IBM',\n",
       " 'INFY']"
      ]
     },
     "execution_count": 93,
     "metadata": {},
     "output_type": "execute_result"
    }
   ],
   "source": [
    "languages"
   ]
  },
  {
   "cell_type": "code",
   "execution_count": 96,
   "metadata": {
    "ExecuteTime": {
     "end_time": "2021-09-23T14:54:53.289775Z",
     "start_time": "2021-09-23T14:54:53.272781Z"
    }
   },
   "outputs": [
    {
     "data": {
      "text/plain": [
       "9"
      ]
     },
     "execution_count": 96,
     "metadata": {},
     "output_type": "execute_result"
    }
   ],
   "source": [
    "len(languages)"
   ]
  },
  {
   "cell_type": "code",
   "execution_count": 97,
   "metadata": {
    "ExecuteTime": {
     "end_time": "2021-09-23T14:56:28.434858Z",
     "start_time": "2021-09-23T14:56:28.416841Z"
    }
   },
   "outputs": [
    {
     "data": {
      "text/plain": [
       "'Welcome'"
      ]
     },
     "execution_count": 97,
     "metadata": {},
     "output_type": "execute_result"
    }
   ],
   "source": [
    "s"
   ]
  },
  {
   "cell_type": "code",
   "execution_count": 98,
   "metadata": {
    "ExecuteTime": {
     "end_time": "2021-09-23T14:56:48.312654Z",
     "start_time": "2021-09-23T14:56:48.298667Z"
    }
   },
   "outputs": [],
   "source": [
    "languages.extend(s)"
   ]
  },
  {
   "cell_type": "code",
   "execution_count": 99,
   "metadata": {
    "ExecuteTime": {
     "end_time": "2021-09-23T14:56:56.806933Z",
     "start_time": "2021-09-23T14:56:56.791975Z"
    }
   },
   "outputs": [
    {
     "data": {
      "text/plain": [
       "['Javascript',\n",
       " 'C',\n",
       " 'VB',\n",
       " 'VC',\n",
       " [100, 200, 300],\n",
       " 'Welcome',\n",
       " 'TCS',\n",
       " 'IBM',\n",
       " 'INFY',\n",
       " 'W',\n",
       " 'e',\n",
       " 'l',\n",
       " 'c',\n",
       " 'o',\n",
       " 'm',\n",
       " 'e']"
      ]
     },
     "execution_count": 99,
     "metadata": {},
     "output_type": "execute_result"
    }
   ],
   "source": [
    "languages"
   ]
  },
  {
   "cell_type": "code",
   "execution_count": 100,
   "metadata": {
    "ExecuteTime": {
     "end_time": "2021-09-23T14:57:13.311889Z",
     "start_time": "2021-09-23T14:57:13.300884Z"
    }
   },
   "outputs": [
    {
     "data": {
      "text/plain": [
       "16"
      ]
     },
     "execution_count": 100,
     "metadata": {},
     "output_type": "execute_result"
    }
   ],
   "source": [
    "len(languages)"
   ]
  },
  {
   "cell_type": "code",
   "execution_count": 101,
   "metadata": {
    "ExecuteTime": {
     "end_time": "2021-09-23T15:23:28.793471Z",
     "start_time": "2021-09-23T15:23:28.777473Z"
    }
   },
   "outputs": [],
   "source": [
    "players = ['Virat','Rohit','Dhawan',[100,200,300]]"
   ]
  },
  {
   "cell_type": "code",
   "execution_count": 102,
   "metadata": {
    "ExecuteTime": {
     "end_time": "2021-09-23T15:23:45.238942Z",
     "start_time": "2021-09-23T15:23:45.222989Z"
    }
   },
   "outputs": [
    {
     "data": {
      "text/plain": [
       "['TCS', 'IBM', 'INFY']"
      ]
     },
     "execution_count": 102,
     "metadata": {},
     "output_type": "execute_result"
    }
   ],
   "source": [
    "anotherlist"
   ]
  },
  {
   "cell_type": "code",
   "execution_count": 103,
   "metadata": {
    "ExecuteTime": {
     "end_time": "2021-09-23T15:24:01.097459Z",
     "start_time": "2021-09-23T15:24:01.087490Z"
    }
   },
   "outputs": [],
   "source": [
    "anotherlist.extend(players)"
   ]
  },
  {
   "cell_type": "code",
   "execution_count": 104,
   "metadata": {
    "ExecuteTime": {
     "end_time": "2021-09-23T15:24:08.807939Z",
     "start_time": "2021-09-23T15:24:08.800015Z"
    }
   },
   "outputs": [
    {
     "data": {
      "text/plain": [
       "['TCS', 'IBM', 'INFY', 'Virat', 'Rohit', 'Dhawan', [100, 200, 300]]"
      ]
     },
     "execution_count": 104,
     "metadata": {},
     "output_type": "execute_result"
    }
   ],
   "source": [
    "anotherlist"
   ]
  },
  {
   "cell_type": "markdown",
   "metadata": {},
   "source": [
    "## Count"
   ]
  },
  {
   "cell_type": "code",
   "execution_count": 105,
   "metadata": {
    "ExecuteTime": {
     "end_time": "2021-09-23T15:24:58.982338Z",
     "start_time": "2021-09-23T15:24:58.967380Z"
    }
   },
   "outputs": [
    {
     "data": {
      "text/plain": [
       "['Javascript',\n",
       " 'C',\n",
       " 'VB',\n",
       " 'VC',\n",
       " [100, 200, 300],\n",
       " 'Welcome',\n",
       " 'TCS',\n",
       " 'IBM',\n",
       " 'INFY',\n",
       " 'W',\n",
       " 'e',\n",
       " 'l',\n",
       " 'c',\n",
       " 'o',\n",
       " 'm',\n",
       " 'e']"
      ]
     },
     "execution_count": 105,
     "metadata": {},
     "output_type": "execute_result"
    }
   ],
   "source": [
    "languages"
   ]
  },
  {
   "cell_type": "code",
   "execution_count": 111,
   "metadata": {
    "ExecuteTime": {
     "end_time": "2021-09-23T15:28:11.888423Z",
     "start_time": "2021-09-23T15:28:11.723492Z"
    }
   },
   "outputs": [],
   "source": [
    "## So count function will gives no of elements present in the list \n",
    "## also count is a case sensitive"
   ]
  },
  {
   "cell_type": "code",
   "execution_count": 106,
   "metadata": {
    "ExecuteTime": {
     "end_time": "2021-09-23T15:25:14.134325Z",
     "start_time": "2021-09-23T15:25:14.123396Z"
    }
   },
   "outputs": [
    {
     "data": {
      "text/plain": [
       "1"
      ]
     },
     "execution_count": 106,
     "metadata": {},
     "output_type": "execute_result"
    }
   ],
   "source": [
    "languages.count('VB')"
   ]
  },
  {
   "cell_type": "code",
   "execution_count": 107,
   "metadata": {
    "ExecuteTime": {
     "end_time": "2021-09-23T15:25:27.817854Z",
     "start_time": "2021-09-23T15:25:27.808872Z"
    }
   },
   "outputs": [
    {
     "data": {
      "text/plain": [
       "1"
      ]
     },
     "execution_count": 107,
     "metadata": {},
     "output_type": "execute_result"
    }
   ],
   "source": [
    "languages.count('C')"
   ]
  },
  {
   "cell_type": "code",
   "execution_count": 108,
   "metadata": {
    "ExecuteTime": {
     "end_time": "2021-09-23T15:27:12.697186Z",
     "start_time": "2021-09-23T15:27:12.666278Z"
    }
   },
   "outputs": [
    {
     "data": {
      "text/plain": [
       "1"
      ]
     },
     "execution_count": 108,
     "metadata": {},
     "output_type": "execute_result"
    }
   ],
   "source": [
    "languages.count('m')"
   ]
  },
  {
   "cell_type": "code",
   "execution_count": 110,
   "metadata": {
    "ExecuteTime": {
     "end_time": "2021-09-23T15:27:47.078984Z",
     "start_time": "2021-09-23T15:27:47.065981Z"
    }
   },
   "outputs": [
    {
     "data": {
      "text/plain": [
       "0"
      ]
     },
     "execution_count": 110,
     "metadata": {},
     "output_type": "execute_result"
    }
   ],
   "source": [
    "languages.count('w')"
   ]
  },
  {
   "cell_type": "markdown",
   "metadata": {},
   "source": [
    "## Index"
   ]
  },
  {
   "cell_type": "code",
   "execution_count": 112,
   "metadata": {
    "ExecuteTime": {
     "end_time": "2021-09-23T15:28:40.448010Z",
     "start_time": "2021-09-23T15:28:40.429060Z"
    }
   },
   "outputs": [
    {
     "data": {
      "text/plain": [
       "['Javascript',\n",
       " 'C',\n",
       " 'VB',\n",
       " 'VC',\n",
       " [100, 200, 300],\n",
       " 'Welcome',\n",
       " 'TCS',\n",
       " 'IBM',\n",
       " 'INFY',\n",
       " 'W',\n",
       " 'e',\n",
       " 'l',\n",
       " 'c',\n",
       " 'o',\n",
       " 'm',\n",
       " 'e']"
      ]
     },
     "execution_count": 112,
     "metadata": {},
     "output_type": "execute_result"
    }
   ],
   "source": [
    "languages"
   ]
  },
  {
   "cell_type": "code",
   "execution_count": 113,
   "metadata": {
    "ExecuteTime": {
     "end_time": "2021-09-23T15:29:02.525281Z",
     "start_time": "2021-09-23T15:29:02.513272Z"
    }
   },
   "outputs": [
    {
     "data": {
      "text/plain": [
       "6"
      ]
     },
     "execution_count": 113,
     "metadata": {},
     "output_type": "execute_result"
    }
   ],
   "source": [
    "languages.index('TCS')"
   ]
  },
  {
   "cell_type": "code",
   "execution_count": 114,
   "metadata": {
    "ExecuteTime": {
     "end_time": "2021-09-23T15:29:47.736284Z",
     "start_time": "2021-09-23T15:29:47.719341Z"
    }
   },
   "outputs": [
    {
     "data": {
      "text/plain": [
       "1"
      ]
     },
     "execution_count": 114,
     "metadata": {},
     "output_type": "execute_result"
    }
   ],
   "source": [
    "languages.index('C')"
   ]
  },
  {
   "cell_type": "code",
   "execution_count": 117,
   "metadata": {
    "ExecuteTime": {
     "end_time": "2021-09-23T15:30:58.333326Z",
     "start_time": "2021-09-23T15:30:58.324351Z"
    }
   },
   "outputs": [
    {
     "data": {
      "text/plain": [
       "12"
      ]
     },
     "execution_count": 117,
     "metadata": {},
     "output_type": "execute_result"
    }
   ],
   "source": [
    "languages.index('c')"
   ]
  },
  {
   "cell_type": "code",
   "execution_count": 118,
   "metadata": {
    "ExecuteTime": {
     "end_time": "2021-09-23T15:32:01.945440Z",
     "start_time": "2021-09-23T15:32:01.924429Z"
    }
   },
   "outputs": [
    {
     "data": {
      "text/plain": [
       "4"
      ]
     },
     "execution_count": 118,
     "metadata": {},
     "output_type": "execute_result"
    }
   ],
   "source": [
    "languages.index([100,200,300])"
   ]
  },
  {
   "cell_type": "markdown",
   "metadata": {},
   "source": [
    "## Mutable Vs Immutable"
   ]
  },
  {
   "cell_type": "code",
   "execution_count": 119,
   "metadata": {
    "ExecuteTime": {
     "end_time": "2021-09-23T17:48:38.594057Z",
     "start_time": "2021-09-23T17:48:38.571302Z"
    }
   },
   "outputs": [
    {
     "data": {
      "text/plain": [
       "'Welcome'"
      ]
     },
     "execution_count": 119,
     "metadata": {},
     "output_type": "execute_result"
    }
   ],
   "source": [
    "s"
   ]
  },
  {
   "cell_type": "code",
   "execution_count": 120,
   "metadata": {
    "ExecuteTime": {
     "end_time": "2021-09-23T17:49:04.999047Z",
     "start_time": "2021-09-23T17:49:04.666682Z"
    }
   },
   "outputs": [],
   "source": [
    "languages = ['Python','Perl','Ruby']"
   ]
  },
  {
   "cell_type": "code",
   "execution_count": 121,
   "metadata": {
    "ExecuteTime": {
     "end_time": "2021-09-23T17:49:26.228586Z",
     "start_time": "2021-09-23T17:49:26.184805Z"
    }
   },
   "outputs": [],
   "source": [
    "languages[0]=\"Java\"\n",
    "## here we had inserted Java in place of index 0 which is Python"
   ]
  },
  {
   "cell_type": "code",
   "execution_count": 122,
   "metadata": {
    "ExecuteTime": {
     "end_time": "2021-09-23T17:49:35.507703Z",
     "start_time": "2021-09-23T17:49:35.480195Z"
    }
   },
   "outputs": [
    {
     "data": {
      "text/plain": [
       "['Java', 'Perl', 'Ruby']"
      ]
     },
     "execution_count": 122,
     "metadata": {},
     "output_type": "execute_result"
    }
   ],
   "source": [
    "languages"
   ]
  },
  {
   "cell_type": "code",
   "execution_count": 123,
   "metadata": {
    "ExecuteTime": {
     "end_time": "2021-09-23T17:50:38.803565Z",
     "start_time": "2021-09-23T17:50:38.782844Z"
    }
   },
   "outputs": [
    {
     "data": {
      "text/plain": [
       "'Welcome'"
      ]
     },
     "execution_count": 123,
     "metadata": {},
     "output_type": "execute_result"
    }
   ],
   "source": [
    "s "
   ]
  },
  {
   "cell_type": "code",
   "execution_count": 124,
   "metadata": {
    "ExecuteTime": {
     "end_time": "2021-09-23T17:50:46.258380Z",
     "start_time": "2021-09-23T17:50:46.241116Z"
    }
   },
   "outputs": [
    {
     "data": {
      "text/plain": [
       "'W'"
      ]
     },
     "execution_count": 124,
     "metadata": {},
     "output_type": "execute_result"
    }
   ],
   "source": [
    "s[0]"
   ]
  },
  {
   "cell_type": "code",
   "execution_count": 126,
   "metadata": {
    "ExecuteTime": {
     "end_time": "2021-09-23T17:51:31.293112Z",
     "start_time": "2021-09-23T17:51:31.103499Z"
    }
   },
   "outputs": [
    {
     "ename": "TypeError",
     "evalue": "'str' object does not support item assignment",
     "output_type": "error",
     "traceback": [
      "\u001b[1;31m---------------------------------------------------------------------------\u001b[0m",
      "\u001b[1;31mTypeError\u001b[0m                                 Traceback (most recent call last)",
      "\u001b[1;32m<ipython-input-126-3f0c6fb78347>\u001b[0m in \u001b[0;36m<module>\u001b[1;34m\u001b[0m\n\u001b[1;32m----> 1\u001b[1;33m \u001b[0ms\u001b[0m\u001b[1;33m[\u001b[0m\u001b[1;36m0\u001b[0m\u001b[1;33m]\u001b[0m\u001b[1;33m=\u001b[0m \u001b[1;34m'Z'\u001b[0m\u001b[1;33m\u001b[0m\u001b[1;33m\u001b[0m\u001b[0m\n\u001b[0m\u001b[0;32m      2\u001b[0m \u001b[1;31m## this is not a valid function because string is immutable\u001b[0m\u001b[1;33m\u001b[0m\u001b[1;33m\u001b[0m\u001b[1;33m\u001b[0m\u001b[0m\n",
      "\u001b[1;31mTypeError\u001b[0m: 'str' object does not support item assignment"
     ]
    }
   ],
   "source": [
    "s[0]= 'Z'\n",
    "## this is not a valid function because string is immutable because once you defined a string you cannot modified a character inside a string\n",
    "## But in case of list once it is defined you can change the internal elements of the list. (Like language is a list and s is a string)"
   ]
  },
  {
   "cell_type": "code",
   "execution_count": 127,
   "metadata": {
    "ExecuteTime": {
     "end_time": "2021-09-23T17:55:07.727761Z",
     "start_time": "2021-09-23T17:55:07.670182Z"
    }
   },
   "outputs": [],
   "source": [
    "s = 'Zelcome'"
   ]
  },
  {
   "cell_type": "code",
   "execution_count": 128,
   "metadata": {
    "ExecuteTime": {
     "end_time": "2021-09-23T17:55:14.401745Z",
     "start_time": "2021-09-23T17:55:14.360347Z"
    }
   },
   "outputs": [
    {
     "data": {
      "text/plain": [
       "'Zelcome'"
      ]
     },
     "execution_count": 128,
     "metadata": {},
     "output_type": "execute_result"
    }
   ],
   "source": [
    "s"
   ]
  },
  {
   "cell_type": "code",
   "execution_count": 129,
   "metadata": {
    "ExecuteTime": {
     "end_time": "2021-09-23T17:55:45.746589Z",
     "start_time": "2021-09-23T17:55:45.734947Z"
    }
   },
   "outputs": [],
   "source": [
    "a = 'Python'\n",
    "# iserting value Python in a "
   ]
  },
  {
   "cell_type": "code",
   "execution_count": 130,
   "metadata": {
    "ExecuteTime": {
     "end_time": "2021-09-23T17:55:50.064774Z",
     "start_time": "2021-09-23T17:55:50.034818Z"
    }
   },
   "outputs": [
    {
     "data": {
      "text/plain": [
       "2015120354288"
      ]
     },
     "execution_count": 130,
     "metadata": {},
     "output_type": "execute_result"
    }
   ],
   "source": [
    "id(a)\n",
    "# id of a "
   ]
  },
  {
   "cell_type": "code",
   "execution_count": 131,
   "metadata": {
    "ExecuteTime": {
     "end_time": "2021-09-23T17:56:28.707908Z",
     "start_time": "2021-09-23T17:56:28.695115Z"
    }
   },
   "outputs": [],
   "source": [
    "a = 'Java'"
   ]
  },
  {
   "cell_type": "code",
   "execution_count": 132,
   "metadata": {
    "ExecuteTime": {
     "end_time": "2021-09-23T17:56:33.124044Z",
     "start_time": "2021-09-23T17:56:33.110274Z"
    }
   },
   "outputs": [
    {
     "data": {
      "text/plain": [
       "2015128665008"
      ]
     },
     "execution_count": 132,
     "metadata": {},
     "output_type": "execute_result"
    }
   ],
   "source": [
    "id(a)"
   ]
  },
  {
   "cell_type": "code",
   "execution_count": 133,
   "metadata": {
    "ExecuteTime": {
     "end_time": "2021-09-23T17:59:01.821638Z",
     "start_time": "2021-09-23T17:59:01.815267Z"
    }
   },
   "outputs": [],
   "source": [
    "## in above 2 code when we inserted Python in a it will show a when we print and stored in some id location.\n",
    "## But when we again assigned a value Jave in a it will show Java value in a as the last Python value was replaced with Java and stored in different id location"
   ]
  },
  {
   "cell_type": "code",
   "execution_count": null,
   "metadata": {},
   "outputs": [],
   "source": [
    "'''So here is a Question Python is a dynamical type or Statistical Type'''\n",
    "'''it is a dynamical type'''\n"
   ]
  },
  {
   "cell_type": "code",
   "execution_count": 134,
   "metadata": {
    "ExecuteTime": {
     "end_time": "2021-09-23T18:00:58.538643Z",
     "start_time": "2021-09-23T18:00:58.522754Z"
    }
   },
   "outputs": [],
   "source": [
    "a =100"
   ]
  },
  {
   "cell_type": "code",
   "execution_count": 135,
   "metadata": {
    "ExecuteTime": {
     "end_time": "2021-09-23T18:01:07.267297Z",
     "start_time": "2021-09-23T18:01:07.065249Z"
    }
   },
   "outputs": [
    {
     "name": "stdout",
     "output_type": "stream",
     "text": [
      "100\n"
     ]
    }
   ],
   "source": [
    "print(a)"
   ]
  },
  {
   "cell_type": "code",
   "execution_count": 136,
   "metadata": {
    "ExecuteTime": {
     "end_time": "2021-09-23T18:01:11.805138Z",
     "start_time": "2021-09-23T18:01:11.790929Z"
    }
   },
   "outputs": [
    {
     "data": {
      "text/plain": [
       "140730270364544"
      ]
     },
     "execution_count": 136,
     "metadata": {},
     "output_type": "execute_result"
    }
   ],
   "source": [
    "id(a)"
   ]
  },
  {
   "cell_type": "code",
   "execution_count": 137,
   "metadata": {
    "ExecuteTime": {
     "end_time": "2021-09-23T18:02:21.746124Z",
     "start_time": "2021-09-23T18:02:21.620214Z"
    }
   },
   "outputs": [
    {
     "data": {
      "text/plain": [
       "'Immutable-> String,int,float,tuple,bool'"
      ]
     },
     "execution_count": 137,
     "metadata": {},
     "output_type": "execute_result"
    }
   ],
   "source": [
    "'''Mutable Type -> Lists, dict, set'''\n",
    "'''Immutable-> String,int,float,tuple,bool'''"
   ]
  },
  {
   "cell_type": "code",
   "execution_count": 138,
   "metadata": {
    "ExecuteTime": {
     "end_time": "2021-09-23T18:03:59.972152Z",
     "start_time": "2021-09-23T18:03:59.953270Z"
    }
   },
   "outputs": [
    {
     "data": {
      "text/plain": [
       "'Reference Cont Mechanism'"
      ]
     },
     "execution_count": 138,
     "metadata": {},
     "output_type": "execute_result"
    }
   ],
   "source": [
    "'''Reference Cont Mechanism'''"
   ]
  },
  {
   "cell_type": "code",
   "execution_count": 139,
   "metadata": {
    "ExecuteTime": {
     "end_time": "2021-09-23T18:04:12.547483Z",
     "start_time": "2021-09-23T18:04:12.522460Z"
    }
   },
   "outputs": [],
   "source": [
    "b= 'Test'"
   ]
  },
  {
   "cell_type": "code",
   "execution_count": 140,
   "metadata": {
    "ExecuteTime": {
     "end_time": "2021-09-23T18:04:19.164505Z",
     "start_time": "2021-09-23T18:04:19.147918Z"
    }
   },
   "outputs": [
    {
     "data": {
      "text/plain": [
       "2015188905840"
      ]
     },
     "execution_count": 140,
     "metadata": {},
     "output_type": "execute_result"
    }
   ],
   "source": [
    "id(b)"
   ]
  },
  {
   "cell_type": "code",
   "execution_count": 141,
   "metadata": {
    "ExecuteTime": {
     "end_time": "2021-09-23T18:04:27.126831Z",
     "start_time": "2021-09-23T18:04:27.098386Z"
    }
   },
   "outputs": [],
   "source": [
    "c = 'Test'"
   ]
  },
  {
   "cell_type": "code",
   "execution_count": 142,
   "metadata": {
    "ExecuteTime": {
     "end_time": "2021-09-23T18:04:31.036277Z",
     "start_time": "2021-09-23T18:04:31.030514Z"
    }
   },
   "outputs": [
    {
     "data": {
      "text/plain": [
       "2015188905840"
      ]
     },
     "execution_count": 142,
     "metadata": {},
     "output_type": "execute_result"
    }
   ],
   "source": [
    "id(c)"
   ]
  },
  {
   "cell_type": "code",
   "execution_count": 143,
   "metadata": {
    "ExecuteTime": {
     "end_time": "2021-09-23T18:12:40.950326Z",
     "start_time": "2021-09-23T18:12:40.890265Z"
    }
   },
   "outputs": [
    {
     "data": {
      "text/plain": [
       "\"b and c are no where related. So in this memory 'Test' should be there. Only once when b and c goes out of scope and it will figures out refrence count is zero than only it begins that GC(garbage collector) and that time it will free a prefix  \""
      ]
     },
     "execution_count": 143,
     "metadata": {},
     "output_type": "execute_result"
    }
   ],
   "source": [
    "'''So here we can say that the id location of Test is same in both b and c '''\n",
    "'''b and c are no where related. So in this memory 'Test' should be there. Only once when b and c goes out of scope and it will figures out refrence count is zero than only it begins that GC(garbage collector) and that time it will free a prefix  '''"
   ]
  },
  {
   "cell_type": "markdown",
   "metadata": {},
   "source": [
    "## Sort"
   ]
  },
  {
   "cell_type": "code",
   "execution_count": 144,
   "metadata": {
    "ExecuteTime": {
     "end_time": "2021-09-23T18:13:24.244741Z",
     "start_time": "2021-09-23T18:13:24.229044Z"
    }
   },
   "outputs": [
    {
     "data": {
      "text/plain": [
       "['Java', 'Perl', 'Ruby']"
      ]
     },
     "execution_count": 144,
     "metadata": {},
     "output_type": "execute_result"
    }
   ],
   "source": [
    "languages"
   ]
  },
  {
   "cell_type": "code",
   "execution_count": 145,
   "metadata": {
    "ExecuteTime": {
     "end_time": "2021-09-23T18:13:38.003015Z",
     "start_time": "2021-09-23T18:13:37.962991Z"
    }
   },
   "outputs": [],
   "source": [
    "languages.sort()"
   ]
  },
  {
   "cell_type": "code",
   "execution_count": 146,
   "metadata": {
    "ExecuteTime": {
     "end_time": "2021-09-23T18:13:49.324861Z",
     "start_time": "2021-09-23T18:13:49.309512Z"
    }
   },
   "outputs": [
    {
     "data": {
      "text/plain": [
       "['Java', 'Perl', 'Ruby']"
      ]
     },
     "execution_count": 146,
     "metadata": {},
     "output_type": "execute_result"
    }
   ],
   "source": [
    "languages"
   ]
  },
  {
   "cell_type": "code",
   "execution_count": 147,
   "metadata": {
    "ExecuteTime": {
     "end_time": "2021-09-23T18:14:12.750134Z",
     "start_time": "2021-09-23T18:14:12.720620Z"
    }
   },
   "outputs": [],
   "source": [
    "languages.append('Cpp')"
   ]
  },
  {
   "cell_type": "code",
   "execution_count": 149,
   "metadata": {
    "ExecuteTime": {
     "end_time": "2021-09-23T18:14:35.168558Z",
     "start_time": "2021-09-23T18:14:35.153562Z"
    }
   },
   "outputs": [],
   "source": [
    "languages.append('Scala')"
   ]
  },
  {
   "cell_type": "code",
   "execution_count": 150,
   "metadata": {
    "ExecuteTime": {
     "end_time": "2021-09-23T18:14:36.518837Z",
     "start_time": "2021-09-23T18:14:36.505650Z"
    }
   },
   "outputs": [
    {
     "data": {
      "text/plain": [
       "['Java', 'Perl', 'Ruby', 'Cpp', 'Scala']"
      ]
     },
     "execution_count": 150,
     "metadata": {},
     "output_type": "execute_result"
    }
   ],
   "source": [
    "languages"
   ]
  },
  {
   "cell_type": "code",
   "execution_count": 151,
   "metadata": {
    "ExecuteTime": {
     "end_time": "2021-09-23T18:14:43.061621Z",
     "start_time": "2021-09-23T18:14:43.056391Z"
    }
   },
   "outputs": [],
   "source": [
    "languages.sort()"
   ]
  },
  {
   "cell_type": "code",
   "execution_count": 152,
   "metadata": {
    "ExecuteTime": {
     "end_time": "2021-09-23T18:14:48.959923Z",
     "start_time": "2021-09-23T18:14:48.934853Z"
    }
   },
   "outputs": [
    {
     "data": {
      "text/plain": [
       "['Cpp', 'Java', 'Perl', 'Ruby', 'Scala']"
      ]
     },
     "execution_count": 152,
     "metadata": {},
     "output_type": "execute_result"
    }
   ],
   "source": [
    "languages"
   ]
  },
  {
   "cell_type": "code",
   "execution_count": 155,
   "metadata": {
    "ExecuteTime": {
     "end_time": "2021-09-23T18:18:26.951202Z",
     "start_time": "2021-09-23T18:18:26.935462Z"
    }
   },
   "outputs": [],
   "source": [
    "## Basically it is an IN-PLACE Sorting\n",
    "## What do you mean by IN-PLACE sorting - it modifing the original list\n",
    "## And this sort will only work when all the elements are of same types. So if i have some nos in the list it will not do sorting and sorting will failed"
   ]
  },
  {
   "cell_type": "code",
   "execution_count": 154,
   "metadata": {
    "ExecuteTime": {
     "end_time": "2021-09-23T18:17:13.864203Z",
     "start_time": "2021-09-23T18:17:13.850789Z"
    }
   },
   "outputs": [],
   "source": [
    "## NON IN-PLACING\n",
    "## It will return new sorting list"
   ]
  },
  {
   "cell_type": "markdown",
   "metadata": {},
   "source": [
    "## Reverse"
   ]
  },
  {
   "cell_type": "code",
   "execution_count": 156,
   "metadata": {
    "ExecuteTime": {
     "end_time": "2021-09-23T18:19:29.641757Z",
     "start_time": "2021-09-23T18:19:29.620569Z"
    }
   },
   "outputs": [
    {
     "data": {
      "text/plain": [
       "['Cpp', 'Java', 'Perl', 'Ruby', 'Scala']"
      ]
     },
     "execution_count": 156,
     "metadata": {},
     "output_type": "execute_result"
    }
   ],
   "source": [
    "languages"
   ]
  },
  {
   "cell_type": "code",
   "execution_count": 157,
   "metadata": {
    "ExecuteTime": {
     "end_time": "2021-09-23T18:19:44.027327Z",
     "start_time": "2021-09-23T18:19:44.015360Z"
    }
   },
   "outputs": [],
   "source": [
    "languages.reverse()"
   ]
  },
  {
   "cell_type": "code",
   "execution_count": 158,
   "metadata": {
    "ExecuteTime": {
     "end_time": "2021-09-23T18:19:47.312439Z",
     "start_time": "2021-09-23T18:19:47.286680Z"
    }
   },
   "outputs": [
    {
     "data": {
      "text/plain": [
       "['Scala', 'Ruby', 'Perl', 'Java', 'Cpp']"
      ]
     },
     "execution_count": 158,
     "metadata": {},
     "output_type": "execute_result"
    }
   ],
   "source": [
    "languages"
   ]
  },
  {
   "cell_type": "code",
   "execution_count": 160,
   "metadata": {
    "ExecuteTime": {
     "end_time": "2021-09-23T18:21:21.080513Z",
     "start_time": "2021-09-23T18:21:21.074096Z"
    }
   },
   "outputs": [],
   "source": [
    "## So Reverse will reverse the entire list. This is also known as IN-Place Reverse and it modifies the original list only"
   ]
  },
  {
   "cell_type": "markdown",
   "metadata": {},
   "source": [
    "# Tuples\n",
    "* Ordered Collection of items/objects/elements\n",
    "* Syntax:()\n",
    "* IMMUTABLE"
   ]
  },
  {
   "cell_type": "code",
   "execution_count": 161,
   "metadata": {
    "ExecuteTime": {
     "end_time": "2021-09-23T18:32:23.636826Z",
     "start_time": "2021-09-23T18:32:23.628849Z"
    }
   },
   "outputs": [],
   "source": [
    "## It is same like list another cantiner which is a ordered collection of items but the only difference is in List we can modified all the elements append, extend, insert, remove.\n",
    "## But once you create a Tupple you cannnot do any other operations"
   ]
  },
  {
   "cell_type": "code",
   "execution_count": 172,
   "metadata": {
    "ExecuteTime": {
     "end_time": "2021-09-23T18:42:48.672069Z",
     "start_time": "2021-09-23T18:42:48.661123Z"
    }
   },
   "outputs": [],
   "source": [
    "vaccines =('Covaxin','Covidshield','Sputnik')"
   ]
  },
  {
   "cell_type": "code",
   "execution_count": 173,
   "metadata": {
    "ExecuteTime": {
     "end_time": "2021-09-23T18:42:49.608302Z",
     "start_time": "2021-09-23T18:42:49.591309Z"
    }
   },
   "outputs": [
    {
     "data": {
      "text/plain": [
       "('Covaxin', 'Covidshield', 'Sputnik')"
      ]
     },
     "execution_count": 173,
     "metadata": {},
     "output_type": "execute_result"
    }
   ],
   "source": [
    "vaccines"
   ]
  },
  {
   "cell_type": "code",
   "execution_count": 174,
   "metadata": {
    "ExecuteTime": {
     "end_time": "2021-09-23T18:42:50.150884Z",
     "start_time": "2021-09-23T18:42:50.119668Z"
    }
   },
   "outputs": [
    {
     "name": "stdout",
     "output_type": "stream",
     "text": [
      "<class 'tuple'>\n"
     ]
    }
   ],
   "source": [
    "print(type(vaccines))"
   ]
  },
  {
   "cell_type": "code",
   "execution_count": 175,
   "metadata": {
    "ExecuteTime": {
     "end_time": "2021-09-23T18:42:50.843931Z",
     "start_time": "2021-09-23T18:42:50.830924Z"
    }
   },
   "outputs": [
    {
     "data": {
      "text/plain": [
       "3"
      ]
     },
     "execution_count": 175,
     "metadata": {},
     "output_type": "execute_result"
    }
   ],
   "source": [
    "len(vaccines)"
   ]
  },
  {
   "cell_type": "code",
   "execution_count": 176,
   "metadata": {
    "ExecuteTime": {
     "end_time": "2021-09-23T18:42:51.351577Z",
     "start_time": "2021-09-23T18:42:51.335896Z"
    }
   },
   "outputs": [],
   "source": [
    "## Index and slicing will be done on the same way"
   ]
  },
  {
   "cell_type": "code",
   "execution_count": 177,
   "metadata": {
    "ExecuteTime": {
     "end_time": "2021-09-23T18:42:51.835420Z",
     "start_time": "2021-09-23T18:42:51.827378Z"
    }
   },
   "outputs": [
    {
     "data": {
      "text/plain": [
       "'Covaxin'"
      ]
     },
     "execution_count": 177,
     "metadata": {},
     "output_type": "execute_result"
    }
   ],
   "source": [
    "vaccines[0]"
   ]
  },
  {
   "cell_type": "code",
   "execution_count": 178,
   "metadata": {
    "ExecuteTime": {
     "end_time": "2021-09-23T18:42:52.321372Z",
     "start_time": "2021-09-23T18:42:52.300359Z"
    }
   },
   "outputs": [
    {
     "data": {
      "text/plain": [
       "'Sputnik'"
      ]
     },
     "execution_count": 178,
     "metadata": {},
     "output_type": "execute_result"
    }
   ],
   "source": [
    "vaccines[-1]"
   ]
  },
  {
   "cell_type": "code",
   "execution_count": 179,
   "metadata": {
    "ExecuteTime": {
     "end_time": "2021-09-23T18:42:53.165285Z",
     "start_time": "2021-09-23T18:42:53.150332Z"
    }
   },
   "outputs": [
    {
     "data": {
      "text/plain": [
       "('Covaxin', 'Covidshield')"
      ]
     },
     "execution_count": 179,
     "metadata": {},
     "output_type": "execute_result"
    }
   ],
   "source": [
    "vaccines[0:2] ## this is slicing"
   ]
  },
  {
   "cell_type": "code",
   "execution_count": 180,
   "metadata": {
    "ExecuteTime": {
     "end_time": "2021-09-23T18:42:53.843096Z",
     "start_time": "2021-09-23T18:42:53.831094Z"
    }
   },
   "outputs": [],
   "source": [
    "## in tupples only 2 operation can happend count and index. means we cannot add any element or delete\n",
    "## to see the advantages of tupple you will see in Functions. There you will see how the Tupples are used more effictively than the list "
   ]
  },
  {
   "cell_type": "code",
   "execution_count": 181,
   "metadata": {
    "ExecuteTime": {
     "end_time": "2021-09-23T18:42:54.376782Z",
     "start_time": "2021-09-23T18:42:54.358774Z"
    }
   },
   "outputs": [
    {
     "data": {
      "text/plain": [
       "1"
      ]
     },
     "execution_count": 181,
     "metadata": {},
     "output_type": "execute_result"
    }
   ],
   "source": [
    "vaccines.count('Covaxin')"
   ]
  },
  {
   "cell_type": "code",
   "execution_count": 183,
   "metadata": {
    "ExecuteTime": {
     "end_time": "2021-09-23T18:44:32.483384Z",
     "start_time": "2021-09-23T18:44:32.444495Z"
    }
   },
   "outputs": [
    {
     "ename": "TypeError",
     "evalue": "'tuple' object doesn't support item deletion",
     "output_type": "error",
     "traceback": [
      "\u001b[1;31m---------------------------------------------------------------------------\u001b[0m",
      "\u001b[1;31mTypeError\u001b[0m                                 Traceback (most recent call last)",
      "\u001b[1;32m<ipython-input-183-0ba4cfe3974e>\u001b[0m in \u001b[0;36m<module>\u001b[1;34m\u001b[0m\n\u001b[1;32m----> 1\u001b[1;33m \u001b[1;32mdel\u001b[0m \u001b[0mvaccines\u001b[0m\u001b[1;33m[\u001b[0m\u001b[1;36m0\u001b[0m\u001b[1;33m]\u001b[0m\u001b[1;33m\u001b[0m\u001b[1;33m\u001b[0m\u001b[0m\n\u001b[0m\u001b[0;32m      2\u001b[0m \u001b[1;31m## this will gives you an error means once you create a tupple you cannot modified it.\u001b[0m\u001b[1;33m\u001b[0m\u001b[1;33m\u001b[0m\u001b[1;33m\u001b[0m\u001b[0m\n\u001b[0;32m      3\u001b[0m \u001b[1;31m## TypeError: 'tuple' object doesn't support item deletion\u001b[0m\u001b[1;33m\u001b[0m\u001b[1;33m\u001b[0m\u001b[1;33m\u001b[0m\u001b[0m\n",
      "\u001b[1;31mTypeError\u001b[0m: 'tuple' object doesn't support item deletion"
     ]
    }
   ],
   "source": [
    "del vaccines[0]\n",
    "## this will gives you an error means once you create a tupple you cannot modified it.\n",
    "## TypeError: 'tuple' object doesn't support item deletion"
   ]
  },
  {
   "cell_type": "code",
   "execution_count": 184,
   "metadata": {
    "ExecuteTime": {
     "end_time": "2021-09-23T18:45:15.046082Z",
     "start_time": "2021-09-23T18:45:15.036092Z"
    }
   },
   "outputs": [],
   "source": [
    "## we can delete the whole tupple from the memory but you cannot delete it element wise"
   ]
  },
  {
   "cell_type": "markdown",
   "metadata": {},
   "source": [
    "## Packing"
   ]
  },
  {
   "cell_type": "code",
   "execution_count": 185,
   "metadata": {
    "ExecuteTime": {
     "end_time": "2021-09-23T18:53:43.836132Z",
     "start_time": "2021-09-23T18:53:43.782278Z"
    }
   },
   "outputs": [],
   "source": [
    "rs = \"Rohit\",39,'MUM'"
   ]
  },
  {
   "cell_type": "code",
   "execution_count": 186,
   "metadata": {
    "ExecuteTime": {
     "end_time": "2021-09-23T18:54:11.401420Z",
     "start_time": "2021-09-23T18:54:11.388422Z"
    }
   },
   "outputs": [
    {
     "data": {
      "text/plain": [
       "tuple"
      ]
     },
     "execution_count": 186,
     "metadata": {},
     "output_type": "execute_result"
    }
   ],
   "source": [
    "type(rs)"
   ]
  },
  {
   "cell_type": "code",
   "execution_count": 187,
   "metadata": {
    "ExecuteTime": {
     "end_time": "2021-09-23T18:54:39.261019Z",
     "start_time": "2021-09-23T18:54:39.243036Z"
    }
   },
   "outputs": [
    {
     "name": "stdout",
     "output_type": "stream",
     "text": [
      "<class 'tuple'>\n"
     ]
    }
   ],
   "source": [
    "print(type(rs))"
   ]
  },
  {
   "cell_type": "code",
   "execution_count": 188,
   "metadata": {
    "ExecuteTime": {
     "end_time": "2021-09-23T18:55:25.355376Z",
     "start_time": "2021-09-23T18:55:25.309500Z"
    }
   },
   "outputs": [],
   "source": [
    "name, age, team ='Virat',35,'RCB'"
   ]
  },
  {
   "cell_type": "code",
   "execution_count": 189,
   "metadata": {
    "ExecuteTime": {
     "end_time": "2021-09-23T18:55:27.393553Z",
     "start_time": "2021-09-23T18:55:27.373561Z"
    }
   },
   "outputs": [
    {
     "data": {
      "text/plain": [
       "'Virat'"
      ]
     },
     "execution_count": 189,
     "metadata": {},
     "output_type": "execute_result"
    }
   ],
   "source": [
    "name"
   ]
  },
  {
   "cell_type": "code",
   "execution_count": 190,
   "metadata": {
    "ExecuteTime": {
     "end_time": "2021-09-23T18:55:29.181403Z",
     "start_time": "2021-09-23T18:55:29.168355Z"
    }
   },
   "outputs": [
    {
     "data": {
      "text/plain": [
       "35"
      ]
     },
     "execution_count": 190,
     "metadata": {},
     "output_type": "execute_result"
    }
   ],
   "source": [
    "age"
   ]
  },
  {
   "cell_type": "code",
   "execution_count": 191,
   "metadata": {
    "ExecuteTime": {
     "end_time": "2021-09-23T18:55:33.402421Z",
     "start_time": "2021-09-23T18:55:33.383468Z"
    }
   },
   "outputs": [
    {
     "data": {
      "text/plain": [
       "'RCB'"
      ]
     },
     "execution_count": 191,
     "metadata": {},
     "output_type": "execute_result"
    }
   ],
   "source": [
    "team"
   ]
  },
  {
   "cell_type": "code",
   "execution_count": 193,
   "metadata": {
    "ExecuteTime": {
     "end_time": "2021-09-23T18:56:56.040912Z",
     "start_time": "2021-09-23T18:56:56.023965Z"
    }
   },
   "outputs": [
    {
     "ename": "ValueError",
     "evalue": "too many values to unpack (expected 3)",
     "output_type": "error",
     "traceback": [
      "\u001b[1;31m---------------------------------------------------------------------------\u001b[0m",
      "\u001b[1;31mValueError\u001b[0m                                Traceback (most recent call last)",
      "\u001b[1;32m<ipython-input-193-b2f5adf114fd>\u001b[0m in \u001b[0;36m<module>\u001b[1;34m\u001b[0m\n\u001b[1;32m----> 1\u001b[1;33m \u001b[0mname\u001b[0m\u001b[1;33m,\u001b[0m \u001b[0mage\u001b[0m\u001b[1;33m,\u001b[0m \u001b[0mteam\u001b[0m \u001b[1;33m=\u001b[0m\u001b[1;34m'Virat'\u001b[0m\u001b[1;33m,\u001b[0m\u001b[1;36m35\u001b[0m\u001b[1;33m,\u001b[0m\u001b[1;34m'RCB'\u001b[0m\u001b[1;33m,\u001b[0m\u001b[1;34m'India'\u001b[0m\u001b[1;33m\u001b[0m\u001b[1;33m\u001b[0m\u001b[0m\n\u001b[0m\u001b[0;32m      2\u001b[0m \u001b[1;31m## this will gives error as we don't have full packed here\u001b[0m\u001b[1;33m\u001b[0m\u001b[1;33m\u001b[0m\u001b[1;33m\u001b[0m\u001b[0m\n",
      "\u001b[1;31mValueError\u001b[0m: too many values to unpack (expected 3)"
     ]
    }
   ],
   "source": [
    "name, age, team ='Virat',35,'RCB','India'\n",
    "## this will gives error as we don't have full packed here"
   ]
  },
  {
   "cell_type": "code",
   "execution_count": 194,
   "metadata": {
    "ExecuteTime": {
     "end_time": "2021-09-23T18:57:06.499128Z",
     "start_time": "2021-09-23T18:57:06.485164Z"
    }
   },
   "outputs": [],
   "source": [
    "name, age, *team ='Virat',35,'RCB','India'"
   ]
  },
  {
   "cell_type": "code",
   "execution_count": 195,
   "metadata": {
    "ExecuteTime": {
     "end_time": "2021-09-23T18:57:08.370212Z",
     "start_time": "2021-09-23T18:57:08.357211Z"
    }
   },
   "outputs": [
    {
     "data": {
      "text/plain": [
       "'Virat'"
      ]
     },
     "execution_count": 195,
     "metadata": {},
     "output_type": "execute_result"
    }
   ],
   "source": [
    "name"
   ]
  },
  {
   "cell_type": "code",
   "execution_count": 196,
   "metadata": {
    "ExecuteTime": {
     "end_time": "2021-09-23T18:57:11.756702Z",
     "start_time": "2021-09-23T18:57:11.746730Z"
    }
   },
   "outputs": [
    {
     "data": {
      "text/plain": [
       "35"
      ]
     },
     "execution_count": 196,
     "metadata": {},
     "output_type": "execute_result"
    }
   ],
   "source": [
    "age"
   ]
  },
  {
   "cell_type": "code",
   "execution_count": 200,
   "metadata": {
    "ExecuteTime": {
     "end_time": "2021-09-23T18:58:58.226772Z",
     "start_time": "2021-09-23T18:58:58.222751Z"
    }
   },
   "outputs": [
    {
     "data": {
      "text/plain": [
       "['RCB', 'India']"
      ]
     },
     "execution_count": 200,
     "metadata": {},
     "output_type": "execute_result"
    }
   ],
   "source": [
    "team\n",
    "## ignore this time we see in future when we see tupples in more details with functions"
   ]
  },
  {
   "cell_type": "markdown",
   "metadata": {},
   "source": [
    "## List in a Tuple"
   ]
  },
  {
   "cell_type": "code",
   "execution_count": 201,
   "metadata": {
    "ExecuteTime": {
     "end_time": "2021-09-23T19:00:14.255697Z",
     "start_time": "2021-09-23T19:00:14.227731Z"
    }
   },
   "outputs": [],
   "source": [
    "player = ('Virat','RCB',[100,120,45,60], 'Test')"
   ]
  },
  {
   "cell_type": "code",
   "execution_count": 202,
   "metadata": {
    "ExecuteTime": {
     "end_time": "2021-09-23T19:00:34.566951Z",
     "start_time": "2021-09-23T19:00:34.549971Z"
    }
   },
   "outputs": [
    {
     "name": "stdout",
     "output_type": "stream",
     "text": [
      "<class 'tuple'>\n"
     ]
    }
   ],
   "source": [
    "print(type(player))"
   ]
  },
  {
   "cell_type": "code",
   "execution_count": 203,
   "metadata": {
    "ExecuteTime": {
     "end_time": "2021-09-23T19:01:21.056205Z",
     "start_time": "2021-09-23T19:01:21.042217Z"
    }
   },
   "outputs": [
    {
     "data": {
      "text/plain": [
       "[100, 120, 45, 60]"
      ]
     },
     "execution_count": 203,
     "metadata": {},
     "output_type": "execute_result"
    }
   ],
   "source": [
    "player[2]"
   ]
  },
  {
   "cell_type": "code",
   "execution_count": 205,
   "metadata": {
    "ExecuteTime": {
     "end_time": "2021-09-23T19:02:42.774757Z",
     "start_time": "2021-09-23T19:02:42.699003Z"
    }
   },
   "outputs": [
    {
     "ename": "TypeError",
     "evalue": "'tuple' object does not support item assignment",
     "output_type": "error",
     "traceback": [
      "\u001b[1;31m---------------------------------------------------------------------------\u001b[0m",
      "\u001b[1;31mTypeError\u001b[0m                                 Traceback (most recent call last)",
      "\u001b[1;32m<ipython-input-205-3632ca096cae>\u001b[0m in \u001b[0;36m<module>\u001b[1;34m\u001b[0m\n\u001b[1;32m----> 1\u001b[1;33m \u001b[0mplayer\u001b[0m\u001b[1;33m[\u001b[0m\u001b[1;36m0\u001b[0m\u001b[1;33m]\u001b[0m\u001b[1;33m=\u001b[0m\u001b[1;34m'Virat Kohli'\u001b[0m\u001b[1;33m\u001b[0m\u001b[1;33m\u001b[0m\u001b[0m\n\u001b[0m\u001b[0;32m      2\u001b[0m \u001b[1;31m#3 this will gives error as tuple is immutable means once you create a tuple you cannot modified\u001b[0m\u001b[1;33m\u001b[0m\u001b[1;33m\u001b[0m\u001b[1;33m\u001b[0m\u001b[0m\n",
      "\u001b[1;31mTypeError\u001b[0m: 'tuple' object does not support item assignment"
     ]
    }
   ],
   "source": [
    "player[0]='Virat Kohli'\n",
    "#3 this will gives error as tuple is immutable means once you create a tuple you cannot modified "
   ]
  },
  {
   "cell_type": "code",
   "execution_count": 206,
   "metadata": {
    "ExecuteTime": {
     "end_time": "2021-09-23T19:02:58.968796Z",
     "start_time": "2021-09-23T19:02:58.951844Z"
    }
   },
   "outputs": [
    {
     "data": {
      "text/plain": [
       "[100, 120, 45, 60]"
      ]
     },
     "execution_count": 206,
     "metadata": {},
     "output_type": "execute_result"
    }
   ],
   "source": [
    "player[2]"
   ]
  },
  {
   "cell_type": "code",
   "execution_count": 207,
   "metadata": {
    "ExecuteTime": {
     "end_time": "2021-09-23T19:03:20.661898Z",
     "start_time": "2021-09-23T19:03:20.657908Z"
    }
   },
   "outputs": [],
   "source": [
    "player[2].append(111)\n",
    "## so here we are addresing the list to be append so it will get modified as inside the tuple there is a element list present in it but you cannot modified the tuple individiual.OK\n",
    "# this is a interview question what is mutable and immutable"
   ]
  },
  {
   "cell_type": "code",
   "execution_count": 208,
   "metadata": {
    "ExecuteTime": {
     "end_time": "2021-09-23T19:03:25.921729Z",
     "start_time": "2021-09-23T19:03:25.889970Z"
    }
   },
   "outputs": [
    {
     "data": {
      "text/plain": [
       "[100, 120, 45, 60, 111]"
      ]
     },
     "execution_count": 208,
     "metadata": {},
     "output_type": "execute_result"
    }
   ],
   "source": [
    "player[2]"
   ]
  },
  {
   "cell_type": "code",
   "execution_count": 209,
   "metadata": {
    "ExecuteTime": {
     "end_time": "2021-09-23T19:03:30.669939Z",
     "start_time": "2021-09-23T19:03:30.649997Z"
    }
   },
   "outputs": [
    {
     "data": {
      "text/plain": [
       "('Virat', 'RCB', [100, 120, 45, 60, 111], 'Test')"
      ]
     },
     "execution_count": 209,
     "metadata": {},
     "output_type": "execute_result"
    }
   ],
   "source": [
    "player"
   ]
  },
  {
   "cell_type": "markdown",
   "metadata": {},
   "source": [
    "# IN Operator"
   ]
  },
  {
   "cell_type": "code",
   "execution_count": 210,
   "metadata": {
    "ExecuteTime": {
     "end_time": "2021-09-23T19:06:54.985899Z",
     "start_time": "2021-09-23T19:06:54.972947Z"
    }
   },
   "outputs": [
    {
     "data": {
      "text/plain": [
       "('Virat', 'RCB', [100, 120, 45, 60, 111], 'Test')"
      ]
     },
     "execution_count": 210,
     "metadata": {},
     "output_type": "execute_result"
    }
   ],
   "source": [
    "player"
   ]
  },
  {
   "cell_type": "code",
   "execution_count": 212,
   "metadata": {
    "ExecuteTime": {
     "end_time": "2021-09-23T19:08:12.591364Z",
     "start_time": "2021-09-23T19:08:12.579436Z"
    }
   },
   "outputs": [],
   "source": [
    "## I want to check if the element Virat exist in this layer"
   ]
  },
  {
   "cell_type": "code",
   "execution_count": 213,
   "metadata": {
    "ExecuteTime": {
     "end_time": "2021-09-23T19:08:38.389425Z",
     "start_time": "2021-09-23T19:08:38.000312Z"
    }
   },
   "outputs": [
    {
     "data": {
      "text/plain": [
       "True"
      ]
     },
     "execution_count": 213,
     "metadata": {},
     "output_type": "execute_result"
    }
   ],
   "source": [
    "\"Virat\" in player"
   ]
  },
  {
   "cell_type": "code",
   "execution_count": 214,
   "metadata": {
    "ExecuteTime": {
     "end_time": "2021-09-23T19:08:58.563885Z",
     "start_time": "2021-09-23T19:08:58.548304Z"
    }
   },
   "outputs": [
    {
     "data": {
      "text/plain": [
       "False"
      ]
     },
     "execution_count": 214,
     "metadata": {},
     "output_type": "execute_result"
    }
   ],
   "source": [
    "'Rohit' in player"
   ]
  },
  {
   "cell_type": "code",
   "execution_count": 215,
   "metadata": {
    "ExecuteTime": {
     "end_time": "2021-09-23T19:09:07.829126Z",
     "start_time": "2021-09-23T19:09:07.814196Z"
    }
   },
   "outputs": [
    {
     "data": {
      "text/plain": [
       "False"
      ]
     },
     "execution_count": 215,
     "metadata": {},
     "output_type": "execute_result"
    }
   ],
   "source": [
    "'Dhoni' in player"
   ]
  },
  {
   "cell_type": "code",
   "execution_count": 216,
   "metadata": {
    "ExecuteTime": {
     "end_time": "2021-09-23T19:09:26.144130Z",
     "start_time": "2021-09-23T19:09:26.137149Z"
    }
   },
   "outputs": [
    {
     "data": {
      "text/plain": [
       "True"
      ]
     },
     "execution_count": 216,
     "metadata": {},
     "output_type": "execute_result"
    }
   ],
   "source": [
    "'Dhoni' not in player"
   ]
  },
  {
   "cell_type": "code",
   "execution_count": 217,
   "metadata": {
    "ExecuteTime": {
     "end_time": "2021-09-23T19:09:43.727215Z",
     "start_time": "2021-09-23T19:09:43.692349Z"
    }
   },
   "outputs": [],
   "source": [
    "s ='WELCOME'"
   ]
  },
  {
   "cell_type": "code",
   "execution_count": 218,
   "metadata": {
    "ExecuteTime": {
     "end_time": "2021-09-23T19:09:45.929035Z",
     "start_time": "2021-09-23T19:09:45.922056Z"
    }
   },
   "outputs": [
    {
     "data": {
      "text/plain": [
       "'WELCOME'"
      ]
     },
     "execution_count": 218,
     "metadata": {},
     "output_type": "execute_result"
    }
   ],
   "source": [
    "s"
   ]
  },
  {
   "cell_type": "code",
   "execution_count": 219,
   "metadata": {
    "ExecuteTime": {
     "end_time": "2021-09-23T19:09:53.496156Z",
     "start_time": "2021-09-23T19:09:53.490163Z"
    }
   },
   "outputs": [
    {
     "data": {
      "text/plain": [
       "True"
      ]
     },
     "execution_count": 219,
     "metadata": {},
     "output_type": "execute_result"
    }
   ],
   "source": [
    "'W' in s"
   ]
  },
  {
   "cell_type": "code",
   "execution_count": 220,
   "metadata": {
    "ExecuteTime": {
     "end_time": "2021-09-23T19:10:00.290932Z",
     "start_time": "2021-09-23T19:10:00.270945Z"
    }
   },
   "outputs": [
    {
     "data": {
      "text/plain": [
       "False"
      ]
     },
     "execution_count": 220,
     "metadata": {},
     "output_type": "execute_result"
    }
   ],
   "source": [
    "'Y' in s"
   ]
  },
  {
   "cell_type": "code",
   "execution_count": 221,
   "metadata": {
    "ExecuteTime": {
     "end_time": "2021-09-23T19:10:19.802375Z",
     "start_time": "2021-09-23T19:10:19.785422Z"
    }
   },
   "outputs": [
    {
     "data": {
      "text/plain": [
       "True"
      ]
     },
     "execution_count": 221,
     "metadata": {},
     "output_type": "execute_result"
    }
   ],
   "source": [
    "'a' not in s"
   ]
  },
  {
   "cell_type": "code",
   "execution_count": 222,
   "metadata": {
    "ExecuteTime": {
     "end_time": "2021-09-23T19:10:26.608628Z",
     "start_time": "2021-09-23T19:10:26.564736Z"
    }
   },
   "outputs": [
    {
     "data": {
      "text/plain": [
       "['Scala', 'Ruby', 'Perl', 'Java', 'Cpp']"
      ]
     },
     "execution_count": 222,
     "metadata": {},
     "output_type": "execute_result"
    }
   ],
   "source": [
    "languages"
   ]
  },
  {
   "cell_type": "code",
   "execution_count": 223,
   "metadata": {
    "ExecuteTime": {
     "end_time": "2021-09-23T19:10:42.036799Z",
     "start_time": "2021-09-23T19:10:42.029819Z"
    }
   },
   "outputs": [
    {
     "data": {
      "text/plain": [
       "True"
      ]
     },
     "execution_count": 223,
     "metadata": {},
     "output_type": "execute_result"
    }
   ],
   "source": [
    "'Ruby' in languages"
   ]
  },
  {
   "cell_type": "code",
   "execution_count": 224,
   "metadata": {
    "ExecuteTime": {
     "end_time": "2021-09-23T19:10:55.972512Z",
     "start_time": "2021-09-23T19:10:55.966512Z"
    }
   },
   "outputs": [
    {
     "data": {
      "text/plain": [
       "False"
      ]
     },
     "execution_count": 224,
     "metadata": {},
     "output_type": "execute_result"
    }
   ],
   "source": [
    "'Python' in languages"
   ]
  },
  {
   "cell_type": "markdown",
   "metadata": {},
   "source": [
    "# Misc - Strings"
   ]
  },
  {
   "cell_type": "code",
   "execution_count": 227,
   "metadata": {
    "ExecuteTime": {
     "end_time": "2021-09-23T19:11:52.825492Z",
     "start_time": "2021-09-23T19:11:52.769601Z"
    }
   },
   "outputs": [],
   "source": [
    "location ='C:\\newfolder'"
   ]
  },
  {
   "cell_type": "code",
   "execution_count": 229,
   "metadata": {
    "ExecuteTime": {
     "end_time": "2021-09-23T19:13:06.364679Z",
     "start_time": "2021-09-23T19:13:06.356669Z"
    }
   },
   "outputs": [],
   "source": [
    "## :\\n will always stored in new line"
   ]
  },
  {
   "cell_type": "code",
   "execution_count": 228,
   "metadata": {
    "ExecuteTime": {
     "end_time": "2021-09-23T19:11:53.290738Z",
     "start_time": "2021-09-23T19:11:53.280771Z"
    }
   },
   "outputs": [
    {
     "name": "stdout",
     "output_type": "stream",
     "text": [
      "C:\n",
      "ewfolder\n"
     ]
    }
   ],
   "source": [
    "print(location)"
   ]
  },
  {
   "cell_type": "code",
   "execution_count": 230,
   "metadata": {
    "ExecuteTime": {
     "end_time": "2021-09-23T19:14:10.539716Z",
     "start_time": "2021-09-23T19:14:10.534731Z"
    }
   },
   "outputs": [],
   "source": [
    "location ='C:\\\\newfolder'"
   ]
  },
  {
   "cell_type": "code",
   "execution_count": 231,
   "metadata": {
    "ExecuteTime": {
     "end_time": "2021-09-23T19:14:13.425555Z",
     "start_time": "2021-09-23T19:14:13.410562Z"
    }
   },
   "outputs": [
    {
     "data": {
      "text/plain": [
       "'C:\\\\newfolder'"
      ]
     },
     "execution_count": 231,
     "metadata": {},
     "output_type": "execute_result"
    }
   ],
   "source": [
    "location"
   ]
  },
  {
   "cell_type": "code",
   "execution_count": 232,
   "metadata": {
    "ExecuteTime": {
     "end_time": "2021-09-23T19:14:28.195069Z",
     "start_time": "2021-09-23T19:14:28.178113Z"
    }
   },
   "outputs": [
    {
     "name": "stdout",
     "output_type": "stream",
     "text": [
      "C:\\newfolder\n"
     ]
    }
   ],
   "source": [
    "print(location)"
   ]
  },
  {
   "cell_type": "code",
   "execution_count": 233,
   "metadata": {
    "ExecuteTime": {
     "end_time": "2021-09-23T19:14:57.324999Z",
     "start_time": "2021-09-23T19:14:57.316979Z"
    }
   },
   "outputs": [],
   "source": [
    "location = r\"C:\\newfolder\""
   ]
  },
  {
   "cell_type": "code",
   "execution_count": 234,
   "metadata": {
    "ExecuteTime": {
     "end_time": "2021-09-23T19:15:58.563824Z",
     "start_time": "2021-09-23T19:15:58.549826Z"
    }
   },
   "outputs": [],
   "source": [
    "# r-> Raw String. This means treat the string as it is. Don't escape any characters"
   ]
  },
  {
   "cell_type": "code",
   "execution_count": 235,
   "metadata": {
    "ExecuteTime": {
     "end_time": "2021-09-23T19:16:11.344362Z",
     "start_time": "2021-09-23T19:16:11.339399Z"
    }
   },
   "outputs": [
    {
     "name": "stdout",
     "output_type": "stream",
     "text": [
      "C:\\newfolder\n"
     ]
    }
   ],
   "source": [
    "print(location)"
   ]
  },
  {
   "cell_type": "markdown",
   "metadata": {},
   "source": [
    "# Format "
   ]
  },
  {
   "cell_type": "code",
   "execution_count": 236,
   "metadata": {
    "ExecuteTime": {
     "end_time": "2021-09-23T19:16:57.701138Z",
     "start_time": "2021-09-23T19:16:57.698189Z"
    }
   },
   "outputs": [],
   "source": [
    "## Important to learn this for python"
   ]
  },
  {
   "cell_type": "code",
   "execution_count": 248,
   "metadata": {
    "ExecuteTime": {
     "end_time": "2021-09-23T19:22:40.029709Z",
     "start_time": "2021-09-23T19:22:40.014748Z"
    }
   },
   "outputs": [],
   "source": [
    "sessioncount =10"
   ]
  },
  {
   "cell_type": "code",
   "execution_count": 238,
   "metadata": {
    "ExecuteTime": {
     "end_time": "2021-09-23T19:17:15.281986Z",
     "start_time": "2021-09-23T19:17:15.244050Z"
    }
   },
   "outputs": [],
   "source": [
    "chapters = 8"
   ]
  },
  {
   "cell_type": "code",
   "execution_count": 240,
   "metadata": {
    "ExecuteTime": {
     "end_time": "2021-09-23T19:18:10.063829Z",
     "start_time": "2021-09-23T19:18:10.055851Z"
    }
   },
   "outputs": [
    {
     "name": "stdout",
     "output_type": "stream",
     "text": [
      "8\n"
     ]
    }
   ],
   "source": [
    "print(chapters)"
   ]
  },
  {
   "cell_type": "code",
   "execution_count": 241,
   "metadata": {
    "ExecuteTime": {
     "end_time": "2021-09-23T19:18:28.504415Z",
     "start_time": "2021-09-23T19:18:28.274358Z"
    }
   },
   "outputs": [
    {
     "name": "stdout",
     "output_type": "stream",
     "text": [
      "8\n"
     ]
    }
   ],
   "source": [
    "print(str(chapters))"
   ]
  },
  {
   "cell_type": "code",
   "execution_count": 243,
   "metadata": {
    "ExecuteTime": {
     "end_time": "2021-09-23T19:19:35.368764Z",
     "start_time": "2021-09-23T19:19:35.081369Z"
    }
   },
   "outputs": [
    {
     "ename": "TypeError",
     "evalue": "can only concatenate str (not \"int\") to str",
     "output_type": "error",
     "traceback": [
      "\u001b[1;31m---------------------------------------------------------------------------\u001b[0m",
      "\u001b[1;31mTypeError\u001b[0m                                 Traceback (most recent call last)",
      "\u001b[1;32m<ipython-input-243-2ae6dc1c686c>\u001b[0m in \u001b[0;36m<module>\u001b[1;34m\u001b[0m\n\u001b[1;32m----> 1\u001b[1;33m \u001b[0mmsg\u001b[0m \u001b[1;33m=\u001b[0m\u001b[1;34m'There will be'\u001b[0m \u001b[1;33m+\u001b[0m \u001b[0mchapters\u001b[0m\u001b[1;33m\u001b[0m\u001b[1;33m\u001b[0m\u001b[0m\n\u001b[0m\u001b[0;32m      2\u001b[0m \u001b[1;31m## here error will come as There will be an string and chapters is a integer\u001b[0m\u001b[1;33m\u001b[0m\u001b[1;33m\u001b[0m\u001b[1;33m\u001b[0m\u001b[0m\n",
      "\u001b[1;31mTypeError\u001b[0m: can only concatenate str (not \"int\") to str"
     ]
    }
   ],
   "source": [
    "msg ='There will be' + chapters\n",
    "## here error will come as There will be an string and chapters is a integer"
   ]
  },
  {
   "cell_type": "code",
   "execution_count": 244,
   "metadata": {
    "ExecuteTime": {
     "end_time": "2021-09-23T19:19:50.443635Z",
     "start_time": "2021-09-23T19:19:50.434659Z"
    }
   },
   "outputs": [],
   "source": [
    "# so to over the above problem"
   ]
  },
  {
   "cell_type": "code",
   "execution_count": 249,
   "metadata": {
    "ExecuteTime": {
     "end_time": "2021-09-23T19:22:48.533414Z",
     "start_time": "2021-09-23T19:22:48.524443Z"
    }
   },
   "outputs": [],
   "source": [
    "msg ='There will be ' + str(chapters)+ 'Chapters in the course,spanned across'+ str(sessioncount) +'sessions.'"
   ]
  },
  {
   "cell_type": "code",
   "execution_count": 250,
   "metadata": {
    "ExecuteTime": {
     "end_time": "2021-09-23T19:22:59.840437Z",
     "start_time": "2021-09-23T19:22:59.832438Z"
    }
   },
   "outputs": [
    {
     "name": "stdout",
     "output_type": "stream",
     "text": [
      "There will be8Chapters in the course,spanned across10sessions.\n"
     ]
    }
   ],
   "source": [
    "print(msg)"
   ]
  },
  {
   "cell_type": "code",
   "execution_count": null,
   "metadata": {},
   "outputs": [],
   "source": [
    "#Format function"
   ]
  },
  {
   "cell_type": "code",
   "execution_count": 253,
   "metadata": {
    "ExecuteTime": {
     "end_time": "2021-09-23T19:26:17.586083Z",
     "start_time": "2021-09-23T19:26:17.579115Z"
    }
   },
   "outputs": [],
   "source": [
    "fmsg = 'There will be {} Chapters in the course,spanned across {} sessions.'.format(chapters,sessioncount)"
   ]
  },
  {
   "cell_type": "code",
   "execution_count": 254,
   "metadata": {
    "ExecuteTime": {
     "end_time": "2021-09-23T19:26:17.962878Z",
     "start_time": "2021-09-23T19:26:17.958887Z"
    }
   },
   "outputs": [
    {
     "name": "stdout",
     "output_type": "stream",
     "text": [
      "There will be 8 Chapters in the course,spanned across 10 sessions.\n"
     ]
    }
   ],
   "source": [
    "print(fmsg)"
   ]
  },
  {
   "cell_type": "code",
   "execution_count": 255,
   "metadata": {
    "ExecuteTime": {
     "end_time": "2021-09-23T19:29:01.879985Z",
     "start_time": "2021-09-23T19:29:01.868015Z"
    }
   },
   "outputs": [],
   "source": [
    "## so define a string and where you want to replace you put curle brackets and pased it to the formate function. This formate function is a function inside a string class"
   ]
  },
  {
   "cell_type": "code",
   "execution_count": 256,
   "metadata": {
    "ExecuteTime": {
     "end_time": "2021-09-23T19:31:49.945494Z",
     "start_time": "2021-09-23T19:31:49.938511Z"
    }
   },
   "outputs": [],
   "source": [
    "fmsg = 'There will be {} Chapters in the course,spanned across {} sessions.The {} sessions are scheduled over weekday'.format(chapters,sessioncount,sessioncount)"
   ]
  },
  {
   "cell_type": "code",
   "execution_count": 258,
   "metadata": {
    "ExecuteTime": {
     "end_time": "2021-09-23T19:32:02.957499Z",
     "start_time": "2021-09-23T19:32:02.947487Z"
    }
   },
   "outputs": [
    {
     "name": "stdout",
     "output_type": "stream",
     "text": [
      "There will be 8 Chapters in the course,spanned across 10 sessions.The 10 sessions are scheduled over weekday\n"
     ]
    }
   ],
   "source": [
    "print(fmsg)"
   ]
  },
  {
   "cell_type": "code",
   "execution_count": 259,
   "metadata": {
    "ExecuteTime": {
     "end_time": "2021-09-23T19:32:40.019719Z",
     "start_time": "2021-09-23T19:32:40.004030Z"
    }
   },
   "outputs": [],
   "source": [
    "fmsg = 'There will be {0} Chapters in the course,spanned across {1} sessions.The {1} sessions are scheduled over weekday'.format(chapters,sessioncount)"
   ]
  },
  {
   "cell_type": "code",
   "execution_count": 260,
   "metadata": {
    "ExecuteTime": {
     "end_time": "2021-09-23T19:32:46.553907Z",
     "start_time": "2021-09-23T19:32:46.535916Z"
    }
   },
   "outputs": [
    {
     "name": "stdout",
     "output_type": "stream",
     "text": [
      "There will be 8 Chapters in the course,spanned across 10 sessions.The 10 sessions are scheduled over weekday\n"
     ]
    }
   ],
   "source": [
    "print(fmsg)"
   ]
  },
  {
   "cell_type": "code",
   "execution_count": null,
   "metadata": {},
   "outputs": [],
   "source": []
  }
 ],
 "metadata": {
  "kernelspec": {
   "display_name": "Python 3",
   "language": "python",
   "name": "python3"
  },
  "language_info": {
   "codemirror_mode": {
    "name": "ipython",
    "version": 3
   },
   "file_extension": ".py",
   "mimetype": "text/x-python",
   "name": "python",
   "nbconvert_exporter": "python",
   "pygments_lexer": "ipython3",
   "version": "3.8.8"
  },
  "toc": {
   "base_numbering": 1,
   "nav_menu": {},
   "number_sections": true,
   "sideBar": true,
   "skip_h1_title": false,
   "title_cell": "Table of Contents",
   "title_sidebar": "Contents",
   "toc_cell": false,
   "toc_position": {
    "height": "calc(100% - 180px)",
    "left": "10px",
    "top": "150px",
    "width": "303.837px"
   },
   "toc_section_display": true,
   "toc_window_display": false
  }
 },
 "nbformat": 4,
 "nbformat_minor": 4
}
