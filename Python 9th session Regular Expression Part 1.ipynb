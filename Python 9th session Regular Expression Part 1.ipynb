{
 "cells": [
  {
   "cell_type": "code",
   "execution_count": 3,
   "metadata": {
    "ExecuteTime": {
     "end_time": "2021-09-27T10:13:03.504965Z",
     "start_time": "2021-09-27T10:13:03.350687Z"
    }
   },
   "outputs": [
    {
     "name": "stdout",
     "output_type": "stream",
     "text": [
      "['', 'Welcome', 'to', 'Regex', 'Programing', 'using', 'Python']\n"
     ]
    }
   ],
   "source": [
    "s = ' Welcome to Regex Programing using Python'\n",
    "lstwords = s.split(' ') ## Split based on space means wheever there is a space split it\n",
    "print(lstwords)"
   ]
  },
  {
   "cell_type": "code",
   "execution_count": 4,
   "metadata": {
    "ExecuteTime": {
     "end_time": "2021-09-27T10:14:41.375525Z",
     "start_time": "2021-09-27T10:14:41.219428Z"
    }
   },
   "outputs": [
    {
     "name": "stdout",
     "output_type": "stream",
     "text": [
      "['', 'Welcome', 'to', 'Regex', '', 'Programing', '', 'using', 'Python']\n"
     ]
    }
   ],
   "source": [
    "s = ' Welcome to Regex  Programing  using Python' ## here we had provide a some extra space between regex, programing and using to some result will chamge tham the above problem or not\n",
    "lstwords = s.split(' ') ## Split based on space means wheever there is a space split it\n",
    "print(lstwords)"
   ]
  },
  {
   "cell_type": "code",
   "execution_count": 5,
   "metadata": {
    "ExecuteTime": {
     "end_time": "2021-09-27T10:16:47.334081Z",
     "start_time": "2021-09-27T10:16:47.320309Z"
    }
   },
   "outputs": [
    {
     "name": "stdout",
     "output_type": "stream",
     "text": [
      "['', 'Welcome', '8', '', 'to', 'Regex', '8Programing', '', 'using9', 'Python']\n"
     ]
    }
   ],
   "source": [
    "s = ' Welcome 8  to Regex 8Programing  using9 Python'\n",
    "lstwords = s.split(' ')\n",
    "print(lstwords)"
   ]
  },
  {
   "cell_type": "markdown",
   "metadata": {},
   "source": [
    "# Regex => Regular Expression"
   ]
  },
  {
   "cell_type": "code",
   "execution_count": 7,
   "metadata": {
    "ExecuteTime": {
     "end_time": "2021-09-27T11:21:51.071626Z",
     "start_time": "2021-09-27T11:21:50.958260Z"
    }
   },
   "outputs": [],
   "source": [
    "## It may be defined as Pattern matching. Given a string or text from that you want to extract some information.\n",
    "## This regular expression helps us to write a pattern & extract some information\n",
    "## This is also called as another language\n",
    "## Syntax(this will remain same whatever programming language ou used the regular expression syntax will remain the same. Means the pattern to extract the string will remain the same whether you work in Python or any another language)\n",
    "## grep command used in lunix for Global Regular Expression Print"
   ]
  },
  {
   "cell_type": "markdown",
   "metadata": {},
   "source": [
    "* In Regular Expression there are two thing - 1) Identifiers & 2) Modifiers\n",
    "* Identifiers -> Identifiers bassically to tells us that what information we are looking what for. So in a given string are we looking for numbers, are we looking for any character, are we looking for any dots/ any pattern. So here is some Synax, these are Regular expression syntax. These syntax which are common across all the languages.\n",
    "* \\d Any Number \n",
    "* \\D Anything but a number\n",
    "* \\s Space\n",
    "* \\S Anything but a Space\n",
    "* \\w Any Character \n",
    "* \\W Anything but a Character\n",
    "* . Any character, expect  for a newline\n",
    "* \\b The whitespace around Words\n",
    "* \\. a period"
   ]
  },
  {
   "cell_type": "markdown",
   "metadata": {},
   "source": [
    "* Modifiers: (To look for count) Now there are 10 numbers are there in the text or there could be 10 digit no in the text. Than how do we specify that one. So those are all specified by Modifiers.  So these modifiers are used along with the Identifiers most of the times.\n",
    "* {1,3}  Expecting 1-3 ex. \\d{1,3} -- this expression means that look for a number which is one digit or 2 digit or 3 digit\n",
    "* +      +Match 1 or more\n",
    "* ?      Match 0 or 1\n",
    "* *      *Match 0 or more \n",
    "* $      Match the end of the string \n",
    "* ^      Match the beginning of the string\n",
    "* |      Either or \n",
    "* []     range or 'variance' [A-Z], [A - Za - z], [1,5], [1-5a-eA-Z]\n",
    "* {n}    Expecting 'n' amount ex. \\d {4}"
   ]
  },
  {
   "cell_type": "markdown",
   "metadata": {},
   "source": [
    "* White Space Characters:\n",
    "* \\n  new line\n",
    "* \\s  space\n",
    "* \\t  tab\n",
    "* \\e  escape\n",
    "* \\f  form feed\n",
    "* \\r  carriage return"
   ]
  },
  {
   "cell_type": "markdown",
   "metadata": {},
   "source": [
    "* DON'T FORGET THE BELOW CHARACTERS (Use Escape Characters to use them)\n",
    "* . + * ? [] $ ^ () {} | \\"
   ]
  },
  {
   "cell_type": "markdown",
   "metadata": {},
   "source": [
    "##"
   ]
  },
  {
   "cell_type": "code",
   "execution_count": 8,
   "metadata": {
    "ExecuteTime": {
     "end_time": "2021-09-27T12:17:44.065731Z",
     "start_time": "2021-09-27T12:17:43.385599Z"
    }
   },
   "outputs": [],
   "source": [
    "import re"
   ]
  },
  {
   "cell_type": "code",
   "execution_count": null,
   "metadata": {},
   "outputs": [],
   "source": [
    "s = ' Welcome to  Regex  Programing  using Python'\n",
    " print('The value of s :',s) \n",
    "## here we want to extract the value of s for the value print command \n",
    "## So how will solve this problem\n",
    "lstValues = re.split(r'', s)\n",
    "## What is raw string? ---- To consider raw as it is or It will print the value as it is when we usr raw string otherwise it will print in the new line letter without using raw string i.e r''\n",
    "\n",
    "## Google Defination-- Python raw string is created by prefixing a string literal with 'r' or 'R'. Python raw string treats backslash (\\) as a literal character. \n",
    "##This is useful when we want to have a string that contains backslash and don't want it to be treated as an escape character.\n"
   ]
  },
  {
   "cell_type": "code",
   "execution_count": 15,
   "metadata": {
    "ExecuteTime": {
     "end_time": "2021-09-27T12:32:01.157486Z",
     "start_time": "2021-09-27T12:32:01.100867Z"
    }
   },
   "outputs": [
    {
     "name": "stdout",
     "output_type": "stream",
     "text": [
      "The value of s : Welcome to  Regex  Programing  using Python\n",
      "Regex split using \\s : ['Welcome', 'to', '', 'Regex', '', 'Programing', '', 'using', 'Python']\n"
     ]
    }
   ],
   "source": [
    "## here we want to extract the value of s for the value print command \n",
    "## So how will solve this problem\n",
    "\n",
    "s = 'Welcome to  Regex  Programing  using Python'\n",
    "print('The value of s :',s) \n",
    "    \n",
    "lstValues = re.split(r'\\s', s)## Do a split on s based on space s we will use \\s from identifiers of regex\n",
    "print('Regex split using \\s :', lstValues)"
   ]
  },
  {
   "cell_type": "code",
   "execution_count": 16,
   "metadata": {
    "ExecuteTime": {
     "end_time": "2021-09-27T12:35:06.316298Z",
     "start_time": "2021-09-27T12:35:06.230709Z"
    }
   },
   "outputs": [],
   "source": [
    "## So in above output we didnot get the result as we expecting as there are spaces in between the words and that are also showing in the output so we will use a + from modifiers with \\s and lets see the result in next code "
   ]
  },
  {
   "cell_type": "code",
   "execution_count": 17,
   "metadata": {
    "ExecuteTime": {
     "end_time": "2021-09-27T12:37:23.432250Z",
     "start_time": "2021-09-27T12:37:23.293473Z"
    }
   },
   "outputs": [
    {
     "name": "stdout",
     "output_type": "stream",
     "text": [
      "The value of s : Welcome to  Regex  Programing  using Python\n",
      "Regex split using \\s : ['Welcome', 'to', '', 'Regex', '', 'Programing', '', 'using', 'Python']\n",
      "Regex split using \\s+ : ['Welcome', 'to', 'Regex', 'Programing', 'using', 'Python']\n"
     ]
    }
   ],
   "source": [
    "## here we want to extract the value of s for the value print command \n",
    "## So how will solve this problem\n",
    "\n",
    "    s = 'Welcome to  Regex  Programing  using Python'\n",
    "    print('The value of s :',s) \n",
    "\n",
    "    lstValues = re.split(r'\\s', s) ## So here means whenever you find a space do a split\n",
    "    print('Regex split using \\s :', lstValues)\n",
    "\n",
    "    lstValues = re.split(r'\\s+', s) ## so here it means whenever you find one or more space do a split\n",
    "    print('Regex split using \\s+ :', lstValues)"
   ]
  },
  {
   "cell_type": "code",
   "execution_count": 19,
   "metadata": {
    "ExecuteTime": {
     "end_time": "2021-09-27T12:46:20.712362Z",
     "start_time": "2021-09-27T12:46:19.800215Z"
    }
   },
   "outputs": [
    {
     "name": "stdout",
     "output_type": "stream",
     "text": [
      "The value of s : Welcome to  Regex  Programing  using Python\n",
      "Regex split using \\s : ['Welcome', 'to', '', 'Regex', '', 'Programing', '', 'using', 'Python']\n",
      "Regex split using \\s+ : ['Welcome', 'to', 'Regex', 'Programing', 'using', 'Python']\n",
      "Regex split using s+ : ['Welcome to  Regex  Programing  u', 'ing Python']\n"
     ]
    }
   ],
   "source": [
    "### Lets check if we remove \\ from \\s+\n",
    "s = 'Welcome to  Regex  Programing  using Python'\n",
    "print('The value of s :',s) \n",
    "\n",
    "lstValues = re.split(r'\\s', s)\n",
    "print('Regex split using \\s :', lstValues)\n",
    "\n",
    "lstValues = re.split(r'\\s+', s) \n",
    "print('Regex split using \\s+ :', lstValues)\n",
    "\n",
    "lstValues = re.split(r's+', s) \n",
    "print('Regex split using s+ :', lstValues)\n",
    "## it will search where there s is one or more and do the split that part"
   ]
  },
  {
   "cell_type": "code",
   "execution_count": 21,
   "metadata": {
    "ExecuteTime": {
     "end_time": "2021-09-27T12:52:07.240398Z",
     "start_time": "2021-09-27T12:52:07.233077Z"
    }
   },
   "outputs": [
    {
     "name": "stdout",
     "output_type": "stream",
     "text": [
      "The value of s : Welcome to  Regex  Programing  using Python\n",
      "Regex split using \\s : ['Welcome', 'to', '', 'Regex', '', 'Programing', '', 'using', 'Python']\n",
      "Regex split using \\s+ : ['Welcome', 'to', 'Regex', 'Programing', 'using', 'Python']\n",
      "Regex split using s+ : ['Welcome to  Regex  Programing  u', 'ing Python']\n",
      "Regex split using [a-f]: ['W', 'l', 'om', ' to  R', 'g', 'x  Progr', 'ming  using Python']\n"
     ]
    }
   ],
   "source": [
    "## Split in terms of range [a-f]\n",
    "s = 'Welcome to  Regex  Programing  using Python'\n",
    "print('The value of s :',s)\n",
    "\n",
    "lstValues = re.split(r'\\s', s)\n",
    "print('Regex split using \\s :', lstValues)\n",
    "\n",
    "lstValues = re.split(r'\\s+', s) \n",
    "print('Regex split using \\s+ :', lstValues)\n",
    "\n",
    "lstValues = re.split(r's+', s) \n",
    "print('Regex split using s+ :', lstValues)\n",
    "\n",
    "lstValues = re.split(r'[a-f]', s) ## [a-f] means we are telling in terms of range. Or means any character between a-f both inclusive which means that whenever you find a b c d e f and do a split\n",
    "print('Regex split using [a-f]:', lstValues)"
   ]
  },
  {
   "cell_type": "code",
   "execution_count": 22,
   "metadata": {
    "ExecuteTime": {
     "end_time": "2021-09-27T13:03:17.961672Z",
     "start_time": "2021-09-27T13:03:17.724772Z"
    }
   },
   "outputs": [
    {
     "name": "stdout",
     "output_type": "stream",
     "text": [
      "The value of s : Welcome to  Regex  Programing  using Python\n",
      "Regex split using \\s : ['Welcome', 'to', '', 'Regex', '', 'Programing', '', 'using', 'Python']\n",
      "Regex split using \\s+ : ['Welcome', 'to', 'Regex', 'Programing', 'using', 'Python']\n",
      "Regex split using s+ : ['Welcome to  Regex  Programing  u', 'ing Python']\n",
      "Regex split using [a-f]: ['W', 'l', 'om', ' to  R', 'g', 'x  Progr', 'ming  using Python']\n",
      "Regex split using [a-f]: ['W', 'come to  Regex  Progr', 'ing  using Python']\n"
     ]
    }
   ],
   "source": [
    "## Split in terms of range [a-f] [l-n]\n",
    "## it will take the multiplication of above and will do the spliting\n",
    "s = 'Welcome to  Regex  Programing  using Python'\n",
    "print('The value of s :',s)\n",
    "\n",
    "lstValues = re.split(r'\\s', s)\n",
    "print('Regex split using \\s :', lstValues)\n",
    "\n",
    "lstValues = re.split(r'\\s+', s) \n",
    "print('Regex split using \\s+ :', lstValues)\n",
    "\n",
    "lstValues = re.split(r's+', s) \n",
    "print('Regex split using s+ :', lstValues)\n",
    "\n",
    "lstValues = re.split(r'[a-f]', s)\n",
    "print('Regex split using [a-f]:', lstValues)\n",
    "\n",
    "lstValues = re.split(r'[a-f][l-n]', s)\n",
    "print('Regex split using [a-f]:', lstValues)\n",
    "\n",
    "\n",
    "##[a-f] => a b c d e f\n",
    "##[l-n] => l m n \n",
    "## the multiplication of [a-f] [l-n]\n",
    "## al am an bl bm bn cl cm cn\n",
    "## dl dm dn el em en fl fm fn\n"
   ]
  },
  {
   "cell_type": "code",
   "execution_count": null,
   "metadata": {},
   "outputs": [],
   "source": []
  },
  {
   "cell_type": "code",
   "execution_count": null,
   "metadata": {},
   "outputs": [],
   "source": [
    "## From the string try to extract numbers"
   ]
  },
  {
   "cell_type": "code",
   "execution_count": 44,
   "metadata": {
    "ExecuteTime": {
     "end_time": "2021-09-27T14:26:29.759104Z",
     "start_time": "2021-09-27T14:26:29.744106Z"
    }
   },
   "outputs": [
    {
     "name": "stdout",
     "output_type": "stream",
     "text": [
      "The address : ['7', '8', '1', '1', '8', '9', '4', '1', '2', '3', '5', '6', '7', '8', '5', '6', '0', '0', '2', '3', '6', '7', '8', '9', '3']\n",
      "The address : ['78', '11', '89', '4', '123', '5678', '560023', '67893']\n"
     ]
    }
   ],
   "source": [
    "address = '78 Hi 11   89 Main, 4th Cross, 123, Road, Marathalli, 5678 Bangalore, 560023 67893'\n",
    "\n",
    "lstvalues = re.findall(r'\\d', address)\n",
    "print('The address :',lstvalues)\n",
    "\n",
    "lstvalues = re.findall(r'\\d+', address) ## this the code we need to extract all the nos as per given data\n",
    "print('The address :',lstvalues)"
   ]
  },
  {
   "cell_type": "code",
   "execution_count": 46,
   "metadata": {
    "ExecuteTime": {
     "end_time": "2021-09-27T14:29:54.163547Z",
     "start_time": "2021-09-27T14:29:54.146627Z"
    }
   },
   "outputs": [
    {
     "name": "stdout",
     "output_type": "stream",
     "text": [
      "The address : ['78', '11', '89', '4', '123', '5678', '560023', '67893']\n"
     ]
    }
   ],
   "source": [
    "## Extract all the digit number from the above problem\n",
    "## this will also same as (r'\\d+', address)\n",
    "address = '78 Hi 11   89 Main, 4th Cross, 123, Road, Marathalli, 5678 Bangalore, 560023 67893'\n",
    "\n",
    "lstvalues = re.findall(r'\\d{1,6}', address)\n",
    "print('The address :',lstvalues)"
   ]
  },
  {
   "cell_type": "code",
   "execution_count": 43,
   "metadata": {
    "ExecuteTime": {
     "end_time": "2021-09-27T14:26:26.082447Z",
     "start_time": "2021-09-27T14:26:26.063459Z"
    }
   },
   "outputs": [
    {
     "name": "stdout",
     "output_type": "stream",
     "text": [
      "The address : ['560023']\n"
     ]
    }
   ],
   "source": [
    "## Extract the 6 digit number from the above problem\n",
    "address = '78 Hi 11   89 Main, 4th Cross, 123, Road, Marathalli, 5678 Bangalore, 560023 67893'\n",
    "\n",
    "lstvalues = re.findall(r'\\d{6}', address)\n",
    "print('The address :',lstvalues)"
   ]
  },
  {
   "cell_type": "code",
   "execution_count": 42,
   "metadata": {
    "ExecuteTime": {
     "end_time": "2021-09-27T14:26:22.514250Z",
     "start_time": "2021-09-27T14:26:22.503282Z"
    }
   },
   "outputs": [
    {
     "name": "stdout",
     "output_type": "stream",
     "text": [
      "The address : ['78', '11', '89', '12', '56', '78', '56', '00', '23', '67', '89']\n"
     ]
    }
   ],
   "source": [
    "## Extract 2 digit no from below \n",
    "address = '78 Hi 11   89 Main, 4th Cross, 123, Road, Marathalli, 5678 Bangalore, 560023 67893'\n",
    "\n",
    "lstvalues = re.findall(r'\\d{2}', address)\n",
    "print('The address :',lstvalues)"
   ]
  },
  {
   "cell_type": "code",
   "execution_count": 41,
   "metadata": {
    "ExecuteTime": {
     "end_time": "2021-09-27T14:26:18.798809Z",
     "start_time": "2021-09-27T14:26:18.529354Z"
    }
   },
   "outputs": [
    {
     "name": "stdout",
     "output_type": "stream",
     "text": [
      "The address : [' 11 ', ' 89 ']\n"
     ]
    }
   ],
   "source": [
    "## Extract 2 digit no from below with spaces sourrounding it\n",
    "address = '78 Hi 11   89 Main, 4th Cross, 123, Road, Marathalli, 5678 Bangalore, 560023 67893'\n",
    "\n",
    "lstvalues = re.findall(r'\\s\\d{2}\\s', address)\n",
    "print('The address :',lstvalues)"
   ]
  },
  {
   "cell_type": "code",
   "execution_count": 40,
   "metadata": {
    "ExecuteTime": {
     "end_time": "2021-09-27T14:26:14.107544Z",
     "start_time": "2021-09-27T14:26:14.095534Z"
    }
   },
   "outputs": [
    {
     "name": "stdout",
     "output_type": "stream",
     "text": [
      "The address : ['78 ', ' 11 ', '  89 ', '78 ', '23 ']\n"
     ]
    }
   ],
   "source": [
    "## Extract 2 digit no from below with space zero or more than 2 \n",
    "address = '78 Hi 11   89 Main, 4th Cross, 123, Road, Marathalli, 5678 Bangalore, 560023 67893'\n",
    "\n",
    "lstvalues = re.findall(r'\\s*\\d{2}\\s', address)\n",
    "print('The address :',lstvalues)"
   ]
  },
  {
   "cell_type": "code",
   "execution_count": 47,
   "metadata": {
    "ExecuteTime": {
     "end_time": "2021-09-27T14:32:59.372889Z",
     "start_time": "2021-09-27T14:32:59.349911Z"
    }
   },
   "outputs": [
    {
     "name": "stdout",
     "output_type": "stream",
     "text": [
      "The address : ['78']\n"
     ]
    }
   ],
   "source": [
    "## Extract the  digit which is at the start from the above problem\n",
    "address = '78 Hi 11   89 Main, 4th Cross, 123, Road, Marathalli, 5678 Bangalore, 560023 67893'\n",
    "\n",
    "lstvalues = re.findall(r'^\\d{2}', address)\n",
    "print('The address :',lstvalues)"
   ]
  },
  {
   "cell_type": "markdown",
   "metadata": {},
   "source": [
    "## IP Address"
   ]
  },
  {
   "cell_type": "code",
   "execution_count": 63,
   "metadata": {
    "ExecuteTime": {
     "end_time": "2021-09-27T17:33:07.914313Z",
     "start_time": "2021-09-27T17:33:07.899190Z"
    }
   },
   "outputs": [
    {
     "name": "stdout",
     "output_type": "stream",
     "text": [
      "IP Address : ['172.45.78.109', '127.0.0.1', '10.67.89.101', '11.67.98.102', '12.68.98.102']\n"
     ]
    }
   ],
   "source": [
    "## Write a Pattern to extract the IP Address\n",
    "s = '''\n",
    "<html>\n",
    "<head>\n",
    "<tutle>Current IP Address Allocations \n",
    "</title>\n",
    "</head>\n",
    "<body>\n",
    "IP Address are 172.45.78.109\n",
    "LoopBack Address: 127.0.0.1\n",
    "Computer 1: 10.67.89.101\n",
    "Computer 2: 11.67.98.102\n",
    "Computer 3: 12.68.98.102\n",
    "</body>\n",
    "</html>\n",
    "'''\n",
    "# IP Address: 4 parts\n",
    "# <no>.<no>.<no>.<no>\n",
    "# No-> 1,2,3 digit only in the IP Address\n",
    "# \\d{1,3} extract digit for range\n",
    "# \\. to extract dot\n",
    "# \\d{1,3}\\. will extract digit in range with dot so will USE THIS CODE FOR $ times as the formate is <no>.<no>.<no>.<no> \n",
    "# \\d{1,3}\\.\\d{1,3}\\.\\d{1,3}\\.\\d{1,3} at the last we will only extract up to digit with range\n",
    "\n",
    "lstvalues = re.findall(r'\\d{1,3}\\.\\d{1,3}\\.\\d{1,3}\\.\\d{1,3}', s)\n",
    "print('IP Address :', lstvalues)"
   ]
  },
  {
   "cell_type": "code",
   "execution_count": 68,
   "metadata": {
    "ExecuteTime": {
     "end_time": "2021-09-27T17:38:42.932967Z",
     "start_time": "2021-09-27T17:38:42.912665Z"
    }
   },
   "outputs": [
    {
     "name": "stdout",
     "output_type": "stream",
     "text": [
      "IP Address : ['10.67.89.101', '10.67.98.102']\n"
     ]
    }
   ],
   "source": [
    "## Write a Pattern to extract the IP Address of only computer 1 and computer 2\n",
    "s = '''\n",
    "<html>\n",
    "<head>\n",
    "<tutle>Current IP Address Allocations \n",
    "</title>\n",
    "</head>\n",
    "<body>\n",
    "IP Address are 172.45.78.109\n",
    "LoopBack Address: 127.0.0.1\n",
    "Computer 1: 10.67.89.101\n",
    "Computer 2: 10.67.98.102\n",
    "Computer 3: 12.68.98.102\n",
    "</body>\n",
    "</html>\n",
    "'''\n",
    "\n",
    "lstvalues = re.findall(r'10.\\d{1,3}\\.\\d{1,3}\\.\\d{1,3}', s)\n",
    "print('IP Address :', lstvalues)"
   ]
  },
  {
   "cell_type": "markdown",
   "metadata": {},
   "source": [
    "## Credit Cards"
   ]
  },
  {
   "cell_type": "code",
   "execution_count": 70,
   "metadata": {
    "ExecuteTime": {
     "end_time": "2021-09-27T17:53:30.191821Z",
     "start_time": "2021-09-27T17:53:30.182711Z"
    }
   },
   "outputs": [
    {
     "name": "stdout",
     "output_type": "stream",
     "text": [
      "['3775 123456 78910']\n"
     ]
    }
   ],
   "source": [
    "empdetails = 'Hi I have a Credit Card with number 3775 123456 78910 and '\\\n",
    "              'Other Card is'\\\n",
    "              '3545 456789 12345'\n",
    "\n",
    "#http.//www.getcreditcardnumbers.com\n",
    "\n",
    "# AMEX (American express cards)\n",
    "# Always start with 3 \n",
    "# There second digit is either 4 or 7\n",
    "# <4 Digit> <6 Digit> <5 Digit> group digits like this pattern\n",
    "\n",
    "lstcards = re.findall(r'3[4|7]\\d{2}\\s\\d{6}\\s\\d{5}', empdetails) ## What this code saying in brackets thatthe number always start with 3 in AMEX and the next second digit is either [4|7]. So we got 2 digits for 1st group and now look for next two so we will provide \\d{2} this will give the next 2 digits in the group that was remaining and no provide space with \\s after this need to get 6 digits with\\d{6} after this provide space \\s after this provide \\d{5} for last group\n",
    "print(lstcards)"
   ]
  },
  {
   "cell_type": "code",
   "execution_count": 82,
   "metadata": {
    "ExecuteTime": {
     "end_time": "2021-09-27T18:08:38.905747Z",
     "start_time": "2021-09-27T18:08:38.897345Z"
    }
   },
   "outputs": [
    {
     "name": "stdout",
     "output_type": "stream",
     "text": [
      "['Hi', 'I', 'have', 'a', 'Credit', 'Card', 'with', 'number', '3775', '123456', '78910', 'and', 'Other', 'Card', 'is3545', '456789', '12345']\n",
      "HiIhaveaCreditCardwithnumber377512345678910andOtherCardis354545678912345\n"
     ]
    }
   ],
   "source": [
    "## If you want to join all the word in the above code for example sake only\n",
    "lastWords = empdetails.split()\n",
    "print(lastWords)\n",
    "print(''.join(lastWords))"
   ]
  },
  {
   "cell_type": "code",
   "execution_count": null,
   "metadata": {},
   "outputs": [],
   "source": []
  },
  {
   "cell_type": "markdown",
   "metadata": {},
   "source": [
    "## New heading"
   ]
  },
  {
   "cell_type": "code",
   "execution_count": 92,
   "metadata": {
    "ExecuteTime": {
     "end_time": "2021-09-27T18:12:23.840033Z",
     "start_time": "2021-09-27T18:12:23.800100Z"
    }
   },
   "outputs": [
    {
     "name": "stdout",
     "output_type": "stream",
     "text": [
      "Names: ['Rohot', 'Virat', 'Dhawan', 'India']\n",
      "Names: ['122', '96', '46']\n"
     ]
    }
   ],
   "source": [
    "## Extract the output like {\"Rohit\": 122, \"Virat\": 96, \"Dhawan\": 46}\n",
    "samplestring = '''\n",
    "Rohot made 122 runs, Virat made 96 runs , and\n",
    "Dhawan made 46 runs and India won the match.\n",
    "'''\n",
    "lstNames = re.findall(r'[A-Z][a-z]+', samplestring)\n",
    "lstScores = re.findall(r'\\d+', samplestring)\n",
    "\n",
    "print('Names:', lstNames)\n",
    "print('Names:', lstScores)\n"
   ]
  },
  {
   "cell_type": "code",
   "execution_count": 93,
   "metadata": {
    "ExecuteTime": {
     "end_time": "2021-09-27T18:15:17.017689Z",
     "start_time": "2021-09-27T18:15:16.695640Z"
    }
   },
   "outputs": [
    {
     "name": "stdout",
     "output_type": "stream",
     "text": [
      "Names: ['Rohot', 'Virat', 'Dhawan', 'India']\n",
      "Names: ['122', '96', '46']\n",
      "Rest: {'Rohot': '122', 'Virat': '96', 'Dhawan': '46'}\n"
     ]
    }
   ],
   "source": [
    "## Extract the output like {\"Rohit\": 122, \"Virat\": 96, \"Dhawan\": 46}\n",
    "## and creat a dict using the output of the code that is list\n",
    "\n",
    "## Approach 1\n",
    "\n",
    "samplestring = '''\n",
    "Rohot made 122 runs, Virat made 96 runs , and\n",
    "Dhawan made 46 runs and India won the match.\n",
    "'''\n",
    "lstNames = re.findall(r'[A-Z][a-z]+', samplestring)\n",
    "lstScores = re.findall(r'\\d+', samplestring)\n",
    "\n",
    "print('Names:', lstNames)\n",
    "print('Names:', lstScores)\n",
    "\n",
    "## Approach 1\n",
    "result ={}\n",
    "for item in range (0,3):\n",
    "    result[lstNames[item]] = lstScores[item]\n",
    "print('Rest:', result)"
   ]
  },
  {
   "cell_type": "code",
   "execution_count": 95,
   "metadata": {
    "ExecuteTime": {
     "end_time": "2021-09-27T18:19:25.724958Z",
     "start_time": "2021-09-27T18:19:25.635246Z"
    }
   },
   "outputs": [
    {
     "name": "stdout",
     "output_type": "stream",
     "text": [
      "Names: ['Rohot', 'Virat', 'Dhawan', 'India']\n",
      "Names: ['122', '96', '46']\n",
      "result: {'Rohot': '122', 'Virat': '96', 'Dhawan': '46'}\n"
     ]
    }
   ],
   "source": [
    "## Extract the output like {\"Rohit\": 122, \"Virat\": 96, \"Dhawan\": 46}\n",
    "## and creat a dict using the output of the code that is list\n",
    "\n",
    "## Approach 2\n",
    "\n",
    "samplestring = '''\n",
    "Rohot made 122 runs, Virat made 96 runs , and\n",
    "Dhawan made 46 runs and India won the match.\n",
    "'''\n",
    "lstNames = re.findall(r'[A-Z][a-z]+', samplestring)\n",
    "lstScores = re.findall(r'\\d+', samplestring)\n",
    "\n",
    "print('Names:', lstNames)\n",
    "print('Names:', lstScores)\n",
    "\n",
    "## Approach 2 :- Using zip function -- It squares two containers\n",
    "## The Python zip() function accepts iterable items and merges them into a single tuple. \n",
    "## The resultant value is a zip object that stores pairs of iterables. You can pass lists, tuples, sets, or dictionaries through the zip() function.\n",
    "## Python has a number of built-in functions that allow coders to loop through data.\n",
    "\n",
    "result = dict(zip(lstNames,lstScores))\n",
    "print('result:',result)"
   ]
  },
  {
   "cell_type": "code",
   "execution_count": null,
   "metadata": {},
   "outputs": [],
   "source": []
  },
  {
   "cell_type": "code",
   "execution_count": null,
   "metadata": {},
   "outputs": [],
   "source": []
  },
  {
   "cell_type": "code",
   "execution_count": null,
   "metadata": {},
   "outputs": [],
   "source": []
  },
  {
   "cell_type": "code",
   "execution_count": null,
   "metadata": {},
   "outputs": [],
   "source": []
  },
  {
   "cell_type": "code",
   "execution_count": null,
   "metadata": {},
   "outputs": [],
   "source": []
  },
  {
   "cell_type": "code",
   "execution_count": null,
   "metadata": {},
   "outputs": [],
   "source": []
  },
  {
   "cell_type": "code",
   "execution_count": null,
   "metadata": {},
   "outputs": [],
   "source": []
  },
  {
   "cell_type": "code",
   "execution_count": null,
   "metadata": {},
   "outputs": [],
   "source": []
  }
 ],
 "metadata": {
  "kernelspec": {
   "display_name": "Python 3",
   "language": "python",
   "name": "python3"
  },
  "language_info": {
   "codemirror_mode": {
    "name": "ipython",
    "version": 3
   },
   "file_extension": ".py",
   "mimetype": "text/x-python",
   "name": "python",
   "nbconvert_exporter": "python",
   "pygments_lexer": "ipython3",
   "version": "3.8.5"
  },
  "toc": {
   "base_numbering": 1,
   "nav_menu": {},
   "number_sections": true,
   "sideBar": true,
   "skip_h1_title": false,
   "title_cell": "Table of Contents",
   "title_sidebar": "Contents",
   "toc_cell": false,
   "toc_position": {},
   "toc_section_display": true,
   "toc_window_display": false
  }
 },
 "nbformat": 4,
 "nbformat_minor": 4
}
