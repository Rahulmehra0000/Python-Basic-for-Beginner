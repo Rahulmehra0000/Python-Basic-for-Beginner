{
 "cells": [
  {
   "cell_type": "markdown",
   "metadata": {
    "ExecuteTime": {
     "end_time": "2021-09-28T07:18:14.964032Z",
     "start_time": "2021-09-28T07:18:14.867954Z"
    }
   },
   "source": [
    " # Regular Expression Part 2"
   ]
  },
  {
   "cell_type": "code",
   "execution_count": 13,
   "metadata": {
    "ExecuteTime": {
     "end_time": "2021-09-28T07:41:05.986004Z",
     "start_time": "2021-09-28T07:41:05.968052Z"
    }
   },
   "outputs": [],
   "source": [
    "import re"
   ]
  },
  {
   "cell_type": "code",
   "execution_count": 4,
   "metadata": {
    "ExecuteTime": {
     "end_time": "2021-09-28T07:25:06.977443Z",
     "start_time": "2021-09-28T07:25:06.967469Z"
    }
   },
   "outputs": [
    {
     "name": "stdout",
     "output_type": "stream",
     "text": [
      "Find all matches for format Month day\n",
      "Matches using pattern '[A-Z][a-z]=\\s\\d{1,2}' : ['June 24', 'August 9', 'Dec 12']\n"
     ]
    }
   ],
   "source": [
    "## Extract the June , August and Dec from the below string\n",
    "#matches = re.findall(r'',' These are the match dates June 24, August 9,  Dec 12')\n",
    "\n",
    "\n",
    "print('Find all matches for format Month day')\n",
    "matches = re.findall(r'[A-Z][a-z]+\\s\\d{1,2}',' These are the match dates June 24, August 9,  Dec 12')\n",
    "print(\"Matches using pattern '[A-Z][a-z]=\\s\\d{1,2}' :\", matches)\n",
    "\n",
    "## so h=above we had extracted the the June 24, August 9 and Dec 1 in the pattern \n",
    "## Now we had to extract the June, August and Dec from this output\n"
   ]
  },
  {
   "cell_type": "code",
   "execution_count": 6,
   "metadata": {
    "ExecuteTime": {
     "end_time": "2021-09-28T07:27:41.945063Z",
     "start_time": "2021-09-28T07:27:41.937070Z"
    }
   },
   "outputs": [
    {
     "name": "stdout",
     "output_type": "stream",
     "text": [
      "Find all matches for format Month day\n",
      "Matches using pattern '[A-Z][a-z]=\\s\\d{1,2}' : ['June', 'August', 'Dec']\n"
     ]
    }
   ],
   "source": [
    "## Now we had to extract the June, August and Dec from this output\n",
    "print('Find all matches for format Month day')\n",
    "matches = re.findall(r'([A-Z][a-z]+)\\s\\d{1,2}',' These are the match dates June 24, August 9,  Dec 12')\n",
    "## So in the above code we had provide the parenthesis() to the code [A-Z][a-z]+ and rest the code is same as it is and this is called groups\n",
    "print(\"Matches using pattern '[A-Z][a-z]=\\s\\d{1,2}' :\", matches)\n"
   ]
  },
  {
   "cell_type": "code",
   "execution_count": 10,
   "metadata": {
    "ExecuteTime": {
     "end_time": "2021-09-28T07:35:07.860165Z",
     "start_time": "2021-09-28T07:35:07.847201Z"
    }
   },
   "outputs": [
    {
     "name": "stdout",
     "output_type": "stream",
     "text": [
      "Find all matches for format Month day\n",
      "Matches using pattern '[A-Z][a-z]+\\s(\\d{1,2})' : ['24', '9', '12']\n"
     ]
    }
   ],
   "source": [
    "## Now if you want to extract the dates \n",
    "print('Find all matches for format Month day')\n",
    "matches = re.findall(r'[A-Z][a-z]+\\s(\\d{1,2})',' These are 3 match dates June 24, August 9,  Dec 12')\n",
    "print(\"Matches using pattern '[A-Z][a-z]+\\s(\\d{1,2})' :\", matches)\n",
    " ## so with the above code had extracted the output in digits"
   ]
  },
  {
   "cell_type": "code",
   "execution_count": 12,
   "metadata": {
    "ExecuteTime": {
     "end_time": "2021-09-28T07:36:16.798441Z",
     "start_time": "2021-09-28T07:36:16.775505Z"
    }
   },
   "outputs": [
    {
     "name": "stdout",
     "output_type": "stream",
     "text": [
      "Find all matches for format Month day\n",
      "Matches using pattern '[A-Z][a-z]+\\s(\\d{1,2})' : [('June', '24'), ('August', '9'), ('Dec', '12')]\n"
     ]
    }
   ],
   "source": [
    "## So if we want to extract the outputs as list of tuples\n",
    "## Just provide parenthesis to the code\n",
    "print('Find all matches for format Month day')\n",
    "matches = re.findall(r'([A-Z][a-z]+)\\s(\\d{1,2})',' These are 3 match dates June 24, August 9,  Dec 12')\n",
    "print(\"Matches using pattern '[A-Z][a-z]+\\s(\\d{1,2})' :\", matches)\n"
   ]
  },
  {
   "cell_type": "code",
   "execution_count": null,
   "metadata": {},
   "outputs": [],
   "source": []
  },
  {
   "cell_type": "markdown",
   "metadata": {},
   "source": [
    "## Emails Extraction"
   ]
  },
  {
   "cell_type": "code",
   "execution_count": 39,
   "metadata": {
    "ExecuteTime": {
     "end_time": "2021-09-28T07:58:56.855737Z",
     "start_time": "2021-09-28T07:58:56.800875Z"
    }
   },
   "outputs": [
    {
     "name": "stdout",
     "output_type": "stream",
     "text": [
      "['alice@gmail.com', 'helloab@abc.com', '23@gmail.com', 'my23@gmail.com', '_@gmail.com']\n",
      "['alice@gmail.com', 'helloab@abc.com', 'my23@gmail.com']\n"
     ]
    }
   ],
   "source": [
    "## Extract the correct emails from the below string\n",
    "\n",
    "s = 'purple alice@gmail.com abcde helloab@abc.com ---@gmail.com 23@gmail.com my23@gmail.com _@gmail.com'\n",
    "# \\w => A-Za-z0-9\n",
    "emails = re.findall(r'\\w+@\\w+\\.\\w+',s)\n",
    "print(emails) ## here we are getting the _@gmail.com, 23@gmail.com\n"
   ]
  },
  {
   "cell_type": "code",
   "execution_count": 40,
   "metadata": {
    "ExecuteTime": {
     "end_time": "2021-09-28T08:00:18.984839Z",
     "start_time": "2021-09-28T08:00:18.964932Z"
    }
   },
   "outputs": [
    {
     "name": "stdout",
     "output_type": "stream",
     "text": [
      "['alice@gmail.com', 'helloab@abc.com', 'my23@gmail.com']\n",
      "['alice@gmail.com', 'helloab@abc.com', 'my23@gmail.com']\n"
     ]
    }
   ],
   "source": [
    "## So if we want only the write one\n",
    "emails = re.findall(r'[A-Za-z]\\w+@\\w+\\.\\w+',s)\n",
    "print(emails)\n",
    "\n",
    "\n",
    "#######OR#######\n",
    "\n",
    "\n",
    "s = 'purple alice@gmail.com abcde helloab@abc.com ---@gmail.com 23@gmail.com my23@gmail.com _@gmail.com'\n",
    "emails = re.findall(r'[a-z]+\\d*@[a-z]+\\.com',s)\n",
    "print(emails)"
   ]
  },
  {
   "cell_type": "markdown",
   "metadata": {},
   "source": [
    "## Search use case with re"
   ]
  },
  {
   "cell_type": "code",
   "execution_count": 42,
   "metadata": {
    "ExecuteTime": {
     "end_time": "2021-09-28T08:27:27.764411Z",
     "start_time": "2021-09-28T08:27:27.749500Z"
    }
   },
   "outputs": [
    {
     "name": "stdout",
     "output_type": "stream",
     "text": [
      "['lovely', '1\\ndentist', '2 lonely', 'fly\\nfar']\n"
     ]
    }
   ],
   "source": [
    "## For the given list, filter all elements having a line starting with den or ending with ly.\n",
    "items = ['lovely', '1\\ndentist', '2 lonely', 'eden', 'fly\\nfar','\\dent']\n",
    "##re.search\n",
    "## for this problem we have to itterate throughloop\n",
    "\n",
    "\n",
    "## \n",
    "result = []\n",
    "for item in items:\n",
    "    if re.search(r'^den|ly$', item, flags = re.M): ## serach for some items where flags = re.M where M is multile (search on google for the function of M) '^' matches at the begining of lines(after a newline) as well as the string. '$' matches the end of lines (before a line) as well as at the end of the string.\n",
    "        result.append(item)\n",
    "print(result)"
   ]
  },
  {
   "cell_type": "markdown",
   "metadata": {},
   "source": [
    "## Complie and Search use case with re"
   ]
  },
  {
   "cell_type": "code",
   "execution_count": 46,
   "metadata": {
    "ExecuteTime": {
     "end_time": "2021-09-28T08:44:38.852213Z",
     "start_time": "2021-09-28T08:44:38.838252Z"
    }
   },
   "outputs": [
    {
     "name": "stdout",
     "output_type": "stream",
     "text": [
      "creed refuse X read\n",
      "cX refuse removed read\n",
      "creed refuse removed read\n",
      "creed refuse removed read\n",
      "cX refuse X read\n",
      "X X redo X\n"
     ]
    }
   ],
   "source": [
    "## For the given input strings, replace all occurence of removed or read or received or refused with x\n",
    "\n",
    "s1 = 'creed refuse removed read'\n",
    "s2 = 'refused reed redo received'\n",
    "## use from complie and search\n",
    "\n",
    "print(re.sub(r'removed','X',s1))\n",
    "print(re.sub(r'reed','X',s1))\n",
    "print(re.sub(r'received','X',s1))\n",
    "print(re.sub(r'refused','X',s1))\n",
    "\n",
    "##### OR #####\n",
    "\n",
    "print(re.sub(r're(mov|ceiv|fus|)ed','X',s1))\n",
    "print(re.sub(r're(mov|ceiv|fus|)ed','X',s2))"
   ]
  },
  {
   "cell_type": "code",
   "execution_count": 48,
   "metadata": {
    "ExecuteTime": {
     "end_time": "2021-09-28T08:46:45.875960Z",
     "start_time": "2021-09-28T08:46:45.861001Z"
    }
   },
   "outputs": [
    {
     "name": "stdout",
     "output_type": "stream",
     "text": [
      "cX refuse removed read\n",
      "X X redo X\n"
     ]
    }
   ],
   "source": [
    "## OR ##\n",
    "pat = re.compile(r're(mv|ceiv|fus|)ed')\n",
    "print(re.sub(pat, 'X',s1))\n",
    "print(re.sub(pat, 'X',s2))"
   ]
  },
  {
   "cell_type": "code",
   "execution_count": null,
   "metadata": {},
   "outputs": [],
   "source": []
  },
  {
   "cell_type": "code",
   "execution_count": null,
   "metadata": {},
   "outputs": [],
   "source": []
  },
  {
   "cell_type": "code",
   "execution_count": null,
   "metadata": {},
   "outputs": [],
   "source": []
  },
  {
   "cell_type": "code",
   "execution_count": null,
   "metadata": {},
   "outputs": [],
   "source": []
  },
  {
   "cell_type": "code",
   "execution_count": null,
   "metadata": {},
   "outputs": [],
   "source": []
  },
  {
   "cell_type": "code",
   "execution_count": null,
   "metadata": {},
   "outputs": [],
   "source": []
  },
  {
   "cell_type": "code",
   "execution_count": null,
   "metadata": {},
   "outputs": [],
   "source": []
  },
  {
   "cell_type": "code",
   "execution_count": null,
   "metadata": {},
   "outputs": [],
   "source": []
  }
 ],
 "metadata": {
  "kernelspec": {
   "display_name": "Python 3",
   "language": "python",
   "name": "python3"
  },
  "language_info": {
   "codemirror_mode": {
    "name": "ipython",
    "version": 3
   },
   "file_extension": ".py",
   "mimetype": "text/x-python",
   "name": "python",
   "nbconvert_exporter": "python",
   "pygments_lexer": "ipython3",
   "version": "3.8.5"
  },
  "toc": {
   "base_numbering": 1,
   "nav_menu": {},
   "number_sections": true,
   "sideBar": true,
   "skip_h1_title": false,
   "title_cell": "Table of Contents",
   "title_sidebar": "Contents",
   "toc_cell": false,
   "toc_position": {},
   "toc_section_display": true,
   "toc_window_display": false
  }
 },
 "nbformat": 4,
 "nbformat_minor": 4
}
