{
 "cells": [
  {
   "cell_type": "markdown",
   "metadata": {},
   "source": [
    "# Control Structures"
   ]
  },
  {
   "cell_type": "markdown",
   "metadata": {},
   "source": [
    "## Taking User Input"
   ]
  },
  {
   "cell_type": "code",
   "execution_count": 1,
   "metadata": {
    "ExecuteTime": {
     "end_time": "2021-09-24T11:38:51.100636Z",
     "start_time": "2021-09-24T11:38:51.085679Z"
    }
   },
   "outputs": [],
   "source": [
    "# Input()-> Input is a function which always take input from the user and it always returns a sting data types"
   ]
  },
  {
   "cell_type": "code",
   "execution_count": 2,
   "metadata": {
    "ExecuteTime": {
     "end_time": "2021-09-24T11:38:53.672331Z",
     "start_time": "2021-09-24T11:38:51.514613Z"
    }
   },
   "outputs": [
    {
     "name": "stdout",
     "output_type": "stream",
     "text": [
      "Enter the current score: 99\n"
     ]
    }
   ],
   "source": [
    "score = input(\"Enter the current score: \")"
   ]
  },
  {
   "cell_type": "code",
   "execution_count": 3,
   "metadata": {
    "ExecuteTime": {
     "end_time": "2021-09-24T11:38:54.394288Z",
     "start_time": "2021-09-24T11:38:54.373294Z"
    }
   },
   "outputs": [
    {
     "name": "stdout",
     "output_type": "stream",
     "text": [
      "99\n"
     ]
    }
   ],
   "source": [
    "print(score)"
   ]
  },
  {
   "cell_type": "code",
   "execution_count": null,
   "metadata": {},
   "outputs": [],
   "source": []
  },
  {
   "cell_type": "code",
   "execution_count": 7,
   "metadata": {},
   "outputs": [
    {
     "name": "stdout",
     "output_type": "stream",
     "text": [
      "Hello, World!\n",
      "Welcome to 30 Days of Code!.\n"
     ]
    }
   ],
   "source": [
    "input_string = input()\n",
    "print('Welcome to 30 Days of Code!.')"
   ]
  },
  {
   "cell_type": "code",
   "execution_count": null,
   "metadata": {},
   "outputs": [],
   "source": []
  },
  {
   "cell_type": "code",
   "execution_count": null,
   "metadata": {},
   "outputs": [],
   "source": []
  },
  {
   "cell_type": "code",
   "execution_count": null,
   "metadata": {},
   "outputs": [],
   "source": []
  },
  {
   "cell_type": "code",
   "execution_count": null,
   "metadata": {},
   "outputs": [],
   "source": []
  },
  {
   "cell_type": "code",
   "execution_count": 4,
   "metadata": {
    "ExecuteTime": {
     "end_time": "2021-09-24T11:38:54.986107Z",
     "start_time": "2021-09-24T11:38:54.979121Z"
    }
   },
   "outputs": [
    {
     "name": "stdout",
     "output_type": "stream",
     "text": [
      "<class 'str'>\n"
     ]
    }
   ],
   "source": [
    "print(type(score))\n",
    "## here the type of the number is string the the element is in string form ignoring the value whichever was inserted in it"
   ]
  },
  {
   "cell_type": "markdown",
   "metadata": {},
   "source": [
    "## if, if-else,if-elif-else"
   ]
  },
  {
   "cell_type": "code",
   "execution_count": 5,
   "metadata": {
    "ExecuteTime": {
     "end_time": "2021-09-24T11:38:59.545295Z",
     "start_time": "2021-09-24T11:38:56.665229Z"
    }
   },
   "outputs": [
    {
     "name": "stdout",
     "output_type": "stream",
     "text": [
      "Enter any number: 8\n",
      "8 <class 'int'>\n"
     ]
    }
   ],
   "source": [
    "number = input('Enter any number: ')\n",
    "number = int(number)## Here we are converting the type of number into integer and the output will be interger from string\n",
    "print(number,type(number))"
   ]
  },
  {
   "cell_type": "code",
   "execution_count": 6,
   "metadata": {
    "ExecuteTime": {
     "end_time": "2021-09-24T11:39:00.372378Z",
     "start_time": "2021-09-24T11:39:00.360408Z"
    }
   },
   "outputs": [],
   "source": [
    "## Now we want to check whether user had give +ve or -ve no and the no is greater than 0 or less than 0\n",
    "## So for this we will use another keyword i.e if else"
   ]
  },
  {
   "cell_type": "code",
   "execution_count": 7,
   "metadata": {
    "ExecuteTime": {
     "end_time": "2021-09-24T11:39:07.631696Z",
     "start_time": "2021-09-24T11:39:07.612745Z"
    }
   },
   "outputs": [
    {
     "name": "stdout",
     "output_type": "stream",
     "text": [
      "User has entered positive number\n"
     ]
    }
   ],
   "source": [
    "if number > 0:\n",
    "    print('User has entered positive number')\n",
    "else:\n",
    "    print('User has entered negative number')"
   ]
  },
  {
   "cell_type": "code",
   "execution_count": null,
   "metadata": {},
   "outputs": [],
   "source": []
  },
  {
   "cell_type": "code",
   "execution_count": null,
   "metadata": {},
   "outputs": [],
   "source": []
  },
  {
   "cell_type": "code",
   "execution_count": 9,
   "metadata": {
    "ExecuteTime": {
     "end_time": "2021-09-24T11:41:21.100140Z",
     "start_time": "2021-09-24T11:41:18.360877Z"
    }
   },
   "outputs": [
    {
     "name": "stdout",
     "output_type": "stream",
     "text": [
      "Enter any number: 5\n",
      "User has entered positive number.\n"
     ]
    }
   ],
   "source": [
    "number = int(input('Enter any number: ')) ## here we had converted a string to a number itself by adding int at the starting\n",
    "if number > 0:\n",
    "    print('User has entered positive number.')\n",
    "elif number ==0:\n",
    "    print('User has entered Zero number.')\n",
    "else:\n",
    "    print('User has entered negative number.')\n"
   ]
  },
  {
   "cell_type": "markdown",
   "metadata": {},
   "source": [
    "## While"
   ]
  },
  {
   "cell_type": "code",
   "execution_count": 14,
   "metadata": {
    "ExecuteTime": {
     "end_time": "2021-09-24T11:46:48.042040Z",
     "start_time": "2021-09-24T11:46:48.024089Z"
    }
   },
   "outputs": [],
   "source": [
    "index = 1"
   ]
  },
  {
   "cell_type": "code",
   "execution_count": 15,
   "metadata": {
    "ExecuteTime": {
     "end_time": "2021-09-24T11:46:49.641978Z",
     "start_time": "2021-09-24T11:46:49.635994Z"
    }
   },
   "outputs": [
    {
     "name": "stdout",
     "output_type": "stream",
     "text": [
      "1\n",
      "2\n",
      "3\n",
      "4\n",
      "5\n",
      "6\n",
      "7\n",
      "8\n",
      "9\n",
      "10\n"
     ]
    }
   ],
   "source": [
    "while index <=10:\n",
    "    print(index) ## So we will not keep our programe upto here as it will sow result as 1, 1, 1 not repeating upto infinite so to not face anysuch problem we will right one more code in next line\n",
    "    index = index + 1 ## index += 1 will work same as index = index + 1"
   ]
  },
  {
   "cell_type": "code",
   "execution_count": null,
   "metadata": {},
   "outputs": [],
   "source": []
  },
  {
   "cell_type": "markdown",
   "metadata": {},
   "source": [
    "## Iterating Through Range"
   ]
  },
  {
   "cell_type": "code",
   "execution_count": 20,
   "metadata": {
    "ExecuteTime": {
     "end_time": "2021-09-24T11:48:56.528138Z",
     "start_time": "2021-09-24T11:48:56.512233Z"
    }
   },
   "outputs": [],
   "source": [
    "r = range(5,51,15)"
   ]
  },
  {
   "cell_type": "code",
   "execution_count": 21,
   "metadata": {
    "ExecuteTime": {
     "end_time": "2021-09-24T11:48:56.906411Z",
     "start_time": "2021-09-24T11:48:56.901417Z"
    }
   },
   "outputs": [
    {
     "name": "stdout",
     "output_type": "stream",
     "text": [
      "range(5, 51, 15)\n"
     ]
    }
   ],
   "source": [
    "print(r)"
   ]
  },
  {
   "cell_type": "code",
   "execution_count": 22,
   "metadata": {
    "ExecuteTime": {
     "end_time": "2021-09-24T11:48:57.440397Z",
     "start_time": "2021-09-24T11:48:57.418416Z"
    }
   },
   "outputs": [
    {
     "data": {
      "text/plain": [
       "[5, 20, 35, 50]"
      ]
     },
     "execution_count": 22,
     "metadata": {},
     "output_type": "execute_result"
    }
   ],
   "source": [
    "list(r)"
   ]
  },
  {
   "cell_type": "code",
   "execution_count": 23,
   "metadata": {
    "ExecuteTime": {
     "end_time": "2021-09-24T11:48:58.419842Z",
     "start_time": "2021-09-24T11:48:58.401848Z"
    }
   },
   "outputs": [
    {
     "name": "stdout",
     "output_type": "stream",
     "text": [
      "5\n",
      "20\n",
      "35\n",
      "50\n"
     ]
    }
   ],
   "source": [
    "for item in r: ## this means iterate through each element of the range\n",
    "    print(item)"
   ]
  },
  {
   "cell_type": "markdown",
   "metadata": {},
   "source": [
    "## Iterating through list using for loop"
   ]
  },
  {
   "cell_type": "code",
   "execution_count": 24,
   "metadata": {
    "ExecuteTime": {
     "end_time": "2021-09-24T11:52:29.968526Z",
     "start_time": "2021-09-24T11:52:29.961582Z"
    }
   },
   "outputs": [],
   "source": [
    "websites = ['Amazon','Flipkart','Snapdeal']"
   ]
  },
  {
   "cell_type": "code",
   "execution_count": 25,
   "metadata": {
    "ExecuteTime": {
     "end_time": "2021-09-24T11:53:24.770029Z",
     "start_time": "2021-09-24T11:53:24.762011Z"
    }
   },
   "outputs": [
    {
     "name": "stdout",
     "output_type": "stream",
     "text": [
      "www.Amazon.com\n",
      "www.Flipkart.com\n",
      "www.Snapdeal.com\n"
     ]
    }
   ],
   "source": [
    "for item in websites:\n",
    "    print('www.' + item +'.com')"
   ]
  },
  {
   "cell_type": "code",
   "execution_count": 26,
   "metadata": {
    "ExecuteTime": {
     "end_time": "2021-09-24T11:54:25.839581Z",
     "start_time": "2021-09-24T11:54:25.828611Z"
    },
    "scrolled": true
   },
   "outputs": [
    {
     "name": "stdout",
     "output_type": "stream",
     "text": [
      "www.Amazon.com\n",
      "www.Flipkart.com\n",
      "www.Snapdeal.com\n"
     ]
    }
   ],
   "source": [
    "for item in websites:\n",
    "    print('www.{}.com'.format(item))"
   ]
  },
  {
   "cell_type": "markdown",
   "metadata": {},
   "source": [
    "## Iterating through dict"
   ]
  },
  {
   "cell_type": "code",
   "execution_count": 27,
   "metadata": {
    "ExecuteTime": {
     "end_time": "2021-09-24T11:56:27.996085Z",
     "start_time": "2021-09-24T11:56:27.978141Z"
    }
   },
   "outputs": [],
   "source": [
    "vk = {'Name':'Virat','Age': 38,'Team':'RCB'}"
   ]
  },
  {
   "cell_type": "code",
   "execution_count": 28,
   "metadata": {
    "ExecuteTime": {
     "end_time": "2021-09-24T11:57:01.298033Z",
     "start_time": "2021-09-24T11:57:01.289058Z"
    }
   },
   "outputs": [
    {
     "data": {
      "text/plain": [
       "{'Name': 'Virat', 'Age': 38, 'Team': 'RCB'}"
      ]
     },
     "execution_count": 28,
     "metadata": {},
     "output_type": "execute_result"
    }
   ],
   "source": [
    "vk"
   ]
  },
  {
   "cell_type": "code",
   "execution_count": 29,
   "metadata": {
    "ExecuteTime": {
     "end_time": "2021-09-24T11:57:41.908485Z",
     "start_time": "2021-09-24T11:57:41.901505Z"
    }
   },
   "outputs": [
    {
     "data": {
      "text/plain": [
       "dict_keys(['Name', 'Age', 'Team'])"
      ]
     },
     "execution_count": 29,
     "metadata": {},
     "output_type": "execute_result"
    }
   ],
   "source": [
    "vk.keys()"
   ]
  },
  {
   "cell_type": "code",
   "execution_count": 30,
   "metadata": {
    "ExecuteTime": {
     "end_time": "2021-09-24T11:57:21.538340Z",
     "start_time": "2021-09-24T11:57:21.523381Z"
    }
   },
   "outputs": [
    {
     "data": {
      "text/plain": [
       "dict_values(['Virat', 38, 'RCB'])"
      ]
     },
     "execution_count": 30,
     "metadata": {},
     "output_type": "execute_result"
    }
   ],
   "source": [
    "vk.values()"
   ]
  },
  {
   "cell_type": "code",
   "execution_count": 32,
   "metadata": {
    "ExecuteTime": {
     "end_time": "2021-09-24T11:57:41.908485Z",
     "start_time": "2021-09-24T11:57:41.901505Z"
    }
   },
   "outputs": [
    {
     "data": {
      "text/plain": [
       "dict_items([('Name', 'Virat'), ('Age', 38), ('Team', 'RCB')])"
      ]
     },
     "execution_count": 32,
     "metadata": {},
     "output_type": "execute_result"
    }
   ],
   "source": [
    "vk.items()"
   ]
  },
  {
   "cell_type": "code",
   "execution_count": 33,
   "metadata": {
    "ExecuteTime": {
     "end_time": "2021-09-24T11:58:18.212244Z",
     "start_time": "2021-09-24T11:58:18.195292Z"
    }
   },
   "outputs": [],
   "source": [
    "## Multiple ways Iterate through Keys"
   ]
  },
  {
   "cell_type": "code",
   "execution_count": 34,
   "metadata": {
    "ExecuteTime": {
     "end_time": "2021-09-24T11:58:38.056234Z",
     "start_time": "2021-09-24T11:58:38.045242Z"
    }
   },
   "outputs": [
    {
     "name": "stdout",
     "output_type": "stream",
     "text": [
      "Name\n",
      "Age\n",
      "Team\n"
     ]
    }
   ],
   "source": [
    "for item in vk:\n",
    "    print(item)"
   ]
  },
  {
   "cell_type": "code",
   "execution_count": 35,
   "metadata": {
    "ExecuteTime": {
     "end_time": "2021-09-24T11:59:03.888361Z",
     "start_time": "2021-09-24T11:59:03.872387Z"
    }
   },
   "outputs": [
    {
     "name": "stdout",
     "output_type": "stream",
     "text": [
      "Virat\n",
      "38\n",
      "RCB\n"
     ]
    }
   ],
   "source": [
    "for item in vk.values():\n",
    "    print(item)"
   ]
  },
  {
   "cell_type": "code",
   "execution_count": 36,
   "metadata": {
    "ExecuteTime": {
     "end_time": "2021-09-24T11:59:15.316121Z",
     "start_time": "2021-09-24T11:59:15.307144Z"
    }
   },
   "outputs": [
    {
     "name": "stdout",
     "output_type": "stream",
     "text": [
      "('Name', 'Virat')\n",
      "('Age', 38)\n",
      "('Team', 'RCB')\n"
     ]
    }
   ],
   "source": [
    "for item in vk.items():\n",
    "    print(item)\n",
    "    ## here we will get tuple in the output"
   ]
  },
  {
   "cell_type": "code",
   "execution_count": 41,
   "metadata": {
    "ExecuteTime": {
     "end_time": "2021-09-24T12:01:11.614179Z",
     "start_time": "2021-09-24T12:01:11.603208Z"
    }
   },
   "outputs": [
    {
     "name": "stdout",
     "output_type": "stream",
     "text": [
      "Name Virat\n",
      "Age 38\n",
      "Team RCB\n"
     ]
    }
   ],
   "source": [
    "for k,v in vk.items():\n",
    "    print(k,v)"
   ]
  },
  {
   "cell_type": "markdown",
   "metadata": {},
   "source": [
    "## Break"
   ]
  },
  {
   "cell_type": "code",
   "execution_count": 44,
   "metadata": {
    "ExecuteTime": {
     "end_time": "2021-09-24T12:02:55.790146Z",
     "start_time": "2021-09-24T12:02:55.772197Z"
    }
   },
   "outputs": [
    {
     "name": "stdout",
     "output_type": "stream",
     "text": [
      "1\n",
      "2\n",
      "3\n",
      "4\n",
      "5\n",
      "6\n",
      "7\n",
      "8\n",
      "9\n",
      "10\n"
     ]
    }
   ],
   "source": [
    "for item in range(1,11):\n",
    "    print(item)"
   ]
  },
  {
   "cell_type": "code",
   "execution_count": 45,
   "metadata": {
    "ExecuteTime": {
     "end_time": "2021-09-24T12:03:33.578768Z",
     "start_time": "2021-09-24T12:03:33.560818Z"
    }
   },
   "outputs": [
    {
     "name": "stdout",
     "output_type": "stream",
     "text": [
      "1\n",
      "2\n",
      "3\n",
      "4\n",
      "5\n"
     ]
    }
   ],
   "source": [
    "for item in range(1,11):\n",
    "    print(item)\n",
    "    if item ==5:\n",
    "        break"
   ]
  },
  {
   "cell_type": "markdown",
   "metadata": {},
   "source": [
    "## Continue"
   ]
  },
  {
   "cell_type": "code",
   "execution_count": 46,
   "metadata": {
    "ExecuteTime": {
     "end_time": "2021-09-24T12:04:46.939472Z",
     "start_time": "2021-09-24T12:04:46.929501Z"
    }
   },
   "outputs": [
    {
     "name": "stdout",
     "output_type": "stream",
     "text": [
      "1\n",
      "2\n",
      "3\n",
      "4\n",
      "5\n",
      "6\n",
      "7\n",
      "8\n",
      "9\n",
      "10\n"
     ]
    }
   ],
   "source": [
    "for item in range(1,11):\n",
    "    print(item)"
   ]
  },
  {
   "cell_type": "code",
   "execution_count": 48,
   "metadata": {
    "ExecuteTime": {
     "end_time": "2021-09-24T12:09:28.632928Z",
     "start_time": "2021-09-24T12:09:28.620041Z"
    }
   },
   "outputs": [
    {
     "name": "stdout",
     "output_type": "stream",
     "text": [
      "1\n",
      "3\n",
      "5\n",
      "7\n",
      "9\n"
     ]
    }
   ],
   "source": [
    "for item in range(1,11):\n",
    "    if item % 2 == 0:   ## here if the remainder is 0 means jumps to another no or if the no is divisible by 2 jumps to another no and print the only which are not divisible by 2 or the odds nos\n",
    "        continue\n",
    "    print(item)"
   ]
  },
  {
   "cell_type": "markdown",
   "metadata": {},
   "source": [
    "## Pass"
   ]
  },
  {
   "cell_type": "code",
   "execution_count": 11,
   "metadata": {
    "ExecuteTime": {
     "end_time": "2021-09-24T12:11:15.175465Z",
     "start_time": "2021-09-24T12:11:15.167530Z"
    }
   },
   "outputs": [],
   "source": [
    "# It is Synatx Filler\n",
    "# It Does nothing"
   ]
  },
  {
   "cell_type": "code",
   "execution_count": 12,
   "metadata": {
    "ExecuteTime": {
     "end_time": "2021-09-24T12:11:45.240237Z",
     "start_time": "2021-09-24T12:11:45.227272Z"
    }
   },
   "outputs": [
    {
     "ename": "SyntaxError",
     "evalue": "unexpected EOF while parsing (<ipython-input-12-69069be79369>, line 2)",
     "output_type": "error",
     "traceback": [
      "\u001b[1;36m  File \u001b[1;32m\"<ipython-input-12-69069be79369>\"\u001b[1;36m, line \u001b[1;32m2\u001b[0m\n\u001b[1;33m    \u001b[0m\n\u001b[1;37m    ^\u001b[0m\n\u001b[1;31mSyntaxError\u001b[0m\u001b[1;31m:\u001b[0m unexpected EOF while parsing\n"
     ]
    }
   ],
   "source": [
    "for item in range(1,11):\n",
    "    "
   ]
  },
  {
   "cell_type": "code",
   "execution_count": 13,
   "metadata": {
    "ExecuteTime": {
     "end_time": "2021-09-24T12:11:55.276096Z",
     "start_time": "2021-09-24T12:11:55.262135Z"
    }
   },
   "outputs": [],
   "source": [
    "for item in range(1,11):\n",
    "    pass"
   ]
  },
  {
   "cell_type": "markdown",
   "metadata": {},
   "source": [
    "# Exercises"
   ]
  },
  {
   "cell_type": "markdown",
   "metadata": {},
   "source": [
    "## Excercise 1"
   ]
  },
  {
   "cell_type": "code",
   "execution_count": 53,
   "metadata": {
    "ExecuteTime": {
     "end_time": "2021-09-24T12:14:19.607309Z",
     "start_time": "2021-09-24T12:14:19.602360Z"
    }
   },
   "outputs": [],
   "source": [
    "# take input from the user and print the reverse of a number\n",
    "# Input: 123\n",
    "# Output: 321"
   ]
  },
  {
   "cell_type": "code",
   "execution_count": 58,
   "metadata": {
    "ExecuteTime": {
     "end_time": "2021-09-24T12:21:06.192632Z",
     "start_time": "2021-09-24T12:21:02.918278Z"
    }
   },
   "outputs": [
    {
     "name": "stdout",
     "output_type": "stream",
     "text": [
      "enter any number: 123\n",
      "Reverse:  321\n"
     ]
    }
   ],
   "source": [
    "num = input('enter any number: ')\n",
    "print('Reverse: ',num[::-1])"
   ]
  },
  {
   "cell_type": "code",
   "execution_count": 59,
   "metadata": {
    "ExecuteTime": {
     "end_time": "2021-09-24T12:24:29.691816Z",
     "start_time": "2021-09-24T12:24:29.674823Z"
    }
   },
   "outputs": [],
   "source": [
    "s= 'WELCOME'"
   ]
  },
  {
   "cell_type": "code",
   "execution_count": 60,
   "metadata": {
    "ExecuteTime": {
     "end_time": "2021-09-24T12:24:45.820475Z",
     "start_time": "2021-09-24T12:24:45.803562Z"
    }
   },
   "outputs": [
    {
     "data": {
      "text/plain": [
       "'WLOE'"
      ]
     },
     "execution_count": 60,
     "metadata": {},
     "output_type": "execute_result"
    }
   ],
   "source": [
    "s[::2]"
   ]
  },
  {
   "cell_type": "code",
   "execution_count": 61,
   "metadata": {
    "ExecuteTime": {
     "end_time": "2021-09-24T12:25:03.684617Z",
     "start_time": "2021-09-24T12:25:03.670619Z"
    }
   },
   "outputs": [
    {
     "data": {
      "text/plain": [
       "'EMOCLEW'"
      ]
     },
     "execution_count": 61,
     "metadata": {},
     "output_type": "execute_result"
    }
   ],
   "source": [
    "s[::-1]"
   ]
  },
  {
   "cell_type": "code",
   "execution_count": null,
   "metadata": {},
   "outputs": [],
   "source": []
  },
  {
   "cell_type": "markdown",
   "metadata": {},
   "source": [
    "## Excercise 2"
   ]
  },
  {
   "cell_type": "code",
   "execution_count": 62,
   "metadata": {
    "ExecuteTime": {
     "end_time": "2021-09-24T12:27:27.271334Z",
     "start_time": "2021-09-24T12:27:27.254381Z"
    }
   },
   "outputs": [],
   "source": [
    "# Write a program to get the sum of all elements in the list\n",
    "# numbers = [11,22,33,44,55,66,77,88,99]"
   ]
  },
  {
   "cell_type": "code",
   "execution_count": 74,
   "metadata": {
    "ExecuteTime": {
     "end_time": "2021-09-24T12:34:57.833920Z",
     "start_time": "2021-09-24T12:34:57.818961Z"
    }
   },
   "outputs": [],
   "source": [
    " numbers = [11,22,33,44,55,66,77,88,99]"
   ]
  },
  {
   "cell_type": "code",
   "execution_count": 75,
   "metadata": {
    "ExecuteTime": {
     "end_time": "2021-09-24T12:36:07.787505Z",
     "start_time": "2021-09-24T12:36:07.770557Z"
    }
   },
   "outputs": [
    {
     "name": "stdout",
     "output_type": "stream",
     "text": [
      "Result: 495\n"
     ]
    }
   ],
   "source": [
    "result = 0\n",
    "for item in numbers:\n",
    "    result+= item\n",
    "print('Result:',result)"
   ]
  },
  {
   "cell_type": "code",
   "execution_count": null,
   "metadata": {},
   "outputs": [],
   "source": []
  },
  {
   "cell_type": "code",
   "execution_count": null,
   "metadata": {},
   "outputs": [],
   "source": []
  },
  {
   "cell_type": "markdown",
   "metadata": {},
   "source": [
    "## Excetcise 3"
   ]
  },
  {
   "cell_type": "code",
   "execution_count": null,
   "metadata": {},
   "outputs": [],
   "source": [
    "# Write a program to print below pattern\n",
    "#        *\n",
    "#       *  *\n",
    "#      *  *  *\n",
    "#     *  *  *  * \n",
    "#   *  *  *  *  *"
   ]
  }
 ],
 "metadata": {
  "kernelspec": {
   "display_name": "Python 3",
   "language": "python",
   "name": "python3"
  },
  "language_info": {
   "codemirror_mode": {
    "name": "ipython",
    "version": 3
   },
   "file_extension": ".py",
   "mimetype": "text/x-python",
   "name": "python",
   "nbconvert_exporter": "python",
   "pygments_lexer": "ipython3",
   "version": "3.8.8"
  },
  "toc": {
   "base_numbering": 1,
   "nav_menu": {},
   "number_sections": true,
   "sideBar": true,
   "skip_h1_title": false,
   "title_cell": "Table of Contents",
   "title_sidebar": "Contents",
   "toc_cell": false,
   "toc_position": {},
   "toc_section_display": true,
   "toc_window_display": true
  }
 },
 "nbformat": 4,
 "nbformat_minor": 4
}
