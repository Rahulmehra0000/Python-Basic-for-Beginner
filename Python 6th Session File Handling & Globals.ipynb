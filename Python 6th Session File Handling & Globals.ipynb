{
 "cells": [
  {
   "cell_type": "markdown",
   "metadata": {},
   "source": [
    "# File Handling"
   ]
  },
  {
   "cell_type": "code",
   "execution_count": 11,
   "metadata": {
    "ExecuteTime": {
     "end_time": "2021-09-26T12:52:14.642353Z",
     "start_time": "2021-09-26T12:52:14.620413Z"
    }
   },
   "outputs": [
    {
     "name": "stdout",
     "output_type": "stream",
     "text": [
      "The value of a inside function: LocalPythonObject\n"
     ]
    },
    {
     "ename": "NameError",
     "evalue": "name 'a' is not defined",
     "output_type": "error",
     "traceback": [
      "\u001b[1;31m---------------------------------------------------------------------------\u001b[0m",
      "\u001b[1;31mNameError\u001b[0m                                 Traceback (most recent call last)",
      "\u001b[1;32m<ipython-input-11-0a2e3aa28995>\u001b[0m in \u001b[0;36m<module>\u001b[1;34m\u001b[0m\n\u001b[0;32m      4\u001b[0m \u001b[1;33m\u001b[0m\u001b[0m\n\u001b[0;32m      5\u001b[0m \u001b[0mmyFunction\u001b[0m\u001b[1;33m(\u001b[0m\u001b[1;33m)\u001b[0m\u001b[1;33m\u001b[0m\u001b[1;33m\u001b[0m\u001b[0m\n\u001b[1;32m----> 6\u001b[1;33m \u001b[0mprint\u001b[0m\u001b[1;33m(\u001b[0m\u001b[1;34m'The value of a outside myFunction:'\u001b[0m\u001b[1;33m,\u001b[0m \u001b[0ma\u001b[0m\u001b[1;33m)\u001b[0m\u001b[1;33m\u001b[0m\u001b[1;33m\u001b[0m\u001b[0m\n\u001b[0m",
      "\u001b[1;31mNameError\u001b[0m: name 'a' is not defined"
     ]
    }
   ],
   "source": [
    "def myFunction():\n",
    "    a = 'LocalPythonObject'\n",
    "    print('The value of a inside function:', a)\n",
    "    \n",
    "myFunction()\n",
    "print('The value of a outside myFunction:', a)"
   ]
  },
  {
   "cell_type": "code",
   "execution_count": 14,
   "metadata": {
    "ExecuteTime": {
     "end_time": "2021-09-26T12:52:40.229654Z",
     "start_time": "2021-09-26T12:52:40.221680Z"
    }
   },
   "outputs": [
    {
     "name": "stdout",
     "output_type": "stream",
     "text": [
      "The value of a inside function: LocalPythonObject\n"
     ]
    }
   ],
   "source": [
    "def myFunction():\n",
    "    a = 'LocalPythonObject'\n",
    "    print('The value of a inside function:', a)\n",
    "myFunction()"
   ]
  },
  {
   "cell_type": "code",
   "execution_count": 17,
   "metadata": {
    "ExecuteTime": {
     "end_time": "2021-09-26T12:54:29.377331Z",
     "start_time": "2021-09-26T12:54:29.351439Z"
    }
   },
   "outputs": [
    {
     "name": "stdout",
     "output_type": "stream",
     "text": [
      "The value of a inside function: LocalPythonObject\n"
     ]
    },
    {
     "ename": "NameError",
     "evalue": "name 'a' is not defined",
     "output_type": "error",
     "traceback": [
      "\u001b[1;31m---------------------------------------------------------------------------\u001b[0m",
      "\u001b[1;31mNameError\u001b[0m                                 Traceback (most recent call last)",
      "\u001b[1;32m<ipython-input-17-c67d955e49f6>\u001b[0m in \u001b[0;36m<module>\u001b[1;34m\u001b[0m\n\u001b[0;32m      3\u001b[0m     \u001b[0mprint\u001b[0m\u001b[1;33m(\u001b[0m\u001b[1;34m'The value of a inside function:'\u001b[0m\u001b[1;33m,\u001b[0m \u001b[0ma\u001b[0m\u001b[1;33m)\u001b[0m\u001b[1;33m\u001b[0m\u001b[1;33m\u001b[0m\u001b[0m\n\u001b[0;32m      4\u001b[0m \u001b[0mmyFunction\u001b[0m\u001b[1;33m(\u001b[0m\u001b[1;33m)\u001b[0m\u001b[1;33m\u001b[0m\u001b[1;33m\u001b[0m\u001b[0m\n\u001b[1;32m----> 5\u001b[1;33m \u001b[0mprint\u001b[0m\u001b[1;33m(\u001b[0m\u001b[1;34m'The value of a outside myFunction:'\u001b[0m\u001b[1;33m,\u001b[0m \u001b[0ma\u001b[0m\u001b[1;33m)\u001b[0m\u001b[1;33m\u001b[0m\u001b[1;33m\u001b[0m\u001b[0m\n\u001b[0m\u001b[0;32m      6\u001b[0m \u001b[1;31m## As this function is defined inside the function and will gives eeror as the the above line code is defined outside the function\u001b[0m\u001b[1;33m\u001b[0m\u001b[1;33m\u001b[0m\u001b[1;33m\u001b[0m\u001b[0m\n",
      "\u001b[1;31mNameError\u001b[0m: name 'a' is not defined"
     ]
    }
   ],
   "source": [
    "def myFunction():\n",
    "    a = 'LocalPythonObject'\n",
    "    print('The value of a inside function:', a)\n",
    "myFunction()\n",
    "print('The value of a outside myFunction:', a) \n",
    "## As this function is defined inside the function and will gives eeror as the the above line code is defined outside the function"
   ]
  },
  {
   "cell_type": "markdown",
   "metadata": {},
   "source": [
    "# File Handling With Global Variable"
   ]
  },
  {
   "cell_type": "code",
   "execution_count": 19,
   "metadata": {
    "ExecuteTime": {
     "end_time": "2021-09-26T12:57:14.617739Z",
     "start_time": "2021-09-26T12:57:14.599787Z"
    }
   },
   "outputs": [
    {
     "name": "stdout",
     "output_type": "stream",
     "text": [
      "The value of a inside function: globalLocalPythonObject\n"
     ]
    }
   ],
   "source": [
    "def myFunction():\n",
    "    global a\n",
    "    a = 'globalLocalPythonObject'\n",
    "    print('The value of a inside function:', a)\n",
    "myFunction()\n",
    "#print('The value of a outside myFunction:', a) \n",
    "# first we are calling the first line that is defined a function inside it as globalinsidefunction"
   ]
  },
  {
   "cell_type": "code",
   "execution_count": 22,
   "metadata": {
    "ExecuteTime": {
     "end_time": "2021-09-26T12:59:16.417884Z",
     "start_time": "2021-09-26T12:59:16.399932Z"
    }
   },
   "outputs": [
    {
     "name": "stdout",
     "output_type": "stream",
     "text": [
      "The value of a inside function: globalLocalPythonObject\n",
      "The value of a outside myFunction: globalLocalPythonObject\n"
     ]
    }
   ],
   "source": [
    "def myFunction():\n",
    "    global a\n",
    "    a = 'globalLocalPythonObject'\n",
    "    print('The value of a inside function:', a)\n",
    "myFunction()\n",
    "print('The value of a outside myFunction:', a) \n",
    "\n",
    "## here we are calling the both inside and outside function with global variable as the global variable is available for both inside and outside of function"
   ]
  },
  {
   "cell_type": "code",
   "execution_count": 28,
   "metadata": {
    "ExecuteTime": {
     "end_time": "2021-09-26T13:02:35.800378Z",
     "start_time": "2021-09-26T13:02:35.787421Z"
    }
   },
   "outputs": [
    {
     "name": "stdout",
     "output_type": "stream",
     "text": [
      "The value of a outside myFunction: globalLocalPythonObject\n"
     ]
    }
   ],
   "source": [
    "def myFunction():\n",
    "    global a\n",
    "    a = 'globalLocalPythonObject'\n",
    "    print('The value of a inside function:', a)\n",
    "#myFunction()\n",
    "# here we are not calling the myFunction sr=ill it giving the output for outside function in python but not work in pycharm\n",
    "print('The value of a outside myFunction:', a) "
   ]
  },
  {
   "cell_type": "code",
   "execution_count": null,
   "metadata": {},
   "outputs": [],
   "source": []
  },
  {
   "cell_type": "code",
   "execution_count": 33,
   "metadata": {
    "ExecuteTime": {
     "end_time": "2021-09-26T13:07:37.447637Z",
     "start_time": "2021-09-26T13:07:37.438661Z"
    }
   },
   "outputs": [
    {
     "name": "stdout",
     "output_type": "stream",
     "text": [
      "The value of runscored in main: 1\n"
     ]
    }
   ],
   "source": [
    "runscored =1\n",
    "\n",
    "def LocalFunction():\n",
    "    runscore = 2\n",
    "    print('The value of runscored in LocalFunction():', runscored)\n",
    "    \n",
    "print('The value of runscored in main:', runscored)\n",
    "#LocalFunction()\n",
    "#print('After Calling LocalFunction, The value of runscored in main:', runscored)"
   ]
  },
  {
   "cell_type": "code",
   "execution_count": 34,
   "metadata": {
    "ExecuteTime": {
     "end_time": "2021-09-26T13:07:48.201031Z",
     "start_time": "2021-09-26T13:07:48.189063Z"
    }
   },
   "outputs": [
    {
     "name": "stdout",
     "output_type": "stream",
     "text": [
      "The value of runscored in main: 1\n",
      "The value of runscored in LocalFunction(): 1\n",
      "After Calling LocalFnction, The value of runscored in main: 1\n"
     ]
    }
   ],
   "source": [
    "runscored =1\n",
    "\n",
    "def LocalFunction():\n",
    "    runscore = 2\n",
    "    print('The value of runscored in LocalFunction():', runscored)\n",
    "    \n",
    "print('The value of runscored in main:', runscored)\n",
    "LocalFunction()\n",
    "print('After Calling LocalFnction, The value of runscored in main:', runscored)"
   ]
  },
  {
   "cell_type": "code",
   "execution_count": 37,
   "metadata": {
    "ExecuteTime": {
     "end_time": "2021-09-26T13:15:07.566280Z",
     "start_time": "2021-09-26T13:15:07.557321Z"
    }
   },
   "outputs": [
    {
     "name": "stdout",
     "output_type": "stream",
     "text": [
      "The value of runscored in main: 1\n",
      "The value of runscored in LocalFunction(): 1\n",
      "After Calling LocalFunction, The value of runscored in main: 1\n",
      "The value of runscored in globalFunctipon(): 3\n",
      "After Calling globalFunction, The value of runscored in main: 3\n",
      "The value of runscored in LocalFunction(): 3\n",
      "After Calling LocalFunction, The value of runscored in main: 3\n"
     ]
    }
   ],
   "source": [
    "runscored =1\n",
    "\n",
    "def LocalFunction():\n",
    "    runscore = 2\n",
    "    print('The value of runscored in LocalFunction():', runscored)\n",
    "\n",
    "def globalFunction():\n",
    "    global runscored\n",
    "    runscored = 3\n",
    "    print('The value of runscored in globalFunctipon():', runscored)\n",
    "    \n",
    "print('The value of runscored in main:', runscored)\n",
    "LocalFunction()\n",
    "print('After Calling LocalFunction, The value of runscored in main:', runscored)\n",
    "globalFunction()\n",
    "print('After Calling globalFunction, The value of runscored in main:', runscored)\n",
    "LocalFunction()\n",
    "print('After Calling LocalFunction, The value of runscored in main:', runscored)"
   ]
  },
  {
   "cell_type": "code",
   "execution_count": null,
   "metadata": {},
   "outputs": [],
   "source": []
  },
  {
   "cell_type": "markdown",
   "metadata": {},
   "source": [
    "# MODE for File Open\n",
    "* w => Write mode\n",
    "* r => Read mode\n",
    "* a => Append mode"
   ]
  },
  {
   "cell_type": "markdown",
   "metadata": {},
   "source": [
    "## Write Mode"
   ]
  },
  {
   "cell_type": "code",
   "execution_count": 40,
   "metadata": {
    "ExecuteTime": {
     "end_time": "2021-09-26T13:22:32.123727Z",
     "start_time": "2021-09-26T13:22:32.092909Z"
    }
   },
   "outputs": [],
   "source": [
    "fh = open('FileExam.text','w') ## if the file is present the current directory we will use this path\n",
    "#fh = open('C:\\\\users\\\\username\\\\FileExam.text','w')  ## if the file is present the different directory we will use this type of path of that file"
   ]
  },
  {
   "cell_type": "code",
   "execution_count": 41,
   "metadata": {
    "ExecuteTime": {
     "end_time": "2021-09-26T13:24:33.405046Z",
     "start_time": "2021-09-26T13:24:33.393079Z"
    }
   },
   "outputs": [],
   "source": [
    "fh.write('Welcome to file handling in Python.\\n')\n",
    "fh.write('This is second line.\\n')\n",
    "fh.write('Always close the file once the job is done.\\n')\n",
    "fh.close()"
   ]
  },
  {
   "cell_type": "markdown",
   "metadata": {},
   "source": [
    "## For Read Mode"
   ]
  },
  {
   "cell_type": "code",
   "execution_count": 44,
   "metadata": {
    "ExecuteTime": {
     "end_time": "2021-09-26T13:31:52.692419Z",
     "start_time": "2021-09-26T13:31:52.671443Z"
    }
   },
   "outputs": [
    {
     "name": "stdout",
     "output_type": "stream",
     "text": [
      "File Contents: Welcome to file handling in Python.\n",
      "This is second line.\n",
      "Always close the file once the job is done.\n",
      "\n"
     ]
    }
   ],
   "source": [
    "fh = open('FileExam.text','r')\n",
    "## In read mode whether you provide or not provide the r in mode it will automatically open the file in read mode\n",
    "\n",
    "strContents = fh.read()\n",
    "fh.close()\n",
    "\n",
    "print('File Contents:', strContents)"
   ]
  },
  {
   "cell_type": "code",
   "execution_count": null,
   "metadata": {},
   "outputs": [],
   "source": []
  },
  {
   "cell_type": "code",
   "execution_count": null,
   "metadata": {},
   "outputs": [],
   "source": []
  },
  {
   "cell_type": "code",
   "execution_count": null,
   "metadata": {},
   "outputs": [],
   "source": []
  },
  {
   "cell_type": "code",
   "execution_count": 45,
   "metadata": {
    "ExecuteTime": {
     "end_time": "2021-09-26T14:32:33.234595Z",
     "start_time": "2021-09-26T14:32:33.141909Z"
    }
   },
   "outputs": [],
   "source": [
    "import math"
   ]
  },
  {
   "cell_type": "code",
   "execution_count": 46,
   "metadata": {
    "ExecuteTime": {
     "end_time": "2021-09-26T14:32:46.890260Z",
     "start_time": "2021-09-26T14:32:46.862299Z"
    }
   },
   "outputs": [
    {
     "name": "stdout",
     "output_type": "stream",
     "text": [
      "120\n"
     ]
    }
   ],
   "source": [
    "print(math.factorial(5))"
   ]
  },
  {
   "cell_type": "code",
   "execution_count": 49,
   "metadata": {
    "ExecuteTime": {
     "end_time": "2021-09-26T14:34:57.588235Z",
     "start_time": "2021-09-26T14:34:57.565296Z"
    }
   },
   "outputs": [
    {
     "name": "stdout",
     "output_type": "stream",
     "text": [
      "5040\n"
     ]
    }
   ],
   "source": [
    "print(math.factorial(7))"
   ]
  },
  {
   "cell_type": "code",
   "execution_count": null,
   "metadata": {},
   "outputs": [],
   "source": []
  },
  {
   "cell_type": "code",
   "execution_count": 47,
   "metadata": {
    "ExecuteTime": {
     "end_time": "2021-09-26T14:33:25.129039Z",
     "start_time": "2021-09-26T14:33:25.113083Z"
    }
   },
   "outputs": [],
   "source": [
    "from math import factorial"
   ]
  },
  {
   "cell_type": "code",
   "execution_count": 48,
   "metadata": {
    "ExecuteTime": {
     "end_time": "2021-09-26T14:33:42.082689Z",
     "start_time": "2021-09-26T14:33:42.071718Z"
    }
   },
   "outputs": [
    {
     "name": "stdout",
     "output_type": "stream",
     "text": [
      "5040\n"
     ]
    }
   ],
   "source": [
    "print(factorial(7))"
   ]
  },
  {
   "cell_type": "code",
   "execution_count": null,
   "metadata": {},
   "outputs": [],
   "source": []
  },
  {
   "cell_type": "code",
   "execution_count": null,
   "metadata": {},
   "outputs": [],
   "source": []
  },
  {
   "cell_type": "code",
   "execution_count": null,
   "metadata": {},
   "outputs": [],
   "source": []
  },
  {
   "cell_type": "code",
   "execution_count": null,
   "metadata": {},
   "outputs": [],
   "source": []
  },
  {
   "cell_type": "code",
   "execution_count": null,
   "metadata": {},
   "outputs": [],
   "source": []
  },
  {
   "cell_type": "code",
   "execution_count": null,
   "metadata": {},
   "outputs": [],
   "source": []
  },
  {
   "cell_type": "code",
   "execution_count": null,
   "metadata": {},
   "outputs": [],
   "source": []
  },
  {
   "cell_type": "code",
   "execution_count": null,
   "metadata": {},
   "outputs": [],
   "source": []
  },
  {
   "cell_type": "code",
   "execution_count": null,
   "metadata": {},
   "outputs": [],
   "source": []
  },
  {
   "cell_type": "code",
   "execution_count": null,
   "metadata": {},
   "outputs": [],
   "source": []
  },
  {
   "cell_type": "code",
   "execution_count": null,
   "metadata": {},
   "outputs": [],
   "source": []
  },
  {
   "cell_type": "code",
   "execution_count": null,
   "metadata": {},
   "outputs": [],
   "source": []
  }
 ],
 "metadata": {
  "kernelspec": {
   "display_name": "Python 3",
   "language": "python",
   "name": "python3"
  },
  "language_info": {
   "codemirror_mode": {
    "name": "ipython",
    "version": 3
   },
   "file_extension": ".py",
   "mimetype": "text/x-python",
   "name": "python",
   "nbconvert_exporter": "python",
   "pygments_lexer": "ipython3",
   "version": "3.8.5"
  },
  "toc": {
   "base_numbering": 1,
   "nav_menu": {},
   "number_sections": true,
   "sideBar": true,
   "skip_h1_title": false,
   "title_cell": "Table of Contents",
   "title_sidebar": "Contents",
   "toc_cell": false,
   "toc_position": {},
   "toc_section_display": true,
   "toc_window_display": false
  }
 },
 "nbformat": 4,
 "nbformat_minor": 4
}
