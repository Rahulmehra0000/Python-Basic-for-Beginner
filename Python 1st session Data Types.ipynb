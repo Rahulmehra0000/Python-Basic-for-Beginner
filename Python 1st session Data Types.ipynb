{
 "cells": [
  {
   "cell_type": "markdown",
   "metadata": {},
   "source": [
    "#  Introduction to Data Types"
   ]
  },
  {
   "cell_type": "code",
   "execution_count": 1,
   "metadata": {
    "ExecuteTime": {
     "end_time": "2021-09-22T18:42:46.375854Z",
     "start_time": "2021-09-22T18:42:46.337420Z"
    }
   },
   "outputs": [],
   "source": [
    "i = 10"
   ]
  },
  {
   "cell_type": "code",
   "execution_count": 2,
   "metadata": {
    "ExecuteTime": {
     "end_time": "2021-09-22T18:42:50.062928Z",
     "start_time": "2021-09-22T18:42:50.019027Z"
    }
   },
   "outputs": [
    {
     "data": {
      "text/plain": [
       "10"
      ]
     },
     "execution_count": 2,
     "metadata": {},
     "output_type": "execute_result"
    }
   ],
   "source": [
    "i"
   ]
  },
  {
   "cell_type": "code",
   "execution_count": 3,
   "metadata": {
    "ExecuteTime": {
     "end_time": "2021-09-22T18:43:01.180561Z",
     "start_time": "2021-09-22T18:43:01.157624Z"
    }
   },
   "outputs": [
    {
     "data": {
      "text/plain": [
       "int"
      ]
     },
     "execution_count": 3,
     "metadata": {},
     "output_type": "execute_result"
    }
   ],
   "source": [
    "type(i)"
   ]
  },
  {
   "cell_type": "code",
   "execution_count": 4,
   "metadata": {
    "ExecuteTime": {
     "end_time": "2021-09-22T18:43:19.025350Z",
     "start_time": "2021-09-22T18:43:19.006037Z"
    }
   },
   "outputs": [
    {
     "name": "stdout",
     "output_type": "stream",
     "text": [
      "<class 'int'>\n"
     ]
    }
   ],
   "source": [
    "print(type(i))"
   ]
  },
  {
   "cell_type": "code",
   "execution_count": 5,
   "metadata": {
    "ExecuteTime": {
     "end_time": "2021-09-22T18:43:46.183729Z",
     "start_time": "2021-09-22T18:43:46.174730Z"
    }
   },
   "outputs": [
    {
     "data": {
      "text/plain": [
       "140730331703360"
      ]
     },
     "execution_count": 5,
     "metadata": {},
     "output_type": "execute_result"
    }
   ],
   "source": [
    "id(i)\n",
    "# address stored in i "
   ]
  },
  {
   "cell_type": "code",
   "execution_count": 6,
   "metadata": {
    "ExecuteTime": {
     "end_time": "2021-09-22T18:44:17.265840Z",
     "start_time": "2021-09-22T18:44:17.247859Z"
    }
   },
   "outputs": [
    {
     "name": "stdout",
     "output_type": "stream",
     "text": [
      "10\n"
     ]
    }
   ],
   "source": [
    "print(i)"
   ]
  },
  {
   "cell_type": "markdown",
   "metadata": {},
   "source": [
    "#  Strings\n",
    "* Strings - a collection of characters\n",
    "* can be defined using either double quotes or single quotes\n",
    "* IMMUTABLE"
   ]
  },
  {
   "cell_type": "code",
   "execution_count": 7,
   "metadata": {
    "ExecuteTime": {
     "end_time": "2021-09-22T18:48:17.232764Z",
     "start_time": "2021-09-22T18:48:17.216767Z"
    }
   },
   "outputs": [],
   "source": [
    "#  Hash is used to define any coments"
   ]
  },
  {
   "cell_type": "code",
   "execution_count": 8,
   "metadata": {
    "ExecuteTime": {
     "end_time": "2021-09-22T18:48:24.543849Z",
     "start_time": "2021-09-22T18:48:24.527853Z"
    }
   },
   "outputs": [],
   "source": [
    "s = \"Welcome\""
   ]
  },
  {
   "cell_type": "code",
   "execution_count": 9,
   "metadata": {
    "ExecuteTime": {
     "end_time": "2021-09-22T18:48:35.221725Z",
     "start_time": "2021-09-22T18:48:35.214743Z"
    }
   },
   "outputs": [
    {
     "name": "stdout",
     "output_type": "stream",
     "text": [
      "<class 'str'>\n"
     ]
    }
   ],
   "source": [
    "print(type(s))"
   ]
  },
  {
   "cell_type": "code",
   "execution_count": 10,
   "metadata": {
    "ExecuteTime": {
     "end_time": "2021-09-22T18:48:40.675933Z",
     "start_time": "2021-09-22T18:48:40.654005Z"
    }
   },
   "outputs": [
    {
     "data": {
      "text/plain": [
       "7"
      ]
     },
     "execution_count": 10,
     "metadata": {},
     "output_type": "execute_result"
    }
   ],
   "source": [
    "len(s)"
   ]
  },
  {
   "cell_type": "code",
   "execution_count": 14,
   "metadata": {
    "ExecuteTime": {
     "end_time": "2021-09-22T18:50:53.050172Z",
     "start_time": "2021-09-22T18:50:53.043191Z"
    }
   },
   "outputs": [],
   "source": [
    "# Len => is a function, same function can be used to find the lenght of list, tuple dict..."
   ]
  },
  {
   "cell_type": "markdown",
   "metadata": {},
   "source": [
    "#  Indexing"
   ]
  },
  {
   "cell_type": "markdown",
   "metadata": {},
   "source": [
    "# Positive Indexing"
   ]
  },
  {
   "cell_type": "code",
   "execution_count": 15,
   "metadata": {
    "ExecuteTime": {
     "end_time": "2021-09-22T18:53:15.791384Z",
     "start_time": "2021-09-22T18:53:15.781412Z"
    }
   },
   "outputs": [],
   "source": [
    "# The index starts from 0 (Zero) to lenght-1\n",
    "# To access any element, always use subscript operator []"
   ]
  },
  {
   "cell_type": "code",
   "execution_count": null,
   "metadata": {},
   "outputs": [],
   "source": []
  },
  {
   "cell_type": "code",
   "execution_count": 17,
   "metadata": {
    "ExecuteTime": {
     "end_time": "2021-09-22T18:54:27.959554Z",
     "start_time": "2021-09-22T18:54:27.950576Z"
    }
   },
   "outputs": [
    {
     "data": {
      "text/plain": [
       "'W'"
      ]
     },
     "execution_count": 17,
     "metadata": {},
     "output_type": "execute_result"
    }
   ],
   "source": [
    "s[0]"
   ]
  },
  {
   "cell_type": "code",
   "execution_count": 18,
   "metadata": {
    "ExecuteTime": {
     "end_time": "2021-09-22T18:54:36.296081Z",
     "start_time": "2021-09-22T18:54:36.283114Z"
    }
   },
   "outputs": [
    {
     "data": {
      "text/plain": [
       "'e'"
      ]
     },
     "execution_count": 18,
     "metadata": {},
     "output_type": "execute_result"
    }
   ],
   "source": [
    "s[6]"
   ]
  },
  {
   "cell_type": "markdown",
   "metadata": {},
   "source": [
    "# Negative Indexing"
   ]
  },
  {
   "cell_type": "code",
   "execution_count": 19,
   "metadata": {
    "ExecuteTime": {
     "end_time": "2021-09-22T18:54:47.896843Z",
     "start_time": "2021-09-22T18:54:47.844712Z"
    }
   },
   "outputs": [
    {
     "data": {
      "text/plain": [
       "'e'"
      ]
     },
     "execution_count": 19,
     "metadata": {},
     "output_type": "execute_result"
    }
   ],
   "source": [
    "s[-1]"
   ]
  },
  {
   "cell_type": "code",
   "execution_count": 20,
   "metadata": {
    "ExecuteTime": {
     "end_time": "2021-09-22T19:00:21.109457Z",
     "start_time": "2021-09-22T19:00:21.101440Z"
    }
   },
   "outputs": [
    {
     "data": {
      "text/plain": [
       "'l'"
      ]
     },
     "execution_count": 20,
     "metadata": {},
     "output_type": "execute_result"
    }
   ],
   "source": [
    "s[-5]"
   ]
  },
  {
   "cell_type": "markdown",
   "metadata": {},
   "source": [
    "#  Slicing\n",
    "* Extracts a substring from a string\n",
    "* Syntax: startPos: EndPos: SkipCount/Direction\n",
    "* StarPos-> Included, End Pos -> Excluded\n",
    "* by Default, slicing always works from left to right (unless changed by direction)"
   ]
  },
  {
   "cell_type": "code",
   "execution_count": 21,
   "metadata": {
    "ExecuteTime": {
     "end_time": "2021-09-22T19:04:58.998332Z",
     "start_time": "2021-09-22T19:04:58.852352Z"
    }
   },
   "outputs": [
    {
     "data": {
      "text/plain": [
       "'Wel'"
      ]
     },
     "execution_count": 21,
     "metadata": {},
     "output_type": "execute_result"
    }
   ],
   "source": [
    "s[0:3]"
   ]
  },
  {
   "cell_type": "code",
   "execution_count": 22,
   "metadata": {
    "ExecuteTime": {
     "end_time": "2021-09-22T19:05:21.390184Z",
     "start_time": "2021-09-22T19:05:21.367697Z"
    }
   },
   "outputs": [
    {
     "data": {
      "text/plain": [
       "'come'"
      ]
     },
     "execution_count": 22,
     "metadata": {},
     "output_type": "execute_result"
    }
   ],
   "source": [
    "s[3:7]"
   ]
  },
  {
   "cell_type": "code",
   "execution_count": 24,
   "metadata": {
    "ExecuteTime": {
     "end_time": "2021-09-22T19:05:45.798318Z",
     "start_time": "2021-09-22T19:05:45.784398Z"
    }
   },
   "outputs": [
    {
     "data": {
      "text/plain": [
       "'Wel'"
      ]
     },
     "execution_count": 24,
     "metadata": {},
     "output_type": "execute_result"
    }
   ],
   "source": [
    "s[:3]"
   ]
  },
  {
   "cell_type": "code",
   "execution_count": 25,
   "metadata": {
    "ExecuteTime": {
     "end_time": "2021-09-22T19:06:06.513267Z",
     "start_time": "2021-09-22T19:06:06.501301Z"
    }
   },
   "outputs": [
    {
     "data": {
      "text/plain": [
       "'come'"
      ]
     },
     "execution_count": 25,
     "metadata": {},
     "output_type": "execute_result"
    }
   ],
   "source": [
    "s[3:]"
   ]
  },
  {
   "cell_type": "code",
   "execution_count": 26,
   "metadata": {
    "ExecuteTime": {
     "end_time": "2021-09-22T19:07:42.268714Z",
     "start_time": "2021-09-22T19:07:42.250804Z"
    }
   },
   "outputs": [],
   "source": [
    "# Negative indexing for the slicing"
   ]
  },
  {
   "cell_type": "code",
   "execution_count": 27,
   "metadata": {
    "ExecuteTime": {
     "end_time": "2021-09-22T19:07:51.677975Z",
     "start_time": "2021-09-22T19:07:51.664976Z"
    }
   },
   "outputs": [
    {
     "data": {
      "text/plain": [
       "'Wel'"
      ]
     },
     "execution_count": 27,
     "metadata": {},
     "output_type": "execute_result"
    }
   ],
   "source": [
    "s[-7:-4]"
   ]
  },
  {
   "cell_type": "code",
   "execution_count": 28,
   "metadata": {
    "ExecuteTime": {
     "end_time": "2021-09-22T19:08:16.604325Z",
     "start_time": "2021-09-22T19:08:16.589369Z"
    }
   },
   "outputs": [
    {
     "data": {
      "text/plain": [
       "'Wel'"
      ]
     },
     "execution_count": 28,
     "metadata": {},
     "output_type": "execute_result"
    }
   ],
   "source": [
    "s[:-4]"
   ]
  },
  {
   "cell_type": "code",
   "execution_count": 30,
   "metadata": {
    "ExecuteTime": {
     "end_time": "2021-09-22T19:10:39.322369Z",
     "start_time": "2021-09-22T19:10:39.314391Z"
    }
   },
   "outputs": [
    {
     "data": {
      "text/plain": [
       "''"
      ]
     },
     "execution_count": 30,
     "metadata": {},
     "output_type": "execute_result"
    }
   ],
   "source": [
    "s[-1:-4]\n",
    "# so slicing always done from left to right and in above code the slicing was done from right to left\n",
    "#i.e its shows '' which means empty"
   ]
  },
  {
   "cell_type": "code",
   "execution_count": 31,
   "metadata": {
    "ExecuteTime": {
     "end_time": "2021-09-22T19:11:18.911323Z",
     "start_time": "2021-09-22T19:11:18.786700Z"
    }
   },
   "outputs": [
    {
     "data": {
      "text/plain": [
       "'Welc'"
      ]
     },
     "execution_count": 31,
     "metadata": {},
     "output_type": "execute_result"
    }
   ],
   "source": [
    "s[-7:-3]"
   ]
  },
  {
   "cell_type": "code",
   "execution_count": 32,
   "metadata": {
    "ExecuteTime": {
     "end_time": "2021-09-22T19:11:45.502118Z",
     "start_time": "2021-09-22T19:11:45.471165Z"
    }
   },
   "outputs": [
    {
     "data": {
      "text/plain": [
       "'Wel'"
      ]
     },
     "execution_count": 32,
     "metadata": {},
     "output_type": "execute_result"
    }
   ],
   "source": [
    "s[-100:3]"
   ]
  },
  {
   "cell_type": "code",
   "execution_count": 33,
   "metadata": {
    "ExecuteTime": {
     "end_time": "2021-09-22T19:12:04.614783Z",
     "start_time": "2021-09-22T19:12:04.603813Z"
    }
   },
   "outputs": [
    {
     "data": {
      "text/plain": [
       "'Welcome'"
      ]
     },
     "execution_count": 33,
     "metadata": {},
     "output_type": "execute_result"
    }
   ],
   "source": [
    "s[:]"
   ]
  },
  {
   "cell_type": "code",
   "execution_count": 34,
   "metadata": {
    "ExecuteTime": {
     "end_time": "2021-09-22T19:12:10.761894Z",
     "start_time": "2021-09-22T19:12:10.703806Z"
    }
   },
   "outputs": [
    {
     "ename": "SyntaxError",
     "evalue": "invalid syntax (<ipython-input-34-d5d19ff545f3>, line 1)",
     "output_type": "error",
     "traceback": [
      "\u001b[1;36m  File \u001b[1;32m\"<ipython-input-34-d5d19ff545f3>\"\u001b[1;36m, line \u001b[1;32m1\u001b[0m\n\u001b[1;33m    s[]\u001b[0m\n\u001b[1;37m      ^\u001b[0m\n\u001b[1;31mSyntaxError\u001b[0m\u001b[1;31m:\u001b[0m invalid syntax\n"
     ]
    }
   ],
   "source": [
    "s[]\n",
    "#alwys inset value in the codes otherwise will show an error"
   ]
  },
  {
   "cell_type": "code",
   "execution_count": 41,
   "metadata": {
    "ExecuteTime": {
     "end_time": "2021-09-22T19:15:47.141691Z",
     "start_time": "2021-09-22T19:15:47.123739Z"
    }
   },
   "outputs": [],
   "source": [
    "#write a program to extract 'Class' from the below string(using slicing)\n",
    "msg ='Welcome to Python Programming Class'"
   ]
  },
  {
   "cell_type": "code",
   "execution_count": 42,
   "metadata": {
    "ExecuteTime": {
     "end_time": "2021-09-22T19:15:49.152963Z",
     "start_time": "2021-09-22T19:15:49.146977Z"
    }
   },
   "outputs": [
    {
     "data": {
      "text/plain": [
       "str"
      ]
     },
     "execution_count": 42,
     "metadata": {},
     "output_type": "execute_result"
    }
   ],
   "source": [
    "type(msg)"
   ]
  },
  {
   "cell_type": "code",
   "execution_count": 43,
   "metadata": {
    "ExecuteTime": {
     "end_time": "2021-09-22T19:15:49.590998Z",
     "start_time": "2021-09-22T19:15:49.575039Z"
    }
   },
   "outputs": [
    {
     "name": "stdout",
     "output_type": "stream",
     "text": [
      "<class 'str'>\n"
     ]
    }
   ],
   "source": [
    "print(type(msg))"
   ]
  },
  {
   "cell_type": "code",
   "execution_count": 44,
   "metadata": {
    "ExecuteTime": {
     "end_time": "2021-09-22T19:15:50.528289Z",
     "start_time": "2021-09-22T19:15:50.506299Z"
    }
   },
   "outputs": [
    {
     "data": {
      "text/plain": [
       "35"
      ]
     },
     "execution_count": 44,
     "metadata": {},
     "output_type": "execute_result"
    }
   ],
   "source": [
    "len(msg)"
   ]
  },
  {
   "cell_type": "code",
   "execution_count": 47,
   "metadata": {
    "ExecuteTime": {
     "end_time": "2021-09-22T19:16:56.814564Z",
     "start_time": "2021-09-22T19:16:56.793841Z"
    }
   },
   "outputs": [
    {
     "data": {
      "text/plain": [
       "'Class'"
      ]
     },
     "execution_count": 47,
     "metadata": {},
     "output_type": "execute_result"
    }
   ],
   "source": [
    "msg[30:]"
   ]
  },
  {
   "cell_type": "code",
   "execution_count": 46,
   "metadata": {
    "ExecuteTime": {
     "end_time": "2021-09-22T19:16:29.983439Z",
     "start_time": "2021-09-22T19:16:29.960856Z"
    }
   },
   "outputs": [
    {
     "data": {
      "text/plain": [
       "'Class'"
      ]
     },
     "execution_count": 46,
     "metadata": {},
     "output_type": "execute_result"
    }
   ],
   "source": [
    "msg[-5:]"
   ]
  },
  {
   "cell_type": "code",
   "execution_count": 48,
   "metadata": {
    "ExecuteTime": {
     "end_time": "2021-09-22T19:20:49.414847Z",
     "start_time": "2021-09-22T19:20:49.399925Z"
    }
   },
   "outputs": [],
   "source": [
    "# () => Paranthesis\n",
    "# []=> Square Bracket / Subscript Operator\n",
    "# {}=> Curly Brackets / Flower Brackets"
   ]
  },
  {
   "cell_type": "code",
   "execution_count": 50,
   "metadata": {
    "ExecuteTime": {
     "end_time": "2021-09-22T19:21:39.504283Z",
     "start_time": "2021-09-22T19:21:39.482343Z"
    }
   },
   "outputs": [
    {
     "data": {
      "text/plain": [
       "' Multi Line coments by using tripple codes '"
      ]
     },
     "execution_count": 50,
     "metadata": {},
     "output_type": "execute_result"
    }
   ],
   "source": [
    "''' Multi Line coments by using tripple codes '''"
   ]
  },
  {
   "cell_type": "code",
   "execution_count": 52,
   "metadata": {
    "ExecuteTime": {
     "end_time": "2021-09-22T19:22:19.251219Z",
     "start_time": "2021-09-22T19:22:19.236258Z"
    }
   },
   "outputs": [
    {
     "data": {
      "text/plain": [
       "' () => Paranthesis\\n []=> Square Bracket / Subscript Operator\\n {}=> Curly Brackets / Flower Brackets'"
      ]
     },
     "execution_count": 52,
     "metadata": {},
     "output_type": "execute_result"
    }
   ],
   "source": [
    "''' () => Paranthesis\n",
    " []=> Square Bracket / Subscript Operator\n",
    " {}=> Curly Brackets / Flower Brackets'''"
   ]
  },
  {
   "cell_type": "code",
   "execution_count": 53,
   "metadata": {
    "ExecuteTime": {
     "end_time": "2021-09-22T19:22:34.520289Z",
     "start_time": "2021-09-22T19:22:34.511243Z"
    }
   },
   "outputs": [
    {
     "data": {
      "text/plain": [
       "'Welcome'"
      ]
     },
     "execution_count": 53,
     "metadata": {},
     "output_type": "execute_result"
    }
   ],
   "source": [
    "s[:]"
   ]
  },
  {
   "cell_type": "code",
   "execution_count": 57,
   "metadata": {
    "ExecuteTime": {
     "end_time": "2021-09-22T19:26:25.723885Z",
     "start_time": "2021-09-22T19:26:25.609718Z"
    }
   },
   "outputs": [
    {
     "data": {
      "text/plain": [
       "'Wloe'"
      ]
     },
     "execution_count": 57,
     "metadata": {},
     "output_type": "execute_result"
    }
   ],
   "source": [
    "s[::2] ## skiping method\n",
    "# so actually this double colan will do it will starts from 0 index and skips the next and goes to alternative index and perform like this way\n",
    "# so in WELCOME it will starts from W and skips E goes to l skips c goes to O skips M and goes to E\n",
    "# basically it means the step count here is 2"
   ]
  },
  {
   "cell_type": "code",
   "execution_count": 58,
   "metadata": {
    "ExecuteTime": {
     "end_time": "2021-09-22T19:26:34.385733Z",
     "start_time": "2021-09-22T19:26:34.369777Z"
    }
   },
   "outputs": [
    {
     "data": {
      "text/plain": [
       "'Wce'"
      ]
     },
     "execution_count": 58,
     "metadata": {},
     "output_type": "execute_result"
    }
   ],
   "source": [
    "s[::3]\n",
    "# here the step coun is 3"
   ]
  },
  {
   "cell_type": "code",
   "execution_count": 60,
   "metadata": {
    "ExecuteTime": {
     "end_time": "2021-09-22T19:26:53.427244Z",
     "start_time": "2021-09-22T19:26:53.422257Z"
    }
   },
   "outputs": [
    {
     "data": {
      "text/plain": [
       "'Welcome'"
      ]
     },
     "execution_count": 60,
     "metadata": {},
     "output_type": "execute_result"
    }
   ],
   "source": [
    "s[::1]\n",
    "# here the step counts is 1"
   ]
  },
  {
   "cell_type": "code",
   "execution_count": 64,
   "metadata": {
    "ExecuteTime": {
     "end_time": "2021-09-22T19:28:00.973790Z",
     "start_time": "2021-09-22T19:28:00.959830Z"
    }
   },
   "outputs": [
    {
     "data": {
      "text/plain": [
       "'emocleW'"
      ]
     },
     "execution_count": 64,
     "metadata": {},
     "output_type": "execute_result"
    }
   ],
   "source": [
    "s[::-1]\n",
    "# so here it has reversed the string/order"
   ]
  },
  {
   "cell_type": "code",
   "execution_count": 65,
   "metadata": {
    "ExecuteTime": {
     "end_time": "2021-09-22T19:28:10.302433Z",
     "start_time": "2021-09-22T19:28:10.292463Z"
    }
   },
   "outputs": [
    {
     "data": {
      "text/plain": [
       "'eolW'"
      ]
     },
     "execution_count": 65,
     "metadata": {},
     "output_type": "execute_result"
    }
   ],
   "source": [
    "s[::-2]"
   ]
  },
  {
   "cell_type": "code",
   "execution_count": 67,
   "metadata": {
    "ExecuteTime": {
     "end_time": "2021-09-22T19:30:24.812667Z",
     "start_time": "2021-09-22T19:30:24.680809Z"
    }
   },
   "outputs": [
    {
     "ename": "TypeError",
     "evalue": "can only concatenate str (not \"int\") to str",
     "output_type": "error",
     "traceback": [
      "\u001b[1;31m---------------------------------------------------------------------------\u001b[0m",
      "\u001b[1;31mTypeError\u001b[0m                                 Traceback (most recent call last)",
      "\u001b[1;32m<ipython-input-67-534b607268b6>\u001b[0m in \u001b[0;36m<module>\u001b[1;34m\u001b[0m\n\u001b[1;32m----> 1\u001b[1;33m \u001b[0ms\u001b[0m\u001b[1;33m+\u001b[0m\u001b[1;36m10\u001b[0m\u001b[1;33m\u001b[0m\u001b[1;33m\u001b[0m\u001b[0m\n\u001b[0m\u001b[0;32m      2\u001b[0m \u001b[1;31m# this will print an error as one is obect and other is integer\u001b[0m\u001b[1;33m\u001b[0m\u001b[1;33m\u001b[0m\u001b[1;33m\u001b[0m\u001b[0m\n\u001b[0;32m      3\u001b[0m \u001b[1;31m# so to perform add, multi, sub etc both the operends should be of same datatypes\u001b[0m\u001b[1;33m\u001b[0m\u001b[1;33m\u001b[0m\u001b[1;33m\u001b[0m\u001b[0m\n",
      "\u001b[1;31mTypeError\u001b[0m: can only concatenate str (not \"int\") to str"
     ]
    }
   ],
   "source": [
    "s+10\n",
    "# this will print an error as one is string and other is integer\n",
    "# so to perform addition and sub, both the operends should be of same datatypes"
   ]
  },
  {
   "cell_type": "code",
   "execution_count": 69,
   "metadata": {
    "ExecuteTime": {
     "end_time": "2021-09-22T19:31:13.834286Z",
     "start_time": "2021-09-22T19:31:13.815339Z"
    }
   },
   "outputs": [
    {
     "data": {
      "text/plain": [
       "'Welcome10'"
      ]
     },
     "execution_count": 69,
     "metadata": {},
     "output_type": "execute_result"
    }
   ],
   "source": [
    "s +'10'\n",
    "#so here we had made 10 as a string"
   ]
  },
  {
   "cell_type": "code",
   "execution_count": 70,
   "metadata": {
    "ExecuteTime": {
     "end_time": "2021-09-22T19:31:47.963819Z",
     "start_time": "2021-09-22T19:31:47.911958Z"
    }
   },
   "outputs": [
    {
     "ename": "TypeError",
     "evalue": "unsupported operand type(s) for -: 'str' and 'int'",
     "output_type": "error",
     "traceback": [
      "\u001b[1;31m---------------------------------------------------------------------------\u001b[0m",
      "\u001b[1;31mTypeError\u001b[0m                                 Traceback (most recent call last)",
      "\u001b[1;32m<ipython-input-70-840b4444eee6>\u001b[0m in \u001b[0;36m<module>\u001b[1;34m\u001b[0m\n\u001b[1;32m----> 1\u001b[1;33m \u001b[0ms\u001b[0m \u001b[1;33m-\u001b[0m \u001b[1;36m10\u001b[0m\u001b[1;33m\u001b[0m\u001b[1;33m\u001b[0m\u001b[0m\n\u001b[0m",
      "\u001b[1;31mTypeError\u001b[0m: unsupported operand type(s) for -: 'str' and 'int'"
     ]
    }
   ],
   "source": [
    "s - 10"
   ]
  },
  {
   "cell_type": "code",
   "execution_count": 71,
   "metadata": {
    "ExecuteTime": {
     "end_time": "2021-09-22T19:31:53.712580Z",
     "start_time": "2021-09-22T19:31:53.706670Z"
    }
   },
   "outputs": [
    {
     "data": {
      "text/plain": [
       "'WelcomeWelcomeWelcome'"
      ]
     },
     "execution_count": 71,
     "metadata": {},
     "output_type": "execute_result"
    }
   ],
   "source": [
    "s *3\n",
    "# here s value has multiplied 3 times"
   ]
  },
  {
   "cell_type": "code",
   "execution_count": 72,
   "metadata": {
    "ExecuteTime": {
     "end_time": "2021-09-22T19:33:29.750963Z",
     "start_time": "2021-09-22T19:33:29.748920Z"
    }
   },
   "outputs": [],
   "source": [
    "# basicaly this * operator can be either a multiplication operator or repetition operator"
   ]
  },
  {
   "cell_type": "code",
   "execution_count": 73,
   "metadata": {
    "ExecuteTime": {
     "end_time": "2021-09-22T19:33:48.327187Z",
     "start_time": "2021-09-22T19:33:48.292281Z"
    }
   },
   "outputs": [],
   "source": [
    "a ='python'"
   ]
  },
  {
   "cell_type": "code",
   "execution_count": 75,
   "metadata": {
    "ExecuteTime": {
     "end_time": "2021-09-22T19:35:13.490983Z",
     "start_time": "2021-09-22T19:35:13.474032Z"
    }
   },
   "outputs": [
    {
     "data": {
      "text/plain": [
       "'Welcome10'"
      ]
     },
     "execution_count": 75,
     "metadata": {},
     "output_type": "execute_result"
    }
   ],
   "source": [
    "s + \"10\"\n",
    "# here in s '10' is concating with it"
   ]
  },
  {
   "cell_type": "code",
   "execution_count": 76,
   "metadata": {
    "ExecuteTime": {
     "end_time": "2021-09-22T19:35:44.881825Z",
     "start_time": "2021-09-22T19:35:44.828970Z"
    }
   },
   "outputs": [
    {
     "data": {
      "text/plain": [
       "'WELCOMEWELCOMEWELCOME'"
      ]
     },
     "execution_count": 76,
     "metadata": {},
     "output_type": "execute_result"
    }
   ],
   "source": [
    "'WELCOME' * 3"
   ]
  },
  {
   "cell_type": "markdown",
   "metadata": {},
   "source": [
    "# Lists\n",
    "* Ordered Collection of items/ elements/objects\n",
    "* Syntax:[]\n",
    "* MUTABLE"
   ]
  },
  {
   "cell_type": "code",
   "execution_count": 77,
   "metadata": {
    "ExecuteTime": {
     "end_time": "2021-09-22T19:39:17.229542Z",
     "start_time": "2021-09-22T19:39:16.225397Z"
    }
   },
   "outputs": [],
   "source": [
    "languages =['c','cpp','Java','C#']"
   ]
  },
  {
   "cell_type": "code",
   "execution_count": 78,
   "metadata": {
    "ExecuteTime": {
     "end_time": "2021-09-22T19:39:21.084791Z",
     "start_time": "2021-09-22T19:39:20.884394Z"
    }
   },
   "outputs": [
    {
     "data": {
      "text/plain": [
       "['c', 'cpp', 'Java', 'C#']"
      ]
     },
     "execution_count": 78,
     "metadata": {},
     "output_type": "execute_result"
    }
   ],
   "source": [
    "languages"
   ]
  },
  {
   "cell_type": "code",
   "execution_count": 79,
   "metadata": {
    "ExecuteTime": {
     "end_time": "2021-09-22T19:39:35.482920Z",
     "start_time": "2021-09-22T19:39:35.460943Z"
    }
   },
   "outputs": [
    {
     "name": "stdout",
     "output_type": "stream",
     "text": [
      "<class 'list'>\n"
     ]
    }
   ],
   "source": [
    "print(type(languages))"
   ]
  },
  {
   "cell_type": "code",
   "execution_count": 80,
   "metadata": {
    "ExecuteTime": {
     "end_time": "2021-09-22T19:39:42.020893Z",
     "start_time": "2021-09-22T19:39:42.000948Z"
    }
   },
   "outputs": [
    {
     "data": {
      "text/plain": [
       "4"
      ]
     },
     "execution_count": 80,
     "metadata": {},
     "output_type": "execute_result"
    }
   ],
   "source": [
    "len(languages)"
   ]
  },
  {
   "cell_type": "code",
   "execution_count": 81,
   "metadata": {
    "ExecuteTime": {
     "end_time": "2021-09-22T19:39:58.588682Z",
     "start_time": "2021-09-22T19:39:58.580663Z"
    }
   },
   "outputs": [
    {
     "data": {
      "text/plain": [
       "'c'"
      ]
     },
     "execution_count": 81,
     "metadata": {},
     "output_type": "execute_result"
    }
   ],
   "source": [
    "languages[0]"
   ]
  },
  {
   "cell_type": "code",
   "execution_count": 82,
   "metadata": {
    "ExecuteTime": {
     "end_time": "2021-09-22T19:40:14.163668Z",
     "start_time": "2021-09-22T19:40:14.153710Z"
    }
   },
   "outputs": [
    {
     "data": {
      "text/plain": [
       "'C#'"
      ]
     },
     "execution_count": 82,
     "metadata": {},
     "output_type": "execute_result"
    }
   ],
   "source": [
    "languages[-1]"
   ]
  },
  {
   "cell_type": "code",
   "execution_count": 83,
   "metadata": {
    "ExecuteTime": {
     "end_time": "2021-09-22T19:40:33.527589Z",
     "start_time": "2021-09-22T19:40:33.511561Z"
    }
   },
   "outputs": [
    {
     "data": {
      "text/plain": [
       "'C#'"
      ]
     },
     "execution_count": 83,
     "metadata": {},
     "output_type": "execute_result"
    }
   ],
   "source": [
    "languages[3]"
   ]
  },
  {
   "cell_type": "code",
   "execution_count": 84,
   "metadata": {
    "ExecuteTime": {
     "end_time": "2021-09-22T19:40:58.652402Z",
     "start_time": "2021-09-22T19:40:58.632160Z"
    }
   },
   "outputs": [
    {
     "data": {
      "text/plain": [
       "'Java'"
      ]
     },
     "execution_count": 84,
     "metadata": {},
     "output_type": "execute_result"
    }
   ],
   "source": [
    "languages[2]"
   ]
  },
  {
   "cell_type": "code",
   "execution_count": 86,
   "metadata": {
    "ExecuteTime": {
     "end_time": "2021-09-22T19:42:46.159860Z",
     "start_time": "2021-09-22T19:42:46.150884Z"
    }
   },
   "outputs": [
    {
     "data": {
      "text/plain": [
       "'J'"
      ]
     },
     "execution_count": 86,
     "metadata": {},
     "output_type": "execute_result"
    }
   ],
   "source": [
    "languages[-2][0]\n",
    "# so here we are doing the double indexing as\n",
    "# First we extracting Java fro the languages \n",
    "# 2nd we are extracting the word J from Java by providing the [0] as index"
   ]
  },
  {
   "cell_type": "code",
   "execution_count": 87,
   "metadata": {
    "ExecuteTime": {
     "end_time": "2021-09-22T19:43:12.221831Z",
     "start_time": "2021-09-22T19:43:12.212854Z"
    }
   },
   "outputs": [
    {
     "data": {
      "text/plain": [
       "['c', 'cpp', 'Java', 'C#']"
      ]
     },
     "execution_count": 87,
     "metadata": {},
     "output_type": "execute_result"
    }
   ],
   "source": [
    "languages"
   ]
  },
  {
   "cell_type": "code",
   "execution_count": 88,
   "metadata": {
    "ExecuteTime": {
     "end_time": "2021-09-22T19:43:37.324280Z",
     "start_time": "2021-09-22T19:43:37.307294Z"
    }
   },
   "outputs": [],
   "source": [
    "## using slicing extract 'cpp' and 'Java'"
   ]
  },
  {
   "cell_type": "code",
   "execution_count": 89,
   "metadata": {
    "ExecuteTime": {
     "end_time": "2021-09-22T19:43:59.413514Z",
     "start_time": "2021-09-22T19:43:59.406492Z"
    }
   },
   "outputs": [
    {
     "data": {
      "text/plain": [
       "['cpp', 'Java']"
      ]
     },
     "execution_count": 89,
     "metadata": {},
     "output_type": "execute_result"
    }
   ],
   "source": [
    "languages[1:3]"
   ]
  },
  {
   "cell_type": "code",
   "execution_count": 91,
   "metadata": {
    "ExecuteTime": {
     "end_time": "2021-09-22T19:44:57.946453Z",
     "start_time": "2021-09-22T19:44:57.929499Z"
    }
   },
   "outputs": [
    {
     "ename": "TypeError",
     "evalue": "can only concatenate list (not \"int\") to list",
     "output_type": "error",
     "traceback": [
      "\u001b[1;31m---------------------------------------------------------------------------\u001b[0m",
      "\u001b[1;31mTypeError\u001b[0m                                 Traceback (most recent call last)",
      "\u001b[1;32m<ipython-input-91-defbf0b685a0>\u001b[0m in \u001b[0;36m<module>\u001b[1;34m\u001b[0m\n\u001b[1;32m----> 1\u001b[1;33m \u001b[0mlanguages\u001b[0m \u001b[1;33m+\u001b[0m \u001b[1;36m10\u001b[0m\u001b[1;33m\u001b[0m\u001b[1;33m\u001b[0m\u001b[0m\n\u001b[0m\u001b[0;32m      2\u001b[0m \u001b[1;31m# will get error as one is string data type and other is integer data type\u001b[0m\u001b[1;33m\u001b[0m\u001b[1;33m\u001b[0m\u001b[1;33m\u001b[0m\u001b[0m\n",
      "\u001b[1;31mTypeError\u001b[0m: can only concatenate list (not \"int\") to list"
     ]
    }
   ],
   "source": [
    "languages + 10\n",
    "# will get error as one is string data type and other is integer data type"
   ]
  },
  {
   "cell_type": "code",
   "execution_count": 94,
   "metadata": {
    "ExecuteTime": {
     "end_time": "2021-09-22T19:46:24.558810Z",
     "start_time": "2021-09-22T19:46:24.542123Z"
    }
   },
   "outputs": [
    {
     "data": {
      "text/plain": [
       "['c', 'cpp', 'Java', 'C#', '10']"
      ]
     },
     "execution_count": 94,
     "metadata": {},
     "output_type": "execute_result"
    }
   ],
   "source": [
    "languages + ['10']\n",
    "# this will add 10 at the list what won't modify the original list languages which you will see in next code by typing the languages"
   ]
  },
  {
   "cell_type": "code",
   "execution_count": 95,
   "metadata": {
    "ExecuteTime": {
     "end_time": "2021-09-22T19:46:31.075235Z",
     "start_time": "2021-09-22T19:46:31.064227Z"
    }
   },
   "outputs": [
    {
     "data": {
      "text/plain": [
       "['c', 'cpp', 'Java', 'C#']"
      ]
     },
     "execution_count": 95,
     "metadata": {},
     "output_type": "execute_result"
    }
   ],
   "source": [
    "languages"
   ]
  },
  {
   "cell_type": "code",
   "execution_count": 96,
   "metadata": {
    "ExecuteTime": {
     "end_time": "2021-09-22T19:46:43.867408Z",
     "start_time": "2021-09-22T19:46:43.846472Z"
    }
   },
   "outputs": [
    {
     "data": {
      "text/plain": [
       "['c', 'cpp', 'Java', 'C#', 'c', 'cpp', 'Java', 'C#', 'c', 'cpp', 'Java', 'C#']"
      ]
     },
     "execution_count": 96,
     "metadata": {},
     "output_type": "execute_result"
    }
   ],
   "source": [
    "languages *3"
   ]
  },
  {
   "cell_type": "code",
   "execution_count": 97,
   "metadata": {
    "ExecuteTime": {
     "end_time": "2021-09-22T19:49:08.139246Z",
     "start_time": "2021-09-22T19:49:08.119360Z"
    }
   },
   "outputs": [
    {
     "data": {
      "text/plain": [
       "'#'"
      ]
     },
     "execution_count": 97,
     "metadata": {},
     "output_type": "execute_result"
    }
   ],
   "source": [
    "# write code to extract # from the above list\n",
    "languages[-1][-1]"
   ]
  },
  {
   "cell_type": "code",
   "execution_count": 99,
   "metadata": {
    "ExecuteTime": {
     "end_time": "2021-09-22T19:50:00.147864Z",
     "start_time": "2021-09-22T19:50:00.131852Z"
    }
   },
   "outputs": [
    {
     "data": {
      "text/plain": [
       "'#'"
      ]
     },
     "execution_count": 99,
     "metadata": {},
     "output_type": "execute_result"
    }
   ],
   "source": [
    "languages[3][-1]"
   ]
  },
  {
   "cell_type": "code",
   "execution_count": null,
   "metadata": {},
   "outputs": [],
   "source": []
  },
  {
   "cell_type": "code",
   "execution_count": 118,
   "metadata": {
    "ExecuteTime": {
     "end_time": "2021-09-22T19:57:38.747742Z",
     "start_time": "2021-09-22T19:57:38.742660Z"
    }
   },
   "outputs": [],
   "source": [
    "# Append \n",
    "# Insert\n",
    "# Remove\n",
    "# Pop\n",
    "# Reverse\n",
    "# Sort\n",
    "# Del\n",
    "# Index\n",
    "# Count"
   ]
  },
  {
   "cell_type": "code",
   "execution_count": 100,
   "metadata": {
    "ExecuteTime": {
     "end_time": "2021-09-22T19:51:15.401368Z",
     "start_time": "2021-09-22T19:51:15.384447Z"
    }
   },
   "outputs": [],
   "source": [
    "f =3.14"
   ]
  },
  {
   "cell_type": "code",
   "execution_count": 101,
   "metadata": {
    "ExecuteTime": {
     "end_time": "2021-09-22T19:51:28.767247Z",
     "start_time": "2021-09-22T19:51:28.746297Z"
    }
   },
   "outputs": [
    {
     "name": "stdout",
     "output_type": "stream",
     "text": [
      "<class 'float'>\n"
     ]
    }
   ],
   "source": [
    "print(type(f))"
   ]
  },
  {
   "cell_type": "code",
   "execution_count": 102,
   "metadata": {
    "ExecuteTime": {
     "end_time": "2021-09-22T19:52:04.076200Z",
     "start_time": "2021-09-22T19:52:04.059325Z"
    }
   },
   "outputs": [],
   "source": [
    "a = True"
   ]
  },
  {
   "cell_type": "code",
   "execution_count": 103,
   "metadata": {
    "ExecuteTime": {
     "end_time": "2021-09-22T19:52:13.190279Z",
     "start_time": "2021-09-22T19:52:13.166356Z"
    }
   },
   "outputs": [
    {
     "name": "stdout",
     "output_type": "stream",
     "text": [
      "<class 'bool'>\n"
     ]
    }
   ],
   "source": [
    "print(type(a))"
   ]
  },
  {
   "cell_type": "code",
   "execution_count": 104,
   "metadata": {
    "ExecuteTime": {
     "end_time": "2021-09-22T19:52:18.804921Z",
     "start_time": "2021-09-22T19:52:18.798125Z"
    }
   },
   "outputs": [],
   "source": [
    "a = False"
   ]
  },
  {
   "cell_type": "code",
   "execution_count": 105,
   "metadata": {
    "ExecuteTime": {
     "end_time": "2021-09-22T19:52:30.944077Z",
     "start_time": "2021-09-22T19:52:30.923959Z"
    }
   },
   "outputs": [
    {
     "name": "stdout",
     "output_type": "stream",
     "text": [
      "<class 'bool'>\n"
     ]
    }
   ],
   "source": [
    "print(type(a))"
   ]
  },
  {
   "cell_type": "code",
   "execution_count": 106,
   "metadata": {
    "ExecuteTime": {
     "end_time": "2021-09-22T19:52:40.130439Z",
     "start_time": "2021-09-22T19:52:40.048729Z"
    }
   },
   "outputs": [],
   "source": [
    "a = 3+2j"
   ]
  },
  {
   "cell_type": "code",
   "execution_count": 107,
   "metadata": {
    "ExecuteTime": {
     "end_time": "2021-09-22T19:52:56.207577Z",
     "start_time": "2021-09-22T19:52:56.190808Z"
    }
   },
   "outputs": [
    {
     "name": "stdout",
     "output_type": "stream",
     "text": [
      "<class 'complex'>\n"
     ]
    }
   ],
   "source": [
    "print(type(a))"
   ]
  },
  {
   "cell_type": "code",
   "execution_count": 108,
   "metadata": {
    "ExecuteTime": {
     "end_time": "2021-09-22T19:53:09.273311Z",
     "start_time": "2021-09-22T19:53:09.251928Z"
    }
   },
   "outputs": [
    {
     "data": {
      "text/plain": [
       "22"
      ]
     },
     "execution_count": 108,
     "metadata": {},
     "output_type": "execute_result"
    }
   ],
   "source": [
    "18 +4"
   ]
  },
  {
   "cell_type": "code",
   "execution_count": 109,
   "metadata": {
    "ExecuteTime": {
     "end_time": "2021-09-22T19:53:17.238032Z",
     "start_time": "2021-09-22T19:53:17.216725Z"
    }
   },
   "outputs": [
    {
     "data": {
      "text/plain": [
       "14"
      ]
     },
     "execution_count": 109,
     "metadata": {},
     "output_type": "execute_result"
    }
   ],
   "source": [
    "18-4"
   ]
  },
  {
   "cell_type": "code",
   "execution_count": 111,
   "metadata": {
    "ExecuteTime": {
     "end_time": "2021-09-22T19:53:30.169665Z",
     "start_time": "2021-09-22T19:53:30.151310Z"
    }
   },
   "outputs": [
    {
     "data": {
      "text/plain": [
       "72"
      ]
     },
     "execution_count": 111,
     "metadata": {},
     "output_type": "execute_result"
    }
   ],
   "source": [
    "18*4"
   ]
  },
  {
   "cell_type": "code",
   "execution_count": 112,
   "metadata": {
    "ExecuteTime": {
     "end_time": "2021-09-22T19:53:34.653595Z",
     "start_time": "2021-09-22T19:53:34.611229Z"
    }
   },
   "outputs": [
    {
     "data": {
      "text/plain": [
       "4.5"
      ]
     },
     "execution_count": 112,
     "metadata": {},
     "output_type": "execute_result"
    }
   ],
   "source": [
    "18/4"
   ]
  },
  {
   "cell_type": "code",
   "execution_count": 113,
   "metadata": {
    "ExecuteTime": {
     "end_time": "2021-09-22T19:53:53.092162Z",
     "start_time": "2021-09-22T19:53:53.059610Z"
    }
   },
   "outputs": [
    {
     "data": {
      "text/plain": [
       "4"
      ]
     },
     "execution_count": 113,
     "metadata": {},
     "output_type": "execute_result"
    }
   ],
   "source": [
    "18//4"
   ]
  },
  {
   "cell_type": "code",
   "execution_count": 115,
   "metadata": {
    "ExecuteTime": {
     "end_time": "2021-09-22T19:55:56.917607Z",
     "start_time": "2021-09-22T19:55:56.906886Z"
    }
   },
   "outputs": [],
   "source": [
    "## The difference between the single slash '/' and double slash '//' is that th single slash will gives the float part and the double slash will gives the integer part becoming as a modulus"
   ]
  },
  {
   "cell_type": "code",
   "execution_count": 117,
   "metadata": {
    "ExecuteTime": {
     "end_time": "2021-09-22T19:56:42.420468Z",
     "start_time": "2021-09-22T19:56:42.408962Z"
    }
   },
   "outputs": [
    {
     "data": {
      "text/plain": [
       "2"
      ]
     },
     "execution_count": 117,
     "metadata": {},
     "output_type": "execute_result"
    }
   ],
   "source": [
    "18 % 4\n",
    "# modulas operator as it will gives us the remander"
   ]
  },
  {
   "cell_type": "code",
   "execution_count": null,
   "metadata": {},
   "outputs": [],
   "source": []
  }
 ],
 "metadata": {
  "kernelspec": {
   "display_name": "Python 3",
   "language": "python",
   "name": "python3"
  },
  "language_info": {
   "codemirror_mode": {
    "name": "ipython",
    "version": 3
   },
   "file_extension": ".py",
   "mimetype": "text/x-python",
   "name": "python",
   "nbconvert_exporter": "python",
   "pygments_lexer": "ipython3",
   "version": "3.8.8"
  },
  "toc": {
   "base_numbering": 1,
   "nav_menu": {},
   "number_sections": true,
   "sideBar": true,
   "skip_h1_title": false,
   "title_cell": "Table of Contents",
   "title_sidebar": "Contents",
   "toc_cell": false,
   "toc_position": {},
   "toc_section_display": true,
   "toc_window_display": false
  }
 },
 "nbformat": 4,
 "nbformat_minor": 4
}
