{
 "cells": [
  {
   "cell_type": "markdown",
   "metadata": {},
   "source": [
    "#  Functions"
   ]
  },
  {
   "cell_type": "code",
   "execution_count": 1,
   "metadata": {
    "ExecuteTime": {
     "end_time": "2021-09-25T08:20:45.401124Z",
     "start_time": "2021-09-25T08:20:45.387022Z"
    }
   },
   "outputs": [],
   "source": [
    "## block of code\n",
    "## code reuseability\n",
    "## DRY - Don't Repeat Yourself"
   ]
  },
  {
   "cell_type": "markdown",
   "metadata": {},
   "source": [
    "## Basics"
   ]
  },
  {
   "cell_type": "code",
   "execution_count": 3,
   "metadata": {
    "ExecuteTime": {
     "end_time": "2021-09-25T08:24:13.934699Z",
     "start_time": "2021-09-25T08:24:13.928718Z"
    }
   },
   "outputs": [],
   "source": [
    "##How to Write a function in Python\n",
    "\n",
    "def SimpleFunction():\n",
    "    print('Inside SimpleFunction!!!')\n",
    "    print('Existing SimpleFunction')\n",
    "    \n",
    "    ## So here we had just defined a function and there will be no output as we didn't called the function.\n",
    "    ## So to call the function the code is in the next line"
   ]
  },
  {
   "cell_type": "code",
   "execution_count": 6,
   "metadata": {
    "ExecuteTime": {
     "end_time": "2021-09-25T08:24:31.529678Z",
     "start_time": "2021-09-25T08:24:31.515717Z"
    }
   },
   "outputs": [
    {
     "name": "stdout",
     "output_type": "stream",
     "text": [
      "Inside SimpleFunction!!!\n",
      "Existing SimpleFunction\n"
     ]
    }
   ],
   "source": [
    "SimpleFunction()\n",
    "## here we had called the function"
   ]
  },
  {
   "cell_type": "code",
   "execution_count": 7,
   "metadata": {
    "ExecuteTime": {
     "end_time": "2021-09-25T08:26:43.885869Z",
     "start_time": "2021-09-25T08:26:43.877935Z"
    }
   },
   "outputs": [],
   "source": [
    "def FindMaximum(x,y):\n",
    "    if x > y:\n",
    "        return x\n",
    "    else:\n",
    "        return y"
   ]
  },
  {
   "cell_type": "code",
   "execution_count": 8,
   "metadata": {
    "ExecuteTime": {
     "end_time": "2021-09-25T08:26:45.269747Z",
     "start_time": "2021-09-25T08:26:45.258746Z"
    }
   },
   "outputs": [
    {
     "data": {
      "text/plain": [
       "5"
      ]
     },
     "execution_count": 8,
     "metadata": {},
     "output_type": "execute_result"
    }
   ],
   "source": [
    "FindMaximum(3,5)"
   ]
  },
  {
   "cell_type": "code",
   "execution_count": 9,
   "metadata": {
    "ExecuteTime": {
     "end_time": "2021-09-25T08:27:26.529524Z",
     "start_time": "2021-09-25T08:27:26.522626Z"
    }
   },
   "outputs": [],
   "source": [
    "result = FindMaximum(10,3)"
   ]
  },
  {
   "cell_type": "code",
   "execution_count": 10,
   "metadata": {
    "ExecuteTime": {
     "end_time": "2021-09-25T08:27:33.169077Z",
     "start_time": "2021-09-25T08:27:33.149131Z"
    }
   },
   "outputs": [
    {
     "name": "stdout",
     "output_type": "stream",
     "text": [
      "10\n"
     ]
    }
   ],
   "source": [
    "print(result)"
   ]
  },
  {
   "cell_type": "code",
   "execution_count": 9,
   "metadata": {
    "ExecuteTime": {
     "end_time": "2021-09-25T08:33:09.189415Z",
     "start_time": "2021-09-25T08:33:09.172461Z"
    }
   },
   "outputs": [
    {
     "name": "stdout",
     "output_type": "stream",
     "text": [
      "10\n"
     ]
    }
   ],
   "source": [
    "def number(x,y):\n",
    "    if x > y:\n",
    "        return x\n",
    "    else:\n",
    "        return y\n",
    "result = number(10,5)\n",
    "print(result)"
   ]
  },
  {
   "cell_type": "markdown",
   "metadata": {},
   "source": [
    "## Factorial Of Number"
   ]
  },
  {
   "cell_type": "markdown",
   "metadata": {},
   "source": [
    "### Iterative Approach"
   ]
  },
  {
   "cell_type": "code",
   "execution_count": 23,
   "metadata": {
    "ExecuteTime": {
     "end_time": "2021-09-25T08:38:29.821582Z",
     "start_time": "2021-09-25T08:38:29.813602Z"
    }
   },
   "outputs": [],
   "source": [
    "# What is a factorial of a number?\n",
    "# The product of positive integers less than or equal to a given positive integer \n",
    "# and denoted by that integer and exclamation point.\n"
   ]
  },
  {
   "cell_type": "code",
   "execution_count": 22,
   "metadata": {
    "ExecuteTime": {
     "end_time": "2021-09-25T08:36:31.812550Z",
     "start_time": "2021-09-25T08:36:31.797214Z"
    }
   },
   "outputs": [],
   "source": [
    "# 5! = 5*4*3*2*1\n",
    "# 4! = 5*3*2*1\n",
    "# 1! = 1\n",
    "#0! = 1"
   ]
  },
  {
   "cell_type": "code",
   "execution_count": 28,
   "metadata": {
    "ExecuteTime": {
     "end_time": "2021-09-25T09:01:02.270921Z",
     "start_time": "2021-09-25T09:01:02.240670Z"
    }
   },
   "outputs": [],
   "source": [
    "def iterFactorial(num):              ## here we are defining a function with iter and the number is already taking a number in the function by num in integer formate\n",
    "    ## we need result, iteration, sequence\n",
    "    result = 1    ## \n",
    "    for item in range(1, num+1):  ## so iterate through a sequence we need a range of starting from 1 to num +1 because the range will not take the last limit. So after this to iterate through this range we need a function for item in range(1, num+1), this means go through each element of this range and result = result * item which means for every iteration whatever result is there the result * item will be the result\n",
    "        result = result * item\n",
    "    return result"
   ]
  },
  {
   "cell_type": "code",
   "execution_count": 29,
   "metadata": {
    "ExecuteTime": {
     "end_time": "2021-09-25T09:01:05.165078Z",
     "start_time": "2021-09-25T09:01:05.154151Z"
    }
   },
   "outputs": [
    {
     "name": "stdout",
     "output_type": "stream",
     "text": [
      "120\n"
     ]
    }
   ],
   "source": [
    "print(iterFactorial(5))"
   ]
  },
  {
   "cell_type": "code",
   "execution_count": 1,
   "metadata": {
    "ExecuteTime": {
     "end_time": "2021-09-25T09:05:13.133171Z",
     "start_time": "2021-09-25T09:05:13.122200Z"
    }
   },
   "outputs": [],
   "source": [
    "## Exercise print a factorial of 9 using a iterfunction\n",
    "def iterFactorial(num):\n",
    "    result =1\n",
    "    for item in range(1, num+1):\n",
    "        result = result*item\n",
    "    return result"
   ]
  },
  {
   "cell_type": "code",
   "execution_count": 2,
   "metadata": {
    "ExecuteTime": {
     "end_time": "2021-09-25T09:05:18.125961Z",
     "start_time": "2021-09-25T09:05:18.115032Z"
    }
   },
   "outputs": [
    {
     "name": "stdout",
     "output_type": "stream",
     "text": [
      "362880\n"
     ]
    }
   ],
   "source": [
    "print(iterFactorial(9))"
   ]
  },
  {
   "cell_type": "code",
   "execution_count": null,
   "metadata": {},
   "outputs": [],
   "source": []
  },
  {
   "cell_type": "code",
   "execution_count": 3,
   "metadata": {
    "ExecuteTime": {
     "end_time": "2021-09-25T09:13:47.581809Z",
     "start_time": "2021-09-25T09:13:45.468475Z"
    }
   },
   "outputs": [
    {
     "name": "stdout",
     "output_type": "stream",
     "text": [
      "Enter Factorial of no: 10\n",
      "Result: 3628800\n"
     ]
    }
   ],
   "source": [
    "## Excersie userinput and then call this function\n",
    "\n",
    "num = int(input(\"Enter Factorial of no: \"))\n",
    "\n",
    "def iterFactorial(num):\n",
    "    result=1\n",
    "    for item in range(1, num+1):\n",
    "        result = result*item\n",
    "    return result \n",
    "print('Result:',iterFactorial(num))"
   ]
  },
  {
   "cell_type": "code",
   "execution_count": 47,
   "metadata": {
    "ExecuteTime": {
     "end_time": "2021-09-25T09:19:18.609021Z",
     "start_time": "2021-09-25T09:19:18.593711Z"
    }
   },
   "outputs": [],
   "source": [
    "## factorial for -ve no\n",
    "## the result for -ve no will always be 1 as we had provide a function whose result will start from 1 itself so it will not iterate through 0 and -ve values and therefore always print 1 as a ans\n",
    "## so to over come of this problenm we need to define some expections in the function. So we will do that in expectional handing"
   ]
  },
  {
   "cell_type": "code",
   "execution_count": 19,
   "metadata": {},
   "outputs": [
    {
     "name": "stdout",
     "output_type": "stream",
     "text": [
      "Enter Factorial of no: 10\n",
      "Result: 3628800\n"
     ]
    }
   ],
   "source": [
    "num = int(input(\"Enter Factorial of no: \"))\n",
    "print('Result:',iterFactorial(num))"
   ]
  },
  {
   "cell_type": "code",
   "execution_count": 44,
   "metadata": {
    "ExecuteTime": {
     "end_time": "2021-09-25T09:15:23.902779Z",
     "start_time": "2021-09-25T09:15:20.784557Z"
    }
   },
   "outputs": [
    {
     "name": "stdout",
     "output_type": "stream",
     "text": [
      "Enter Factorial of no: -8\n",
      "Result: 1\n"
     ]
    }
   ],
   "source": [
    "num = int(input(\"Enter Factorial of no: \"))\n",
    "print('Result:',iterFactorial(num))"
   ]
  },
  {
   "cell_type": "code",
   "execution_count": 45,
   "metadata": {
    "ExecuteTime": {
     "end_time": "2021-09-25T09:16:21.615997Z",
     "start_time": "2021-09-25T09:16:17.467581Z"
    }
   },
   "outputs": [
    {
     "name": "stdout",
     "output_type": "stream",
     "text": [
      "Enter Factorial of no: 0\n",
      "Result: 1\n"
     ]
    }
   ],
   "source": [
    "num = int(input(\"Enter Factorial of no: \"))\n",
    "print('Result:',iterFactorial(num))"
   ]
  },
  {
   "cell_type": "code",
   "execution_count": 46,
   "metadata": {
    "ExecuteTime": {
     "end_time": "2021-09-25T09:16:33.211210Z",
     "start_time": "2021-09-25T09:16:26.469863Z"
    }
   },
   "outputs": [
    {
     "name": "stdout",
     "output_type": "stream",
     "text": [
      "Enter Factorial of no: -5\n",
      "Result: 1\n"
     ]
    }
   ],
   "source": [
    "num = int(input(\"Enter Factorial of no: \"))\n",
    "print('Result:',iterFactorial(num))"
   ]
  },
  {
   "cell_type": "markdown",
   "metadata": {},
   "source": [
    "### recursive Approach"
   ]
  },
  {
   "cell_type": "code",
   "execution_count": 48,
   "metadata": {
    "ExecuteTime": {
     "end_time": "2021-09-25T09:21:20.823885Z",
     "start_time": "2021-09-25T09:21:20.810922Z"
    }
   },
   "outputs": [],
   "source": [
    "# 5! = 5 * 4!\n",
    "# 4! = 4 * 3!\n",
    "# 3! = 3 * 2!\n",
    "# 2! = 2 * 1!\n",
    "# n! = n * (n-1)!"
   ]
  },
  {
   "cell_type": "code",
   "execution_count": 5,
   "metadata": {
    "ExecuteTime": {
     "end_time": "2021-09-25T09:23:54.256852Z",
     "start_time": "2021-09-25T09:23:54.229924Z"
    }
   },
   "outputs": [],
   "source": [
    "def recurFactorial(num):\n",
    "    if num ==0 or num ==1:\n",
    "        return 1\n",
    "    else:\n",
    "        return num * recurFactorial(num - 1)"
   ]
  },
  {
   "cell_type": "code",
   "execution_count": 7,
   "metadata": {
    "ExecuteTime": {
     "end_time": "2021-09-25T09:25:25.434812Z",
     "start_time": "2021-09-25T09:25:23.444619Z"
    }
   },
   "outputs": [
    {
     "name": "stdout",
     "output_type": "stream",
     "text": [
      "Enter Factorial of no: 5\n",
      "Result: 120\n"
     ]
    }
   ],
   "source": [
    "num = int(input(\"Enter Factorial of no: \"))\n",
    "print('Result:',recurFactorial(num))"
   ]
  },
  {
   "cell_type": "code",
   "execution_count": 22,
   "metadata": {
    "ExecuteTime": {
     "end_time": "2021-09-25T09:28:47.795978Z",
     "start_time": "2021-09-25T09:28:47.699843Z"
    }
   },
   "outputs": [],
   "source": [
    "def recurFactorial(nu):\n",
    "    if nu ==0 or nu ==1:\n",
    "        return 1\n",
    "    else:\n",
    "        return nu * recurFactorial(nu - 1)"
   ]
  },
  {
   "cell_type": "code",
   "execution_count": 8,
   "metadata": {
    "ExecuteTime": {
     "end_time": "2021-09-25T09:29:16.147472Z",
     "start_time": "2021-09-25T09:29:13.376976Z"
    }
   },
   "outputs": [
    {
     "name": "stdout",
     "output_type": "stream",
     "text": [
      "Enter Factorial of no: 10\n",
      "Result: 3628800\n"
     ]
    }
   ],
   "source": [
    "nu = int(input(\"Enter Factorial of no: \"))\n",
    "print('Result:',recurFactorial(nu))"
   ]
  },
  {
   "cell_type": "code",
   "execution_count": 15,
   "metadata": {
    "ExecuteTime": {
     "end_time": "2021-09-25T09:34:15.106076Z",
     "start_time": "2021-09-25T09:34:13.078128Z"
    }
   },
   "outputs": [],
   "source": [
    "## we can also define a factorial function using fact operator"
   ]
  },
  {
   "cell_type": "code",
   "execution_count": 13,
   "metadata": {},
   "outputs": [],
   "source": [
    "def fact(n):\n",
    "    result = 1\n",
    "    for item in range(1, n + 1):\n",
    "        result = result * item\n",
    "    return result"
   ]
  },
  {
   "cell_type": "code",
   "execution_count": 14,
   "metadata": {},
   "outputs": [
    {
     "name": "stdout",
     "output_type": "stream",
     "text": [
      "120\n"
     ]
    }
   ],
   "source": [
    "print(fact(5))"
   ]
  },
  {
   "cell_type": "markdown",
   "metadata": {
    "heading_collapsed": true
   },
   "source": [
    "## Default Arguments"
   ]
  },
  {
   "cell_type": "code",
   "execution_count": 63,
   "metadata": {
    "ExecuteTime": {
     "end_time": "2021-09-25T10:30:02.476685Z",
     "start_time": "2021-09-25T10:30:02.453781Z"
    },
    "hidden": true
   },
   "outputs": [],
   "source": [
    "def DefaultArguments(x=123):\n",
    "    print('The value of x is {}'.format(x))"
   ]
  },
  {
   "cell_type": "code",
   "execution_count": 64,
   "metadata": {
    "ExecuteTime": {
     "end_time": "2021-09-25T10:30:07.075372Z",
     "start_time": "2021-09-25T10:30:06.707039Z"
    },
    "hidden": true
   },
   "outputs": [
    {
     "name": "stdout",
     "output_type": "stream",
     "text": [
      "The value of x is 123\n"
     ]
    }
   ],
   "source": [
    "DefaultArguments()"
   ]
  },
  {
   "cell_type": "code",
   "execution_count": 65,
   "metadata": {
    "ExecuteTime": {
     "end_time": "2021-09-25T10:30:42.064201Z",
     "start_time": "2021-09-25T10:30:42.054254Z"
    },
    "hidden": true
   },
   "outputs": [
    {
     "name": "stdout",
     "output_type": "stream",
     "text": [
      "The value of x is 456\n"
     ]
    }
   ],
   "source": [
    "DefaultArguments(456)"
   ]
  },
  {
   "cell_type": "code",
   "execution_count": 66,
   "metadata": {
    "ExecuteTime": {
     "end_time": "2021-09-25T10:30:55.874700Z",
     "start_time": "2021-09-25T10:30:55.850352Z"
    },
    "hidden": true
   },
   "outputs": [
    {
     "name": "stdout",
     "output_type": "stream",
     "text": [
      "The value of x is Hello World!!\n"
     ]
    }
   ],
   "source": [
    "DefaultArguments('Hello World!!')"
   ]
  },
  {
   "cell_type": "code",
   "execution_count": 67,
   "metadata": {
    "ExecuteTime": {
     "end_time": "2021-09-25T10:31:31.238029Z",
     "start_time": "2021-09-25T10:31:30.945555Z"
    },
    "hidden": true
   },
   "outputs": [],
   "source": [
    "def anyno(x=123):\n",
    "    print('The value of x is {}'.format(x))"
   ]
  },
  {
   "cell_type": "code",
   "execution_count": 69,
   "metadata": {
    "ExecuteTime": {
     "end_time": "2021-09-25T10:31:42.245103Z",
     "start_time": "2021-09-25T10:31:42.229147Z"
    },
    "hidden": true
   },
   "outputs": [
    {
     "name": "stdout",
     "output_type": "stream",
     "text": [
      "The value of x is 123\n"
     ]
    }
   ],
   "source": [
    "anyno()"
   ]
  },
  {
   "cell_type": "markdown",
   "metadata": {},
   "source": [
    "## Named Arguments"
   ]
  },
  {
   "cell_type": "code",
   "execution_count": 80,
   "metadata": {
    "ExecuteTime": {
     "end_time": "2021-09-25T10:40:30.745675Z",
     "start_time": "2021-09-25T10:40:30.736737Z"
    }
   },
   "outputs": [],
   "source": [
    "def namedArgumentsFunction(a,b,c):\n",
    "    print('The values are a:{}, b;{}, c:{}'.format(a,b,c))"
   ]
  },
  {
   "cell_type": "code",
   "execution_count": 81,
   "metadata": {
    "ExecuteTime": {
     "end_time": "2021-09-25T10:40:37.470383Z",
     "start_time": "2021-09-25T10:40:37.464362Z"
    }
   },
   "outputs": [
    {
     "name": "stdout",
     "output_type": "stream",
     "text": [
      "The values are a:100, b;200, c:300\n"
     ]
    }
   ],
   "source": [
    "namedArgumentsFunction(100,200,300) ## positional way of passing the value"
   ]
  },
  {
   "cell_type": "code",
   "execution_count": 82,
   "metadata": {
    "ExecuteTime": {
     "end_time": "2021-09-25T10:40:44.840842Z",
     "start_time": "2021-09-25T10:40:44.819081Z"
    }
   },
   "outputs": [
    {
     "name": "stdout",
     "output_type": "stream",
     "text": [
      "The values are a:700, b;800, c:900\n"
     ]
    }
   ],
   "source": [
    "namedArgumentsFunction(c= 900,a=700, b=800) ## using named/keyword way of passing the values"
   ]
  },
  {
   "cell_type": "code",
   "execution_count": 75,
   "metadata": {
    "ExecuteTime": {
     "end_time": "2021-09-25T10:37:08.468101Z",
     "start_time": "2021-09-25T10:37:08.454177Z"
    }
   },
   "outputs": [],
   "source": [
    "# When using both positional and named, always pass positional arguments before named arguments"
   ]
  },
  {
   "cell_type": "code",
   "execution_count": 83,
   "metadata": {
    "ExecuteTime": {
     "end_time": "2021-09-25T10:40:50.077044Z",
     "start_time": "2021-09-25T10:40:50.069065Z"
    }
   },
   "outputs": [
    {
     "ename": "SyntaxError",
     "evalue": "positional argument follows keyword argument (<ipython-input-83-7d4f2c45205c>, line 1)",
     "output_type": "error",
     "traceback": [
      "\u001b[1;36m  File \u001b[1;32m\"<ipython-input-83-7d4f2c45205c>\"\u001b[1;36m, line \u001b[1;32m1\u001b[0m\n\u001b[1;33m    namedArgumentsFunction(a= 500, 600,c=700) # this will gives an error\u001b[0m\n\u001b[1;37m                                   ^\u001b[0m\n\u001b[1;31mSyntaxError\u001b[0m\u001b[1;31m:\u001b[0m positional argument follows keyword argument\n"
     ]
    }
   ],
   "source": [
    "namedArgumentsFunction(a= 500, 600,c=700) \n",
    "# this will gives an error because we had passed named argument first i.e a = 500 before 600\n",
    "# positional argument follows keyword argument"
   ]
  },
  {
   "cell_type": "code",
   "execution_count": 84,
   "metadata": {
    "ExecuteTime": {
     "end_time": "2021-09-25T10:40:54.290360Z",
     "start_time": "2021-09-25T10:40:54.263235Z"
    }
   },
   "outputs": [
    {
     "name": "stdout",
     "output_type": "stream",
     "text": [
      "The values are a:33, b;44, c:55\n"
     ]
    }
   ],
   "source": [
    "namedArgumentsFunction(33,c=55,b=44)  \n",
    "# this will not gives an error because we had passed positional first i.e 33 before named arguments c= 55\n",
    "# positional passed first and than named passed "
   ]
  },
  {
   "cell_type": "code",
   "execution_count": 88,
   "metadata": {
    "ExecuteTime": {
     "end_time": "2021-09-25T10:47:51.992319Z",
     "start_time": "2021-09-25T10:47:51.675121Z"
    }
   },
   "outputs": [
    {
     "ename": "TypeError",
     "evalue": "namedArgumentsFunction() got multiple values for argument 'a'",
     "output_type": "error",
     "traceback": [
      "\u001b[1;31m---------------------------------------------------------------------------\u001b[0m",
      "\u001b[1;31mTypeError\u001b[0m                                 Traceback (most recent call last)",
      "\u001b[1;32m<ipython-input-88-b10b8ea869bb>\u001b[0m in \u001b[0;36m<module>\u001b[1;34m\u001b[0m\n\u001b[1;32m----> 1\u001b[1;33m \u001b[0mnamedArgumentsFunction\u001b[0m\u001b[1;33m(\u001b[0m\u001b[1;36m1000\u001b[0m\u001b[1;33m,\u001b[0m\u001b[0mc\u001b[0m\u001b[1;33m=\u001b[0m\u001b[1;36m2000\u001b[0m\u001b[1;33m,\u001b[0m\u001b[0ma\u001b[0m\u001b[1;33m=\u001b[0m\u001b[1;36m1500\u001b[0m\u001b[1;33m)\u001b[0m\u001b[1;33m\u001b[0m\u001b[1;33m\u001b[0m\u001b[0m\n\u001b[0m\u001b[0;32m      2\u001b[0m \u001b[1;31m# we will get an error as namedArgumentsFunction() got multiple values for argument 'a'\u001b[0m\u001b[1;33m\u001b[0m\u001b[1;33m\u001b[0m\u001b[1;33m\u001b[0m\u001b[0m\n\u001b[0;32m      3\u001b[0m \u001b[1;31m# because we already had assigned value 1000 to a without specifing with the name like a= 1000 and we also passing one more vale a= 1500 which is also a 2nd value to same argument a in the same function\u001b[0m\u001b[1;33m\u001b[0m\u001b[1;33m\u001b[0m\u001b[1;33m\u001b[0m\u001b[0m\n",
      "\u001b[1;31mTypeError\u001b[0m: namedArgumentsFunction() got multiple values for argument 'a'"
     ]
    }
   ],
   "source": [
    "namedArgumentsFunction(1000,c=2000,a=1500)\n",
    "# we will get an error as namedArgumentsFunction() got multiple values for argument 'a'\n",
    "# because we already had assigned value 1000 to a without specifing with the name like a= 1000 and we also passing one more vale a= 1500 which is also a 2nd value to same argument a in the same function"
   ]
  },
  {
   "cell_type": "code",
   "execution_count": 89,
   "metadata": {
    "ExecuteTime": {
     "end_time": "2021-09-25T10:48:04.826147Z",
     "start_time": "2021-09-25T10:48:04.816174Z"
    }
   },
   "outputs": [
    {
     "name": "stdout",
     "output_type": "stream",
     "text": [
      "The values are a:1000, b;1500, c:2000\n"
     ]
    }
   ],
   "source": [
    "namedArgumentsFunction(1000,c=2000,b=1500)"
   ]
  },
  {
   "cell_type": "markdown",
   "metadata": {},
   "source": [
    "## Lambda Functions"
   ]
  },
  {
   "cell_type": "code",
   "execution_count": 16,
   "metadata": {
    "ExecuteTime": {
     "end_time": "2021-09-25T10:48:55.014653Z",
     "start_time": "2021-09-25T10:48:54.913957Z"
    }
   },
   "outputs": [],
   "source": [
    "def MySquare(num):\n",
    "    return num*num"
   ]
  },
  {
   "cell_type": "code",
   "execution_count": 17,
   "metadata": {
    "ExecuteTime": {
     "end_time": "2021-09-25T10:51:31.799264Z",
     "start_time": "2021-09-25T10:51:31.785291Z"
    }
   },
   "outputs": [
    {
     "name": "stdout",
     "output_type": "stream",
     "text": [
      "100\n"
     ]
    }
   ],
   "source": [
    "print(MySquare(10))"
   ]
  },
  {
   "cell_type": "markdown",
   "metadata": {},
   "source": [
    "* Lambda Functions\n",
    "* Functions with No names\n",
    "* Anonymous functions\n",
    "* One-Liner Functions\n"
   ]
  },
  {
   "cell_type": "code",
   "execution_count": 18,
   "metadata": {
    "ExecuteTime": {
     "end_time": "2021-09-25T11:00:16.473781Z",
     "start_time": "2021-09-25T11:00:16.448804Z"
    }
   },
   "outputs": [],
   "source": [
    "f =  lambda num: num * num\n",
    "# So there is one function(lambda)  which take argument(num) and returns num*num and that has been assigned to a object f"
   ]
  },
  {
   "cell_type": "code",
   "execution_count": 19,
   "metadata": {
    "ExecuteTime": {
     "end_time": "2021-09-25T11:00:23.601578Z",
     "start_time": "2021-09-25T11:00:23.579598Z"
    }
   },
   "outputs": [
    {
     "data": {
      "text/plain": [
       "121"
      ]
     },
     "execution_count": 19,
     "metadata": {},
     "output_type": "execute_result"
    }
   ],
   "source": [
    "f(11)"
   ]
  },
  {
   "cell_type": "code",
   "execution_count": 20,
   "metadata": {
    "ExecuteTime": {
     "end_time": "2021-09-25T11:00:33.573793Z",
     "start_time": "2021-09-25T11:00:33.560829Z"
    }
   },
   "outputs": [
    {
     "name": "stdout",
     "output_type": "stream",
     "text": [
      "121\n"
     ]
    }
   ],
   "source": [
    "print(f(11))"
   ]
  },
  {
   "cell_type": "code",
   "execution_count": 21,
   "metadata": {
    "ExecuteTime": {
     "end_time": "2021-09-25T11:05:43.239162Z",
     "start_time": "2021-09-25T11:05:43.231220Z"
    }
   },
   "outputs": [
    {
     "name": "stdout",
     "output_type": "stream",
     "text": [
      "121\n"
     ]
    }
   ],
   "source": [
    "print((lambda num: num * num)(11))\n",
    "# we can also erite in this way"
   ]
  },
  {
   "cell_type": "code",
   "execution_count": 97,
   "metadata": {
    "ExecuteTime": {
     "end_time": "2021-09-25T11:03:58.497496Z",
     "start_time": "2021-09-25T11:03:58.482537Z"
    }
   },
   "outputs": [],
   "source": [
    "# When we want to write a big function than we don't use lambda function\n",
    "# Every lambda function can be return back to normal function \n",
    "# but not Every normal function can be return back to lambda function \n"
   ]
  },
  {
   "cell_type": "markdown",
   "metadata": {},
   "source": [
    "## Args & Kwargs"
   ]
  },
  {
   "cell_type": "markdown",
   "metadata": {},
   "source": [
    "### args"
   ]
  },
  {
   "cell_type": "code",
   "execution_count": 100,
   "metadata": {
    "ExecuteTime": {
     "end_time": "2021-09-25T12:08:04.628485Z",
     "start_time": "2021-09-25T12:08:04.085727Z"
    }
   },
   "outputs": [],
   "source": [
    "def sumofnumbers(x,y):\n",
    "    result = x+y\n",
    "    print('result:',x+y)"
   ]
  },
  {
   "cell_type": "code",
   "execution_count": 102,
   "metadata": {
    "ExecuteTime": {
     "end_time": "2021-09-25T12:09:42.649301Z",
     "start_time": "2021-09-25T12:09:42.404789Z"
    }
   },
   "outputs": [
    {
     "name": "stdout",
     "output_type": "stream",
     "text": [
      "result: 3\n"
     ]
    }
   ],
   "source": [
    "sumofnumbers(1,2)"
   ]
  },
  {
   "cell_type": "code",
   "execution_count": 103,
   "metadata": {
    "ExecuteTime": {
     "end_time": "2021-09-25T12:14:07.287719Z",
     "start_time": "2021-09-25T12:14:07.264448Z"
    }
   },
   "outputs": [],
   "source": [
    "## If we want to do sum of 3 nos. # we can pass it as array,tuple or list.\n",
    "## if we don't want to pass in list, array or tuple than we use args function"
   ]
  },
  {
   "cell_type": "code",
   "execution_count": 22,
   "metadata": {
    "ExecuteTime": {
     "end_time": "2021-09-25T12:20:44.968511Z",
     "start_time": "2021-09-25T12:20:44.906087Z"
    }
   },
   "outputs": [],
   "source": [
    "def sumofnumbersusingArgs(*args):         ## Reciever Side, All the arguments are packed into a tuple\n",
    "    ## The * will pack them into one tuple\n",
    "    print('Args:',args)\n",
    "    print('Type of Args:', type(args))\n",
    "    result = 0\n",
    "    for item in args:\n",
    "        result += item\n",
    "    print('Result:',result)"
   ]
  },
  {
   "cell_type": "code",
   "execution_count": 23,
   "metadata": {
    "ExecuteTime": {
     "end_time": "2021-09-25T12:20:46.453888Z",
     "start_time": "2021-09-25T12:20:46.444913Z"
    }
   },
   "outputs": [
    {
     "name": "stdout",
     "output_type": "stream",
     "text": [
      "Args: (1, 2)\n",
      "Type of Args: <class 'tuple'>\n",
      "Result: 3\n"
     ]
    }
   ],
   "source": [
    "sumofnumbersusingArgs(1,2)"
   ]
  },
  {
   "cell_type": "code",
   "execution_count": 112,
   "metadata": {
    "ExecuteTime": {
     "end_time": "2021-09-25T12:24:35.117907Z",
     "start_time": "2021-09-25T12:24:35.080998Z"
    }
   },
   "outputs": [],
   "source": [
    "## Difference between list and tuple is that once you create a tuple you cannot modified their remix\n",
    "## So here whatever arguments we are reciving we want them to keep it same so just to have the information in it so whatever the arguments users had passed.\n",
    "## So the star * is not a pointer it is notation to tell that we are reciving all arguments in a tuple.\n",
    "## so this args is not a keyword but whenever we are using this args or we want to recieve the arrguments in tuple. Most of the cases we write it as a args because it acts more as a norm than as a syntax"
   ]
  },
  {
   "cell_type": "code",
   "execution_count": 113,
   "metadata": {
    "ExecuteTime": {
     "end_time": "2021-09-25T12:32:10.550668Z",
     "start_time": "2021-09-25T12:32:10.545722Z"
    }
   },
   "outputs": [
    {
     "name": "stdout",
     "output_type": "stream",
     "text": [
      "Args: (1, 2, 3)\n",
      "Type of Args: <class 'tuple'>\n",
      "Result: 6\n"
     ]
    }
   ],
   "source": [
    "sumofnumbersusingArgs(1,2,3)"
   ]
  },
  {
   "cell_type": "code",
   "execution_count": 114,
   "metadata": {
    "ExecuteTime": {
     "end_time": "2021-09-25T12:32:12.000210Z",
     "start_time": "2021-09-25T12:32:11.970227Z"
    }
   },
   "outputs": [
    {
     "name": "stdout",
     "output_type": "stream",
     "text": [
      "Args: (1, 2, 3, 4, 5, 6, 7, 8, 9, 10)\n",
      "Type of Args: <class 'tuple'>\n",
      "Result: 55\n"
     ]
    }
   ],
   "source": [
    "sumofnumbersusingArgs(1,2,3,4,5,6,7,8,9,10)"
   ]
  },
  {
   "cell_type": "code",
   "execution_count": null,
   "metadata": {},
   "outputs": [],
   "source": []
  },
  {
   "cell_type": "code",
   "execution_count": 115,
   "metadata": {
    "ExecuteTime": {
     "end_time": "2021-09-25T12:33:05.194068Z",
     "start_time": "2021-09-25T12:33:05.158125Z"
    }
   },
   "outputs": [],
   "source": [
    "t = (10,20,30,40,50)"
   ]
  },
  {
   "cell_type": "code",
   "execution_count": 119,
   "metadata": {
    "ExecuteTime": {
     "end_time": "2021-09-25T12:35:01.437340Z",
     "start_time": "2021-09-25T12:35:01.268593Z"
    }
   },
   "outputs": [
    {
     "name": "stdout",
     "output_type": "stream",
     "text": [
      "Args: ((10, 20, 30, 40, 50),)\n",
      "Type of Args: <class 'tuple'>\n"
     ]
    },
    {
     "ename": "TypeError",
     "evalue": "unsupported operand type(s) for +=: 'int' and 'tuple'",
     "output_type": "error",
     "traceback": [
      "\u001b[1;31m---------------------------------------------------------------------------\u001b[0m",
      "\u001b[1;31mTypeError\u001b[0m                                 Traceback (most recent call last)",
      "\u001b[1;32m<ipython-input-119-285c0bee1cb3>\u001b[0m in \u001b[0;36m<module>\u001b[1;34m\u001b[0m\n\u001b[1;32m----> 1\u001b[1;33m \u001b[0msumofnumbersusingArgs\u001b[0m\u001b[1;33m(\u001b[0m\u001b[0mt\u001b[0m\u001b[1;33m)\u001b[0m \u001b[1;31m## error incorrect way of passing the elements\u001b[0m\u001b[1;33m\u001b[0m\u001b[1;33m\u001b[0m\u001b[0m\n\u001b[0m",
      "\u001b[1;32m<ipython-input-110-fe180c30d30b>\u001b[0m in \u001b[0;36msumofnumbersusingArgs\u001b[1;34m(*args)\u001b[0m\n\u001b[0;32m      4\u001b[0m     \u001b[0mresult\u001b[0m \u001b[1;33m=\u001b[0m \u001b[1;36m0\u001b[0m\u001b[1;33m\u001b[0m\u001b[1;33m\u001b[0m\u001b[0m\n\u001b[0;32m      5\u001b[0m     \u001b[1;32mfor\u001b[0m \u001b[0mitem\u001b[0m \u001b[1;32min\u001b[0m \u001b[0margs\u001b[0m\u001b[1;33m:\u001b[0m\u001b[1;33m\u001b[0m\u001b[1;33m\u001b[0m\u001b[0m\n\u001b[1;32m----> 6\u001b[1;33m         \u001b[0mresult\u001b[0m \u001b[1;33m+=\u001b[0m \u001b[0mitem\u001b[0m\u001b[1;33m\u001b[0m\u001b[1;33m\u001b[0m\u001b[0m\n\u001b[0m\u001b[0;32m      7\u001b[0m     \u001b[0mprint\u001b[0m\u001b[1;33m(\u001b[0m\u001b[1;34m'Result:'\u001b[0m\u001b[1;33m,\u001b[0m\u001b[0mresult\u001b[0m\u001b[1;33m)\u001b[0m\u001b[1;33m\u001b[0m\u001b[1;33m\u001b[0m\u001b[0m\n",
      "\u001b[1;31mTypeError\u001b[0m: unsupported operand type(s) for +=: 'int' and 'tuple'"
     ]
    }
   ],
   "source": [
    "sumofnumbersusingArgs(t) ## error incorrect way of passing the elements\n",
    "## because we are creating a tuple of tuple"
   ]
  },
  {
   "cell_type": "code",
   "execution_count": 120,
   "metadata": {
    "ExecuteTime": {
     "end_time": "2021-09-25T12:35:35.979132Z",
     "start_time": "2021-09-25T12:35:35.967905Z"
    }
   },
   "outputs": [],
   "source": [
    "# 2 Ways of passing the above elements"
   ]
  },
  {
   "cell_type": "code",
   "execution_count": 121,
   "metadata": {
    "ExecuteTime": {
     "end_time": "2021-09-25T12:37:55.932906Z",
     "start_time": "2021-09-25T12:37:55.892015Z"
    }
   },
   "outputs": [
    {
     "name": "stdout",
     "output_type": "stream",
     "text": [
      "Args: (10, 20, 30, 40, 50)\n",
      "Type of Args: <class 'tuple'>\n",
      "Result: 150\n"
     ]
    }
   ],
   "source": [
    "# 1st by Index calling\n",
    "sumofnumbersusingArgs(t[0], t[1], t[2], t[3], t[4])"
   ]
  },
  {
   "cell_type": "code",
   "execution_count": 123,
   "metadata": {
    "ExecuteTime": {
     "end_time": "2021-09-25T12:40:44.434952Z",
     "start_time": "2021-09-25T12:40:44.426009Z"
    }
   },
   "outputs": [
    {
     "name": "stdout",
     "output_type": "stream",
     "text": [
      "Args: (10, 20, 30, 40, 50)\n",
      "Type of Args: <class 'tuple'>\n",
      "Result: 150\n"
     ]
    }
   ],
   "source": [
    "#2nd by placing *\n",
    "sumofnumbersusingArgs(*t) ## Caller side, Unpacking"
   ]
  },
  {
   "cell_type": "markdown",
   "metadata": {},
   "source": [
    "#### args- taking user input"
   ]
  },
  {
   "cell_type": "code",
   "execution_count": 124,
   "metadata": {
    "ExecuteTime": {
     "end_time": "2021-09-25T12:47:02.088080Z",
     "start_time": "2021-09-25T12:46:47.799032Z"
    }
   },
   "outputs": [
    {
     "name": "stdout",
     "output_type": "stream",
     "text": [
      "Enter comma seperated numbers: 11,22,33,44,55\n"
     ]
    }
   ],
   "source": [
    "userInput = input('Enter comma seperated numbers: ')"
   ]
  },
  {
   "cell_type": "code",
   "execution_count": 125,
   "metadata": {
    "ExecuteTime": {
     "end_time": "2021-09-25T12:47:31.918765Z",
     "start_time": "2021-09-25T12:47:31.892836Z"
    }
   },
   "outputs": [
    {
     "name": "stdout",
     "output_type": "stream",
     "text": [
      "11,22,33,44,55 <class 'str'>\n"
     ]
    }
   ],
   "source": [
    "print(userInput,type(userInput))"
   ]
  },
  {
   "cell_type": "code",
   "execution_count": null,
   "metadata": {},
   "outputs": [],
   "source": [
    "## The above values all are in string and we cannot do addation of it and we cannot convert directly this into a integer because this is a string\n",
    "## So we will do to split this string based on the comma.\n",
    "## see next code spiliting into coma "
   ]
  },
  {
   "cell_type": "code",
   "execution_count": 126,
   "metadata": {
    "ExecuteTime": {
     "end_time": "2021-09-25T12:48:05.331126Z",
     "start_time": "2021-09-25T12:48:05.213614Z"
    }
   },
   "outputs": [],
   "source": [
    "IstNo = userInput.split(',') ## Spiliting based on the comma"
   ]
  },
  {
   "cell_type": "code",
   "execution_count": 127,
   "metadata": {
    "ExecuteTime": {
     "end_time": "2021-09-25T12:48:25.337780Z",
     "start_time": "2021-09-25T12:48:25.284889Z"
    }
   },
   "outputs": [
    {
     "data": {
      "text/plain": [
       "['11', '22', '33', '44', '55']"
      ]
     },
     "execution_count": 127,
     "metadata": {},
     "output_type": "execute_result"
    }
   ],
   "source": [
    "IstNo\n",
    "## Here we get the list of numbers but that are again in the string"
   ]
  },
  {
   "cell_type": "code",
   "execution_count": 131,
   "metadata": {
    "ExecuteTime": {
     "end_time": "2021-09-25T13:04:57.332939Z",
     "start_time": "2021-09-25T13:04:57.327677Z"
    }
   },
   "outputs": [],
   "source": [
    "## So will first assigned a newno keyword with empty list and do the for loop by calling IstNo with append  function with int to convert the IstNo from list string to integer"
   ]
  },
  {
   "cell_type": "code",
   "execution_count": 129,
   "metadata": {
    "ExecuteTime": {
     "end_time": "2021-09-25T12:49:26.003864Z",
     "start_time": "2021-09-25T12:49:25.988904Z"
    }
   },
   "outputs": [],
   "source": [
    "newno = []\n",
    "for item in IstNo:\n",
    "    newno.append(int(item))"
   ]
  },
  {
   "cell_type": "code",
   "execution_count": 130,
   "metadata": {
    "ExecuteTime": {
     "end_time": "2021-09-25T13:03:00.150483Z",
     "start_time": "2021-09-25T13:03:00.138478Z"
    }
   },
   "outputs": [
    {
     "data": {
      "text/plain": [
       "[11, 22, 33, 44, 55]"
      ]
     },
     "execution_count": 130,
     "metadata": {},
     "output_type": "execute_result"
    }
   ],
   "source": [
    "newno"
   ]
  },
  {
   "cell_type": "code",
   "execution_count": 132,
   "metadata": {
    "ExecuteTime": {
     "end_time": "2021-09-25T13:06:49.688904Z",
     "start_time": "2021-09-25T13:06:49.673907Z"
    }
   },
   "outputs": [
    {
     "name": "stdout",
     "output_type": "stream",
     "text": [
      "Args: (11, 22, 33, 44, 55)\n",
      "Type of Args: <class 'tuple'>\n",
      "Result: 165\n"
     ]
    }
   ],
   "source": [
    "sumofnumbersusingArgs(*newno)"
   ]
  },
  {
   "cell_type": "code",
   "execution_count": 24,
   "metadata": {
    "ExecuteTime": {
     "end_time": "2021-09-25T13:09:58.740724Z",
     "start_time": "2021-09-25T13:09:13.072747Z"
    }
   },
   "outputs": [
    {
     "name": "stdout",
     "output_type": "stream",
     "text": [
      "Enter comma seperated numbers: 12,12,25\n"
     ]
    },
    {
     "ename": "ValueError",
     "evalue": "invalid literal for int() with base 10: '12,12,25'",
     "output_type": "error",
     "traceback": [
      "\u001b[1;31m---------------------------------------------------------------------------\u001b[0m",
      "\u001b[1;31mValueError\u001b[0m                                Traceback (most recent call last)",
      "\u001b[1;32m<ipython-input-24-d8e9248dbc02>\u001b[0m in \u001b[0;36m<module>\u001b[1;34m\u001b[0m\n\u001b[1;32m----> 1\u001b[1;33m \u001b[0mr\u001b[0m \u001b[1;33m=\u001b[0m \u001b[0mint\u001b[0m\u001b[1;33m(\u001b[0m\u001b[0minput\u001b[0m\u001b[1;33m(\u001b[0m\u001b[1;34m'Enter comma seperated numbers: '\u001b[0m\u001b[1;33m)\u001b[0m\u001b[1;33m)\u001b[0m\u001b[1;33m\u001b[0m\u001b[1;33m\u001b[0m\u001b[0m\n\u001b[0m\u001b[0;32m      2\u001b[0m \u001b[1;31m## we cannot apply int directly for addition as t will gives error as:\u001b[0m\u001b[1;33m\u001b[0m\u001b[1;33m\u001b[0m\u001b[1;33m\u001b[0m\u001b[0m\n\u001b[0;32m      3\u001b[0m \u001b[1;31m## ValueError: invalid literal for int() with base 10: '31,41,51,61'\u001b[0m\u001b[1;33m\u001b[0m\u001b[1;33m\u001b[0m\u001b[1;33m\u001b[0m\u001b[0m\n",
      "\u001b[1;31mValueError\u001b[0m: invalid literal for int() with base 10: '12,12,25'"
     ]
    }
   ],
   "source": [
    "r = int(input('Enter comma seperated numbers: '))\n",
    "## we cannot apply int directly for addition as t will gives error as:\n",
    "## ValueError: invalid literal for int() with base 10: '31,41,51,61'"
   ]
  },
  {
   "cell_type": "markdown",
   "metadata": {},
   "source": [
    "### kwargs- Dict"
   ]
  },
  {
   "cell_type": "code",
   "execution_count": null,
   "metadata": {},
   "outputs": [],
   "source": [
    "#printPlayerDetailsv1(name='Virat', age=33, team ='RCB')"
   ]
  },
  {
   "cell_type": "code",
   "execution_count": null,
   "metadata": {},
   "outputs": [],
   "source": [
    "#printPlayerDetailsv2(name='Virat', age=33, team ='RCB', salary=1000)"
   ]
  },
  {
   "cell_type": "code",
   "execution_count": 135,
   "metadata": {
    "ExecuteTime": {
     "end_time": "2021-09-25T13:21:52.318027Z",
     "start_time": "2021-09-25T13:21:52.302028Z"
    }
   },
   "outputs": [],
   "source": [
    "## in the above two codes there is no sequence of variables in it as there is 3 arguments in the printPlayerDetailsv1 and the sequence is not there\n",
    "## Also in printPlayerDetailsv2 there is 4 arguments and also sequence is not there \n",
    "## So WE NEED TO WRITE A FUNCTION IN SUCH A WAY THAT IT CAN TAKE VARIABLE NO OF NAMED ARRGUMENTS SO THERE kwargs function comes"
   ]
  },
  {
   "cell_type": "code",
   "execution_count": 142,
   "metadata": {
    "ExecuteTime": {
     "end_time": "2021-09-25T13:28:36.916488Z",
     "start_time": "2021-09-25T13:28:36.904485Z"
    }
   },
   "outputs": [],
   "source": [
    "def printPlayerDetails(**kwargs): ## Reciever side , all the named /keyword arguments are packed into a dict-> Packing\n",
    "    print('kwargs :', kwargs)\n",
    "    print('Type of kwargs: ', type (kwargs))"
   ]
  },
  {
   "cell_type": "code",
   "execution_count": 143,
   "metadata": {
    "ExecuteTime": {
     "end_time": "2021-09-25T13:28:43.650979Z",
     "start_time": "2021-09-25T13:28:43.635980Z"
    }
   },
   "outputs": [
    {
     "name": "stdout",
     "output_type": "stream",
     "text": [
      "kwargs : {'name': 'Virat', 'age': 33, 'team': 'RCB'}\n",
      "Type of kwargs:  <class 'dict'>\n"
     ]
    }
   ],
   "source": [
    "printPlayerDetails(name='Virat', age=33, team ='RCB')"
   ]
  },
  {
   "cell_type": "code",
   "execution_count": 144,
   "metadata": {
    "ExecuteTime": {
     "end_time": "2021-09-25T13:28:53.388560Z",
     "start_time": "2021-09-25T13:28:53.372609Z"
    }
   },
   "outputs": [
    {
     "name": "stdout",
     "output_type": "stream",
     "text": [
      "kwargs : {'name': 'Virat', 'age': 33, 'team': 'RCB', 'salary': 1000}\n",
      "Type of kwargs:  <class 'dict'>\n"
     ]
    }
   ],
   "source": [
    "printPlayerDetails(name='Virat', age=33, team ='RCB', salary=1000)"
   ]
  },
  {
   "cell_type": "code",
   "execution_count": null,
   "metadata": {},
   "outputs": [],
   "source": []
  },
  {
   "cell_type": "code",
   "execution_count": 145,
   "metadata": {
    "ExecuteTime": {
     "end_time": "2021-09-25T13:28:56.522513Z",
     "start_time": "2021-09-25T13:28:56.513608Z"
    }
   },
   "outputs": [],
   "source": [
    "def printPlayerDetails(**kwargs): ## Reciever side , all the named /keyword arguments are packed into a dict-> Packing\n",
    "    print('kwargs :', kwargs)\n",
    "    print('Type of kwargs: ', type (kwargs))\n",
    "    for k,v in kwargs.items():\n",
    "        print('k->{}, v-> {}'.format(k,v))"
   ]
  },
  {
   "cell_type": "code",
   "execution_count": 146,
   "metadata": {
    "ExecuteTime": {
     "end_time": "2021-09-25T13:28:57.326088Z",
     "start_time": "2021-09-25T13:28:57.308138Z"
    }
   },
   "outputs": [
    {
     "name": "stdout",
     "output_type": "stream",
     "text": [
      "kwargs : {'name': 'Virat', 'age': 33, 'team': 'RCB'}\n",
      "Type of kwargs:  <class 'dict'>\n",
      "k->name, v-> Virat\n",
      "k->age, v-> 33\n",
      "k->team, v-> RCB\n"
     ]
    }
   ],
   "source": [
    "printPlayerDetails(name='Virat', age=33, team ='RCB')"
   ]
  },
  {
   "cell_type": "code",
   "execution_count": 147,
   "metadata": {
    "ExecuteTime": {
     "end_time": "2021-09-25T13:28:57.906527Z",
     "start_time": "2021-09-25T13:28:57.887584Z"
    }
   },
   "outputs": [
    {
     "name": "stdout",
     "output_type": "stream",
     "text": [
      "kwargs : {'name': 'Virat', 'age': 33, 'team': 'RCB', 'salary': 1000}\n",
      "Type of kwargs:  <class 'dict'>\n",
      "k->name, v-> Virat\n",
      "k->age, v-> 33\n",
      "k->team, v-> RCB\n",
      "k->salary, v-> 1000\n"
     ]
    }
   ],
   "source": [
    "printPlayerDetails(name='Virat', age=33, team ='RCB', salary=1000)"
   ]
  },
  {
   "cell_type": "code",
   "execution_count": null,
   "metadata": {},
   "outputs": [],
   "source": []
  },
  {
   "cell_type": "code",
   "execution_count": 148,
   "metadata": {
    "ExecuteTime": {
     "end_time": "2021-09-25T13:31:21.425494Z",
     "start_time": "2021-09-25T13:31:21.361877Z"
    }
   },
   "outputs": [],
   "source": [
    "d = {'name':'MSD', 'age': 39, 'team': 'CSK'}"
   ]
  },
  {
   "cell_type": "code",
   "execution_count": 149,
   "metadata": {
    "ExecuteTime": {
     "end_time": "2021-09-25T13:32:12.453253Z",
     "start_time": "2021-09-25T13:32:12.447273Z"
    }
   },
   "outputs": [
    {
     "name": "stdout",
     "output_type": "stream",
     "text": [
      "kwargs : {'name': 'MSD', 'age': 39, 'team': 'CSK'}\n",
      "Type of kwargs:  <class 'dict'>\n",
      "k->name, v-> MSD\n",
      "k->age, v-> 39\n",
      "k->team, v-> CSK\n"
     ]
    }
   ],
   "source": [
    "printPlayerDetails(name=d['name'], age=d['age'], team=d['team'])"
   ]
  },
  {
   "cell_type": "code",
   "execution_count": 151,
   "metadata": {
    "ExecuteTime": {
     "end_time": "2021-09-25T13:33:31.559555Z",
     "start_time": "2021-09-25T13:33:31.541606Z"
    }
   },
   "outputs": [],
   "source": [
    "##    OR    ##"
   ]
  },
  {
   "cell_type": "code",
   "execution_count": 150,
   "metadata": {
    "ExecuteTime": {
     "end_time": "2021-09-25T13:33:14.741028Z",
     "start_time": "2021-09-25T13:33:14.736036Z"
    }
   },
   "outputs": [
    {
     "name": "stdout",
     "output_type": "stream",
     "text": [
      "kwargs : {'name': 'MSD', 'age': 39, 'team': 'CSK'}\n",
      "Type of kwargs:  <class 'dict'>\n",
      "k->name, v-> MSD\n",
      "k->age, v-> 39\n",
      "k->team, v-> CSK\n"
     ]
    }
   ],
   "source": [
    "printPlayerDetails(**d) ## Caller Side, Unpacking"
   ]
  },
  {
   "cell_type": "code",
   "execution_count": null,
   "metadata": {},
   "outputs": [],
   "source": []
  },
  {
   "cell_type": "code",
   "execution_count": null,
   "metadata": {},
   "outputs": [],
   "source": []
  }
 ],
 "metadata": {
  "kernelspec": {
   "display_name": "Python 3",
   "language": "python",
   "name": "python3"
  },
  "language_info": {
   "codemirror_mode": {
    "name": "ipython",
    "version": 3
   },
   "file_extension": ".py",
   "mimetype": "text/x-python",
   "name": "python",
   "nbconvert_exporter": "python",
   "pygments_lexer": "ipython3",
   "version": "3.8.8"
  },
  "toc": {
   "base_numbering": 1,
   "nav_menu": {},
   "number_sections": true,
   "sideBar": true,
   "skip_h1_title": false,
   "title_cell": "Table of Contents",
   "title_sidebar": "Contents",
   "toc_cell": false,
   "toc_position": {},
   "toc_section_display": true,
   "toc_window_display": false
  }
 },
 "nbformat": 4,
 "nbformat_minor": 4
}
