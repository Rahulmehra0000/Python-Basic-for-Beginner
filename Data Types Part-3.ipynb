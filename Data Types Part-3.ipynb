{
 "cells": [
  {
   "cell_type": "markdown",
   "metadata": {},
   "source": [
    "# Dicitionaries\n",
    "* Collection of Key - Value Pairs\n",
    "* Syntax: {}\n",
    "* MUTABLE\n",
    "* Maps, Hash Maps"
   ]
  },
  {
   "cell_type": "code",
   "execution_count": 6,
   "metadata": {
    "ExecuteTime": {
     "end_time": "2021-09-24T09:47:54.109383Z",
     "start_time": "2021-09-24T09:47:54.098467Z"
    }
   },
   "outputs": [
    {
     "data": {
      "text/plain": [
       "'Collection of key and values is known as Dictionaries'"
      ]
     },
     "execution_count": 6,
     "metadata": {},
     "output_type": "execute_result"
    }
   ],
   "source": [
    "\n",
    "'''Collection of key and values is known as Dictionaries'''"
   ]
  },
  {
   "cell_type": "code",
   "execution_count": 7,
   "metadata": {
    "ExecuteTime": {
     "end_time": "2021-09-24T09:47:55.039885Z",
     "start_time": "2021-09-24T09:47:54.112372Z"
    }
   },
   "outputs": [],
   "source": [
    "fruits= {'a':'apple','b':'banana','c':'cheery'}\n",
    "## So here a,b & c are keys and apple,banana & cherry is values\n",
    "## Also we can say tha a & apple are one pair.\n",
    "## b & banana are 2nd pair.\n",
    "## c & cherry are 3rd pair"
   ]
  },
  {
   "cell_type": "code",
   "execution_count": 8,
   "metadata": {
    "ExecuteTime": {
     "end_time": "2021-09-24T09:47:55.190642Z",
     "start_time": "2021-09-24T09:47:55.047355Z"
    }
   },
   "outputs": [
    {
     "name": "stdout",
     "output_type": "stream",
     "text": [
      "<class 'dict'>\n"
     ]
    }
   ],
   "source": [
    "print(type(fruits))"
   ]
  },
  {
   "cell_type": "code",
   "execution_count": 9,
   "metadata": {
    "ExecuteTime": {
     "end_time": "2021-09-24T09:47:55.296877Z",
     "start_time": "2021-09-24T09:47:55.194872Z"
    }
   },
   "outputs": [
    {
     "data": {
      "text/plain": [
       "3"
      ]
     },
     "execution_count": 9,
     "metadata": {},
     "output_type": "execute_result"
    }
   ],
   "source": [
    "len(fruits)\n",
    "## lenght of fruits is 3 as there is 3 pairs"
   ]
  },
  {
   "cell_type": "code",
   "execution_count": 10,
   "metadata": {
    "ExecuteTime": {
     "end_time": "2021-09-24T09:47:55.404406Z",
     "start_time": "2021-09-24T09:47:55.302204Z"
    }
   },
   "outputs": [
    {
     "data": {
      "text/plain": [
       "'It just stored just key and value but not ordered'"
      ]
     },
     "execution_count": 10,
     "metadata": {},
     "output_type": "execute_result"
    }
   ],
   "source": [
    "'''Dictionaries is not a ordered collection of key value pairs which means that it doesnot stored like in ordered wise'''\n",
    "'''It just stored just key and value but not ordered'''"
   ]
  },
  {
   "cell_type": "code",
   "execution_count": 11,
   "metadata": {
    "ExecuteTime": {
     "end_time": "2021-09-24T09:47:55.531222Z",
     "start_time": "2021-09-24T09:47:55.408394Z"
    }
   },
   "outputs": [
    {
     "data": {
      "text/plain": [
       "'so to get the values from the dicitionaries we need to provide a square brackets along with key name. So it will gives the value associated with the key. Also here is no ordered so we cannot call it by index'"
      ]
     },
     "execution_count": 11,
     "metadata": {},
     "output_type": "execute_result"
    }
   ],
   "source": [
    "'''so to get the values from the dicitionaries we need to provide a square brackets along with key name. So it will gives the value associated with the key. Also here is no ordered so we cannot call it by index'''"
   ]
  },
  {
   "cell_type": "code",
   "execution_count": 12,
   "metadata": {
    "ExecuteTime": {
     "end_time": "2021-09-24T09:47:55.646949Z",
     "start_time": "2021-09-24T09:47:55.533219Z"
    }
   },
   "outputs": [
    {
     "data": {
      "text/plain": [
       "'apple'"
      ]
     },
     "execution_count": 12,
     "metadata": {},
     "output_type": "execute_result"
    }
   ],
   "source": [
    "fruits['a']\n",
    "# so here the key name is a and the value associated with it is apple"
   ]
  },
  {
   "cell_type": "code",
   "execution_count": 13,
   "metadata": {
    "ExecuteTime": {
     "end_time": "2021-09-24T09:47:56.474790Z",
     "start_time": "2021-09-24T09:47:55.650693Z"
    }
   },
   "outputs": [
    {
     "ename": "KeyError",
     "evalue": "'d'",
     "output_type": "error",
     "traceback": [
      "\u001b[1;31m---------------------------------------------------------------------------\u001b[0m",
      "\u001b[1;31mKeyError\u001b[0m                                  Traceback (most recent call last)",
      "\u001b[1;32m<ipython-input-13-8895d5664285>\u001b[0m in \u001b[0;36m<module>\u001b[1;34m\u001b[0m\n\u001b[0;32m      1\u001b[0m \u001b[1;31m## So we try to access the value for the key which doesn't exist in the dictionaries it will gives an error.\u001b[0m\u001b[1;33m\u001b[0m\u001b[1;33m\u001b[0m\u001b[1;33m\u001b[0m\u001b[0m\n\u001b[0;32m      2\u001b[0m \u001b[1;31m## And the error is key does't found in the dictionaries\u001b[0m\u001b[1;33m\u001b[0m\u001b[1;33m\u001b[0m\u001b[1;33m\u001b[0m\u001b[0m\n\u001b[1;32m----> 3\u001b[1;33m \u001b[0mfruits\u001b[0m\u001b[1;33m[\u001b[0m\u001b[1;34m'd'\u001b[0m\u001b[1;33m]\u001b[0m\u001b[1;33m\u001b[0m\u001b[1;33m\u001b[0m\u001b[0m\n\u001b[0m",
      "\u001b[1;31mKeyError\u001b[0m: 'd'"
     ]
    }
   ],
   "source": [
    "## So we try to access the value for the key which doesn't exist in the dictionaries it will gives an error.\n",
    "## And the error is key does't found in the dictionaries\n",
    "fruits['d']"
   ]
  },
  {
   "cell_type": "markdown",
   "metadata": {},
   "source": [
    "## Add elements to dict"
   ]
  },
  {
   "cell_type": "code",
   "execution_count": 14,
   "metadata": {
    "ExecuteTime": {
     "end_time": "2021-09-24T09:48:03.063679Z",
     "start_time": "2021-09-24T09:48:03.048846Z"
    }
   },
   "outputs": [],
   "source": [
    "fruits['p']= 'papaya'\n",
    "## adding key name p with value papaya"
   ]
  },
  {
   "cell_type": "code",
   "execution_count": 15,
   "metadata": {
    "ExecuteTime": {
     "end_time": "2021-09-24T09:48:03.529621Z",
     "start_time": "2021-09-24T09:48:03.518755Z"
    }
   },
   "outputs": [
    {
     "data": {
      "text/plain": [
       "{'a': 'apple', 'b': 'banana', 'c': 'cheery', 'p': 'papaya'}"
      ]
     },
     "execution_count": 15,
     "metadata": {},
     "output_type": "execute_result"
    }
   ],
   "source": [
    "fruits"
   ]
  },
  {
   "cell_type": "code",
   "execution_count": 16,
   "metadata": {
    "ExecuteTime": {
     "end_time": "2021-09-24T09:48:03.990150Z",
     "start_time": "2021-09-24T09:48:03.982049Z"
    }
   },
   "outputs": [],
   "source": [
    "fruits['a']='apricot'\n",
    "## so here we giving new value to already existing key a and the result will show new value which was stored in key removing the old value in the key"
   ]
  },
  {
   "cell_type": "code",
   "execution_count": 17,
   "metadata": {
    "ExecuteTime": {
     "end_time": "2021-09-24T09:48:04.442655Z",
     "start_time": "2021-09-24T09:48:04.433375Z"
    }
   },
   "outputs": [
    {
     "data": {
      "text/plain": [
       "{'a': 'apricot', 'b': 'banana', 'c': 'cheery', 'p': 'papaya'}"
      ]
     },
     "execution_count": 17,
     "metadata": {},
     "output_type": "execute_result"
    }
   ],
   "source": [
    "fruits"
   ]
  },
  {
   "cell_type": "markdown",
   "metadata": {},
   "source": [
    "## How to delete elements(key-value) from the dict"
   ]
  },
  {
   "cell_type": "code",
   "execution_count": 18,
   "metadata": {
    "ExecuteTime": {
     "end_time": "2021-09-24T09:48:05.445507Z",
     "start_time": "2021-09-24T09:48:05.418404Z"
    }
   },
   "outputs": [
    {
     "data": {
      "text/plain": [
       "'banana'"
      ]
     },
     "execution_count": 18,
     "metadata": {},
     "output_type": "execute_result"
    }
   ],
   "source": [
    "## USING POP FUNCTION\n",
    "'''Docstring:\n",
    "D.pop(k[,d]) -> v, remove specified key and return the corresponding value.\n",
    "If key is not found, d is returned if given, otherwise KeyError is raised\n",
    "Type:      builtin_function_or_method'''\n",
    "\n",
    "fruits.pop('b')"
   ]
  },
  {
   "cell_type": "code",
   "execution_count": 19,
   "metadata": {
    "ExecuteTime": {
     "end_time": "2021-09-24T09:48:05.844470Z",
     "start_time": "2021-09-24T09:48:05.830102Z"
    }
   },
   "outputs": [
    {
     "data": {
      "text/plain": [
       "{'a': 'apricot', 'c': 'cheery', 'p': 'papaya'}"
      ]
     },
     "execution_count": 19,
     "metadata": {},
     "output_type": "execute_result"
    }
   ],
   "source": [
    "fruits"
   ]
  },
  {
   "cell_type": "code",
   "execution_count": 20,
   "metadata": {
    "ExecuteTime": {
     "end_time": "2021-09-24T09:48:06.274165Z",
     "start_time": "2021-09-24T09:48:06.251757Z"
    }
   },
   "outputs": [
    {
     "ename": "KeyError",
     "evalue": "'d'",
     "output_type": "error",
     "traceback": [
      "\u001b[1;31m---------------------------------------------------------------------------\u001b[0m",
      "\u001b[1;31mKeyError\u001b[0m                                  Traceback (most recent call last)",
      "\u001b[1;32m<ipython-input-20-4fe408f1c810>\u001b[0m in \u001b[0;36m<module>\u001b[1;34m\u001b[0m\n\u001b[1;32m----> 1\u001b[1;33m \u001b[0mfruits\u001b[0m\u001b[1;33m.\u001b[0m\u001b[0mpop\u001b[0m\u001b[1;33m(\u001b[0m\u001b[1;34m'd'\u001b[0m\u001b[1;33m)\u001b[0m\u001b[1;33m\u001b[0m\u001b[1;33m\u001b[0m\u001b[0m\n\u001b[0m\u001b[0;32m      2\u001b[0m \u001b[1;31m#3 here error will come as there is now key in the dict starting with d\u001b[0m\u001b[1;33m\u001b[0m\u001b[1;33m\u001b[0m\u001b[1;33m\u001b[0m\u001b[0m\n",
      "\u001b[1;31mKeyError\u001b[0m: 'd'"
     ]
    }
   ],
   "source": [
    "fruits.pop('d')\n",
    "#3 here error will come as there is now key in the dict starting with d"
   ]
  },
  {
   "cell_type": "code",
   "execution_count": 21,
   "metadata": {
    "ExecuteTime": {
     "end_time": "2021-09-24T09:48:06.651614Z",
     "start_time": "2021-09-24T09:48:06.637259Z"
    }
   },
   "outputs": [],
   "source": [
    "## USING DEL KEYWORD"
   ]
  },
  {
   "cell_type": "code",
   "execution_count": 22,
   "metadata": {
    "ExecuteTime": {
     "end_time": "2021-09-24T09:48:07.036499Z",
     "start_time": "2021-09-24T09:48:07.020526Z"
    }
   },
   "outputs": [
    {
     "data": {
      "text/plain": [
       "{'a': 'apricot', 'c': 'cheery', 'p': 'papaya'}"
      ]
     },
     "execution_count": 22,
     "metadata": {},
     "output_type": "execute_result"
    }
   ],
   "source": [
    "fruits"
   ]
  },
  {
   "cell_type": "code",
   "execution_count": 23,
   "metadata": {
    "ExecuteTime": {
     "end_time": "2021-09-24T09:48:07.442234Z",
     "start_time": "2021-09-24T09:48:07.424721Z"
    }
   },
   "outputs": [],
   "source": [
    "del fruits['c']"
   ]
  },
  {
   "cell_type": "code",
   "execution_count": 24,
   "metadata": {
    "ExecuteTime": {
     "end_time": "2021-09-24T09:48:08.972170Z",
     "start_time": "2021-09-24T09:48:07.804132Z"
    }
   },
   "outputs": [
    {
     "data": {
      "text/plain": [
       "{'a': 'apricot', 'p': 'papaya'}"
      ]
     },
     "execution_count": 24,
     "metadata": {},
     "output_type": "execute_result"
    }
   ],
   "source": [
    "fruits"
   ]
  },
  {
   "cell_type": "code",
   "execution_count": 30,
   "metadata": {
    "ExecuteTime": {
     "end_time": "2021-09-24T09:49:32.630500Z",
     "start_time": "2021-09-24T09:49:32.625451Z"
    }
   },
   "outputs": [],
   "source": [
    "## Using Pop Item"
   ]
  },
  {
   "cell_type": "code",
   "execution_count": 25,
   "metadata": {
    "ExecuteTime": {
     "end_time": "2021-09-24T09:48:09.129640Z",
     "start_time": "2021-09-24T09:48:08.980840Z"
    }
   },
   "outputs": [
    {
     "data": {
      "text/plain": [
       "'Signature: fruits.popitem()\\nDocstring:\\nRemove and return a (key, value) pair as a 2-tuple.'"
      ]
     },
     "execution_count": 25,
     "metadata": {},
     "output_type": "execute_result"
    }
   ],
   "source": [
    "'''Signature: fruits.popitem()\n",
    "Docstring:\n",
    "Remove and return a (key, value) pair as a 2-tuple.'''\n",
    "\n",
    "## The function of popitem is to delete the item randomly"
   ]
  },
  {
   "cell_type": "code",
   "execution_count": 26,
   "metadata": {
    "ExecuteTime": {
     "end_time": "2021-09-24T09:48:09.229647Z",
     "start_time": "2021-09-24T09:48:09.133892Z"
    }
   },
   "outputs": [
    {
     "data": {
      "text/plain": [
       "('p', 'papaya')"
      ]
     },
     "execution_count": 26,
     "metadata": {},
     "output_type": "execute_result"
    }
   ],
   "source": [
    "fruits.popitem()"
   ]
  },
  {
   "cell_type": "code",
   "execution_count": 27,
   "metadata": {
    "ExecuteTime": {
     "end_time": "2021-09-24T09:48:09.512902Z",
     "start_time": "2021-09-24T09:48:09.505269Z"
    }
   },
   "outputs": [
    {
     "data": {
      "text/plain": [
       "('a', 'apricot')"
      ]
     },
     "execution_count": 27,
     "metadata": {},
     "output_type": "execute_result"
    }
   ],
   "source": [
    "fruits.popitem()"
   ]
  },
  {
   "cell_type": "code",
   "execution_count": 28,
   "metadata": {
    "ExecuteTime": {
     "end_time": "2021-09-24T09:48:09.909290Z",
     "start_time": "2021-09-24T09:48:09.898638Z"
    }
   },
   "outputs": [
    {
     "data": {
      "text/plain": [
       "{}"
      ]
     },
     "execution_count": 28,
     "metadata": {},
     "output_type": "execute_result"
    }
   ],
   "source": [
    "fruits"
   ]
  },
  {
   "cell_type": "code",
   "execution_count": 29,
   "metadata": {
    "ExecuteTime": {
     "end_time": "2021-09-24T09:48:11.414579Z",
     "start_time": "2021-09-24T09:48:10.413838Z"
    }
   },
   "outputs": [
    {
     "ename": "KeyError",
     "evalue": "'popitem(): dictionary is empty'",
     "output_type": "error",
     "traceback": [
      "\u001b[1;31m---------------------------------------------------------------------------\u001b[0m",
      "\u001b[1;31mKeyError\u001b[0m                                  Traceback (most recent call last)",
      "\u001b[1;32m<ipython-input-29-fce1a784415d>\u001b[0m in \u001b[0;36m<module>\u001b[1;34m\u001b[0m\n\u001b[1;32m----> 1\u001b[1;33m \u001b[0mfruits\u001b[0m\u001b[1;33m.\u001b[0m\u001b[0mpopitem\u001b[0m\u001b[1;33m(\u001b[0m\u001b[1;33m)\u001b[0m\u001b[1;33m\u001b[0m\u001b[1;33m\u001b[0m\u001b[0m\n\u001b[0m\u001b[0;32m      2\u001b[0m \u001b[1;31m## error will come as the dict is empty\u001b[0m\u001b[1;33m\u001b[0m\u001b[1;33m\u001b[0m\u001b[1;33m\u001b[0m\u001b[0m\n",
      "\u001b[1;31mKeyError\u001b[0m: 'popitem(): dictionary is empty'"
     ]
    }
   ],
   "source": [
    "fruits.popitem()\n",
    "## error will come as the dict is empty"
   ]
  },
  {
   "cell_type": "markdown",
   "metadata": {},
   "source": [
    "## Misc Operations    "
   ]
  },
  {
   "cell_type": "code",
   "execution_count": 31,
   "metadata": {
    "ExecuteTime": {
     "end_time": "2021-09-24T09:49:52.748407Z",
     "start_time": "2021-09-24T09:49:52.739993Z"
    }
   },
   "outputs": [
    {
     "data": {
      "text/plain": [
       "{}"
      ]
     },
     "execution_count": 31,
     "metadata": {},
     "output_type": "execute_result"
    }
   ],
   "source": [
    "fruits"
   ]
  },
  {
   "cell_type": "code",
   "execution_count": 32,
   "metadata": {
    "ExecuteTime": {
     "end_time": "2021-09-24T09:50:26.028797Z",
     "start_time": "2021-09-24T09:50:26.013492Z"
    }
   },
   "outputs": [],
   "source": [
    "fruits['a']= 'apple'\n",
    "fruits['b']= 'banana'\n",
    "fruits['c']= 'cherry'"
   ]
  },
  {
   "cell_type": "code",
   "execution_count": 33,
   "metadata": {
    "ExecuteTime": {
     "end_time": "2021-09-24T09:50:28.870586Z",
     "start_time": "2021-09-24T09:50:28.855024Z"
    }
   },
   "outputs": [
    {
     "data": {
      "text/plain": [
       "{'a': 'apple', 'b': 'banana', 'c': 'cherry'}"
      ]
     },
     "execution_count": 33,
     "metadata": {},
     "output_type": "execute_result"
    }
   ],
   "source": [
    "fruits"
   ]
  },
  {
   "cell_type": "code",
   "execution_count": 34,
   "metadata": {
    "ExecuteTime": {
     "end_time": "2021-09-24T09:50:36.228484Z",
     "start_time": "2021-09-24T09:50:36.209747Z"
    }
   },
   "outputs": [
    {
     "data": {
      "text/plain": [
       "dict_keys(['a', 'b', 'c'])"
      ]
     },
     "execution_count": 34,
     "metadata": {},
     "output_type": "execute_result"
    }
   ],
   "source": [
    "fruits.keys()\n",
    "## it will gives us all the keys present in the key"
   ]
  },
  {
   "cell_type": "code",
   "execution_count": 36,
   "metadata": {
    "ExecuteTime": {
     "end_time": "2021-09-24T09:55:23.335679Z",
     "start_time": "2021-09-24T09:55:23.321240Z"
    }
   },
   "outputs": [
    {
     "data": {
      "text/plain": [
       "dict_values(['apple', 'banana', 'cherry'])"
      ]
     },
     "execution_count": 36,
     "metadata": {},
     "output_type": "execute_result"
    }
   ],
   "source": [
    "fruits.values()\n",
    "## list of all vales present in the dist"
   ]
  },
  {
   "cell_type": "code",
   "execution_count": 38,
   "metadata": {
    "ExecuteTime": {
     "end_time": "2021-09-24T09:57:40.969788Z",
     "start_time": "2021-09-24T09:57:40.955633Z"
    }
   },
   "outputs": [
    {
     "data": {
      "text/plain": [
       "dict_items([('a', 'apple'), ('b', 'banana'), ('c', 'cherry')])"
      ]
     },
     "execution_count": 38,
     "metadata": {},
     "output_type": "execute_result"
    }
   ],
   "source": [
    "fruits.items()\n",
    "## this will gives us key value pairs in the form of tuple\n",
    "## this will gives us the list of tuple which present in the list as first is key and 2nd is value "
   ]
  },
  {
   "cell_type": "code",
   "execution_count": null,
   "metadata": {},
   "outputs": [],
   "source": []
  },
  {
   "cell_type": "code",
   "execution_count": 39,
   "metadata": {
    "ExecuteTime": {
     "end_time": "2021-09-24T10:01:06.160856Z",
     "start_time": "2021-09-24T10:01:06.146175Z"
    }
   },
   "outputs": [],
   "source": [
    "## in function"
   ]
  },
  {
   "cell_type": "code",
   "execution_count": 40,
   "metadata": {
    "ExecuteTime": {
     "end_time": "2021-09-24T10:01:29.494009Z",
     "start_time": "2021-09-24T10:01:29.479202Z"
    }
   },
   "outputs": [
    {
     "data": {
      "text/plain": [
       "True"
      ]
     },
     "execution_count": 40,
     "metadata": {},
     "output_type": "execute_result"
    }
   ],
   "source": [
    "'a'in fruits"
   ]
  },
  {
   "cell_type": "code",
   "execution_count": 41,
   "metadata": {
    "ExecuteTime": {
     "end_time": "2021-09-24T10:01:41.486592Z",
     "start_time": "2021-09-24T10:01:41.474787Z"
    }
   },
   "outputs": [
    {
     "data": {
      "text/plain": [
       "False"
      ]
     },
     "execution_count": 41,
     "metadata": {},
     "output_type": "execute_result"
    }
   ],
   "source": [
    "'p' in fruits"
   ]
  },
  {
   "cell_type": "code",
   "execution_count": 42,
   "metadata": {
    "ExecuteTime": {
     "end_time": "2021-09-24T10:01:50.659065Z",
     "start_time": "2021-09-24T10:01:50.646272Z"
    }
   },
   "outputs": [
    {
     "data": {
      "text/plain": [
       "False"
      ]
     },
     "execution_count": 42,
     "metadata": {},
     "output_type": "execute_result"
    }
   ],
   "source": [
    "'z' in fruits"
   ]
  },
  {
   "cell_type": "code",
   "execution_count": 43,
   "metadata": {
    "ExecuteTime": {
     "end_time": "2021-09-24T10:02:06.234416Z",
     "start_time": "2021-09-24T10:02:06.226648Z"
    }
   },
   "outputs": [
    {
     "data": {
      "text/plain": [
       "True"
      ]
     },
     "execution_count": 43,
     "metadata": {},
     "output_type": "execute_result"
    }
   ],
   "source": [
    "'apple' in fruits.values()"
   ]
  },
  {
   "cell_type": "code",
   "execution_count": 44,
   "metadata": {
    "ExecuteTime": {
     "end_time": "2021-09-24T10:02:25.532223Z",
     "start_time": "2021-09-24T10:02:25.510649Z"
    }
   },
   "outputs": [
    {
     "data": {
      "text/plain": [
       "False"
      ]
     },
     "execution_count": 44,
     "metadata": {},
     "output_type": "execute_result"
    }
   ],
   "source": [
    "'papaya' in fruits.values()"
   ]
  },
  {
   "cell_type": "markdown",
   "metadata": {},
   "source": [
    "# Range\n",
    "* Used to generate a series/sequence of numbers\n",
    "* Start(included), Stop(excluded), Step Count"
   ]
  },
  {
   "cell_type": "code",
   "execution_count": 46,
   "metadata": {
    "ExecuteTime": {
     "end_time": "2021-09-24T10:04:40.623650Z",
     "start_time": "2021-09-24T10:04:40.614014Z"
    }
   },
   "outputs": [],
   "source": [
    "r = range(0,11)"
   ]
  },
  {
   "cell_type": "code",
   "execution_count": 47,
   "metadata": {
    "ExecuteTime": {
     "end_time": "2021-09-24T10:04:43.715269Z",
     "start_time": "2021-09-24T10:04:43.419094Z"
    }
   },
   "outputs": [
    {
     "data": {
      "text/plain": [
       "range(0, 11)"
      ]
     },
     "execution_count": 47,
     "metadata": {},
     "output_type": "execute_result"
    }
   ],
   "source": [
    "r"
   ]
  },
  {
   "cell_type": "code",
   "execution_count": 50,
   "metadata": {
    "ExecuteTime": {
     "end_time": "2021-09-24T10:06:01.619168Z",
     "start_time": "2021-09-24T10:06:01.613227Z"
    }
   },
   "outputs": [],
   "source": [
    "## It create a sequence of numbers starting from 0 to 10. It will not include the last mentioned no"
   ]
  },
  {
   "cell_type": "code",
   "execution_count": 49,
   "metadata": {
    "ExecuteTime": {
     "end_time": "2021-09-24T10:05:19.264699Z",
     "start_time": "2021-09-24T10:05:19.252789Z"
    }
   },
   "outputs": [
    {
     "name": "stdout",
     "output_type": "stream",
     "text": [
      "<class 'range'>\n"
     ]
    }
   ],
   "source": [
    "print(type(r))"
   ]
  },
  {
   "cell_type": "code",
   "execution_count": 51,
   "metadata": {
    "ExecuteTime": {
     "end_time": "2021-09-24T10:09:17.661639Z",
     "start_time": "2021-09-24T10:09:17.645515Z"
    }
   },
   "outputs": [],
   "source": [
    "## Now it dosn't allocate a memory to all the 10 nos or many more which you had assigned in it.\n",
    "## it will only allocate it when you create or access those nos than it will allocate the memory"
   ]
  },
  {
   "cell_type": "code",
   "execution_count": 53,
   "metadata": {
    "ExecuteTime": {
     "end_time": "2021-09-24T10:10:01.635404Z",
     "start_time": "2021-09-24T10:10:01.615341Z"
    }
   },
   "outputs": [
    {
     "data": {
      "text/plain": [
       "[0, 1, 2, 3, 4, 5, 6, 7, 8, 9, 10]"
      ]
     },
     "execution_count": 53,
     "metadata": {},
     "output_type": "execute_result"
    }
   ],
   "source": [
    "list(r)\n",
    "## here we had created a list out of range r and allocated the memory from 0 to 10"
   ]
  },
  {
   "cell_type": "code",
   "execution_count": 56,
   "metadata": {
    "ExecuteTime": {
     "end_time": "2021-09-24T10:11:13.218270Z",
     "start_time": "2021-09-24T10:11:13.199892Z"
    }
   },
   "outputs": [
    {
     "data": {
      "text/plain": [
       "(0, 1, 2, 3, 4, 5, 6, 7, 8, 9, 10)"
      ]
     },
     "execution_count": 56,
     "metadata": {},
     "output_type": "execute_result"
    }
   ],
   "source": [
    "tuple(r)\n",
    "## here we had created a tuple out of range r and allocated the memory"
   ]
  },
  {
   "cell_type": "code",
   "execution_count": 57,
   "metadata": {
    "ExecuteTime": {
     "end_time": "2021-09-24T10:34:58.245201Z",
     "start_time": "2021-09-24T10:34:58.235172Z"
    }
   },
   "outputs": [],
   "source": [
    "r1 = range(15)"
   ]
  },
  {
   "cell_type": "code",
   "execution_count": 60,
   "metadata": {
    "ExecuteTime": {
     "end_time": "2021-09-24T10:36:24.508962Z",
     "start_time": "2021-09-24T10:36:24.504976Z"
    }
   },
   "outputs": [
    {
     "name": "stdout",
     "output_type": "stream",
     "text": [
      "range(0, 15)\n"
     ]
    }
   ],
   "source": [
    "print(r1)\n",
    "## here the result will show only 2 values in as 0 and 15. As 0 is the first value and 15 is the last"
   ]
  },
  {
   "cell_type": "code",
   "execution_count": 61,
   "metadata": {
    "ExecuteTime": {
     "end_time": "2021-09-24T10:37:15.290685Z",
     "start_time": "2021-09-24T10:37:15.275413Z"
    }
   },
   "outputs": [
    {
     "data": {
      "text/plain": [
       "[0, 1, 2, 3, 4, 5, 6, 7, 8, 9, 10, 11, 12, 13, 14]"
      ]
     },
     "execution_count": 61,
     "metadata": {},
     "output_type": "execute_result"
    }
   ],
   "source": [
    "list(r1)\n",
    "## in list it will show all the range memory that it has in between 0 to 15 excluding 15 "
   ]
  },
  {
   "cell_type": "code",
   "execution_count": 62,
   "metadata": {
    "ExecuteTime": {
     "end_time": "2021-09-24T10:37:30.428299Z",
     "start_time": "2021-09-24T10:37:30.417291Z"
    }
   },
   "outputs": [],
   "source": [
    "r2 = range(5,20)"
   ]
  },
  {
   "cell_type": "code",
   "execution_count": 64,
   "metadata": {
    "ExecuteTime": {
     "end_time": "2021-09-24T10:38:04.178907Z",
     "start_time": "2021-09-24T10:38:04.152946Z"
    }
   },
   "outputs": [
    {
     "data": {
      "text/plain": [
       "[5, 6, 7, 8, 9, 10, 11, 12, 13, 14, 15, 16, 17, 18, 19]"
      ]
     },
     "execution_count": 64,
     "metadata": {},
     "output_type": "execute_result"
    }
   ],
   "source": [
    "list(r2)\n",
    "#so here it will start from 5 upto 19"
   ]
  },
  {
   "cell_type": "code",
   "execution_count": null,
   "metadata": {},
   "outputs": [],
   "source": []
  },
  {
   "cell_type": "code",
   "execution_count": 65,
   "metadata": {
    "ExecuteTime": {
     "end_time": "2021-09-24T10:38:33.779873Z",
     "start_time": "2021-09-24T10:38:33.768935Z"
    }
   },
   "outputs": [],
   "source": [
    "r3 = range(5,51,10)"
   ]
  },
  {
   "cell_type": "code",
   "execution_count": 66,
   "metadata": {
    "ExecuteTime": {
     "end_time": "2021-09-24T10:38:39.563095Z",
     "start_time": "2021-09-24T10:38:39.555166Z"
    }
   },
   "outputs": [
    {
     "name": "stdout",
     "output_type": "stream",
     "text": [
      "range(5, 51, 10)\n"
     ]
    }
   ],
   "source": [
    "print(r3)"
   ]
  },
  {
   "cell_type": "code",
   "execution_count": 68,
   "metadata": {
    "ExecuteTime": {
     "end_time": "2021-09-24T10:40:02.412155Z",
     "start_time": "2021-09-24T10:40:02.395244Z"
    }
   },
   "outputs": [
    {
     "data": {
      "text/plain": [
       "[5, 15, 25, 35, 45]"
      ]
     },
     "execution_count": 68,
     "metadata": {},
     "output_type": "execute_result"
    }
   ],
   "source": [
    "list(r3)\n",
    "# so in this 10 will act as count here and increase the value to 10 everytime till the time reached to its allocated range "
   ]
  },
  {
   "cell_type": "code",
   "execution_count": 69,
   "metadata": {
    "ExecuteTime": {
     "end_time": "2021-09-24T10:42:57.205482Z",
     "start_time": "2021-09-24T10:42:57.184556Z"
    }
   },
   "outputs": [],
   "source": [
    "r4 = range(100,0,-4)"
   ]
  },
  {
   "cell_type": "code",
   "execution_count": 70,
   "metadata": {
    "ExecuteTime": {
     "end_time": "2021-09-24T10:43:04.486773Z",
     "start_time": "2021-09-24T10:43:04.470813Z"
    }
   },
   "outputs": [
    {
     "data": {
      "text/plain": [
       "[100,\n",
       " 96,\n",
       " 92,\n",
       " 88,\n",
       " 84,\n",
       " 80,\n",
       " 76,\n",
       " 72,\n",
       " 68,\n",
       " 64,\n",
       " 60,\n",
       " 56,\n",
       " 52,\n",
       " 48,\n",
       " 44,\n",
       " 40,\n",
       " 36,\n",
       " 32,\n",
       " 28,\n",
       " 24,\n",
       " 20,\n",
       " 16,\n",
       " 12,\n",
       " 8,\n",
       " 4]"
      ]
     },
     "execution_count": 70,
     "metadata": {},
     "output_type": "execute_result"
    }
   ],
   "source": [
    "list(r4)"
   ]
  },
  {
   "cell_type": "code",
   "execution_count": 71,
   "metadata": {
    "ExecuteTime": {
     "end_time": "2021-09-24T10:43:25.797104Z",
     "start_time": "2021-09-24T10:43:25.783110Z"
    }
   },
   "outputs": [],
   "source": [
    "r5 = range(-10,-100,-10)"
   ]
  },
  {
   "cell_type": "code",
   "execution_count": 72,
   "metadata": {
    "ExecuteTime": {
     "end_time": "2021-09-24T10:43:30.605418Z",
     "start_time": "2021-09-24T10:43:30.588427Z"
    }
   },
   "outputs": [
    {
     "data": {
      "text/plain": [
       "[-10, -20, -30, -40, -50, -60, -70, -80, -90]"
      ]
     },
     "execution_count": 72,
     "metadata": {},
     "output_type": "execute_result"
    }
   ],
   "source": [
    "list(r5)"
   ]
  },
  {
   "cell_type": "code",
   "execution_count": 73,
   "metadata": {
    "ExecuteTime": {
     "end_time": "2021-09-24T10:43:37.456622Z",
     "start_time": "2021-09-24T10:43:37.443677Z"
    }
   },
   "outputs": [
    {
     "name": "stdout",
     "output_type": "stream",
     "text": [
      "range(-10, -100, -10)\n"
     ]
    }
   ],
   "source": [
    "print(r5)"
   ]
  },
  {
   "cell_type": "markdown",
   "metadata": {},
   "source": [
    "# Sets\n",
    "* Unique collection of IMMUTABLE items/objects\n",
    "* Syntax: { }\n",
    "* MUTABLE"
   ]
  },
  {
   "cell_type": "code",
   "execution_count": 74,
   "metadata": {
    "ExecuteTime": {
     "end_time": "2021-09-24T10:49:16.188380Z",
     "start_time": "2021-09-24T10:49:16.138515Z"
    }
   },
   "outputs": [],
   "source": [
    "a ={'Sun','Mon','Tue'}"
   ]
  },
  {
   "cell_type": "code",
   "execution_count": 75,
   "metadata": {
    "ExecuteTime": {
     "end_time": "2021-09-24T10:49:21.967928Z",
     "start_time": "2021-09-24T10:49:21.949937Z"
    }
   },
   "outputs": [
    {
     "name": "stdout",
     "output_type": "stream",
     "text": [
      "{'Tue', 'Sun', 'Mon'}\n"
     ]
    }
   ],
   "source": [
    "print(a)"
   ]
  },
  {
   "cell_type": "code",
   "execution_count": 82,
   "metadata": {
    "ExecuteTime": {
     "end_time": "2021-09-24T10:53:42.646638Z",
     "start_time": "2021-09-24T10:53:42.639658Z"
    }
   },
   "outputs": [],
   "source": [
    "## So set may be defined as collection of items seperated by comma. So it can contains any elements. It can contains any IMMUTALE elements which means string is immutable, tuple is immutable, number is immutable etc"
   ]
  },
  {
   "cell_type": "code",
   "execution_count": 76,
   "metadata": {
    "ExecuteTime": {
     "end_time": "2021-09-24T10:49:30.886157Z",
     "start_time": "2021-09-24T10:49:30.882972Z"
    }
   },
   "outputs": [
    {
     "name": "stdout",
     "output_type": "stream",
     "text": [
      "<class 'set'>\n"
     ]
    }
   ],
   "source": [
    "print(type(a))"
   ]
  },
  {
   "cell_type": "code",
   "execution_count": 77,
   "metadata": {
    "ExecuteTime": {
     "end_time": "2021-09-24T10:50:09.582623Z",
     "start_time": "2021-09-24T10:50:09.557692Z"
    }
   },
   "outputs": [],
   "source": [
    "a.add('Wed')\n",
    "## Addation of elements in sets"
   ]
  },
  {
   "cell_type": "code",
   "execution_count": 78,
   "metadata": {
    "ExecuteTime": {
     "end_time": "2021-09-24T10:50:13.428447Z",
     "start_time": "2021-09-24T10:50:13.416481Z"
    }
   },
   "outputs": [
    {
     "data": {
      "text/plain": [
       "{'Mon', 'Sun', 'Tue', 'Wed'}"
      ]
     },
     "execution_count": 78,
     "metadata": {},
     "output_type": "execute_result"
    }
   ],
   "source": [
    "a"
   ]
  },
  {
   "cell_type": "code",
   "execution_count": 83,
   "metadata": {
    "ExecuteTime": {
     "end_time": "2021-09-24T10:55:25.096011Z",
     "start_time": "2021-09-24T10:55:25.085858Z"
    }
   },
   "outputs": [],
   "source": [
    "a.add('Sun')\n",
    "#3 here we are adding sun again as it is already in the set so it will add it in the set but only shows and print as 1 element"
   ]
  },
  {
   "cell_type": "code",
   "execution_count": 84,
   "metadata": {
    "ExecuteTime": {
     "end_time": "2021-09-24T10:55:28.981313Z",
     "start_time": "2021-09-24T10:55:28.941415Z"
    }
   },
   "outputs": [
    {
     "data": {
      "text/plain": [
       "{'Mon', 'Sun', 'Tue', 'Wed'}"
      ]
     },
     "execution_count": 84,
     "metadata": {},
     "output_type": "execute_result"
    }
   ],
   "source": [
    "a"
   ]
  },
  {
   "cell_type": "code",
   "execution_count": 85,
   "metadata": {
    "ExecuteTime": {
     "end_time": "2021-09-24T10:55:46.167896Z",
     "start_time": "2021-09-24T10:55:46.142909Z"
    }
   },
   "outputs": [],
   "source": [
    "a.add('sun')"
   ]
  },
  {
   "cell_type": "code",
   "execution_count": 87,
   "metadata": {
    "ExecuteTime": {
     "end_time": "2021-09-24T10:56:15.665838Z",
     "start_time": "2021-09-24T10:56:15.649834Z"
    }
   },
   "outputs": [
    {
     "data": {
      "text/plain": [
       "{'Mon', 'Sun', 'Tue', 'Wed', 'sun'}"
      ]
     },
     "execution_count": 87,
     "metadata": {},
     "output_type": "execute_result"
    }
   ],
   "source": [
    "a\n",
    "# it means set is Case sensitive"
   ]
  },
  {
   "cell_type": "code",
   "execution_count": 88,
   "metadata": {
    "ExecuteTime": {
     "end_time": "2021-09-24T10:57:05.208925Z",
     "start_time": "2021-09-24T10:57:05.190934Z"
    }
   },
   "outputs": [],
   "source": [
    "b = {'Thu','Fri','Sat'}"
   ]
  },
  {
   "cell_type": "code",
   "execution_count": 91,
   "metadata": {
    "ExecuteTime": {
     "end_time": "2021-09-24T11:00:36.681653Z",
     "start_time": "2021-09-24T11:00:36.579648Z"
    }
   },
   "outputs": [
    {
     "ename": "TypeError",
     "evalue": "unsupported operand type(s) for +: 'set' and 'set'",
     "output_type": "error",
     "traceback": [
      "\u001b[1;31m---------------------------------------------------------------------------\u001b[0m",
      "\u001b[1;31mTypeError\u001b[0m                                 Traceback (most recent call last)",
      "\u001b[1;32m<ipython-input-91-ca730b97bf8a>\u001b[0m in \u001b[0;36m<module>\u001b[1;34m\u001b[0m\n\u001b[1;32m----> 1\u001b[1;33m \u001b[0ma\u001b[0m\u001b[1;33m+\u001b[0m\u001b[0mb\u001b[0m\u001b[1;33m\u001b[0m\u001b[1;33m\u001b[0m\u001b[0m\n\u001b[0m",
      "\u001b[1;31mTypeError\u001b[0m: unsupported operand type(s) for +: 'set' and 'set'"
     ]
    }
   ],
   "source": [
    "a+b\n",
    "## This will not happened"
   ]
  },
  {
   "cell_type": "code",
   "execution_count": 89,
   "metadata": {
    "ExecuteTime": {
     "end_time": "2021-09-24T10:57:28.981792Z",
     "start_time": "2021-09-24T10:57:28.941905Z"
    }
   },
   "outputs": [
    {
     "data": {
      "text/plain": [
       "{'Fri', 'Mon', 'Sat', 'Sun', 'Thu', 'Tue', 'Wed', 'sun'}"
      ]
     },
     "execution_count": 89,
     "metadata": {},
     "output_type": "execute_result"
    }
   ],
   "source": [
    "a | b\n",
    "## So this is the addition of 2 sets by pipe operator but not in sequence"
   ]
  },
  {
   "cell_type": "code",
   "execution_count": 90,
   "metadata": {
    "ExecuteTime": {
     "end_time": "2021-09-24T10:58:25.543252Z",
     "start_time": "2021-09-24T10:58:25.526259Z"
    }
   },
   "outputs": [
    {
     "data": {
      "text/plain": [
       "{'Fri', 'Mon', 'Sat', 'Sun', 'Thu', 'Tue', 'Wed', 'sun'}"
      ]
     },
     "execution_count": 90,
     "metadata": {},
     "output_type": "execute_result"
    }
   ],
   "source": [
    "a.union(b)\n",
    "## So this is the addition of 2 sets by union function but not in sequence"
   ]
  },
  {
   "cell_type": "code",
   "execution_count": 92,
   "metadata": {
    "ExecuteTime": {
     "end_time": "2021-09-24T11:02:10.656110Z",
     "start_time": "2021-09-24T11:02:10.649132Z"
    }
   },
   "outputs": [
    {
     "data": {
      "text/plain": [
       "{'Mon', 'Sun', 'Tue', 'Wed', 'sun'}"
      ]
     },
     "execution_count": 92,
     "metadata": {},
     "output_type": "execute_result"
    }
   ],
   "source": [
    "a-b\n",
    "## So this is giving the values of a kepping the difference of b aside"
   ]
  },
  {
   "cell_type": "code",
   "execution_count": 93,
   "metadata": {
    "ExecuteTime": {
     "end_time": "2021-09-24T11:02:15.978743Z",
     "start_time": "2021-09-24T11:02:15.957806Z"
    }
   },
   "outputs": [
    {
     "data": {
      "text/plain": [
       "{'Fri', 'Sat', 'Thu'}"
      ]
     },
     "execution_count": 93,
     "metadata": {},
     "output_type": "execute_result"
    }
   ],
   "source": [
    "b-a\n",
    "## So this is giving the values of b kepping the difference of a aside"
   ]
  },
  {
   "cell_type": "code",
   "execution_count": 94,
   "metadata": {
    "ExecuteTime": {
     "end_time": "2021-09-24T11:02:26.175058Z",
     "start_time": "2021-09-24T11:02:26.157110Z"
    }
   },
   "outputs": [
    {
     "data": {
      "text/plain": [
       "{'Mon', 'Sun', 'Tue', 'Wed', 'sun'}"
      ]
     },
     "execution_count": 94,
     "metadata": {},
     "output_type": "execute_result"
    }
   ],
   "source": [
    "a.difference(b)\n",
    "## So this is giving the values of a kepping the difference of b aside"
   ]
  },
  {
   "cell_type": "code",
   "execution_count": 95,
   "metadata": {
    "ExecuteTime": {
     "end_time": "2021-09-24T11:02:34.815482Z",
     "start_time": "2021-09-24T11:02:34.802522Z"
    }
   },
   "outputs": [
    {
     "data": {
      "text/plain": [
       "{'Fri', 'Sat', 'Thu'}"
      ]
     },
     "execution_count": 95,
     "metadata": {},
     "output_type": "execute_result"
    }
   ],
   "source": [
    "b.difference(a)\n",
    "## So this is giving the values of b kepping the difference of a aside"
   ]
  },
  {
   "cell_type": "code",
   "execution_count": 97,
   "metadata": {
    "ExecuteTime": {
     "end_time": "2021-09-24T11:05:49.932256Z",
     "start_time": "2021-09-24T11:05:49.913311Z"
    }
   },
   "outputs": [],
   "source": [
    "a = {'Sun','Mon','Tue','Wed'}"
   ]
  },
  {
   "cell_type": "code",
   "execution_count": 98,
   "metadata": {
    "ExecuteTime": {
     "end_time": "2021-09-24T11:06:10.724180Z",
     "start_time": "2021-09-24T11:06:10.710222Z"
    }
   },
   "outputs": [],
   "source": [
    "b= {'Wed','Thu','Fri','Sat'}"
   ]
  },
  {
   "cell_type": "code",
   "execution_count": 99,
   "metadata": {
    "ExecuteTime": {
     "end_time": "2021-09-24T11:06:15.739847Z",
     "start_time": "2021-09-24T11:06:15.728840Z"
    }
   },
   "outputs": [
    {
     "data": {
      "text/plain": [
       "{'Fri', 'Mon', 'Sat', 'Sun', 'Thu', 'Tue', 'Wed'}"
      ]
     },
     "execution_count": 99,
     "metadata": {},
     "output_type": "execute_result"
    }
   ],
   "source": [
    "a|b"
   ]
  },
  {
   "cell_type": "code",
   "execution_count": 100,
   "metadata": {
    "ExecuteTime": {
     "end_time": "2021-09-24T11:06:19.008243Z",
     "start_time": "2021-09-24T11:06:19.002067Z"
    }
   },
   "outputs": [
    {
     "data": {
      "text/plain": [
       "{'Mon', 'Sun', 'Tue'}"
      ]
     },
     "execution_count": 100,
     "metadata": {},
     "output_type": "execute_result"
    }
   ],
   "source": [
    "a-b"
   ]
  },
  {
   "cell_type": "code",
   "execution_count": 101,
   "metadata": {
    "ExecuteTime": {
     "end_time": "2021-09-24T11:06:21.946498Z",
     "start_time": "2021-09-24T11:06:21.928511Z"
    }
   },
   "outputs": [
    {
     "data": {
      "text/plain": [
       "{'Fri', 'Sat', 'Thu'}"
      ]
     },
     "execution_count": 101,
     "metadata": {},
     "output_type": "execute_result"
    }
   ],
   "source": [
    "b-a"
   ]
  },
  {
   "cell_type": "code",
   "execution_count": 102,
   "metadata": {
    "ExecuteTime": {
     "end_time": "2021-09-24T11:06:30.265578Z",
     "start_time": "2021-09-24T11:06:30.220701Z"
    }
   },
   "outputs": [
    {
     "data": {
      "text/plain": [
       "{'Wed'}"
      ]
     },
     "execution_count": 102,
     "metadata": {},
     "output_type": "execute_result"
    }
   ],
   "source": [
    "a & b\n",
    "# will give common"
   ]
  },
  {
   "cell_type": "code",
   "execution_count": 103,
   "metadata": {
    "ExecuteTime": {
     "end_time": "2021-09-24T11:06:54.454420Z",
     "start_time": "2021-09-24T11:06:54.443411Z"
    }
   },
   "outputs": [
    {
     "data": {
      "text/plain": [
       "{'Fri', 'Mon', 'Sat', 'Sun', 'Thu', 'Tue'}"
      ]
     },
     "execution_count": 103,
     "metadata": {},
     "output_type": "execute_result"
    }
   ],
   "source": [
    "a^b"
   ]
  },
  {
   "cell_type": "code",
   "execution_count": 104,
   "metadata": {
    "ExecuteTime": {
     "end_time": "2021-09-24T11:07:30.212893Z",
     "start_time": "2021-09-24T11:07:30.200927Z"
    }
   },
   "outputs": [
    {
     "data": {
      "text/plain": [
       "{'Mon', 'Sun', 'Tue'}"
      ]
     },
     "execution_count": 104,
     "metadata": {},
     "output_type": "execute_result"
    }
   ],
   "source": [
    "a.difference(b) # similar to a-b "
   ]
  },
  {
   "cell_type": "code",
   "execution_count": 105,
   "metadata": {
    "ExecuteTime": {
     "end_time": "2021-09-24T11:07:40.302312Z",
     "start_time": "2021-09-24T11:07:40.296332Z"
    }
   },
   "outputs": [
    {
     "data": {
      "text/plain": [
       "{'Wed'}"
      ]
     },
     "execution_count": 105,
     "metadata": {},
     "output_type": "execute_result"
    }
   ],
   "source": [
    "a.intersection(b) # similar to a & b"
   ]
  },
  {
   "cell_type": "code",
   "execution_count": 107,
   "metadata": {
    "ExecuteTime": {
     "end_time": "2021-09-24T11:08:27.017757Z",
     "start_time": "2021-09-24T11:08:26.998763Z"
    }
   },
   "outputs": [
    {
     "data": {
      "text/plain": [
       "{'Fri', 'Mon', 'Sat', 'Sun', 'Thu', 'Tue', 'Wed'}"
      ]
     },
     "execution_count": 107,
     "metadata": {},
     "output_type": "execute_result"
    }
   ],
   "source": [
    "a.union(b) # simliar to a | b"
   ]
  },
  {
   "cell_type": "code",
   "execution_count": null,
   "metadata": {},
   "outputs": [],
   "source": []
  },
  {
   "cell_type": "code",
   "execution_count": 108,
   "metadata": {
    "ExecuteTime": {
     "end_time": "2021-09-24T11:08:45.299796Z",
     "start_time": "2021-09-24T11:08:45.265889Z"
    }
   },
   "outputs": [],
   "source": [
    "p = {}"
   ]
  },
  {
   "cell_type": "code",
   "execution_count": 109,
   "metadata": {
    "ExecuteTime": {
     "end_time": "2021-09-24T11:08:56.965197Z",
     "start_time": "2021-09-24T11:08:56.952238Z"
    }
   },
   "outputs": [
    {
     "name": "stdout",
     "output_type": "stream",
     "text": [
      "<class 'dict'>\n"
     ]
    }
   ],
   "source": [
    "print(type(p))"
   ]
  },
  {
   "cell_type": "code",
   "execution_count": 110,
   "metadata": {
    "ExecuteTime": {
     "end_time": "2021-09-24T11:09:38.521091Z",
     "start_time": "2021-09-24T11:09:38.516107Z"
    }
   },
   "outputs": [],
   "source": [
    "q = set()"
   ]
  },
  {
   "cell_type": "code",
   "execution_count": 111,
   "metadata": {
    "ExecuteTime": {
     "end_time": "2021-09-24T11:09:55.989896Z",
     "start_time": "2021-09-24T11:09:55.971946Z"
    }
   },
   "outputs": [
    {
     "name": "stdout",
     "output_type": "stream",
     "text": [
      "<class 'set'>\n"
     ]
    }
   ],
   "source": [
    "print(type(q))"
   ]
  },
  {
   "cell_type": "code",
   "execution_count": 112,
   "metadata": {
    "ExecuteTime": {
     "end_time": "2021-09-24T11:11:54.402121Z",
     "start_time": "2021-09-24T11:11:54.374197Z"
    }
   },
   "outputs": [],
   "source": [
    "# IMMUTABLE: Strings, Number, Boolean, Tuple\n",
    "# Mutable: List, Dict, Set"
   ]
  },
  {
   "cell_type": "code",
   "execution_count": null,
   "metadata": {},
   "outputs": [],
   "source": []
  },
  {
   "cell_type": "code",
   "execution_count": null,
   "metadata": {},
   "outputs": [],
   "source": []
  },
  {
   "cell_type": "code",
   "execution_count": null,
   "metadata": {},
   "outputs": [],
   "source": []
  },
  {
   "cell_type": "code",
   "execution_count": null,
   "metadata": {},
   "outputs": [],
   "source": []
  },
  {
   "cell_type": "code",
   "execution_count": null,
   "metadata": {},
   "outputs": [],
   "source": []
  },
  {
   "cell_type": "code",
   "execution_count": null,
   "metadata": {},
   "outputs": [],
   "source": []
  },
  {
   "cell_type": "code",
   "execution_count": null,
   "metadata": {},
   "outputs": [],
   "source": []
  },
  {
   "cell_type": "code",
   "execution_count": null,
   "metadata": {},
   "outputs": [],
   "source": []
  },
  {
   "cell_type": "code",
   "execution_count": null,
   "metadata": {},
   "outputs": [],
   "source": []
  },
  {
   "cell_type": "code",
   "execution_count": null,
   "metadata": {},
   "outputs": [],
   "source": []
  },
  {
   "cell_type": "code",
   "execution_count": null,
   "metadata": {},
   "outputs": [],
   "source": []
  },
  {
   "cell_type": "code",
   "execution_count": null,
   "metadata": {},
   "outputs": [],
   "source": []
  },
  {
   "cell_type": "code",
   "execution_count": null,
   "metadata": {},
   "outputs": [],
   "source": []
  },
  {
   "cell_type": "code",
   "execution_count": null,
   "metadata": {},
   "outputs": [],
   "source": []
  },
  {
   "cell_type": "code",
   "execution_count": null,
   "metadata": {},
   "outputs": [],
   "source": []
  },
  {
   "cell_type": "code",
   "execution_count": null,
   "metadata": {},
   "outputs": [],
   "source": []
  },
  {
   "cell_type": "code",
   "execution_count": null,
   "metadata": {},
   "outputs": [],
   "source": []
  }
 ],
 "metadata": {
  "kernelspec": {
   "display_name": "Python 3",
   "language": "python",
   "name": "python3"
  },
  "language_info": {
   "codemirror_mode": {
    "name": "ipython",
    "version": 3
   },
   "file_extension": ".py",
   "mimetype": "text/x-python",
   "name": "python",
   "nbconvert_exporter": "python",
   "pygments_lexer": "ipython3",
   "version": "3.8.8"
  },
  "toc": {
   "base_numbering": 1,
   "nav_menu": {},
   "number_sections": true,
   "sideBar": true,
   "skip_h1_title": false,
   "title_cell": "Table of Contents",
   "title_sidebar": "Contents",
   "toc_cell": false,
   "toc_position": {},
   "toc_section_display": true,
   "toc_window_display": false
  }
 },
 "nbformat": 4,
 "nbformat_minor": 4
}
